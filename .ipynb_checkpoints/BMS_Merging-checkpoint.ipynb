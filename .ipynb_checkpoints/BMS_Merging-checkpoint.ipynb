{
 "cells": [
  {
   "cell_type": "code",
   "execution_count": 169,
   "id": "75bf6df7",
   "metadata": {},
   "outputs": [],
   "source": [
    "# swich to english \n",
    "Sys.setenv(LANG = \"en\")\n",
    "\n",
    "# prepare environmental variables for the project\n",
    "WORKING_DIRECTORY <- \"C:\\\\Users\\\\User\\\\Desktop\\\\Studia\\\\ERASMUS\\\\DATA_SCIENCE\\\\FINAL PROJECT\\\\\"\n",
    "DATASET_PATH <- \"datasets\\\\\"\n",
    "\n",
    "# Files names \n",
    "RACE_2021 <- \"RACETRACK_2021_DATA\\\\18-09-2021_THE_RACE_24H.csv\"\n",
    "FIRST_TESTS <- \"RACETRACK_2021_DATA\\\\16-09-2021_FIRST_TEST_2H_NO_GEOMETRY.csv\"\n",
    "\n",
    "BMS_TESTS_20_03_2021 <- \"BMS_TEST_STATIC\\\\24-03-2021_Discharging\\\\BMS_rozladowywanie_20_03_2021.csv\"\n",
    "BMS_TESTS_24_03_2021_1 <- \"BMS_TEST_STATIC\\\\24-03-2021_Discharging\\\\BMS_rozladowywanie_24_03_2021.csv\"\n",
    "BMS_TESTS_24_03_2021_2 <- \"BMS_TEST_STATIC\\\\24-03-2021_Discharging\\\\BMS_rozladowywanie_24_03_2021_2.csv\"\n",
    "\n",
    "\n",
    "\n",
    "BMS_TESTS_01_05_2021_1 <- \"BMS_TEST_STATIC\\\\05-2021_Discharging\\\\1-05-2021_Part_-1.csv\"\n",
    "BMS_TESTS_06_05_2021_0 <- \"BMS_TEST_STATIC\\\\05-2021_Discharging\\\\6-05-2021_Part_0.csv\"\n",
    "\n",
    "BMS_TESTS_07_05_2021_1 <- \"BMS_TEST_STATIC\\\\05-2021_Discharging\\\\7-05-2021_Part_1.csv\"\n",
    "BMS_TESTS_07_05_2021_2 <- \"BMS_TEST_STATIC\\\\05-2021_Discharging\\\\7-05-2021_Part_2.csv\"\n",
    "BMS_TESTS_08_05_2021_3 <- \"BMS_TEST_STATIC\\\\05-2021_Discharging\\\\8-05-2021_Part_3.csv\"\n",
    "BMS_TESTS_08_05_2021_4 <- \"BMS_TEST_STATIC\\\\05-2021_Discharging\\\\8-05-2021_Part_4.csv\"\n",
    "BMS_TESTS_08_05_2021_5 <- \"BMS_TEST_STATIC\\\\05-2021_Discharging\\\\8-05-2021_Part_5.csv\"\n",
    "BMS_TESTS_08_05_2021_6 <- \"BMS_TEST_STATIC\\\\05-2021_Discharging\\\\8-05-2021_Part_6.csv\"\n",
    "BMS_TESTS_11_05_2021_7 <- \"BMS_TEST_STATIC\\\\05-2021_Discharging\\\\11-05-2021_Part_7.csv\"\n",
    "BMS_TESTS_11_05_2021_8 <- \"BMS_TEST_STATIC\\\\05-2021_Discharging\\\\11-05-2021_Part_8.csv\"\n",
    "\n",
    "MAY <- \"BMS_TEST_STATIC\\\\05-2021_Discharging\\\\MayDischarging.csv\"\n",
    "\n",
    "library(ggplot2)"
   ]
  },
  {
   "cell_type": "code",
   "execution_count": null,
   "id": "7211a170",
   "metadata": {},
   "outputs": [],
   "source": []
  },
  {
   "cell_type": "code",
   "execution_count": null,
   "id": "555d3020",
   "metadata": {},
   "outputs": [],
   "source": []
  },
  {
   "cell_type": "code",
   "execution_count": null,
   "id": "b95cf98e",
   "metadata": {},
   "outputs": [],
   "source": []
  },
  {
   "cell_type": "code",
   "execution_count": null,
   "id": "b31d7a09",
   "metadata": {},
   "outputs": [],
   "source": []
  },
  {
   "cell_type": "code",
   "execution_count": null,
   "id": "51b1cb97",
   "metadata": {},
   "outputs": [],
   "source": []
  },
  {
   "cell_type": "code",
   "execution_count": null,
   "id": "cd142b7f",
   "metadata": {},
   "outputs": [],
   "source": []
  },
  {
   "cell_type": "code",
   "execution_count": null,
   "id": "9dd1a590",
   "metadata": {},
   "outputs": [],
   "source": []
  },
  {
   "cell_type": "code",
   "execution_count": null,
   "id": "766c7ac1",
   "metadata": {},
   "outputs": [],
   "source": []
  },
  {
   "cell_type": "code",
   "execution_count": null,
   "id": "c297a84e",
   "metadata": {},
   "outputs": [],
   "source": []
  },
  {
   "cell_type": "code",
   "execution_count": 226,
   "id": "bad573e4",
   "metadata": {},
   "outputs": [
    {
     "name": "stdout",
     "output_type": "stream",
     "text": [
      "[1] \"Part 0 Done\"\n",
      "[1] \"Part 1 Done\"\n",
      "[1] \"Part 2 Done\"\n",
      "[1] \"Part 3 Done\"\n"
     ]
    },
    {
     "name": "stderr",
     "output_type": "stream",
     "text": [
      "Warning message in scan(file = file, what = what, sep = sep, quote = quote, dec = dec, :\n",
      "\"embedded nul(s) found in input\""
     ]
    },
    {
     "name": "stdout",
     "output_type": "stream",
     "text": [
      "[1] \"Part 4 Done\"\n",
      "[1] \"Part 5 Done\"\n",
      "[1] \"Part 6 Done\"\n",
      "[1] \"Part 7 Done\"\n",
      "[1] \"Part 8 Done\"\n"
     ]
    }
   ],
   "source": [
    "# MAY_DATA <- read.csv(\n",
    "#     paste(WORKING_DIRECTORY, DATASET_PATH, MAY, sep=''),\n",
    "#     header=TRUE, \n",
    "#     sep=',',\n",
    "#     )\n",
    "# print(\"Part ---- Done\")\n",
    "\n",
    "\n",
    "data_may_00 <- read.csv(\n",
    "    paste(WORKING_DIRECTORY, DATASET_PATH, BMS_TESTS_06_05_2021_0, sep=''),\n",
    "    header=TRUE, \n",
    "    sep=';',\n",
    "    )\n",
    "print(\"Part 0 Done\")\n",
    "\n",
    "\n",
    "data_may_1 <- read.csv(\n",
    "    paste(WORKING_DIRECTORY, DATASET_PATH, BMS_TESTS_07_05_2021_1, sep=''),\n",
    "    header=TRUE, \n",
    "    sep=';',\n",
    "    )\n",
    "print(\"Part 1 Done\")\n",
    "\n",
    "\n",
    "data_may_2 <- read.csv(\n",
    "    paste(WORKING_DIRECTORY, DATASET_PATH, BMS_TESTS_07_05_2021_2, sep=''),\n",
    "    header=TRUE, \n",
    "    sep=';',\n",
    "    )\n",
    "print(\"Part 2 Done\")\n",
    "\n",
    "\n",
    "data_may_3 <- read.csv(\n",
    "    paste(WORKING_DIRECTORY, DATASET_PATH, BMS_TESTS_08_05_2021_3, sep=''),\n",
    "    header=TRUE, \n",
    "    sep=';',\n",
    "    )\n",
    "print(\"Part 3 Done\")\n",
    "\n",
    "\n",
    "data_may_4 <- read.csv2(\n",
    "    paste(WORKING_DIRECTORY, DATASET_PATH, BMS_TESTS_08_05_2021_4, sep=''),\n",
    "    header=TRUE, \n",
    "    sep=';',\n",
    "    )\n",
    "print(\"Part 4 Done\")\n",
    "\n",
    "\n",
    "\n",
    "data_may_5 <- read.csv(\n",
    "    paste(WORKING_DIRECTORY, DATASET_PATH, BMS_TESTS_08_05_2021_5, sep=''),\n",
    "    header=TRUE, \n",
    "    sep=';',\n",
    "    )\n",
    "print(\"Part 5 Done\")\n",
    "\n",
    "\n",
    "data_may_6 <- read.csv2(\n",
    "    paste(WORKING_DIRECTORY, DATASET_PATH, BMS_TESTS_08_05_2021_6, sep=''),\n",
    "    header=TRUE, \n",
    "    sep=';',\n",
    "    )\n",
    "print(\"Part 6 Done\")\n",
    "\n",
    "data_may_7 <- read.csv2(\n",
    "    paste(WORKING_DIRECTORY, DATASET_PATH, BMS_TESTS_11_05_2021_7, sep=''),\n",
    "    header=TRUE, \n",
    "    sep=';',\n",
    "    )\n",
    "print(\"Part 7 Done\")\n",
    "\n",
    "\n",
    "data_may_8 <- read.csv2(\n",
    "    paste(WORKING_DIRECTORY, DATASET_PATH, BMS_TESTS_11_05_2021_8, sep=''),\n",
    "    header=TRUE, \n",
    "    sep=';',\n",
    "    )\n",
    "print(\"Part 8 Done\")"
   ]
  },
  {
   "cell_type": "code",
   "execution_count": 221,
   "id": "fd84e000",
   "metadata": {},
   "outputs": [
    {
     "name": "stdout",
     "output_type": "stream",
     "text": [
      "'data.frame':\t976 obs. of  55 variables:\n",
      " $ Timestamp      : Factor w/ 976 levels \"2021-05-08 15:17:08\",..: 1 2 3 4 5 6 7 8 9 10 ...\n",
      " $ Status         : Factor w/ 2 levels \"Connected\",\"No connection\": 1 1 1 1 1 1 1 1 1 1 ...\n",
      " $ State_of_Charge: int  13 13 13 13 13 13 13 13 13 13 ...\n",
      " $ Current        : num  -17.9 -17.9 -17.9 -17.9 -17.9 ...\n",
      " $ Voltage        : num  106 106 106 106 106 ...\n",
      " $ Error_flags    : int  0 0 0 0 0 0 0 0 0 0 ...\n",
      " $ Warning_flags  : int  67584 67584 67584 67584 67584 67584 67584 67584 67584 67584 ...\n",
      " $ Cell1          : int  3609 3609 3609 3609 3609 3609 3609 3609 3609 3609 ...\n",
      " $ Cell2          : int  3607 3607 3607 3607 3607 3607 3607 3607 3607 3607 ...\n",
      " $ Cell3          : int  3606 3606 3606 3606 3606 3606 3606 3606 3606 3606 ...\n",
      " $ Cell4          : int  3611 3611 3611 3611 3611 3611 3611 3611 3611 3611 ...\n",
      " $ Cell5          : int  3606 3606 3606 3606 3606 3606 3606 3606 3606 3606 ...\n",
      " $ Cell6          : int  3608 3608 3608 3608 3608 3608 3608 3608 3608 3608 ...\n",
      " $ Cell7          : Factor w/ 2 levels \"\",\"---\": 2 2 2 2 2 2 2 2 2 2 ...\n",
      " $ Cell8          : Factor w/ 2 levels \"\",\"---\": 2 2 2 2 2 2 2 2 2 2 ...\n",
      " $ Cell9          : int  3613 3613 3613 3613 3613 3613 3613 3613 3613 3613 ...\n",
      " $ Cell10         : int  3610 3610 3610 3610 3610 3610 3610 3610 3610 3610 ...\n",
      " $ Cell11         : int  3608 3608 3608 3608 3608 3608 3608 3608 3608 3608 ...\n",
      " $ Cell12         : int  3610 3610 3610 3610 3610 3610 3610 3610 3610 3610 ...\n",
      " $ Cell13         : int  3610 3609 3609 3609 3609 3610 3610 3610 3610 3610 ...\n",
      " $ Cell14         : int  3609 3610 3610 3610 3610 3609 3609 3609 3610 3610 ...\n",
      " $ Cell15         : int  3610 3610 3610 3610 3610 3610 3610 3610 3610 3610 ...\n",
      " $ Cell16         : int  3617 3617 3617 3617 3617 3617 3617 3617 3617 3617 ...\n",
      " $ Cell17         : int  3609 3609 3609 3609 3609 3609 3609 3609 3609 3609 ...\n",
      " $ Cell18         : int  3606 3606 3606 3606 3606 3606 3606 3606 3606 3606 ...\n",
      " $ Cell19         : int  3607 3607 3607 3607 3607 3607 3607 3607 3607 3607 ...\n",
      " $ Cell20         : int  3609 3609 3609 3609 3609 3609 3609 3609 3609 3609 ...\n",
      " $ Cell21         : int  3611 3611 3611 3611 3611 3611 3611 3611 3611 3611 ...\n",
      " $ Cell22         : int  3611 3611 3611 3611 3611 3611 3611 3611 3611 3611 ...\n",
      " $ Cell23         : int  3610 3610 3610 3610 3610 3610 3610 3610 3610 3610 ...\n",
      " $ Cell24         : int  3613 3613 3613 3613 3613 3613 3613 3613 3613 3613 ...\n",
      " $ Cell25         : int  3609 3609 3609 3609 3609 3609 3609 3609 3609 3609 ...\n",
      " $ Cell26         : int  3607 3607 3607 3607 3607 3607 3607 3607 3607 3607 ...\n",
      " $ Cell27         : int  3607 3607 3607 3607 3607 3607 3607 3607 3607 3607 ...\n",
      " $ Cell28         : int  3607 3607 3607 3607 3607 3607 3607 3607 3607 3607 ...\n",
      " $ Cell29         : int  3607 3607 3607 3607 3607 3607 3607 3607 3607 3607 ...\n",
      " $ Cell30         : int  3608 3608 3608 3608 3608 3608 3608 3608 3608 3608 ...\n",
      " $ Cell31         : int  3609 3609 3609 3609 3609 3609 3609 3608 3609 3609 ...\n",
      " $ Cell32         : int  3613 3613 3613 3613 3613 3613 3613 3613 3613 3613 ...\n",
      " $ LMU1_Bat       : int  122 122 122 122 122 122 122 122 122 122 ...\n",
      " $ LMU2_Bat       : int  19 19 19 19 19 19 19 19 19 19 ...\n",
      " $ LMU3_Bat       : int  19 19 19 19 19 19 19 19 19 19 ...\n",
      " $ LMU4_Bat       : int  19 19 19 19 19 19 19 19 19 19 ...\n",
      " $ LMU1_Aux       : int  18 18 18 18 18 18 18 18 18 18 ...\n",
      " $ LMU2_Aux       : int  18 18 18 18 18 18 18 18 18 18 ...\n",
      " $ LMU3_Aux       : int  18 18 18 18 18 18 18 18 18 18 ...\n",
      " $ LMU4_Aux       : int  18 18 18 18 18 18 18 18 18 18 ...\n",
      " $ LMU1_PCB1      : int  20 20 20 20 20 20 20 20 20 20 ...\n",
      " $ LMU2_PCB1      : int  20 20 20 20 20 20 20 20 20 20 ...\n",
      " $ LMU3_PCB1      : int  20 20 20 20 20 20 20 20 20 20 ...\n",
      " $ LMU4_PCB1      : int  20 20 20 20 20 20 20 20 20 20 ...\n",
      " $ LMU1_PCB2      : int  20 20 20 20 20 20 20 20 20 20 ...\n",
      " $ LMU2_PCB2      : int  20 20 20 20 20 20 20 20 20 20 ...\n",
      " $ LMU3_PCB2      : int  20 20 20 20 20 20 20 20 20 20 ...\n",
      " $ LMU4_PCB2      : int  19 19 19 19 19 19 19 19 19 19 ...\n"
     ]
    },
    {
     "data": {
      "text/plain": [
       "               Timestamp             Status    State_of_Charge    Current      \n",
       " 2021-05-08 15:17:08:  1   Connected    :975   Min.   :12.00   Min.   :-17.93  \n",
       " 2021-05-08 15:17:09:  1   No connection:  1   1st Qu.:13.00   1st Qu.:-17.93  \n",
       " 2021-05-08 15:17:10:  1                       Median :13.00   Median :-17.93  \n",
       " 2021-05-08 15:17:11:  1                       Mean   :12.81   Mean   :-17.92  \n",
       " 2021-05-08 15:17:12:  1                       3rd Qu.:13.00   3rd Qu.:-17.93  \n",
       " 2021-05-08 15:17:13:  1                       Max.   :13.00   Max.   :-17.82  \n",
       " (Other)            :970                       NA's   :1       NA's   :1       \n",
       "    Voltage       Error_flags Warning_flags       Cell1          Cell2     \n",
       " Min.   :105.9   Min.   :0    Min.   :67584   Min.   :3605   Min.   :3601  \n",
       " 1st Qu.:105.9   1st Qu.:0    1st Qu.:67584   1st Qu.:3606   1st Qu.:3604  \n",
       " Median :105.9   Median :0    Median :67584   Median :3607   Median :3605  \n",
       " Mean   :105.9   Mean   :0    Mean   :67584   Mean   :3607   Mean   :3605  \n",
       " 3rd Qu.:105.9   3rd Qu.:0    3rd Qu.:67584   3rd Qu.:3608   3rd Qu.:3606  \n",
       " Max.   :107.0   Max.   :0    Max.   :67584   Max.   :3609   Max.   :3607  \n",
       " NA's   :1       NA's   :1    NA's   :1       NA's   :1      NA's   :1     \n",
       "     Cell3          Cell4          Cell5          Cell6      Cell7    \n",
       " Min.   :3600   Min.   :3605   Min.   :3601   Min.   :3602      :  1  \n",
       " 1st Qu.:3603   1st Qu.:3606   1st Qu.:3602   1st Qu.:3604   ---:975  \n",
       " Median :3604   Median :3607   Median :3603   Median :3605            \n",
       " Mean   :3604   Mean   :3608   Mean   :3603   Mean   :3605            \n",
       " 3rd Qu.:3605   3rd Qu.:3609   3rd Qu.:3604   3rd Qu.:3607            \n",
       " Max.   :3606   Max.   :3611   Max.   :3606   Max.   :3608            \n",
       " NA's   :1      NA's   :1      NA's   :1      NA's   :1               \n",
       " Cell8         Cell9          Cell10         Cell11         Cell12    \n",
       "    :  1   Min.   :3607   Min.   :3604   Min.   :3603   Min.   :3605  \n",
       " ---:975   1st Qu.:3608   1st Qu.:3605   1st Qu.:3604   1st Qu.:3607  \n",
       "           Median :3609   Median :3606   Median :3606   Median :3608  \n",
       "           Mean   :3610   Mean   :3606   Mean   :3606   Mean   :3608  \n",
       "           3rd Qu.:3611   3rd Qu.:3607   3rd Qu.:3606   3rd Qu.:3609  \n",
       "           Max.   :3613   Max.   :3610   Max.   :3609   Max.   :3610  \n",
       "           NA's   :1      NA's   :1      NA's   :1      NA's   :1     \n",
       "     Cell13         Cell14         Cell15         Cell16         Cell17    \n",
       " Min.   :3604   Min.   :3603   Min.   :3604   Min.   :3611   Min.   :3603  \n",
       " 1st Qu.:3605   1st Qu.:3605   1st Qu.:3605   1st Qu.:3612   1st Qu.:3606  \n",
       " Median :3606   Median :3607   Median :3607   Median :3614   Median :3607  \n",
       " Mean   :3607   Mean   :3607   Mean   :3607   Mean   :3614   Mean   :3607  \n",
       " 3rd Qu.:3608   3rd Qu.:3608   3rd Qu.:3608   3rd Qu.:3615   3rd Qu.:3608  \n",
       " Max.   :3610   Max.   :3610   Max.   :3610   Max.   :3617   Max.   :3609  \n",
       " NA's   :1      NA's   :1      NA's   :1      NA's   :1      NA's   :1     \n",
       "     Cell18         Cell19         Cell20         Cell21         Cell22    \n",
       " Min.   :3600   Min.   :3602   Min.   :3603   Min.   :3607   Min.   :3606  \n",
       " 1st Qu.:3602   1st Qu.:3604   1st Qu.:3604   1st Qu.:3608   1st Qu.:3608  \n",
       " Median :3604   Median :3605   Median :3605   Median :3609   Median :3609  \n",
       " Mean   :3603   Mean   :3605   Mean   :3605   Mean   :3609   Mean   :3609  \n",
       " 3rd Qu.:3605   3rd Qu.:3606   3rd Qu.:3607   3rd Qu.:3610   3rd Qu.:3610  \n",
       " Max.   :3606   Max.   :3607   Max.   :3609   Max.   :3611   Max.   :3611  \n",
       " NA's   :1      NA's   :1      NA's   :1      NA's   :1      NA's   :1     \n",
       "     Cell23         Cell24         Cell25         Cell26         Cell27    \n",
       " Min.   :3604   Min.   :3608   Min.   :3605   Min.   :3601   Min.   :3602  \n",
       " 1st Qu.:3607   1st Qu.:3609   1st Qu.:3606   1st Qu.:3604   1st Qu.:3604  \n",
       " Median :3608   Median :3611   Median :3607   Median :3605   Median :3605  \n",
       " Mean   :3608   Mean   :3611   Mean   :3607   Mean   :3605   Mean   :3605  \n",
       " 3rd Qu.:3609   3rd Qu.:3612   3rd Qu.:3608   3rd Qu.:3606   3rd Qu.:3606  \n",
       " Max.   :3610   Max.   :3614   Max.   :3609   Max.   :3607   Max.   :3608  \n",
       " NA's   :1      NA's   :1      NA's   :1      NA's   :1      NA's   :1     \n",
       "     Cell28         Cell29         Cell30         Cell31         Cell32    \n",
       " Min.   :3602   Min.   :3601   Min.   :3603   Min.   :3603   Min.   :3607  \n",
       " 1st Qu.:3604   1st Qu.:3603   1st Qu.:3604   1st Qu.:3605   1st Qu.:3609  \n",
       " Median :3605   Median :3604   Median :3606   Median :3606   Median :3611  \n",
       " Mean   :3605   Mean   :3604   Mean   :3606   Mean   :3606   Mean   :3611  \n",
       " 3rd Qu.:3606   3rd Qu.:3606   3rd Qu.:3607   3rd Qu.:3607   3rd Qu.:3612  \n",
       " Max.   :3607   Max.   :3607   Max.   :3608   Max.   :3609   Max.   :3613  \n",
       " NA's   :1      NA's   :1      NA's   :1      NA's   :1      NA's   :1     \n",
       "    LMU1_Bat      LMU2_Bat     LMU3_Bat     LMU4_Bat     LMU1_Aux     LMU2_Aux \n",
       " Min.   :122   Min.   :19   Min.   :19   Min.   :19   Min.   :18   Min.   :18  \n",
       " 1st Qu.:122   1st Qu.:19   1st Qu.:19   1st Qu.:19   1st Qu.:18   1st Qu.:18  \n",
       " Median :122   Median :19   Median :19   Median :19   Median :18   Median :18  \n",
       " Mean   :122   Mean   :19   Mean   :19   Mean   :19   Mean   :18   Mean   :18  \n",
       " 3rd Qu.:122   3rd Qu.:19   3rd Qu.:19   3rd Qu.:19   3rd Qu.:18   3rd Qu.:18  \n",
       " Max.   :122   Max.   :19   Max.   :19   Max.   :19   Max.   :18   Max.   :18  \n",
       " NA's   :1     NA's   :1    NA's   :1    NA's   :1    NA's   :1    NA's   :1   \n",
       "    LMU3_Aux     LMU4_Aux    LMU1_PCB1    LMU2_PCB1       LMU3_PCB1 \n",
       " Min.   :18   Min.   :18   Min.   :19   Min.   :19.00   Min.   :19  \n",
       " 1st Qu.:18   1st Qu.:18   1st Qu.:20   1st Qu.:20.00   1st Qu.:20  \n",
       " Median :18   Median :18   Median :20   Median :20.00   Median :20  \n",
       " Mean   :18   Mean   :18   Mean   :20   Mean   :20.06   Mean   :20  \n",
       " 3rd Qu.:18   3rd Qu.:18   3rd Qu.:20   3rd Qu.:20.00   3rd Qu.:20  \n",
       " Max.   :18   Max.   :18   Max.   :21   Max.   :21.00   Max.   :21  \n",
       " NA's   :1    NA's   :1    NA's   :1    NA's   :1       NA's   :1   \n",
       "   LMU4_PCB1       LMU1_PCB2       LMU2_PCB2       LMU3_PCB2    \n",
       " Min.   :19.00   Min.   :19.00   Min.   :19.00   Min.   :19.00  \n",
       " 1st Qu.:20.00   1st Qu.:20.00   1st Qu.:20.00   1st Qu.:20.00  \n",
       " Median :20.00   Median :20.00   Median :20.00   Median :20.00  \n",
       " Mean   :20.03   Mean   :19.94   Mean   :19.97   Mean   :19.84  \n",
       " 3rd Qu.:20.00   3rd Qu.:20.00   3rd Qu.:20.00   3rd Qu.:20.00  \n",
       " Max.   :21.00   Max.   :20.00   Max.   :20.00   Max.   :20.00  \n",
       " NA's   :1       NA's   :1       NA's   :1       NA's   :1      \n",
       "   LMU4_PCB2    \n",
       " Min.   :19.00  \n",
       " 1st Qu.:19.00  \n",
       " Median :19.00  \n",
       " Mean   :19.06  \n",
       " 3rd Qu.:19.00  \n",
       " Max.   :20.00  \n",
       " NA's   :1      "
      ]
     },
     "metadata": {},
     "output_type": "display_data"
    }
   ],
   "source": [
    "str(data_may_6)\n",
    "summary(data_may_6)\n",
    "# head(MAY_DATA)"
   ]
  },
  {
   "cell_type": "code",
   "execution_count": 175,
   "id": "bf6fd164",
   "metadata": {},
   "outputs": [],
   "source": [
    "# str(MAY_DATA)"
   ]
  },
  {
   "cell_type": "code",
   "execution_count": 176,
   "id": "08b8ebfd",
   "metadata": {},
   "outputs": [],
   "source": [
    "# qplot(x=Timestamp, y=Voltage, data = MAY_DATA)"
   ]
  },
  {
   "cell_type": "code",
   "execution_count": 177,
   "id": "2ab8c2b8",
   "metadata": {},
   "outputs": [],
   "source": [
    "# qplot(x=Timestamp, y=Current, data = MAY_DATA)"
   ]
  },
  {
   "cell_type": "code",
   "execution_count": 178,
   "id": "99abd61c",
   "metadata": {},
   "outputs": [],
   "source": [
    "# qplot(x=Timestamp, y=Voltage, data = MAY_DATA)"
   ]
  },
  {
   "cell_type": "code",
   "execution_count": 227,
   "id": "6e66fa6f",
   "metadata": {},
   "outputs": [],
   "source": [
    "data_may_00$Timestamp <- strptime(x=as.character(data_may_00$Timestamp),format = \"%Y-%m-%d %H:%M:%S\")\n",
    "data_may_00$Timestamp <- as.POSIXct(x=data_may_00$Timestamp)\n",
    "\n",
    "data_may_1$Timestamp <- strptime(x=as.character(data_may_1$Timestamp),format = \"%Y-%m-%d %H:%M:%S\")\n",
    "data_may_1$Timestamp <- as.POSIXct(x=data_may_1$Timestamp)\n",
    "\n",
    "data_may_2$Timestamp <- strptime(x=as.character(data_may_2$Timestamp),format = \"%Y-%m-%d %H:%M:%S\")\n",
    "data_may_2$Timestamp <- as.POSIXct(x=data_may_2$Timestamp)\n",
    "\n",
    "data_may_3$Timestamp <- strptime(x=as.character(data_may_3$Timestamp),format = \"%Y-%m-%d %H:%M:%S\")\n",
    "data_may_3$Timestamp <- as.POSIXct(x=data_may_3$Timestamp)\n",
    "\n",
    "data_may_4$Timestamp <- strptime(x=as.character(data_may_4$Timestamp),format = \"%Y-%m-%d %H:%M:%S\")\n",
    "data_may_4$Timestamp <- as.POSIXct(x=data_may_4$Timestamp)\n",
    "\n",
    "data_may_5$Timestamp <- strptime(x=as.character(data_may_5$Timestamp),format = \"%Y-%m-%d %H:%M:%S\")\n",
    "data_may_5$Timestamp <- as.POSIXct(x=data_may_5$Timestamp)\n",
    "\n",
    "data_may_6$Timestamp <- strptime(x=as.character(data_may_6$Timestamp),format = \"%Y-%m-%d %H:%M:%S\")\n",
    "data_may_6$Timestamp <- as.POSIXct(x=data_may_6$Timestamp)\n",
    "\n",
    "data_may_7$Timestamp <- strptime(x=as.character(data_may_7$Timestamp),format = \"%Y-%m-%d %H:%M:%S\")\n",
    "data_may_7$Timestamp <- as.POSIXct(x=data_may_7$Timestamp)\n",
    "\n",
    "data_may_8$Timestamp <- strptime(x=as.character(data_may_8$Timestamp),format = \"%Y-%m-%d %H:%M:%S\")\n",
    "data_may_8$Timestamp <- as.POSIXct(x=data_may_8$Timestamp)"
   ]
  },
  {
   "cell_type": "code",
   "execution_count": null,
   "id": "44b93094",
   "metadata": {},
   "outputs": [],
   "source": []
  },
  {
   "cell_type": "code",
   "execution_count": 235,
   "id": "11f3df3b",
   "metadata": {},
   "outputs": [],
   "source": [
    "may_joined <- rbind(data_may_00, data_may_1, data_may_2, data_may_3, data_may_4, data_may_5, data_may_6, data_may_7, data_may_8)\n",
    "may_joined <- may_joined[order(may_joined$Timestamp),]"
   ]
  },
  {
   "cell_type": "code",
   "execution_count": 236,
   "id": "4df13014",
   "metadata": {},
   "outputs": [
    {
     "name": "stderr",
     "output_type": "stream",
     "text": [
      "Warning message:\n",
      "\"Removed 3 rows containing missing values (geom_point).\""
     ]
    },
    {
     "data": {
      "image/png": "[encoded data removed]",
      "text/plain": [
       "plot without title"
      ]
     },
     "metadata": {},
     "output_type": "display_data"
    }
   ],
   "source": [
    "qplot(x=Timestamp, y=Voltage, data = may_joined)"
   ]
  },
  {
   "cell_type": "code",
   "execution_count": 237,
   "id": "d100a666",
   "metadata": {},
   "outputs": [
    {
     "name": "stderr",
     "output_type": "stream",
     "text": [
      "Warning message:\n",
      "\"Removed 3 rows containing missing values (geom_point).\""
     ]
    },
    {
     "data": {
      "image/png": "[encoded data removed]",
      "text/plain": [
       "plot without title"
      ]
     },
     "metadata": {},
     "output_type": "display_data"
    }
   ],
   "source": [
    "qplot(x=Timestamp, y=Current, data = may_joined)"
   ]
  },
  {
   "cell_type": "code",
   "execution_count": 238,
   "id": "2a5baac7",
   "metadata": {},
   "outputs": [
    {
     "data": {
      "text/plain": [
       "   Timestamp                             Status      State_of_Charge\n",
       " Min.   :2021-05-06 18:39:42   Connected    :65148   Min.   : 9.00  \n",
       " 1st Qu.:2021-05-07 10:40:02   No connection:    3   1st Qu.:29.00  \n",
       " Median :2021-05-07 15:11:30                         Median :44.00  \n",
       " Mean   :2021-05-07 19:29:28                         Mean   :43.96  \n",
       " 3rd Qu.:2021-05-07 19:46:38                         3rd Qu.:60.00  \n",
       " Max.   :2021-05-11 17:26:34                         Max.   :70.00  \n",
       "                                                     NA's   :3      \n",
       "    Current           Voltage       Error_flags Warning_flags       Cell1     \n",
       " Min.   :-20.633   Min.   :104.8   Min.   :0    Min.   :    0   Min.   :3586  \n",
       " 1st Qu.:-19.904   1st Qu.:109.3   1st Qu.:0    1st Qu.: 2048   1st Qu.:3734  \n",
       " Median :-19.175   Median :114.9   Median :0    Median : 2048   Median :3905  \n",
       " Mean   :-17.234   Mean   :114.6   Mean   :0    Mean   : 8661   Mean   :3898  \n",
       " 3rd Qu.:-18.237   3rd Qu.:119.5   3rd Qu.:0    3rd Qu.: 2048   3rd Qu.:4061  \n",
       " Max.   : -0.008   Max.   :122.9   Max.   :0    Max.   :67584   Max.   :4171  \n",
       " NA's   :3         NA's   :3       NA's   :3    NA's   :3       NA's   :3     \n",
       "     Cell2          Cell3          Cell4          Cell5          Cell6     \n",
       " Min.   :3582   Min.   :3582   Min.   :3586   Min.   :3582   Min.   :3583  \n",
       " 1st Qu.:3730   1st Qu.:3732   1st Qu.:3734   1st Qu.:3730   1st Qu.:3732  \n",
       " Median :3901   Median :3902   Median :3906   Median :3901   Median :3903  \n",
       " Mean   :3895   Mean   :3896   Mean   :3899   Mean   :3895   Mean   :3897  \n",
       " 3rd Qu.:4058   3rd Qu.:4057   3rd Qu.:4061   3rd Qu.:4057   3rd Qu.:4058  \n",
       " Max.   :4169   Max.   :4169   Max.   :4170   Max.   :4170   Max.   :4170  \n",
       " NA's   :3      NA's   :3      NA's   :3      NA's   :3      NA's   :3     \n",
       " Cell7       Cell8           Cell9          Cell10         Cell11    \n",
       "    :    3      :    3   Min.   :3588   Min.   :3583   Min.   :3582  \n",
       " ---:65148   ---:65148   1st Qu.:3736   1st Qu.:3733   1st Qu.:3732  \n",
       "                         Median :3908   Median :3903   Median :3902  \n",
       "                         Mean   :3901   Mean   :3898   Mean   :3897  \n",
       "                         3rd Qu.:4062   3rd Qu.:4059   3rd Qu.:4058  \n",
       "                         Max.   :4178   Max.   :4174   Max.   :4172  \n",
       "                         NA's   :3      NA's   :3      NA's   :3     \n",
       "     Cell12         Cell13         Cell14         Cell15         Cell16    \n",
       " Min.   :3585   Min.   :3585   Min.   :3582   Min.   :3585   Min.   :3590  \n",
       " 1st Qu.:3734   1st Qu.:3734   1st Qu.:3733   1st Qu.:3734   1st Qu.:3740  \n",
       " Median :3906   Median :3905   Median :3904   Median :3905   Median :3912  \n",
       " Mean   :3899   Mean   :3898   Mean   :3898   Mean   :3899   Mean   :3905  \n",
       " 3rd Qu.:4060   3rd Qu.:4059   3rd Qu.:4059   3rd Qu.:4060   3rd Qu.:4066  \n",
       " Max.   :4175   Max.   :4174   Max.   :4174   Max.   :4175   Max.   :4182  \n",
       " NA's   :3      NA's   :3      NA's   :3      NA's   :3      NA's   :3     \n",
       "     Cell17         Cell18         Cell19         Cell20         Cell21    \n",
       " Min.   :3584   Min.   :3581   Min.   :3582   Min.   :3584   Min.   :3589  \n",
       " 1st Qu.:3734   1st Qu.:3730   1st Qu.:3732   1st Qu.:3732   1st Qu.:3735  \n",
       " Median :3905   Median :3901   Median :3902   Median :3903   Median :3904  \n",
       " Mean   :3898   Mean   :3895   Mean   :3896   Mean   :3897   Mean   :3899  \n",
       " 3rd Qu.:4061   3rd Qu.:4057   3rd Qu.:4059   3rd Qu.:4059   3rd Qu.:4059  \n",
       " Max.   :4172   Max.   :4168   Max.   :4169   Max.   :4169   Max.   :4181  \n",
       " NA's   :3      NA's   :3      NA's   :3      NA's   :3      NA's   :3     \n",
       "     Cell22         Cell23         Cell24         Cell25         Cell26    \n",
       " Min.   :3588   Min.   :3585   Min.   :3588   Min.   :3586   Min.   :3582  \n",
       " 1st Qu.:3734   1st Qu.:3734   1st Qu.:3737   1st Qu.:3734   1st Qu.:3732  \n",
       " Median :3903   Median :3905   Median :3908   Median :3905   Median :3902  \n",
       " Mean   :3898   Mean   :3899   Mean   :3902   Mean   :3899   Mean   :3896  \n",
       " 3rd Qu.:4058   3rd Qu.:4060   3rd Qu.:4065   3rd Qu.:4061   3rd Qu.:4057  \n",
       " Max.   :4180   Max.   :4173   Max.   :4176   Max.   :4173   Max.   :4170  \n",
       " NA's   :3      NA's   :3      NA's   :3      NA's   :3      NA's   :3     \n",
       "     Cell27         Cell28         Cell29         Cell30         Cell31    \n",
       " Min.   :3582   Min.   :3582   Min.   :3582   Min.   :3583   Min.   :3585  \n",
       " 1st Qu.:3732   1st Qu.:3732   1st Qu.:3730   1st Qu.:3733   1st Qu.:3734  \n",
       " Median :3902   Median :3903   Median :3901   Median :3903   Median :3905  \n",
       " Mean   :3896   Mean   :3897   Mean   :3895   Mean   :3897   Mean   :3898  \n",
       " 3rd Qu.:4059   3rd Qu.:4059   3rd Qu.:4057   3rd Qu.:4058   3rd Qu.:4060  \n",
       " Max.   :4170   Max.   :4172   Max.   :4169   Max.   :4171   Max.   :4173  \n",
       " NA's   :3      NA's   :3      NA's   :3      NA's   :3      NA's   :3     \n",
       "     Cell32        LMU1_Bat      LMU2_Bat        LMU3_Bat        LMU4_Bat    \n",
       " Min.   :3589   Min.   :122   Min.   :19.00   Min.   :19.00   Min.   :19.00  \n",
       " 1st Qu.:3736   1st Qu.:122   1st Qu.:20.00   1st Qu.:19.00   1st Qu.:19.00  \n",
       " Median :3908   Median :122   Median :20.00   Median :20.00   Median :19.00  \n",
       " Mean   :3902   Mean   :122   Mean   :19.96   Mean   :19.68   Mean   :19.04  \n",
       " 3rd Qu.:4065   3rd Qu.:122   3rd Qu.:20.00   3rd Qu.:20.00   3rd Qu.:19.00  \n",
       " Max.   :4175   Max.   :122   Max.   :20.00   Max.   :20.00   Max.   :20.00  \n",
       " NA's   :3      NA's   :3     NA's   :3       NA's   :3       NA's   :3      \n",
       "    LMU1_Aux        LMU2_Aux        LMU3_Aux        LMU4_Aux    \n",
       " Min.   :18.00   Min.   :18.00   Min.   :18.00   Min.   :18.00  \n",
       " 1st Qu.:20.00   1st Qu.:20.00   1st Qu.:20.00   1st Qu.:19.00  \n",
       " Median :20.00   Median :20.00   Median :20.00   Median :20.00  \n",
       " Mean   :20.15   Mean   :20.18   Mean   :20.06   Mean   :19.69  \n",
       " 3rd Qu.:21.00   3rd Qu.:21.00   3rd Qu.:21.00   3rd Qu.:20.00  \n",
       " Max.   :22.00   Max.   :22.00   Max.   :21.00   Max.   :21.00  \n",
       " NA's   :3       NA's   :3       NA's   :3       NA's   :3      \n",
       "   LMU1_PCB1       LMU2_PCB1       LMU3_PCB1       LMU4_PCB1    \n",
       " Min.   :19.00   Min.   :19.00   Min.   :19.00   Min.   :19.00  \n",
       " 1st Qu.:22.00   1st Qu.:22.00   1st Qu.:22.00   1st Qu.:22.00  \n",
       " Median :23.00   Median :23.00   Median :23.00   Median :23.00  \n",
       " Mean   :22.76   Mean   :22.72   Mean   :22.56   Mean   :22.67  \n",
       " 3rd Qu.:24.00   3rd Qu.:23.00   3rd Qu.:23.00   3rd Qu.:24.00  \n",
       " Max.   :24.00   Max.   :24.00   Max.   :24.00   Max.   :24.00  \n",
       " NA's   :3       NA's   :3       NA's   :3       NA's   :3      \n",
       "   LMU1_PCB2       LMU2_PCB2       LMU3_PCB2       LMU4_PCB2    \n",
       " Min.   :19.00   Min.   :19.00   Min.   :19.00   Min.   :19.00  \n",
       " 1st Qu.:22.00   1st Qu.:22.00   1st Qu.:21.00   1st Qu.:21.00  \n",
       " Median :22.00   Median :23.00   Median :22.00   Median :22.00  \n",
       " Mean   :22.37   Mean   :22.37   Mean   :21.95   Mean   :21.92  \n",
       " 3rd Qu.:23.00   3rd Qu.:23.00   3rd Qu.:23.00   3rd Qu.:23.00  \n",
       " Max.   :24.00   Max.   :24.00   Max.   :24.00   Max.   :24.00  \n",
       " NA's   :3       NA's   :3       NA's   :3       NA's   :3      "
      ]
     },
     "metadata": {},
     "output_type": "display_data"
    }
   ],
   "source": [
    "summary(may_joined)"
   ]
  },
  {
   "cell_type": "code",
   "execution_count": 239,
   "id": "4c49b272",
   "metadata": {},
   "outputs": [
    {
     "name": "stderr",
     "output_type": "stream",
     "text": [
      "Warning message:\n",
      "\"Removed 3 rows containing missing values (geom_point).\""
     ]
    },
    {
     "data": {
      "image/png": "[encoded data removed]",
      "text/plain": [
       "plot without title"
      ]
     },
     "metadata": {},
     "output_type": "display_data"
    }
   ],
   "source": [
    "qplot(x=1:nrow(may_joined), y=Cell1, data = may_joined)"
   ]
  },
  {
   "cell_type": "code",
   "execution_count": 240,
   "id": "127b4041",
   "metadata": {},
   "outputs": [],
   "source": [
    "write.csv(may_joined,\"MayDischarging.csv\", row.names = TRUE)"
   ]
  },
  {
   "cell_type": "code",
   "execution_count": 101,
   "id": "d70b07c5",
   "metadata": {},
   "outputs": [
    {
     "data": {
      "text/html": [
       "<table>\n",
       "<thead><tr><th scope=col>Timestamp</th><th scope=col>Status</th><th scope=col>State_of_Charge</th><th scope=col>Current</th><th scope=col>Voltage</th><th scope=col>Error_flags</th><th scope=col>Warning_flags</th><th scope=col>Highest_Cell_Voltage</th><th scope=col>Highest_Temperature</th><th scope=col>Highest_Cell_Voltage.1</th><th scope=col>...</th><th scope=col>LMU3_Aux</th><th scope=col>LMU4_Aux</th><th scope=col>LMU1_PCB1</th><th scope=col>LMU2_PCB1</th><th scope=col>LMU3_PCB1</th><th scope=col>LMU4_PCB1</th><th scope=col>LMU1_PCB2</th><th scope=col>LMU2_PCB2</th><th scope=col>LMU3_PCB2</th><th scope=col>LMU4_PCB2</th></tr></thead>\n",
       "<tbody>\n",
       "\t<tr><td>2021-03-24 18:21:59</td><td>Connected          </td><td>50                 </td><td>-17.716            </td><td>104.8              </td><td>0                  </td><td>2048               </td><td>3588               </td><td>20                 </td><td>3588               </td><td>...                </td><td>20                 </td><td>19                 </td><td>22                 </td><td>21                 </td><td>22                 </td><td>22                 </td><td>21                 </td><td>21                 </td><td>21                 </td><td>21                 </td></tr>\n",
       "\t<tr><td>2021-03-24 18:22:00</td><td>Connected          </td><td>50                 </td><td>-17.716            </td><td>104.8              </td><td>0                  </td><td>2048               </td><td>3588               </td><td>20                 </td><td>3588               </td><td>...                </td><td>20                 </td><td>19                 </td><td>22                 </td><td>21                 </td><td>21                 </td><td>22                 </td><td>21                 </td><td>21                 </td><td>21                 </td><td>21                 </td></tr>\n",
       "</tbody>\n",
       "</table>\n"
      ],
      "text/latex": [
       "\\begin{tabular}{r|llllllllllllllllllllllllllllllllllllllllllllllllllllllllllll}\n",
       " Timestamp & Status & State\\_of\\_Charge & Current & Voltage & Error\\_flags & Warning\\_flags & Highest\\_Cell\\_Voltage & Highest\\_Temperature & Highest\\_Cell\\_Voltage.1 & ... & LMU3\\_Aux & LMU4\\_Aux & LMU1\\_PCB1 & LMU2\\_PCB1 & LMU3\\_PCB1 & LMU4\\_PCB1 & LMU1\\_PCB2 & LMU2\\_PCB2 & LMU3\\_PCB2 & LMU4\\_PCB2\\\\\n",
       "\\hline\n",
       "\t 2021-03-24 18:21:59 & Connected           & 50                  & -17.716             & 104.8               & 0                   & 2048                & 3588                & 20                  & 3588                & ...                 & 20                  & 19                  & 22                  & 21                  & 22                  & 22                  & 21                  & 21                  & 21                  & 21                 \\\\\n",
       "\t 2021-03-24 18:22:00 & Connected           & 50                  & -17.716             & 104.8               & 0                   & 2048                & 3588                & 20                  & 3588                & ...                 & 20                  & 19                  & 22                  & 21                  & 21                  & 22                  & 21                  & 21                  & 21                  & 21                 \\\\\n",
       "\\end{tabular}\n"
      ],
      "text/markdown": [
       "\n",
       "| Timestamp | Status | State_of_Charge | Current | Voltage | Error_flags | Warning_flags | Highest_Cell_Voltage | Highest_Temperature | Highest_Cell_Voltage.1 | ... | LMU3_Aux | LMU4_Aux | LMU1_PCB1 | LMU2_PCB1 | LMU3_PCB1 | LMU4_PCB1 | LMU1_PCB2 | LMU2_PCB2 | LMU3_PCB2 | LMU4_PCB2 |\n",
       "|---|---|---|---|---|---|---|---|---|---|---|---|---|---|---|---|---|---|---|---|---|\n",
       "| 2021-03-24 18:21:59 | Connected           | 50                  | -17.716             | 104.8               | 0                   | 2048                | 3588                | 20                  | 3588                | ...                 | 20                  | 19                  | 22                  | 21                  | 22                  | 22                  | 21                  | 21                  | 21                  | 21                  |\n",
       "| 2021-03-24 18:22:00 | Connected           | 50                  | -17.716             | 104.8               | 0                   | 2048                | 3588                | 20                  | 3588                | ...                 | 20                  | 19                  | 22                  | 21                  | 21                  | 22                  | 21                  | 21                  | 21                  | 21                  |\n",
       "\n"
      ],
      "text/plain": [
       "  Timestamp           Status    State_of_Charge Current Voltage Error_flags\n",
       "1 2021-03-24 18:21:59 Connected 50              -17.716 104.8   0          \n",
       "2 2021-03-24 18:22:00 Connected 50              -17.716 104.8   0          \n",
       "  Warning_flags Highest_Cell_Voltage Highest_Temperature Highest_Cell_Voltage.1\n",
       "1 2048          3588                 20                  3588                  \n",
       "2 2048          3588                 20                  3588                  \n",
       "  ... LMU3_Aux LMU4_Aux LMU1_PCB1 LMU2_PCB1 LMU3_PCB1 LMU4_PCB1 LMU1_PCB2\n",
       "1 ... 20       19       22        21        22        22        21       \n",
       "2 ... 20       19       22        21        21        22        21       \n",
       "  LMU2_PCB2 LMU3_PCB2 LMU4_PCB2\n",
       "1 21        21        21       \n",
       "2 21        21        21       "
      ]
     },
     "metadata": {},
     "output_type": "display_data"
    },
    {
     "data": {
      "text/html": [
       "<table>\n",
       "<thead><tr><th></th><th scope=col>Timestamp</th><th scope=col>Status</th><th scope=col>State_of_Charge</th><th scope=col>Current</th><th scope=col>Voltage</th><th scope=col>Error_flags</th><th scope=col>Warning_flags</th><th scope=col>Highest_Cell_Voltage</th><th scope=col>Highest_Temperature</th><th scope=col>Highest_Cell_Voltage.1</th><th scope=col>...</th><th scope=col>LMU3_Aux</th><th scope=col>LMU4_Aux</th><th scope=col>LMU1_PCB1</th><th scope=col>LMU2_PCB1</th><th scope=col>LMU3_PCB1</th><th scope=col>LMU4_PCB1</th><th scope=col>LMU1_PCB2</th><th scope=col>LMU2_PCB2</th><th scope=col>LMU3_PCB2</th><th scope=col>LMU4_PCB2</th></tr></thead>\n",
       "<tbody>\n",
       "\t<tr><th scope=row>912</th><td>2021-03-24 18:37:09</td><td>Connected          </td><td>49                 </td><td>-17.612            </td><td>104.8              </td><td>0                  </td><td>2048               </td><td>3581               </td><td>20                 </td><td>3581               </td><td>...                </td><td>20                 </td><td>19                 </td><td>22                 </td><td>22                 </td><td>22                 </td><td>22                 </td><td>22                 </td><td>21                 </td><td>21                 </td><td>21                 </td></tr>\n",
       "\t<tr><th scope=row>913</th><td>2021-03-24 18:37:10</td><td>Connected          </td><td>49                 </td><td>-17.612            </td><td>104.8              </td><td>0                  </td><td>2048               </td><td>3581               </td><td>20                 </td><td>3581               </td><td>...                </td><td>20                 </td><td>20                 </td><td>22                 </td><td>21                 </td><td>22                 </td><td>22                 </td><td>21                 </td><td>21                 </td><td>21                 </td><td>21                 </td></tr>\n",
       "</tbody>\n",
       "</table>\n"
      ],
      "text/latex": [
       "\\begin{tabular}{r|llllllllllllllllllllllllllllllllllllllllllllllllllllllllllll}\n",
       "  & Timestamp & Status & State\\_of\\_Charge & Current & Voltage & Error\\_flags & Warning\\_flags & Highest\\_Cell\\_Voltage & Highest\\_Temperature & Highest\\_Cell\\_Voltage.1 & ... & LMU3\\_Aux & LMU4\\_Aux & LMU1\\_PCB1 & LMU2\\_PCB1 & LMU3\\_PCB1 & LMU4\\_PCB1 & LMU1\\_PCB2 & LMU2\\_PCB2 & LMU3\\_PCB2 & LMU4\\_PCB2\\\\\n",
       "\\hline\n",
       "\t912 & 2021-03-24 18:37:09 & Connected           & 49                  & -17.612             & 104.8               & 0                   & 2048                & 3581                & 20                  & 3581                & ...                 & 20                  & 19                  & 22                  & 22                  & 22                  & 22                  & 22                  & 21                  & 21                  & 21                 \\\\\n",
       "\t913 & 2021-03-24 18:37:10 & Connected           & 49                  & -17.612             & 104.8               & 0                   & 2048                & 3581                & 20                  & 3581                & ...                 & 20                  & 20                  & 22                  & 21                  & 22                  & 22                  & 21                  & 21                  & 21                  & 21                 \\\\\n",
       "\\end{tabular}\n"
      ],
      "text/markdown": [
       "\n",
       "| <!--/--> | Timestamp | Status | State_of_Charge | Current | Voltage | Error_flags | Warning_flags | Highest_Cell_Voltage | Highest_Temperature | Highest_Cell_Voltage.1 | ... | LMU3_Aux | LMU4_Aux | LMU1_PCB1 | LMU2_PCB1 | LMU3_PCB1 | LMU4_PCB1 | LMU1_PCB2 | LMU2_PCB2 | LMU3_PCB2 | LMU4_PCB2 |\n",
       "|---|---|---|---|---|---|---|---|---|---|---|---|---|---|---|---|---|---|---|---|---|---|\n",
       "| 912 | 2021-03-24 18:37:09 | Connected           | 49                  | -17.612             | 104.8               | 0                   | 2048                | 3581                | 20                  | 3581                | ...                 | 20                  | 19                  | 22                  | 22                  | 22                  | 22                  | 22                  | 21                  | 21                  | 21                  |\n",
       "| 913 | 2021-03-24 18:37:10 | Connected           | 49                  | -17.612             | 104.8               | 0                   | 2048                | 3581                | 20                  | 3581                | ...                 | 20                  | 20                  | 22                  | 21                  | 22                  | 22                  | 21                  | 21                  | 21                  | 21                  |\n",
       "\n"
      ],
      "text/plain": [
       "    Timestamp           Status    State_of_Charge Current Voltage Error_flags\n",
       "912 2021-03-24 18:37:09 Connected 49              -17.612 104.8   0          \n",
       "913 2021-03-24 18:37:10 Connected 49              -17.612 104.8   0          \n",
       "    Warning_flags Highest_Cell_Voltage Highest_Temperature\n",
       "912 2048          3581                 20                 \n",
       "913 2048          3581                 20                 \n",
       "    Highest_Cell_Voltage.1 ... LMU3_Aux LMU4_Aux LMU1_PCB1 LMU2_PCB1 LMU3_PCB1\n",
       "912 3581                   ... 20       19       22        22        22       \n",
       "913 3581                   ... 20       20       22        21        22       \n",
       "    LMU4_PCB1 LMU1_PCB2 LMU2_PCB2 LMU3_PCB2 LMU4_PCB2\n",
       "912 22        22        21        21        21       \n",
       "913 22        21        21        21        21       "
      ]
     },
     "metadata": {},
     "output_type": "display_data"
    }
   ],
   "source": [
    "disc_df_1 <- read.csv2(\n",
    "    paste(WORKING_DIRECTORY, DATASET_PATH, BMS_TESTS_24_03_2021_1, sep=''),\n",
    "    header=TRUE, \n",
    "    sep=';',\n",
    "    )\n",
    "\n",
    "disc_df_1$Timestamp <- strptime(\n",
    "    x=as.character(disc_df_1$Timestamp),\n",
    "    format = \"%Y-%m-%d %H:%M:%S\")\n",
    "\n",
    "disc_df_1$Timestamp <- as.POSIXct(x=disc_df_1$Timestamp)\n",
    "\n",
    "\n",
    "head(disc_df_1, 2)\n",
    "tail(disc_df_1, 2)"
   ]
  },
  {
   "cell_type": "code",
   "execution_count": null,
   "id": "f2ce3bd6",
   "metadata": {},
   "outputs": [],
   "source": []
  },
  {
   "cell_type": "code",
   "execution_count": 102,
   "id": "9ebe1fdd",
   "metadata": {},
   "outputs": [
    {
     "data": {
      "text/html": [
       "<table>\n",
       "<thead><tr><th scope=col>Timestamp</th><th scope=col>Status</th><th scope=col>State_of_Charge</th><th scope=col>Current</th><th scope=col>Voltage</th><th scope=col>Error_flags</th><th scope=col>Warning_flags</th><th scope=col>Highest_Cell_Voltage</th><th scope=col>Highest_Temperature</th><th scope=col>Highest_Cell_Voltage.1</th><th scope=col>...</th><th scope=col>LMU3_Aux</th><th scope=col>LMU4_Aux</th><th scope=col>LMU1_PCB1</th><th scope=col>LMU2_PCB1</th><th scope=col>LMU3_PCB1</th><th scope=col>LMU4_PCB1</th><th scope=col>LMU1_PCB2</th><th scope=col>LMU2_PCB2</th><th scope=col>LMU3_PCB2</th><th scope=col>LMU4_PCB2</th></tr></thead>\n",
       "<tbody>\n",
       "\t<tr><td>2021-03-24 19:33:26</td><td>Connected          </td><td>46                 </td><td>-17.508            </td><td>103.6              </td><td>0                  </td><td>2050               </td><td>3555               </td><td>20                 </td><td>3555               </td><td>...                </td><td>20                 </td><td>20                 </td><td>23                 </td><td>22                 </td><td>22                 </td><td>22                 </td><td>22                 </td><td>22                 </td><td>22                 </td><td>22                 </td></tr>\n",
       "\t<tr><td>2021-03-24 19:33:27</td><td>Connected          </td><td>46                 </td><td>-17.508            </td><td>103.6              </td><td>0                  </td><td>2050               </td><td>3555               </td><td>20                 </td><td>3555               </td><td>...                </td><td>20                 </td><td>20                 </td><td>23                 </td><td>23                 </td><td>22                 </td><td>22                 </td><td>22                 </td><td>22                 </td><td>22                 </td><td>22                 </td></tr>\n",
       "</tbody>\n",
       "</table>\n"
      ],
      "text/latex": [
       "\\begin{tabular}{r|llllllllllllllllllllllllllllllllllllllllllllllllllllllllllll}\n",
       " Timestamp & Status & State\\_of\\_Charge & Current & Voltage & Error\\_flags & Warning\\_flags & Highest\\_Cell\\_Voltage & Highest\\_Temperature & Highest\\_Cell\\_Voltage.1 & ... & LMU3\\_Aux & LMU4\\_Aux & LMU1\\_PCB1 & LMU2\\_PCB1 & LMU3\\_PCB1 & LMU4\\_PCB1 & LMU1\\_PCB2 & LMU2\\_PCB2 & LMU3\\_PCB2 & LMU4\\_PCB2\\\\\n",
       "\\hline\n",
       "\t 2021-03-24 19:33:26 & Connected           & 46                  & -17.508             & 103.6               & 0                   & 2050                & 3555                & 20                  & 3555                & ...                 & 20                  & 20                  & 23                  & 22                  & 22                  & 22                  & 22                  & 22                  & 22                  & 22                 \\\\\n",
       "\t 2021-03-24 19:33:27 & Connected           & 46                  & -17.508             & 103.6               & 0                   & 2050                & 3555                & 20                  & 3555                & ...                 & 20                  & 20                  & 23                  & 23                  & 22                  & 22                  & 22                  & 22                  & 22                  & 22                 \\\\\n",
       "\\end{tabular}\n"
      ],
      "text/markdown": [
       "\n",
       "| Timestamp | Status | State_of_Charge | Current | Voltage | Error_flags | Warning_flags | Highest_Cell_Voltage | Highest_Temperature | Highest_Cell_Voltage.1 | ... | LMU3_Aux | LMU4_Aux | LMU1_PCB1 | LMU2_PCB1 | LMU3_PCB1 | LMU4_PCB1 | LMU1_PCB2 | LMU2_PCB2 | LMU3_PCB2 | LMU4_PCB2 |\n",
       "|---|---|---|---|---|---|---|---|---|---|---|---|---|---|---|---|---|---|---|---|---|\n",
       "| 2021-03-24 19:33:26 | Connected           | 46                  | -17.508             | 103.6               | 0                   | 2050                | 3555                | 20                  | 3555                | ...                 | 20                  | 20                  | 23                  | 22                  | 22                  | 22                  | 22                  | 22                  | 22                  | 22                  |\n",
       "| 2021-03-24 19:33:27 | Connected           | 46                  | -17.508             | 103.6               | 0                   | 2050                | 3555                | 20                  | 3555                | ...                 | 20                  | 20                  | 23                  | 23                  | 22                  | 22                  | 22                  | 22                  | 22                  | 22                  |\n",
       "\n"
      ],
      "text/plain": [
       "  Timestamp           Status    State_of_Charge Current Voltage Error_flags\n",
       "1 2021-03-24 19:33:26 Connected 46              -17.508 103.6   0          \n",
       "2 2021-03-24 19:33:27 Connected 46              -17.508 103.6   0          \n",
       "  Warning_flags Highest_Cell_Voltage Highest_Temperature Highest_Cell_Voltage.1\n",
       "1 2050          3555                 20                  3555                  \n",
       "2 2050          3555                 20                  3555                  \n",
       "  ... LMU3_Aux LMU4_Aux LMU1_PCB1 LMU2_PCB1 LMU3_PCB1 LMU4_PCB1 LMU1_PCB2\n",
       "1 ... 20       20       23        22        22        22        22       \n",
       "2 ... 20       20       23        23        22        22        22       \n",
       "  LMU2_PCB2 LMU3_PCB2 LMU4_PCB2\n",
       "1 22        22        22       \n",
       "2 22        22        22       "
      ]
     },
     "metadata": {},
     "output_type": "display_data"
    },
    {
     "data": {
      "text/html": [
       "<table>\n",
       "<thead><tr><th></th><th scope=col>Timestamp</th><th scope=col>Status</th><th scope=col>State_of_Charge</th><th scope=col>Current</th><th scope=col>Voltage</th><th scope=col>Error_flags</th><th scope=col>Warning_flags</th><th scope=col>Highest_Cell_Voltage</th><th scope=col>Highest_Temperature</th><th scope=col>Highest_Cell_Voltage.1</th><th scope=col>...</th><th scope=col>LMU3_Aux</th><th scope=col>LMU4_Aux</th><th scope=col>LMU1_PCB1</th><th scope=col>LMU2_PCB1</th><th scope=col>LMU3_PCB1</th><th scope=col>LMU4_PCB1</th><th scope=col>LMU1_PCB2</th><th scope=col>LMU2_PCB2</th><th scope=col>LMU3_PCB2</th><th scope=col>LMU4_PCB2</th></tr></thead>\n",
       "<tbody>\n",
       "\t<tr><th scope=row>1336</th><td>2021-03-24 19:55:39</td><td>Connected          </td><td>0                  </td><td>0.2                </td><td>103.6              </td><td>8388608            </td><td>67584              </td><td>3560               </td><td>21                 </td><td>3560               </td><td>...                </td><td>21                 </td><td>20                 </td><td>23                 </td><td>22                 </td><td>22                 </td><td>23                 </td><td>22                 </td><td>22                 </td><td>22                 </td><td>22                 </td></tr>\n",
       "\t<tr><th scope=row>1337</th><td>2021-03-24 19:58:06</td><td>Connected          </td><td>0                  </td><td>0.2                </td><td>103.6              </td><td>8388608            </td><td>67584              </td><td>3560               </td><td>21                 </td><td>3560               </td><td>...                </td><td>21                 </td><td>20                 </td><td>23                 </td><td>22                 </td><td>22                 </td><td>23                 </td><td>22                 </td><td>22                 </td><td>22                 </td><td>22                 </td></tr>\n",
       "</tbody>\n",
       "</table>\n"
      ],
      "text/latex": [
       "\\begin{tabular}{r|llllllllllllllllllllllllllllllllllllllllllllllllllllllllllll}\n",
       "  & Timestamp & Status & State\\_of\\_Charge & Current & Voltage & Error\\_flags & Warning\\_flags & Highest\\_Cell\\_Voltage & Highest\\_Temperature & Highest\\_Cell\\_Voltage.1 & ... & LMU3\\_Aux & LMU4\\_Aux & LMU1\\_PCB1 & LMU2\\_PCB1 & LMU3\\_PCB1 & LMU4\\_PCB1 & LMU1\\_PCB2 & LMU2\\_PCB2 & LMU3\\_PCB2 & LMU4\\_PCB2\\\\\n",
       "\\hline\n",
       "\t1336 & 2021-03-24 19:55:39 & Connected           & 0                   & 0.2                 & 103.6               & 8388608             & 67584               & 3560                & 21                  & 3560                & ...                 & 21                  & 20                  & 23                  & 22                  & 22                  & 23                  & 22                  & 22                  & 22                  & 22                 \\\\\n",
       "\t1337 & 2021-03-24 19:58:06 & Connected           & 0                   & 0.2                 & 103.6               & 8388608             & 67584               & 3560                & 21                  & 3560                & ...                 & 21                  & 20                  & 23                  & 22                  & 22                  & 23                  & 22                  & 22                  & 22                  & 22                 \\\\\n",
       "\\end{tabular}\n"
      ],
      "text/markdown": [
       "\n",
       "| <!--/--> | Timestamp | Status | State_of_Charge | Current | Voltage | Error_flags | Warning_flags | Highest_Cell_Voltage | Highest_Temperature | Highest_Cell_Voltage.1 | ... | LMU3_Aux | LMU4_Aux | LMU1_PCB1 | LMU2_PCB1 | LMU3_PCB1 | LMU4_PCB1 | LMU1_PCB2 | LMU2_PCB2 | LMU3_PCB2 | LMU4_PCB2 |\n",
       "|---|---|---|---|---|---|---|---|---|---|---|---|---|---|---|---|---|---|---|---|---|---|\n",
       "| 1336 | 2021-03-24 19:55:39 | Connected           | 0                   | 0.2                 | 103.6               | 8388608             | 67584               | 3560                | 21                  | 3560                | ...                 | 21                  | 20                  | 23                  | 22                  | 22                  | 23                  | 22                  | 22                  | 22                  | 22                  |\n",
       "| 1337 | 2021-03-24 19:58:06 | Connected           | 0                   | 0.2                 | 103.6               | 8388608             | 67584               | 3560                | 21                  | 3560                | ...                 | 21                  | 20                  | 23                  | 22                  | 22                  | 23                  | 22                  | 22                  | 22                  | 22                  |\n",
       "\n"
      ],
      "text/plain": [
       "     Timestamp           Status    State_of_Charge Current Voltage Error_flags\n",
       "1336 2021-03-24 19:55:39 Connected 0               0.2     103.6   8388608    \n",
       "1337 2021-03-24 19:58:06 Connected 0               0.2     103.6   8388608    \n",
       "     Warning_flags Highest_Cell_Voltage Highest_Temperature\n",
       "1336 67584         3560                 21                 \n",
       "1337 67584         3560                 21                 \n",
       "     Highest_Cell_Voltage.1 ... LMU3_Aux LMU4_Aux LMU1_PCB1 LMU2_PCB1 LMU3_PCB1\n",
       "1336 3560                   ... 21       20       23        22        22       \n",
       "1337 3560                   ... 21       20       23        22        22       \n",
       "     LMU4_PCB1 LMU1_PCB2 LMU2_PCB2 LMU3_PCB2 LMU4_PCB2\n",
       "1336 23        22        22        22        22       \n",
       "1337 23        22        22        22        22       "
      ]
     },
     "metadata": {},
     "output_type": "display_data"
    }
   ],
   "source": [
    "disc_df_2 <- read.csv2(\n",
    "    paste(WORKING_DIRECTORY, DATASET_PATH, BMS_TESTS_24_03_2021_2, sep=''),\n",
    "    header=TRUE, \n",
    "    sep=';')\n",
    "\n",
    "disc_df_2$Timestamp <- strptime(\n",
    "    x=as.character(disc_df_2$Timestamp),\n",
    "    format = \"%Y-%m-%d %H:%M:%S\")\n",
    "\n",
    "disc_df_2$Timestamp <- as.POSIXct(x=disc_df_2$Timestamp)\n",
    "\n",
    "head(disc_df_2,2)\n",
    "tail(disc_df_2,2)"
   ]
  },
  {
   "cell_type": "code",
   "execution_count": 103,
   "id": "c0b77c03",
   "metadata": {},
   "outputs": [
    {
     "data": {
      "text/html": [
       "<table>\n",
       "<thead><tr><th scope=col>Timestamp</th><th scope=col>Status</th><th scope=col>State_of_Charge</th><th scope=col>Current</th><th scope=col>Voltage</th><th scope=col>Error_flags</th><th scope=col>Warning_flags</th><th scope=col>Highest_Cell_Voltage</th><th scope=col>Highest_Temperature</th><th scope=col>Highest_Cell_Voltage.1</th><th scope=col>...</th><th scope=col>LMU3_Aux</th><th scope=col>LMU4_Aux</th><th scope=col>LMU1_PCB1</th><th scope=col>LMU2_PCB1</th><th scope=col>LMU3_PCB1</th><th scope=col>LMU4_PCB1</th><th scope=col>LMU1_PCB2</th><th scope=col>LMU2_PCB2</th><th scope=col>LMU3_PCB2</th><th scope=col>LMU4_PCB2</th></tr></thead>\n",
       "<tbody>\n",
       "\t<tr><td>2021-03-20 15:15:07</td><td>Connected          </td><td>65                 </td><td>-18.341            </td><td>108.2              </td><td>0                  </td><td>2048               </td><td>3705               </td><td>19                 </td><td>3705               </td><td>...                </td><td>19                 </td><td>19                 </td><td>21                 </td><td>22                 </td><td>21                 </td><td>21                 </td><td>21                 </td><td>21                 </td><td>21                 </td><td>21                 </td></tr>\n",
       "\t<tr><td>2021-03-20 15:15:08</td><td>Connected          </td><td>65                 </td><td>-18.341            </td><td>108.2              </td><td>0                  </td><td>2048               </td><td>3705               </td><td>19                 </td><td>3705               </td><td>...                </td><td>19                 </td><td>19                 </td><td>21                 </td><td>22                 </td><td>21                 </td><td>21                 </td><td>21                 </td><td>21                 </td><td>21                 </td><td>21                 </td></tr>\n",
       "</tbody>\n",
       "</table>\n"
      ],
      "text/latex": [
       "\\begin{tabular}{r|llllllllllllllllllllllllllllllllllllllllllllllllllllllllllll}\n",
       " Timestamp & Status & State\\_of\\_Charge & Current & Voltage & Error\\_flags & Warning\\_flags & Highest\\_Cell\\_Voltage & Highest\\_Temperature & Highest\\_Cell\\_Voltage.1 & ... & LMU3\\_Aux & LMU4\\_Aux & LMU1\\_PCB1 & LMU2\\_PCB1 & LMU3\\_PCB1 & LMU4\\_PCB1 & LMU1\\_PCB2 & LMU2\\_PCB2 & LMU3\\_PCB2 & LMU4\\_PCB2\\\\\n",
       "\\hline\n",
       "\t 2021-03-20 15:15:07 & Connected           & 65                  & -18.341             & 108.2               & 0                   & 2048                & 3705                & 19                  & 3705                & ...                 & 19                  & 19                  & 21                  & 22                  & 21                  & 21                  & 21                  & 21                  & 21                  & 21                 \\\\\n",
       "\t 2021-03-20 15:15:08 & Connected           & 65                  & -18.341             & 108.2               & 0                   & 2048                & 3705                & 19                  & 3705                & ...                 & 19                  & 19                  & 21                  & 22                  & 21                  & 21                  & 21                  & 21                  & 21                  & 21                 \\\\\n",
       "\\end{tabular}\n"
      ],
      "text/markdown": [
       "\n",
       "| Timestamp | Status | State_of_Charge | Current | Voltage | Error_flags | Warning_flags | Highest_Cell_Voltage | Highest_Temperature | Highest_Cell_Voltage.1 | ... | LMU3_Aux | LMU4_Aux | LMU1_PCB1 | LMU2_PCB1 | LMU3_PCB1 | LMU4_PCB1 | LMU1_PCB2 | LMU2_PCB2 | LMU3_PCB2 | LMU4_PCB2 |\n",
       "|---|---|---|---|---|---|---|---|---|---|---|---|---|---|---|---|---|---|---|---|---|\n",
       "| 2021-03-20 15:15:07 | Connected           | 65                  | -18.341             | 108.2               | 0                   | 2048                | 3705                | 19                  | 3705                | ...                 | 19                  | 19                  | 21                  | 22                  | 21                  | 21                  | 21                  | 21                  | 21                  | 21                  |\n",
       "| 2021-03-20 15:15:08 | Connected           | 65                  | -18.341             | 108.2               | 0                   | 2048                | 3705                | 19                  | 3705                | ...                 | 19                  | 19                  | 21                  | 22                  | 21                  | 21                  | 21                  | 21                  | 21                  | 21                  |\n",
       "\n"
      ],
      "text/plain": [
       "  Timestamp           Status    State_of_Charge Current Voltage Error_flags\n",
       "1 2021-03-20 15:15:07 Connected 65              -18.341 108.2   0          \n",
       "2 2021-03-20 15:15:08 Connected 65              -18.341 108.2   0          \n",
       "  Warning_flags Highest_Cell_Voltage Highest_Temperature Highest_Cell_Voltage.1\n",
       "1 2048          3705                 19                  3705                  \n",
       "2 2048          3705                 19                  3705                  \n",
       "  ... LMU3_Aux LMU4_Aux LMU1_PCB1 LMU2_PCB1 LMU3_PCB1 LMU4_PCB1 LMU1_PCB2\n",
       "1 ... 19       19       21        22        21        21        21       \n",
       "2 ... 19       19       21        22        21        21        21       \n",
       "  LMU2_PCB2 LMU3_PCB2 LMU4_PCB2\n",
       "1 21        21        21       \n",
       "2 21        21        21       "
      ]
     },
     "metadata": {},
     "output_type": "display_data"
    },
    {
     "data": {
      "text/html": [
       "<table>\n",
       "<thead><tr><th></th><th scope=col>Timestamp</th><th scope=col>Status</th><th scope=col>State_of_Charge</th><th scope=col>Current</th><th scope=col>Voltage</th><th scope=col>Error_flags</th><th scope=col>Warning_flags</th><th scope=col>Highest_Cell_Voltage</th><th scope=col>Highest_Temperature</th><th scope=col>Highest_Cell_Voltage.1</th><th scope=col>...</th><th scope=col>LMU3_Aux</th><th scope=col>LMU4_Aux</th><th scope=col>LMU1_PCB1</th><th scope=col>LMU2_PCB1</th><th scope=col>LMU3_PCB1</th><th scope=col>LMU4_PCB1</th><th scope=col>LMU1_PCB2</th><th scope=col>LMU2_PCB2</th><th scope=col>LMU3_PCB2</th><th scope=col>LMU4_PCB2</th></tr></thead>\n",
       "<tbody>\n",
       "\t<tr><th scope=row>14461</th><td>2021-03-20 19:15:24</td><td>Connected          </td><td>53                 </td><td>-17.82             </td><td>105.9              </td><td>0                  </td><td>2048               </td><td>3610               </td><td>19                 </td><td>3610               </td><td>...                </td><td>19                 </td><td>19                 </td><td>21                 </td><td>21                 </td><td>21                 </td><td>21                 </td><td>21                 </td><td>20                 </td><td>20                 </td><td>21                 </td></tr>\n",
       "\t<tr><th scope=row>14462</th><td>2021-03-20 19:15:25</td><td>Connected          </td><td>53                 </td><td>-17.82             </td><td>105.9              </td><td>0                  </td><td>2048               </td><td>3610               </td><td>19                 </td><td>3610               </td><td>...                </td><td>19                 </td><td>19                 </td><td>21                 </td><td>21                 </td><td>20                 </td><td>21                 </td><td>21                 </td><td>20                 </td><td>20                 </td><td>21                 </td></tr>\n",
       "</tbody>\n",
       "</table>\n"
      ],
      "text/latex": [
       "\\begin{tabular}{r|llllllllllllllllllllllllllllllllllllllllllllllllllllllllllll}\n",
       "  & Timestamp & Status & State\\_of\\_Charge & Current & Voltage & Error\\_flags & Warning\\_flags & Highest\\_Cell\\_Voltage & Highest\\_Temperature & Highest\\_Cell\\_Voltage.1 & ... & LMU3\\_Aux & LMU4\\_Aux & LMU1\\_PCB1 & LMU2\\_PCB1 & LMU3\\_PCB1 & LMU4\\_PCB1 & LMU1\\_PCB2 & LMU2\\_PCB2 & LMU3\\_PCB2 & LMU4\\_PCB2\\\\\n",
       "\\hline\n",
       "\t14461 & 2021-03-20 19:15:24 & Connected           & 53                  & -17.82              & 105.9               & 0                   & 2048                & 3610                & 19                  & 3610                & ...                 & 19                  & 19                  & 21                  & 21                  & 21                  & 21                  & 21                  & 20                  & 20                  & 21                 \\\\\n",
       "\t14462 & 2021-03-20 19:15:25 & Connected           & 53                  & -17.82              & 105.9               & 0                   & 2048                & 3610                & 19                  & 3610                & ...                 & 19                  & 19                  & 21                  & 21                  & 20                  & 21                  & 21                  & 20                  & 20                  & 21                 \\\\\n",
       "\\end{tabular}\n"
      ],
      "text/markdown": [
       "\n",
       "| <!--/--> | Timestamp | Status | State_of_Charge | Current | Voltage | Error_flags | Warning_flags | Highest_Cell_Voltage | Highest_Temperature | Highest_Cell_Voltage.1 | ... | LMU3_Aux | LMU4_Aux | LMU1_PCB1 | LMU2_PCB1 | LMU3_PCB1 | LMU4_PCB1 | LMU1_PCB2 | LMU2_PCB2 | LMU3_PCB2 | LMU4_PCB2 |\n",
       "|---|---|---|---|---|---|---|---|---|---|---|---|---|---|---|---|---|---|---|---|---|---|\n",
       "| 14461 | 2021-03-20 19:15:24 | Connected           | 53                  | -17.82              | 105.9               | 0                   | 2048                | 3610                | 19                  | 3610                | ...                 | 19                  | 19                  | 21                  | 21                  | 21                  | 21                  | 21                  | 20                  | 20                  | 21                  |\n",
       "| 14462 | 2021-03-20 19:15:25 | Connected           | 53                  | -17.82              | 105.9               | 0                   | 2048                | 3610                | 19                  | 3610                | ...                 | 19                  | 19                  | 21                  | 21                  | 20                  | 21                  | 21                  | 20                  | 20                  | 21                  |\n",
       "\n"
      ],
      "text/plain": [
       "      Timestamp           Status    State_of_Charge Current Voltage Error_flags\n",
       "14461 2021-03-20 19:15:24 Connected 53              -17.82  105.9   0          \n",
       "14462 2021-03-20 19:15:25 Connected 53              -17.82  105.9   0          \n",
       "      Warning_flags Highest_Cell_Voltage Highest_Temperature\n",
       "14461 2048          3610                 19                 \n",
       "14462 2048          3610                 19                 \n",
       "      Highest_Cell_Voltage.1 ... LMU3_Aux LMU4_Aux LMU1_PCB1 LMU2_PCB1\n",
       "14461 3610                   ... 19       19       21        21       \n",
       "14462 3610                   ... 19       19       21        21       \n",
       "      LMU3_PCB1 LMU4_PCB1 LMU1_PCB2 LMU2_PCB2 LMU3_PCB2 LMU4_PCB2\n",
       "14461 21        21        21        20        20        21       \n",
       "14462 20        21        21        20        20        21       "
      ]
     },
     "metadata": {},
     "output_type": "display_data"
    }
   ],
   "source": [
    "disc_df_3 <- read.csv2(\n",
    "    paste(WORKING_DIRECTORY, DATASET_PATH, BMS_TESTS_20_03_2021, sep=''),\n",
    "    header=TRUE, \n",
    "    sep=';')\n",
    "\n",
    "disc_df_3$Timestamp <- strptime(\n",
    "    x=as.character(disc_df_3$Timestamp),\n",
    "    format = \"%Y-%m-%d %H:%M:%S\")\n",
    "\n",
    "disc_df_3$Timestamp <- as.POSIXct(x=disc_df_3$Timestamp)\n",
    "\n",
    "head(disc_df_3,2)\n",
    "tail(disc_df_3,2)"
   ]
  },
  {
   "cell_type": "code",
   "execution_count": 104,
   "id": "4246370e",
   "metadata": {},
   "outputs": [
    {
     "data": {
      "text/html": [
       "<ol class=list-inline>\n",
       "\t<li>TRUE</li>\n",
       "\t<li>TRUE</li>\n",
       "\t<li>TRUE</li>\n",
       "\t<li>TRUE</li>\n",
       "\t<li>TRUE</li>\n",
       "\t<li>TRUE</li>\n",
       "\t<li>TRUE</li>\n",
       "\t<li>TRUE</li>\n",
       "\t<li>TRUE</li>\n",
       "\t<li>TRUE</li>\n",
       "\t<li>TRUE</li>\n",
       "\t<li>TRUE</li>\n",
       "\t<li>TRUE</li>\n",
       "\t<li>TRUE</li>\n",
       "\t<li>TRUE</li>\n",
       "\t<li>TRUE</li>\n",
       "\t<li>TRUE</li>\n",
       "\t<li>TRUE</li>\n",
       "\t<li>TRUE</li>\n",
       "\t<li>TRUE</li>\n",
       "\t<li>TRUE</li>\n",
       "\t<li>TRUE</li>\n",
       "\t<li>TRUE</li>\n",
       "\t<li>TRUE</li>\n",
       "\t<li>TRUE</li>\n",
       "\t<li>TRUE</li>\n",
       "\t<li>TRUE</li>\n",
       "\t<li>TRUE</li>\n",
       "\t<li>TRUE</li>\n",
       "\t<li>TRUE</li>\n",
       "\t<li>TRUE</li>\n",
       "\t<li>TRUE</li>\n",
       "\t<li>TRUE</li>\n",
       "\t<li>TRUE</li>\n",
       "\t<li>TRUE</li>\n",
       "\t<li>TRUE</li>\n",
       "\t<li>TRUE</li>\n",
       "\t<li>TRUE</li>\n",
       "\t<li>TRUE</li>\n",
       "\t<li>TRUE</li>\n",
       "\t<li>TRUE</li>\n",
       "\t<li>TRUE</li>\n",
       "\t<li>TRUE</li>\n",
       "\t<li>TRUE</li>\n",
       "\t<li>TRUE</li>\n",
       "\t<li>TRUE</li>\n",
       "\t<li>TRUE</li>\n",
       "\t<li>TRUE</li>\n",
       "\t<li>TRUE</li>\n",
       "\t<li>TRUE</li>\n",
       "\t<li>TRUE</li>\n",
       "\t<li>TRUE</li>\n",
       "\t<li>TRUE</li>\n",
       "\t<li>TRUE</li>\n",
       "\t<li>TRUE</li>\n",
       "\t<li>TRUE</li>\n",
       "\t<li>TRUE</li>\n",
       "\t<li>TRUE</li>\n",
       "\t<li>TRUE</li>\n",
       "\t<li>TRUE</li>\n",
       "</ol>\n"
      ],
      "text/latex": [
       "\\begin{enumerate*}\n",
       "\\item TRUE\n",
       "\\item TRUE\n",
       "\\item TRUE\n",
       "\\item TRUE\n",
       "\\item TRUE\n",
       "\\item TRUE\n",
       "\\item TRUE\n",
       "\\item TRUE\n",
       "\\item TRUE\n",
       "\\item TRUE\n",
       "\\item TRUE\n",
       "\\item TRUE\n",
       "\\item TRUE\n",
       "\\item TRUE\n",
       "\\item TRUE\n",
       "\\item TRUE\n",
       "\\item TRUE\n",
       "\\item TRUE\n",
       "\\item TRUE\n",
       "\\item TRUE\n",
       "\\item TRUE\n",
       "\\item TRUE\n",
       "\\item TRUE\n",
       "\\item TRUE\n",
       "\\item TRUE\n",
       "\\item TRUE\n",
       "\\item TRUE\n",
       "\\item TRUE\n",
       "\\item TRUE\n",
       "\\item TRUE\n",
       "\\item TRUE\n",
       "\\item TRUE\n",
       "\\item TRUE\n",
       "\\item TRUE\n",
       "\\item TRUE\n",
       "\\item TRUE\n",
       "\\item TRUE\n",
       "\\item TRUE\n",
       "\\item TRUE\n",
       "\\item TRUE\n",
       "\\item TRUE\n",
       "\\item TRUE\n",
       "\\item TRUE\n",
       "\\item TRUE\n",
       "\\item TRUE\n",
       "\\item TRUE\n",
       "\\item TRUE\n",
       "\\item TRUE\n",
       "\\item TRUE\n",
       "\\item TRUE\n",
       "\\item TRUE\n",
       "\\item TRUE\n",
       "\\item TRUE\n",
       "\\item TRUE\n",
       "\\item TRUE\n",
       "\\item TRUE\n",
       "\\item TRUE\n",
       "\\item TRUE\n",
       "\\item TRUE\n",
       "\\item TRUE\n",
       "\\end{enumerate*}\n"
      ],
      "text/markdown": [
       "1. TRUE\n",
       "2. TRUE\n",
       "3. TRUE\n",
       "4. TRUE\n",
       "5. TRUE\n",
       "6. TRUE\n",
       "7. TRUE\n",
       "8. TRUE\n",
       "9. TRUE\n",
       "10. TRUE\n",
       "11. TRUE\n",
       "12. TRUE\n",
       "13. TRUE\n",
       "14. TRUE\n",
       "15. TRUE\n",
       "16. TRUE\n",
       "17. TRUE\n",
       "18. TRUE\n",
       "19. TRUE\n",
       "20. TRUE\n",
       "21. TRUE\n",
       "22. TRUE\n",
       "23. TRUE\n",
       "24. TRUE\n",
       "25. TRUE\n",
       "26. TRUE\n",
       "27. TRUE\n",
       "28. TRUE\n",
       "29. TRUE\n",
       "30. TRUE\n",
       "31. TRUE\n",
       "32. TRUE\n",
       "33. TRUE\n",
       "34. TRUE\n",
       "35. TRUE\n",
       "36. TRUE\n",
       "37. TRUE\n",
       "38. TRUE\n",
       "39. TRUE\n",
       "40. TRUE\n",
       "41. TRUE\n",
       "42. TRUE\n",
       "43. TRUE\n",
       "44. TRUE\n",
       "45. TRUE\n",
       "46. TRUE\n",
       "47. TRUE\n",
       "48. TRUE\n",
       "49. TRUE\n",
       "50. TRUE\n",
       "51. TRUE\n",
       "52. TRUE\n",
       "53. TRUE\n",
       "54. TRUE\n",
       "55. TRUE\n",
       "56. TRUE\n",
       "57. TRUE\n",
       "58. TRUE\n",
       "59. TRUE\n",
       "60. TRUE\n",
       "\n",
       "\n"
      ],
      "text/plain": [
       " [1] TRUE TRUE TRUE TRUE TRUE TRUE TRUE TRUE TRUE TRUE TRUE TRUE TRUE TRUE TRUE\n",
       "[16] TRUE TRUE TRUE TRUE TRUE TRUE TRUE TRUE TRUE TRUE TRUE TRUE TRUE TRUE TRUE\n",
       "[31] TRUE TRUE TRUE TRUE TRUE TRUE TRUE TRUE TRUE TRUE TRUE TRUE TRUE TRUE TRUE\n",
       "[46] TRUE TRUE TRUE TRUE TRUE TRUE TRUE TRUE TRUE TRUE TRUE TRUE TRUE TRUE TRUE"
      ]
     },
     "metadata": {},
     "output_type": "display_data"
    }
   ],
   "source": [
    "colnames(disc_df_1) == colnames(disc_df_3)"
   ]
  },
  {
   "cell_type": "code",
   "execution_count": 105,
   "id": "d5560df4",
   "metadata": {
    "scrolled": true
   },
   "outputs": [
    {
     "name": "stdout",
     "output_type": "stream",
     "text": [
      "'data.frame':\t913 obs. of  60 variables:\n",
      " $ Timestamp             : POSIXct, format: \"2021-03-24 18:21:59\" \"2021-03-24 18:22:00\" ...\n",
      " $ Status                : Factor w/ 1 level \"Connected\": 1 1 1 1 1 1 1 1 1 1 ...\n",
      " $ State_of_Charge       : int  50 50 50 50 50 50 50 50 50 50 ...\n",
      " $ Current               : num  -17.7 -17.7 -17.7 -17.7 -17.7 ...\n",
      " $ Voltage               : num  105 105 105 105 105 ...\n",
      " $ Error_flags           : int  0 0 0 0 0 0 0 0 0 0 ...\n",
      " $ Warning_flags         : int  2048 2048 2048 2048 2048 2048 2048 2048 2048 2048 ...\n",
      " $ Highest_Cell_Voltage  : int  3588 3588 3588 3588 3588 3588 3588 3588 3588 3588 ...\n",
      " $ Highest_Temperature   : int  20 20 20 20 20 20 20 20 20 20 ...\n",
      " $ Highest_Cell_Voltage.1: int  3588 3588 3588 3588 3588 3588 3588 3588 3588 3588 ...\n",
      " $ Lowest_Cell_Voltage   : int  2993 2993 2993 2992 2992 2992 2992 2992 2992 2992 ...\n",
      " $ IO_Status             : int  23 23 23 23 23 23 23 23 23 23 ...\n",
      " $ Cell1                 : int  3582 3582 3582 3582 3582 3582 3582 3582 3582 3582 ...\n",
      " $ Cell2                 : int  3579 3579 3579 3579 3579 3579 3579 3579 3579 3579 ...\n",
      " $ Cell3                 : int  3578 3578 3578 3578 3578 3578 3578 3578 3578 3578 ...\n",
      " $ Cell4                 : int  3582 3582 3582 3582 3582 3582 3582 3582 3582 3582 ...\n",
      " $ Cell5                 : int  3578 3578 3578 3578 3578 3578 3578 3578 3578 3578 ...\n",
      " $ Cell6                 : int  3581 3581 3581 3581 3581 3581 3581 3581 3581 3581 ...\n",
      " $ Cell7                 : Factor w/ 1 level \"---\": 1 1 1 1 1 1 1 1 1 1 ...\n",
      " $ Cell8                 : Factor w/ 1 level \"---\": 1 1 1 1 1 1 1 1 1 1 ...\n",
      " $ Cell9                 : int  3584 3584 3584 3584 3584 3584 3584 3584 3584 3584 ...\n",
      " $ Cell10                : int  3581 3581 3581 3581 3581 3581 3581 3581 3581 3581 ...\n",
      " $ Cell11                : int  3580 3580 3580 3580 3580 3580 3580 3580 3580 3580 ...\n",
      " $ Cell12                : int  3582 3582 3582 3582 3582 3582 3582 3582 3582 3582 ...\n",
      " $ Cell13                : int  3581 3581 3581 3581 3581 3581 3581 3581 3581 3581 ...\n",
      " $ Cell14                : int  3581 3581 3581 3581 3581 3581 3580 3580 3580 3580 ...\n",
      " $ Cell15                : int  3582 3582 3582 3582 3582 3582 3582 3582 3582 3582 ...\n",
      " $ Cell16                : int  3588 3588 3588 3588 3588 3588 3588 3588 3588 3588 ...\n",
      " $ Cell17                : int  3581 3581 3581 3581 3581 3581 3581 3581 3581 3581 ...\n",
      " $ Cell18                : int  3579 3579 3579 3579 3579 3579 3579 3579 3579 3579 ...\n",
      " $ Cell19                : int  3579 3579 3579 3579 3579 3579 3579 3579 3579 3579 ...\n",
      " $ Cell20                : int  3579 3579 3579 3579 3579 3579 3579 3579 3579 3579 ...\n",
      " $ Cell21                : int  3581 3581 3581 3581 3581 3581 3581 3581 3581 3581 ...\n",
      " $ Cell22                : int  2993 2993 2992 2992 2992 2992 2992 2992 2992 2992 ...\n",
      " $ Cell23                : int  3582 3582 3582 3582 3582 3582 3582 3582 3582 3582 ...\n",
      " $ Cell24                : int  3585 3585 3585 3585 3585 3585 3585 3585 3585 3585 ...\n",
      " $ Cell25                : int  3581 3581 3581 3581 3581 3581 3581 3581 3581 3581 ...\n",
      " $ Cell26                : int  3579 3579 3579 3579 3579 3579 3579 3579 3579 3579 ...\n",
      " $ Cell27                : int  3579 3579 3579 3579 3579 3579 3579 3579 3579 3579 ...\n",
      " $ Cell28                : int  3580 3579 3579 3579 3579 3579 3579 3579 3579 3579 ...\n",
      " $ Cell29                : int  3579 3579 3579 3579 3579 3579 3579 3579 3579 3579 ...\n",
      " $ Cell30                : int  3580 3580 3580 3580 3580 3580 3580 3580 3580 3580 ...\n",
      " $ Cell31                : int  3581 3581 3581 3581 3581 3581 3581 3581 3581 3581 ...\n",
      " $ Cell32                : int  3586 3586 3586 3586 3586 3586 3586 3586 3586 3586 ...\n",
      " $ LMU1_Bat              : int  122 122 122 122 122 122 122 122 122 122 ...\n",
      " $ LMU2_Bat              : int  19 19 19 19 19 19 19 19 19 19 ...\n",
      " $ LMU3_Bat              : int  19 19 19 19 19 19 19 19 19 19 ...\n",
      " $ LMU4_Bat              : int  19 19 19 19 19 19 19 19 19 19 ...\n",
      " $ LMU1_Aux              : int  20 20 20 20 20 20 20 20 20 20 ...\n",
      " $ LMU2_Aux              : int  20 20 20 20 20 20 20 20 20 20 ...\n",
      " $ LMU3_Aux              : int  20 20 20 20 20 20 20 20 20 20 ...\n",
      " $ LMU4_Aux              : int  19 19 19 19 19 19 19 19 19 19 ...\n",
      " $ LMU1_PCB1             : int  22 22 22 22 22 22 22 22 22 22 ...\n",
      " $ LMU2_PCB1             : int  21 21 21 22 21 21 21 21 21 21 ...\n",
      " $ LMU3_PCB1             : int  22 21 21 22 22 21 21 21 21 21 ...\n",
      " $ LMU4_PCB1             : int  22 22 22 22 22 22 22 22 22 22 ...\n",
      " $ LMU1_PCB2             : int  21 21 21 21 21 21 22 22 21 21 ...\n",
      " $ LMU2_PCB2             : int  21 21 21 21 21 21 21 21 22 21 ...\n",
      " $ LMU3_PCB2             : int  21 21 21 21 21 21 21 21 21 21 ...\n",
      " $ LMU4_PCB2             : int  21 21 21 21 21 21 21 21 21 21 ...\n"
     ]
    }
   ],
   "source": [
    "str(disc_df_1)"
   ]
  },
  {
   "cell_type": "code",
   "execution_count": 106,
   "id": "2231826d",
   "metadata": {
    "scrolled": true
   },
   "outputs": [
    {
     "name": "stdout",
     "output_type": "stream",
     "text": [
      "'data.frame':\t14462 obs. of  60 variables:\n",
      " $ Timestamp             : POSIXct, format: \"2021-03-20 15:15:07\" \"2021-03-20 15:15:08\" ...\n",
      " $ Status                : Factor w/ 1 level \"Connected\": 1 1 1 1 1 1 1 1 1 1 ...\n",
      " $ State_of_Charge       : int  65 65 65 65 65 65 65 65 65 65 ...\n",
      " $ Current               : Factor w/ 12 levels \"-17.716\",\"-17.82\",..: 7 7 7 7 7 7 7 7 7 7 ...\n",
      " $ Voltage               : Factor w/ 5 levels \"104.8\",\"105.9\",..: 4 4 4 4 4 4 4 4 4 4 ...\n",
      " $ Error_flags           : int  0 0 0 0 0 0 0 0 0 0 ...\n",
      " $ Warning_flags         : int  2048 2048 2048 2048 2048 2048 2048 2048 2048 2048 ...\n",
      " $ Highest_Cell_Voltage  : int  3705 3705 3705 3705 3705 3705 3705 3705 3705 3705 ...\n",
      " $ Highest_Temperature   : int  19 19 19 19 19 19 19 19 19 19 ...\n",
      " $ Highest_Cell_Voltage.1: int  3705 3705 3705 3705 3705 3705 3705 3705 3705 3705 ...\n",
      " $ Lowest_Cell_Voltage   : int  3436 3435 3434 3435 3435 3435 3435 3435 3435 3435 ...\n",
      " $ IO_Status             : int  23 23 23 23 23 23 23 23 23 23 ...\n",
      " $ Cell1                 : int  3697 3697 3697 3697 3697 3697 3697 3697 3697 3697 ...\n",
      " $ Cell2                 : int  3695 3695 3695 3695 3695 3695 3695 3695 3695 3695 ...\n",
      " $ Cell3                 : int  3694 3694 3694 3694 3694 3694 3693 3693 3693 3693 ...\n",
      " $ Cell4                 : int  3698 3698 3698 3698 3698 3698 3698 3698 3698 3697 ...\n",
      " $ Cell5                 : int  3693 3693 3693 3693 3693 3693 3693 3693 3693 3693 ...\n",
      " $ Cell6                 : int  3695 3695 3695 3695 3695 3695 3695 3695 3695 3695 ...\n",
      " $ Cell7                 : Factor w/ 1 level \"---\": 1 1 1 1 1 1 1 1 1 1 ...\n",
      " $ Cell8                 : Factor w/ 1 level \"---\": 1 1 1 1 1 1 1 1 1 1 ...\n",
      " $ Cell9                 : int  3700 3700 3700 3700 3700 3700 3700 3700 3700 3700 ...\n",
      " $ Cell10                : int  3697 3697 3697 3697 3697 3697 3697 3697 3697 3697 ...\n",
      " $ Cell11                : int  3696 3696 3696 3696 3696 3696 3696 3696 3696 3696 ...\n",
      " $ Cell12                : int  3698 3698 3698 3698 3698 3698 3698 3698 3698 3698 ...\n",
      " $ Cell13                : int  3697 3697 3697 3697 3697 3697 3697 3697 3697 3697 ...\n",
      " $ Cell14                : int  3697 3697 3697 3697 3697 3697 3697 3697 3697 3697 ...\n",
      " $ Cell15                : int  3697 3697 3697 3697 3697 3697 3697 3697 3697 3697 ...\n",
      " $ Cell16                : int  3705 3705 3705 3705 3705 3705 3705 3705 3705 3705 ...\n",
      " $ Cell17                : int  3697 3697 3697 3697 3697 3697 3697 3697 3697 3697 ...\n",
      " $ Cell18                : int  3694 3694 3694 3694 3694 3694 3694 3694 3694 3694 ...\n",
      " $ Cell19                : int  3694 3694 3694 3694 3694 3694 3694 3694 3694 3694 ...\n",
      " $ Cell20                : int  3695 3695 3695 3695 3695 3695 3695 3695 3695 3695 ...\n",
      " $ Cell21                : int  3696 3696 3696 3696 3696 3696 3696 3696 3696 3696 ...\n",
      " $ Cell22                : int  3435 3434 3435 3435 3435 3435 3435 3435 3435 3435 ...\n",
      " $ Cell23                : int  3697 3697 3697 3697 3697 3697 3697 3697 3697 3697 ...\n",
      " $ Cell24                : int  3700 3700 3700 3700 3700 3700 3700 3700 3700 3700 ...\n",
      " $ Cell25                : int  3697 3697 3697 3697 3697 3697 3697 3697 3697 3697 ...\n",
      " $ Cell26                : int  3695 3695 3695 3695 3695 3695 3695 3695 3695 3695 ...\n",
      " $ Cell27                : int  3695 3695 3695 3695 3695 3695 3695 3695 3695 3695 ...\n",
      " $ Cell28                : int  3696 3696 3696 3696 3696 3696 3696 3696 3696 3696 ...\n",
      " $ Cell29                : int  3694 3694 3694 3694 3694 3694 3694 3694 3694 3694 ...\n",
      " $ Cell30                : int  3696 3696 3696 3696 3696 3696 3696 3696 3696 3695 ...\n",
      " $ Cell31                : int  3697 3697 3697 3697 3697 3697 3697 3697 3696 3696 ...\n",
      " $ Cell32                : int  3701 3701 3701 3701 3701 3701 3701 3701 3701 3701 ...\n",
      " $ LMU1_Bat              : int  122 122 122 122 122 122 122 122 122 122 ...\n",
      " $ LMU2_Bat              : int  19 19 19 19 19 19 19 19 19 19 ...\n",
      " $ LMU3_Bat              : int  19 19 19 19 19 19 19 19 19 19 ...\n",
      " $ LMU4_Bat              : int  19 19 19 19 19 19 19 19 19 19 ...\n",
      " $ LMU1_Aux              : int  19 19 19 19 19 19 19 19 19 19 ...\n",
      " $ LMU2_Aux              : int  19 19 19 19 19 19 19 19 19 19 ...\n",
      " $ LMU3_Aux              : int  19 19 19 19 19 19 19 19 19 19 ...\n",
      " $ LMU4_Aux              : int  19 19 19 19 19 19 19 19 19 19 ...\n",
      " $ LMU1_PCB1             : int  21 21 21 21 21 21 21 21 21 22 ...\n",
      " $ LMU2_PCB1             : int  22 22 21 21 21 21 21 21 21 21 ...\n",
      " $ LMU3_PCB1             : int  21 21 21 21 21 21 21 21 22 21 ...\n",
      " $ LMU4_PCB1             : int  21 21 21 22 21 21 21 21 21 21 ...\n",
      " $ LMU1_PCB2             : int  21 21 21 21 21 21 21 21 21 21 ...\n",
      " $ LMU2_PCB2             : int  21 21 21 21 21 21 21 21 21 21 ...\n",
      " $ LMU3_PCB2             : int  21 21 21 21 21 21 21 21 21 20 ...\n",
      " $ LMU4_PCB2             : int  21 21 21 21 21 21 21 21 21 21 ...\n"
     ]
    }
   ],
   "source": [
    "str(disc_df_3)"
   ]
  },
  {
   "cell_type": "code",
   "execution_count": 109,
   "id": "c73b2e83",
   "metadata": {},
   "outputs": [],
   "source": [
    "both_df <- rbind(disc_df_1, disc_df_2, disc_df_3)"
   ]
  },
  {
   "cell_type": "code",
   "execution_count": 110,
   "id": "d7e62416",
   "metadata": {},
   "outputs": [
    {
     "data": {
      "text/plain": [
       "   Timestamp                         Status      State_of_Charge\n",
       " Min.   :2021-03-20 15:15:07   Connected:16712   Min.   : 0.00  \n",
       " 1st Qu.:2021-03-20 16:24:43                     1st Qu.:54.00  \n",
       " Median :2021-03-20 17:34:14                     Median :58.00  \n",
       " Mean   :2021-03-21 06:26:53                     Mean   :54.88  \n",
       " 3rd Qu.:2021-03-20 18:43:28                     3rd Qu.:62.00  \n",
       " Max.   :2021-03-24 19:58:06                     Max.   :65.00  \n",
       "   Current            Voltage           Error_flags      Warning_flags  \n",
       " Length:16712       Length:16712       Min.   :      0   Min.   : 2048  \n",
       " Class :character   Class :character   1st Qu.:      0   1st Qu.: 2048  \n",
       " Mode  :character   Mode  :character   Median :      0   Median : 2048  \n",
       "                                       Mean   : 405075   Mean   : 5570  \n",
       "                                       3rd Qu.:      0   3rd Qu.: 2048  \n",
       "                                       Max.   :8388608   Max.   :67586  \n",
       " Highest_Cell_Voltage Highest_Temperature Highest_Cell_Voltage.1\n",
       " Min.   :3550         Min.   :19.00       Min.   :3550          \n",
       " 1st Qu.:3620         1st Qu.:19.00       1st Qu.:3620          \n",
       " Median :3643         Median :19.00       Median :3643          \n",
       " Mean   :3641         Mean   :19.16       Mean   :3641          \n",
       " 3rd Qu.:3670         3rd Qu.:19.00       3rd Qu.:3670          \n",
       " Max.   :3705         Max.   :21.00       Max.   :3705          \n",
       " Lowest_Cell_Voltage   IO_Status         Cell1          Cell2     \n",
       " Min.   :2483        Min.   :20.00   Min.   :3544   Min.   :3542  \n",
       " 1st Qu.:3169        1st Qu.:23.00   1st Qu.:3614   1st Qu.:3611  \n",
       " Median :3295        Median :23.00   Median :3637   Median :3634  \n",
       " Mean   :3232        Mean   :24.52   Mean   :3634   Mean   :3632  \n",
       " 3rd Qu.:3398        3rd Qu.:23.00   3rd Qu.:3663   3rd Qu.:3660  \n",
       " Max.   :3436        Max.   :62.00   Max.   :3697   Max.   :3695  \n",
       "     Cell3          Cell4          Cell5          Cell6      Cell7      \n",
       " Min.   :3541   Min.   :3543   Min.   :3540   Min.   :3543   ---:16712  \n",
       " 1st Qu.:3610   1st Qu.:3614   1st Qu.:3610   1st Qu.:3612              \n",
       " Median :3633   Median :3637   Median :3633   Median :3635              \n",
       " Mean   :3631   Mean   :3635   Mean   :3631   Mean   :3633              \n",
       " 3rd Qu.:3660   3rd Qu.:3664   3rd Qu.:3660   3rd Qu.:3661              \n",
       " Max.   :3694   Max.   :3698   Max.   :3693   Max.   :3696              \n",
       " Cell8           Cell9          Cell10         Cell11         Cell12    \n",
       " ---:16712   Min.   :3546   Min.   :3543   Min.   :3542   Min.   :3545  \n",
       "             1st Qu.:3616   1st Qu.:3613   1st Qu.:3612   1st Qu.:3614  \n",
       "             Median :3640   Median :3636   Median :3635   Median :3638  \n",
       "             Mean   :3637   Mean   :3634   Mean   :3633   Mean   :3635  \n",
       "             3rd Qu.:3666   3rd Qu.:3663   3rd Qu.:3662   3rd Qu.:3664  \n",
       "             Max.   :3700   Max.   :3697   Max.   :3696   Max.   :3698  \n",
       "     Cell13         Cell14         Cell15         Cell16         Cell17    \n",
       " Min.   :3544   Min.   :3542   Min.   :3544   Min.   :3550   Min.   :3543  \n",
       " 1st Qu.:3613   1st Qu.:3613   1st Qu.:3613   1st Qu.:3620   1st Qu.:3613  \n",
       " Median :3636   Median :3637   Median :3637   Median :3644   Median :3636  \n",
       " Mean   :3634   Mean   :3634   Mean   :3634   Mean   :3641   Mean   :3634  \n",
       " 3rd Qu.:3663   3rd Qu.:3663   3rd Qu.:3663   3rd Qu.:3670   3rd Qu.:3663  \n",
       " Max.   :3697   Max.   :3697   Max.   :3697   Max.   :3705   Max.   :3697  \n",
       "     Cell18         Cell19         Cell20         Cell21         Cell22    \n",
       " Min.   :3541   Min.   :3541   Min.   :3542   Min.   :3542   Min.   :2483  \n",
       " 1st Qu.:3611   1st Qu.:3611   1st Qu.:3612   1st Qu.:3612   1st Qu.:3169  \n",
       " Median :3634   Median :3633   Median :3635   Median :3636   Median :3295  \n",
       " Mean   :3631   Mean   :3631   Mean   :3633   Mean   :3633   Mean   :3232  \n",
       " 3rd Qu.:3660   3rd Qu.:3660   3rd Qu.:3662   3rd Qu.:3662   3rd Qu.:3398  \n",
       " Max.   :3694   Max.   :3694   Max.   :3695   Max.   :3696   Max.   :3435  \n",
       "     Cell23         Cell24         Cell25         Cell26         Cell27    \n",
       " Min.   :3544   Min.   :3547   Min.   :3544   Min.   :3541   Min.   :3541  \n",
       " 1st Qu.:3614   1st Qu.:3617   1st Qu.:3614   1st Qu.:3611   1st Qu.:3611  \n",
       " Median :3637   Median :3640   Median :3637   Median :3635   Median :3635  \n",
       " Mean   :3634   Mean   :3638   Mean   :3634   Mean   :3632   Mean   :3632  \n",
       " 3rd Qu.:3664   3rd Qu.:3667   3rd Qu.:3664   3rd Qu.:3661   3rd Qu.:3661  \n",
       " Max.   :3697   Max.   :3700   Max.   :3697   Max.   :3695   Max.   :3695  \n",
       "     Cell28         Cell29         Cell30         Cell31         Cell32    \n",
       " Min.   :3542   Min.   :3542   Min.   :3543   Min.   :3543   Min.   :3548  \n",
       " 1st Qu.:3612   1st Qu.:3611   1st Qu.:3612   1st Qu.:3612   1st Qu.:3618  \n",
       " Median :3636   Median :3634   Median :3635   Median :3636   Median :3640  \n",
       " Mean   :3633   Mean   :3631   Mean   :3633   Mean   :3634   Mean   :3638  \n",
       " 3rd Qu.:3662   3rd Qu.:3661   3rd Qu.:3662   3rd Qu.:3663   3rd Qu.:3666  \n",
       " Max.   :3696   Max.   :3694   Max.   :3696   Max.   :3697   Max.   :3701  \n",
       "    LMU1_Bat      LMU2_Bat     LMU3_Bat     LMU4_Bat     LMU1_Aux    \n",
       " Min.   :122   Min.   :19   Min.   :19   Min.   :19   Min.   :19.00  \n",
       " 1st Qu.:122   1st Qu.:19   1st Qu.:19   1st Qu.:19   1st Qu.:19.00  \n",
       " Median :122   Median :19   Median :19   Median :19   Median :19.00  \n",
       " Mean   :122   Mean   :19   Mean   :19   Mean   :19   Mean   :19.13  \n",
       " 3rd Qu.:122   3rd Qu.:19   3rd Qu.:19   3rd Qu.:19   3rd Qu.:19.00  \n",
       " Max.   :122   Max.   :19   Max.   :19   Max.   :19   Max.   :20.00  \n",
       "    LMU2_Aux        LMU3_Aux        LMU4_Aux      LMU1_PCB1       LMU2_PCB1   \n",
       " Min.   :19.00   Min.   :19.00   Min.   :19.0   Min.   :20.00   Min.   :20.0  \n",
       " 1st Qu.:19.00   1st Qu.:19.00   1st Qu.:19.0   1st Qu.:21.00   1st Qu.:21.0  \n",
       " Median :19.00   Median :19.00   Median :19.0   Median :21.00   Median :21.0  \n",
       " Mean   :19.13   Mean   :19.16   Mean   :19.1   Mean   :21.28   Mean   :21.1  \n",
       " 3rd Qu.:19.00   3rd Qu.:19.00   3rd Qu.:19.0   3rd Qu.:21.00   3rd Qu.:21.0  \n",
       " Max.   :21.00   Max.   :21.00   Max.   :20.0   Max.   :24.00   Max.   :23.0  \n",
       "   LMU3_PCB1       LMU4_PCB1       LMU1_PCB2       LMU2_PCB2    \n",
       " Min.   :20.00   Min.   :20.00   Min.   :20.00   Min.   :20.00  \n",
       " 1st Qu.:21.00   1st Qu.:21.00   1st Qu.:21.00   1st Qu.:21.00  \n",
       " Median :21.00   Median :21.00   Median :21.00   Median :21.00  \n",
       " Mean   :21.12   Mean   :21.23   Mean   :21.12   Mean   :20.92  \n",
       " 3rd Qu.:21.00   3rd Qu.:21.00   3rd Qu.:21.00   3rd Qu.:21.00  \n",
       " Max.   :23.00   Max.   :23.00   Max.   :23.00   Max.   :23.00  \n",
       "   LMU3_PCB2       LMU4_PCB2    \n",
       " Min.   :20.00   Min.   :20.00  \n",
       " 1st Qu.:20.00   1st Qu.:21.00  \n",
       " Median :21.00   Median :21.00  \n",
       " Mean   :20.61   Mean   :21.05  \n",
       " 3rd Qu.:21.00   3rd Qu.:21.00  \n",
       " Max.   :23.00   Max.   :23.00  "
      ]
     },
     "metadata": {},
     "output_type": "display_data"
    }
   ],
   "source": [
    "summary(both_df)"
   ]
  },
  {
   "cell_type": "code",
   "execution_count": 97,
   "id": "a4ed6970",
   "metadata": {
    "scrolled": true
   },
   "outputs": [
    {
     "data": {
      "text/plain": [
       "   Timestamp                         Status      State_of_Charge\n",
       " Min.   :2021-03-20 15:15:07   Connected:14462   Min.   :53.00  \n",
       " 1st Qu.:2021-03-20 16:15:21                     1st Qu.:56.00  \n",
       " Median :2021-03-20 17:15:33                     Median :59.00  \n",
       " Mean   :2021-03-20 17:15:25                     Mean   :58.91  \n",
       " 3rd Qu.:2021-03-20 18:15:31                     3rd Qu.:62.00  \n",
       " Max.   :2021-03-20 19:15:25                     Max.   :65.00  \n",
       "    Current          Voltage       Error_flags Warning_flags \n",
       " Min.   :-19.28   Min.   :104.8   Min.   :0    Min.   :2048  \n",
       " 1st Qu.:-18.13   1st Qu.:105.9   1st Qu.:0    1st Qu.:2048  \n",
       " Median :-18.03   Median :107.0   Median :0    Median :2048  \n",
       " Mean   :-18.07   Mean   :106.9   Mean   :0    Mean   :2048  \n",
       " 3rd Qu.:-17.93   3rd Qu.:107.0   3rd Qu.:0    3rd Qu.:2048  \n",
       " Max.   :-17.72   Max.   :109.3   Max.   :0    Max.   :2048  \n",
       " Highest_Cell_Voltage Highest_Temperature Highest_Cell_Voltage.1\n",
       " Min.   :3609         Min.   :19          Min.   :3609          \n",
       " 1st Qu.:3630         1st Qu.:19          1st Qu.:3630          \n",
       " Median :3650         Median :19          Median :3650          \n",
       " Mean   :3652         Mean   :19          Mean   :3652          \n",
       " 3rd Qu.:3674         3rd Qu.:19          3rd Qu.:3674          \n",
       " Max.   :3705         Max.   :19          Max.   :3705          \n",
       " Lowest_Cell_Voltage   IO_Status      Cell1          Cell2          Cell3     \n",
       " Min.   :3102        Min.   :23   Min.   :3602   Min.   :3600   Min.   :3599  \n",
       " 1st Qu.:3226        1st Qu.:23   1st Qu.:3624   1st Qu.:3620   1st Qu.:3619  \n",
       " Median :3319        Median :23   Median :3644   Median :3641   Median :3640  \n",
       " Mean   :3306        Mean   :23   Mean   :3646   Mean   :3643   Mean   :3642  \n",
       " 3rd Qu.:3404        3rd Qu.:23   3rd Qu.:3668   3rd Qu.:3664   3rd Qu.:3664  \n",
       " Max.   :3436        Max.   :23   Max.   :3697   Max.   :3695   Max.   :3694  \n",
       "     Cell4          Cell5          Cell6      Cell7       Cell8      \n",
       " Min.   :3602   Min.   :3598   Min.   :3601   ---:14462   ---:14462  \n",
       " 1st Qu.:3623   1st Qu.:3620   1st Qu.:3621                          \n",
       " Median :3644   Median :3640   Median :3642                          \n",
       " Mean   :3646   Mean   :3642   Mean   :3644                          \n",
       " 3rd Qu.:3668   3rd Qu.:3664   3rd Qu.:3666                          \n",
       " Max.   :3698   Max.   :3693   Max.   :3696                          \n",
       "     Cell9          Cell10         Cell11         Cell12         Cell13    \n",
       " Min.   :3605   Min.   :3601   Min.   :3600   Min.   :3603   Min.   :3602  \n",
       " 1st Qu.:3626   1st Qu.:3622   1st Qu.:3620   1st Qu.:3623   1st Qu.:3622  \n",
       " Median :3646   Median :3643   Median :3642   Median :3644   Median :3643  \n",
       " Mean   :3648   Mean   :3645   Mean   :3644   Mean   :3646   Mean   :3645  \n",
       " 3rd Qu.:3671   3rd Qu.:3667   3rd Qu.:3666   3rd Qu.:3667   3rd Qu.:3667  \n",
       " Max.   :3700   Max.   :3697   Max.   :3696   Max.   :3698   Max.   :3697  \n",
       "     Cell14         Cell15         Cell16         Cell17         Cell18    \n",
       " Min.   :3601   Min.   :3602   Min.   :3609   Min.   :3602   Min.   :3599  \n",
       " 1st Qu.:3621   1st Qu.:3623   1st Qu.:3630   1st Qu.:3622   1st Qu.:3620  \n",
       " Median :3643   Median :3643   Median :3650   Median :3644   Median :3640  \n",
       " Mean   :3645   Mean   :3645   Mean   :3652   Mean   :3645   Mean   :3643  \n",
       " 3rd Qu.:3667   3rd Qu.:3668   3rd Qu.:3674   3rd Qu.:3667   3rd Qu.:3664  \n",
       " Max.   :3697   Max.   :3697   Max.   :3705   Max.   :3697   Max.   :3694  \n",
       "     Cell19         Cell20         Cell21         Cell22         Cell23    \n",
       " Min.   :3599   Min.   :3600   Min.   :3601   Min.   :3102   Min.   :3602  \n",
       " 1st Qu.:3620   1st Qu.:3621   1st Qu.:3622   1st Qu.:3226   1st Qu.:3622  \n",
       " Median :3640   Median :3642   Median :3642   Median :3319   Median :3643  \n",
       " Mean   :3643   Mean   :3644   Mean   :3644   Mean   :3306   Mean   :3646  \n",
       " 3rd Qu.:3664   3rd Qu.:3666   3rd Qu.:3666   3rd Qu.:3404   3rd Qu.:3667  \n",
       " Max.   :3694   Max.   :3695   Max.   :3696   Max.   :3435   Max.   :3697  \n",
       "     Cell24         Cell25         Cell26         Cell27         Cell28    \n",
       " Min.   :3606   Min.   :3602   Min.   :3599   Min.   :3600   Min.   :3600  \n",
       " 1st Qu.:3627   1st Qu.:3623   1st Qu.:3620   1st Qu.:3620   1st Qu.:3621  \n",
       " Median :3647   Median :3644   Median :3641   Median :3642   Median :3642  \n",
       " Mean   :3649   Mean   :3646   Mean   :3643   Mean   :3643   Mean   :3644  \n",
       " 3rd Qu.:3671   3rd Qu.:3667   3rd Qu.:3664   3rd Qu.:3665   3rd Qu.:3665  \n",
       " Max.   :3700   Max.   :3697   Max.   :3695   Max.   :3695   Max.   :3696  \n",
       "     Cell29         Cell30         Cell31         Cell32        LMU1_Bat  \n",
       " Min.   :3599   Min.   :3601   Min.   :3601   Min.   :3606   Min.   :122  \n",
       " 1st Qu.:3620   1st Qu.:3621   1st Qu.:3622   1st Qu.:3626   1st Qu.:122  \n",
       " Median :3640   Median :3641   Median :3643   Median :3647   Median :122  \n",
       " Mean   :3643   Mean   :3644   Mean   :3645   Mean   :3649   Mean   :122  \n",
       " 3rd Qu.:3664   3rd Qu.:3666   3rd Qu.:3667   3rd Qu.:3671   3rd Qu.:122  \n",
       " Max.   :3694   Max.   :3696   Max.   :3697   Max.   :3701   Max.   :122  \n",
       "    LMU2_Bat     LMU3_Bat     LMU4_Bat     LMU1_Aux     LMU2_Aux     LMU3_Aux \n",
       " Min.   :19   Min.   :19   Min.   :19   Min.   :19   Min.   :19   Min.   :19  \n",
       " 1st Qu.:19   1st Qu.:19   1st Qu.:19   1st Qu.:19   1st Qu.:19   1st Qu.:19  \n",
       " Median :19   Median :19   Median :19   Median :19   Median :19   Median :19  \n",
       " Mean   :19   Mean   :19   Mean   :19   Mean   :19   Mean   :19   Mean   :19  \n",
       " 3rd Qu.:19   3rd Qu.:19   3rd Qu.:19   3rd Qu.:19   3rd Qu.:19   3rd Qu.:19  \n",
       " Max.   :19   Max.   :19   Max.   :19   Max.   :19   Max.   :19   Max.   :19  \n",
       "    LMU4_Aux    LMU1_PCB1       LMU2_PCB1       LMU3_PCB1    LMU4_PCB1    \n",
       " Min.   :19   Min.   :20.00   Min.   :20.00   Min.   :20   Min.   :20.00  \n",
       " 1st Qu.:19   1st Qu.:21.00   1st Qu.:21.00   1st Qu.:21   1st Qu.:21.00  \n",
       " Median :19   Median :21.00   Median :21.00   Median :21   Median :21.00  \n",
       " Mean   :19   Mean   :21.07   Mean   :20.99   Mean   :21   Mean   :21.07  \n",
       " 3rd Qu.:19   3rd Qu.:21.00   3rd Qu.:21.00   3rd Qu.:21   3rd Qu.:21.00  \n",
       " Max.   :19   Max.   :22.00   Max.   :22.00   Max.   :22   Max.   :22.00  \n",
       "   LMU1_PCB2    LMU2_PCB2       LMU3_PCB2       LMU4_PCB2    \n",
       " Min.   :20   Min.   :20.00   Min.   :20.00   Min.   :20.00  \n",
       " 1st Qu.:21   1st Qu.:21.00   1st Qu.:20.00   1st Qu.:21.00  \n",
       " Median :21   Median :21.00   Median :20.00   Median :21.00  \n",
       " Mean   :21   Mean   :20.81   Mean   :20.46   Mean   :20.96  \n",
       " 3rd Qu.:21   3rd Qu.:21.00   3rd Qu.:21.00   3rd Qu.:21.00  \n",
       " Max.   :22   Max.   :21.00   Max.   :21.00   Max.   :21.00  "
      ]
     },
     "metadata": {},
     "output_type": "display_data"
    }
   ],
   "source": [
    "summary(disc_df_3)"
   ]
  },
  {
   "cell_type": "code",
   "execution_count": 111,
   "id": "2732595b",
   "metadata": {
    "scrolled": true
   },
   "outputs": [
    {
     "data": {
      "text/html": [
       "<table>\n",
       "<thead><tr><th scope=col>Timestamp</th><th scope=col>Status</th><th scope=col>State_of_Charge</th><th scope=col>Current</th><th scope=col>Voltage</th><th scope=col>Error_flags</th><th scope=col>Warning_flags</th><th scope=col>Highest_Cell_Voltage</th><th scope=col>Highest_Temperature</th><th scope=col>Highest_Cell_Voltage.1</th><th scope=col>...</th><th scope=col>LMU3_Aux</th><th scope=col>LMU4_Aux</th><th scope=col>LMU1_PCB1</th><th scope=col>LMU2_PCB1</th><th scope=col>LMU3_PCB1</th><th scope=col>LMU4_PCB1</th><th scope=col>LMU1_PCB2</th><th scope=col>LMU2_PCB2</th><th scope=col>LMU3_PCB2</th><th scope=col>LMU4_PCB2</th></tr></thead>\n",
       "<tbody>\n",
       "\t<tr><td>2021-03-24 18:21:59</td><td>Connected          </td><td>50                 </td><td>-17.716            </td><td>104.8              </td><td>0                  </td><td>2048               </td><td>3588               </td><td>20                 </td><td>3588               </td><td>...                </td><td>20                 </td><td>19                 </td><td>22                 </td><td>21                 </td><td>22                 </td><td>22                 </td><td>21                 </td><td>21                 </td><td>21                 </td><td>21                 </td></tr>\n",
       "\t<tr><td>2021-03-24 18:22:00</td><td>Connected          </td><td>50                 </td><td>-17.716            </td><td>104.8              </td><td>0                  </td><td>2048               </td><td>3588               </td><td>20                 </td><td>3588               </td><td>...                </td><td>20                 </td><td>19                 </td><td>22                 </td><td>21                 </td><td>21                 </td><td>22                 </td><td>21                 </td><td>21                 </td><td>21                 </td><td>21                 </td></tr>\n",
       "\t<tr><td>2021-03-24 18:22:01</td><td>Connected          </td><td>50                 </td><td>-17.716            </td><td>104.8              </td><td>0                  </td><td>2048               </td><td>3588               </td><td>20                 </td><td>3588               </td><td>...                </td><td>20                 </td><td>19                 </td><td>22                 </td><td>21                 </td><td>21                 </td><td>22                 </td><td>21                 </td><td>21                 </td><td>21                 </td><td>21                 </td></tr>\n",
       "\t<tr><td>2021-03-24 18:22:02</td><td>Connected          </td><td>50                 </td><td>-17.716            </td><td>104.8              </td><td>0                  </td><td>2048               </td><td>3588               </td><td>20                 </td><td>3588               </td><td>...                </td><td>20                 </td><td>19                 </td><td>22                 </td><td>22                 </td><td>22                 </td><td>22                 </td><td>21                 </td><td>21                 </td><td>21                 </td><td>21                 </td></tr>\n",
       "\t<tr><td>2021-03-24 18:22:03</td><td>Connected          </td><td>50                 </td><td>-17.716            </td><td>104.8              </td><td>0                  </td><td>2048               </td><td>3588               </td><td>20                 </td><td>3588               </td><td>...                </td><td>20                 </td><td>19                 </td><td>22                 </td><td>21                 </td><td>22                 </td><td>22                 </td><td>21                 </td><td>21                 </td><td>21                 </td><td>21                 </td></tr>\n",
       "\t<tr><td>2021-03-24 18:22:04</td><td>Connected          </td><td>50                 </td><td>-17.716            </td><td>104.8              </td><td>0                  </td><td>2048               </td><td>3588               </td><td>20                 </td><td>3588               </td><td>...                </td><td>20                 </td><td>19                 </td><td>22                 </td><td>21                 </td><td>21                 </td><td>22                 </td><td>21                 </td><td>21                 </td><td>21                 </td><td>21                 </td></tr>\n",
       "</tbody>\n",
       "</table>\n"
      ],
      "text/latex": [
       "\\begin{tabular}{r|llllllllllllllllllllllllllllllllllllllllllllllllllllllllllll}\n",
       " Timestamp & Status & State\\_of\\_Charge & Current & Voltage & Error\\_flags & Warning\\_flags & Highest\\_Cell\\_Voltage & Highest\\_Temperature & Highest\\_Cell\\_Voltage.1 & ... & LMU3\\_Aux & LMU4\\_Aux & LMU1\\_PCB1 & LMU2\\_PCB1 & LMU3\\_PCB1 & LMU4\\_PCB1 & LMU1\\_PCB2 & LMU2\\_PCB2 & LMU3\\_PCB2 & LMU4\\_PCB2\\\\\n",
       "\\hline\n",
       "\t 2021-03-24 18:21:59 & Connected           & 50                  & -17.716             & 104.8               & 0                   & 2048                & 3588                & 20                  & 3588                & ...                 & 20                  & 19                  & 22                  & 21                  & 22                  & 22                  & 21                  & 21                  & 21                  & 21                 \\\\\n",
       "\t 2021-03-24 18:22:00 & Connected           & 50                  & -17.716             & 104.8               & 0                   & 2048                & 3588                & 20                  & 3588                & ...                 & 20                  & 19                  & 22                  & 21                  & 21                  & 22                  & 21                  & 21                  & 21                  & 21                 \\\\\n",
       "\t 2021-03-24 18:22:01 & Connected           & 50                  & -17.716             & 104.8               & 0                   & 2048                & 3588                & 20                  & 3588                & ...                 & 20                  & 19                  & 22                  & 21                  & 21                  & 22                  & 21                  & 21                  & 21                  & 21                 \\\\\n",
       "\t 2021-03-24 18:22:02 & Connected           & 50                  & -17.716             & 104.8               & 0                   & 2048                & 3588                & 20                  & 3588                & ...                 & 20                  & 19                  & 22                  & 22                  & 22                  & 22                  & 21                  & 21                  & 21                  & 21                 \\\\\n",
       "\t 2021-03-24 18:22:03 & Connected           & 50                  & -17.716             & 104.8               & 0                   & 2048                & 3588                & 20                  & 3588                & ...                 & 20                  & 19                  & 22                  & 21                  & 22                  & 22                  & 21                  & 21                  & 21                  & 21                 \\\\\n",
       "\t 2021-03-24 18:22:04 & Connected           & 50                  & -17.716             & 104.8               & 0                   & 2048                & 3588                & 20                  & 3588                & ...                 & 20                  & 19                  & 22                  & 21                  & 21                  & 22                  & 21                  & 21                  & 21                  & 21                 \\\\\n",
       "\\end{tabular}\n"
      ],
      "text/markdown": [
       "\n",
       "| Timestamp | Status | State_of_Charge | Current | Voltage | Error_flags | Warning_flags | Highest_Cell_Voltage | Highest_Temperature | Highest_Cell_Voltage.1 | ... | LMU3_Aux | LMU4_Aux | LMU1_PCB1 | LMU2_PCB1 | LMU3_PCB1 | LMU4_PCB1 | LMU1_PCB2 | LMU2_PCB2 | LMU3_PCB2 | LMU4_PCB2 |\n",
       "|---|---|---|---|---|---|---|---|---|---|---|---|---|---|---|---|---|---|---|---|---|\n",
       "| 2021-03-24 18:21:59 | Connected           | 50                  | -17.716             | 104.8               | 0                   | 2048                | 3588                | 20                  | 3588                | ...                 | 20                  | 19                  | 22                  | 21                  | 22                  | 22                  | 21                  | 21                  | 21                  | 21                  |\n",
       "| 2021-03-24 18:22:00 | Connected           | 50                  | -17.716             | 104.8               | 0                   | 2048                | 3588                | 20                  | 3588                | ...                 | 20                  | 19                  | 22                  | 21                  | 21                  | 22                  | 21                  | 21                  | 21                  | 21                  |\n",
       "| 2021-03-24 18:22:01 | Connected           | 50                  | -17.716             | 104.8               | 0                   | 2048                | 3588                | 20                  | 3588                | ...                 | 20                  | 19                  | 22                  | 21                  | 21                  | 22                  | 21                  | 21                  | 21                  | 21                  |\n",
       "| 2021-03-24 18:22:02 | Connected           | 50                  | -17.716             | 104.8               | 0                   | 2048                | 3588                | 20                  | 3588                | ...                 | 20                  | 19                  | 22                  | 22                  | 22                  | 22                  | 21                  | 21                  | 21                  | 21                  |\n",
       "| 2021-03-24 18:22:03 | Connected           | 50                  | -17.716             | 104.8               | 0                   | 2048                | 3588                | 20                  | 3588                | ...                 | 20                  | 19                  | 22                  | 21                  | 22                  | 22                  | 21                  | 21                  | 21                  | 21                  |\n",
       "| 2021-03-24 18:22:04 | Connected           | 50                  | -17.716             | 104.8               | 0                   | 2048                | 3588                | 20                  | 3588                | ...                 | 20                  | 19                  | 22                  | 21                  | 21                  | 22                  | 21                  | 21                  | 21                  | 21                  |\n",
       "\n"
      ],
      "text/plain": [
       "  Timestamp           Status    State_of_Charge Current Voltage Error_flags\n",
       "1 2021-03-24 18:21:59 Connected 50              -17.716 104.8   0          \n",
       "2 2021-03-24 18:22:00 Connected 50              -17.716 104.8   0          \n",
       "3 2021-03-24 18:22:01 Connected 50              -17.716 104.8   0          \n",
       "4 2021-03-24 18:22:02 Connected 50              -17.716 104.8   0          \n",
       "5 2021-03-24 18:22:03 Connected 50              -17.716 104.8   0          \n",
       "6 2021-03-24 18:22:04 Connected 50              -17.716 104.8   0          \n",
       "  Warning_flags Highest_Cell_Voltage Highest_Temperature Highest_Cell_Voltage.1\n",
       "1 2048          3588                 20                  3588                  \n",
       "2 2048          3588                 20                  3588                  \n",
       "3 2048          3588                 20                  3588                  \n",
       "4 2048          3588                 20                  3588                  \n",
       "5 2048          3588                 20                  3588                  \n",
       "6 2048          3588                 20                  3588                  \n",
       "  ... LMU3_Aux LMU4_Aux LMU1_PCB1 LMU2_PCB1 LMU3_PCB1 LMU4_PCB1 LMU1_PCB2\n",
       "1 ... 20       19       22        21        22        22        21       \n",
       "2 ... 20       19       22        21        21        22        21       \n",
       "3 ... 20       19       22        21        21        22        21       \n",
       "4 ... 20       19       22        22        22        22        21       \n",
       "5 ... 20       19       22        21        22        22        21       \n",
       "6 ... 20       19       22        21        21        22        21       \n",
       "  LMU2_PCB2 LMU3_PCB2 LMU4_PCB2\n",
       "1 21        21        21       \n",
       "2 21        21        21       \n",
       "3 21        21        21       \n",
       "4 21        21        21       \n",
       "5 21        21        21       \n",
       "6 21        21        21       "
      ]
     },
     "metadata": {},
     "output_type": "display_data"
    },
    {
     "data": {
      "text/html": [
       "<table>\n",
       "<thead><tr><th></th><th scope=col>Timestamp</th><th scope=col>Status</th><th scope=col>State_of_Charge</th><th scope=col>Current</th><th scope=col>Voltage</th><th scope=col>Error_flags</th><th scope=col>Warning_flags</th><th scope=col>Highest_Cell_Voltage</th><th scope=col>Highest_Temperature</th><th scope=col>Highest_Cell_Voltage.1</th><th scope=col>...</th><th scope=col>LMU3_Aux</th><th scope=col>LMU4_Aux</th><th scope=col>LMU1_PCB1</th><th scope=col>LMU2_PCB1</th><th scope=col>LMU3_PCB1</th><th scope=col>LMU4_PCB1</th><th scope=col>LMU1_PCB2</th><th scope=col>LMU2_PCB2</th><th scope=col>LMU3_PCB2</th><th scope=col>LMU4_PCB2</th></tr></thead>\n",
       "<tbody>\n",
       "\t<tr><th scope=row>16707</th><td>2021-03-20 19:15:20</td><td>Connected          </td><td>53                 </td><td>-17.82             </td><td>105.9              </td><td>0                  </td><td>2048               </td><td>3610               </td><td>19                 </td><td>3610               </td><td>...                </td><td>19                 </td><td>19                 </td><td>21                 </td><td>21                 </td><td>21                 </td><td>21                 </td><td>21                 </td><td>20                 </td><td>20                 </td><td>21                 </td></tr>\n",
       "\t<tr><th scope=row>16708</th><td>2021-03-20 19:15:21</td><td>Connected          </td><td>53                 </td><td>-17.82             </td><td>105.9              </td><td>0                  </td><td>2048               </td><td>3609               </td><td>19                 </td><td>3609               </td><td>...                </td><td>19                 </td><td>19                 </td><td>21                 </td><td>21                 </td><td>21                 </td><td>21                 </td><td>21                 </td><td>20                 </td><td>20                 </td><td>21                 </td></tr>\n",
       "\t<tr><th scope=row>16709</th><td>2021-03-20 19:15:22</td><td>Connected          </td><td>53                 </td><td>-17.82             </td><td>105.9              </td><td>0                  </td><td>2048               </td><td>3610               </td><td>19                 </td><td>3610               </td><td>...                </td><td>19                 </td><td>19                 </td><td>21                 </td><td>21                 </td><td>21                 </td><td>21                 </td><td>21                 </td><td>20                 </td><td>20                 </td><td>21                 </td></tr>\n",
       "\t<tr><th scope=row>16710</th><td>2021-03-20 19:15:23</td><td>Connected          </td><td>53                 </td><td>-17.82             </td><td>105.9              </td><td>0                  </td><td>2048               </td><td>3610               </td><td>19                 </td><td>3610               </td><td>...                </td><td>19                 </td><td>19                 </td><td>21                 </td><td>21                 </td><td>21                 </td><td>21                 </td><td>21                 </td><td>20                 </td><td>20                 </td><td>21                 </td></tr>\n",
       "\t<tr><th scope=row>16711</th><td>2021-03-20 19:15:24</td><td>Connected          </td><td>53                 </td><td>-17.82             </td><td>105.9              </td><td>0                  </td><td>2048               </td><td>3610               </td><td>19                 </td><td>3610               </td><td>...                </td><td>19                 </td><td>19                 </td><td>21                 </td><td>21                 </td><td>21                 </td><td>21                 </td><td>21                 </td><td>20                 </td><td>20                 </td><td>21                 </td></tr>\n",
       "\t<tr><th scope=row>16712</th><td>2021-03-20 19:15:25</td><td>Connected          </td><td>53                 </td><td>-17.82             </td><td>105.9              </td><td>0                  </td><td>2048               </td><td>3610               </td><td>19                 </td><td>3610               </td><td>...                </td><td>19                 </td><td>19                 </td><td>21                 </td><td>21                 </td><td>20                 </td><td>21                 </td><td>21                 </td><td>20                 </td><td>20                 </td><td>21                 </td></tr>\n",
       "</tbody>\n",
       "</table>\n"
      ],
      "text/latex": [
       "\\begin{tabular}{r|llllllllllllllllllllllllllllllllllllllllllllllllllllllllllll}\n",
       "  & Timestamp & Status & State\\_of\\_Charge & Current & Voltage & Error\\_flags & Warning\\_flags & Highest\\_Cell\\_Voltage & Highest\\_Temperature & Highest\\_Cell\\_Voltage.1 & ... & LMU3\\_Aux & LMU4\\_Aux & LMU1\\_PCB1 & LMU2\\_PCB1 & LMU3\\_PCB1 & LMU4\\_PCB1 & LMU1\\_PCB2 & LMU2\\_PCB2 & LMU3\\_PCB2 & LMU4\\_PCB2\\\\\n",
       "\\hline\n",
       "\t16707 & 2021-03-20 19:15:20 & Connected           & 53                  & -17.82              & 105.9               & 0                   & 2048                & 3610                & 19                  & 3610                & ...                 & 19                  & 19                  & 21                  & 21                  & 21                  & 21                  & 21                  & 20                  & 20                  & 21                 \\\\\n",
       "\t16708 & 2021-03-20 19:15:21 & Connected           & 53                  & -17.82              & 105.9               & 0                   & 2048                & 3609                & 19                  & 3609                & ...                 & 19                  & 19                  & 21                  & 21                  & 21                  & 21                  & 21                  & 20                  & 20                  & 21                 \\\\\n",
       "\t16709 & 2021-03-20 19:15:22 & Connected           & 53                  & -17.82              & 105.9               & 0                   & 2048                & 3610                & 19                  & 3610                & ...                 & 19                  & 19                  & 21                  & 21                  & 21                  & 21                  & 21                  & 20                  & 20                  & 21                 \\\\\n",
       "\t16710 & 2021-03-20 19:15:23 & Connected           & 53                  & -17.82              & 105.9               & 0                   & 2048                & 3610                & 19                  & 3610                & ...                 & 19                  & 19                  & 21                  & 21                  & 21                  & 21                  & 21                  & 20                  & 20                  & 21                 \\\\\n",
       "\t16711 & 2021-03-20 19:15:24 & Connected           & 53                  & -17.82              & 105.9               & 0                   & 2048                & 3610                & 19                  & 3610                & ...                 & 19                  & 19                  & 21                  & 21                  & 21                  & 21                  & 21                  & 20                  & 20                  & 21                 \\\\\n",
       "\t16712 & 2021-03-20 19:15:25 & Connected           & 53                  & -17.82              & 105.9               & 0                   & 2048                & 3610                & 19                  & 3610                & ...                 & 19                  & 19                  & 21                  & 21                  & 20                  & 21                  & 21                  & 20                  & 20                  & 21                 \\\\\n",
       "\\end{tabular}\n"
      ],
      "text/markdown": [
       "\n",
       "| <!--/--> | Timestamp | Status | State_of_Charge | Current | Voltage | Error_flags | Warning_flags | Highest_Cell_Voltage | Highest_Temperature | Highest_Cell_Voltage.1 | ... | LMU3_Aux | LMU4_Aux | LMU1_PCB1 | LMU2_PCB1 | LMU3_PCB1 | LMU4_PCB1 | LMU1_PCB2 | LMU2_PCB2 | LMU3_PCB2 | LMU4_PCB2 |\n",
       "|---|---|---|---|---|---|---|---|---|---|---|---|---|---|---|---|---|---|---|---|---|---|\n",
       "| 16707 | 2021-03-20 19:15:20 | Connected           | 53                  | -17.82              | 105.9               | 0                   | 2048                | 3610                | 19                  | 3610                | ...                 | 19                  | 19                  | 21                  | 21                  | 21                  | 21                  | 21                  | 20                  | 20                  | 21                  |\n",
       "| 16708 | 2021-03-20 19:15:21 | Connected           | 53                  | -17.82              | 105.9               | 0                   | 2048                | 3609                | 19                  | 3609                | ...                 | 19                  | 19                  | 21                  | 21                  | 21                  | 21                  | 21                  | 20                  | 20                  | 21                  |\n",
       "| 16709 | 2021-03-20 19:15:22 | Connected           | 53                  | -17.82              | 105.9               | 0                   | 2048                | 3610                | 19                  | 3610                | ...                 | 19                  | 19                  | 21                  | 21                  | 21                  | 21                  | 21                  | 20                  | 20                  | 21                  |\n",
       "| 16710 | 2021-03-20 19:15:23 | Connected           | 53                  | -17.82              | 105.9               | 0                   | 2048                | 3610                | 19                  | 3610                | ...                 | 19                  | 19                  | 21                  | 21                  | 21                  | 21                  | 21                  | 20                  | 20                  | 21                  |\n",
       "| 16711 | 2021-03-20 19:15:24 | Connected           | 53                  | -17.82              | 105.9               | 0                   | 2048                | 3610                | 19                  | 3610                | ...                 | 19                  | 19                  | 21                  | 21                  | 21                  | 21                  | 21                  | 20                  | 20                  | 21                  |\n",
       "| 16712 | 2021-03-20 19:15:25 | Connected           | 53                  | -17.82              | 105.9               | 0                   | 2048                | 3610                | 19                  | 3610                | ...                 | 19                  | 19                  | 21                  | 21                  | 20                  | 21                  | 21                  | 20                  | 20                  | 21                  |\n",
       "\n"
      ],
      "text/plain": [
       "      Timestamp           Status    State_of_Charge Current Voltage Error_flags\n",
       "16707 2021-03-20 19:15:20 Connected 53              -17.82  105.9   0          \n",
       "16708 2021-03-20 19:15:21 Connected 53              -17.82  105.9   0          \n",
       "16709 2021-03-20 19:15:22 Connected 53              -17.82  105.9   0          \n",
       "16710 2021-03-20 19:15:23 Connected 53              -17.82  105.9   0          \n",
       "16711 2021-03-20 19:15:24 Connected 53              -17.82  105.9   0          \n",
       "16712 2021-03-20 19:15:25 Connected 53              -17.82  105.9   0          \n",
       "      Warning_flags Highest_Cell_Voltage Highest_Temperature\n",
       "16707 2048          3610                 19                 \n",
       "16708 2048          3609                 19                 \n",
       "16709 2048          3610                 19                 \n",
       "16710 2048          3610                 19                 \n",
       "16711 2048          3610                 19                 \n",
       "16712 2048          3610                 19                 \n",
       "      Highest_Cell_Voltage.1 ... LMU3_Aux LMU4_Aux LMU1_PCB1 LMU2_PCB1\n",
       "16707 3610                   ... 19       19       21        21       \n",
       "16708 3609                   ... 19       19       21        21       \n",
       "16709 3610                   ... 19       19       21        21       \n",
       "16710 3610                   ... 19       19       21        21       \n",
       "16711 3610                   ... 19       19       21        21       \n",
       "16712 3610                   ... 19       19       21        21       \n",
       "      LMU3_PCB1 LMU4_PCB1 LMU1_PCB2 LMU2_PCB2 LMU3_PCB2 LMU4_PCB2\n",
       "16707 21        21        21        20        20        21       \n",
       "16708 21        21        21        20        20        21       \n",
       "16709 21        21        21        20        20        21       \n",
       "16710 21        21        21        20        20        21       \n",
       "16711 21        21        21        20        20        21       \n",
       "16712 20        21        21        20        20        21       "
      ]
     },
     "metadata": {},
     "output_type": "display_data"
    }
   ],
   "source": [
    "head(both_df)\n",
    "tail(both_df)"
   ]
  },
  {
   "cell_type": "code",
   "execution_count": null,
   "id": "0cbb1d51",
   "metadata": {},
   "outputs": [],
   "source": []
  },
  {
   "cell_type": "code",
   "execution_count": 112,
   "id": "cce4ec83",
   "metadata": {},
   "outputs": [],
   "source": [
    "both_df$Timestamp <- strptime(\n",
    "    x=as.character(both_df$Timestamp),\n",
    "    format = \"%Y-%m-%d %H:%M:%S\")\n",
    "\n",
    "both_df$Timestamp <- as.POSIXct(x=both_df$Timestamp)\n",
    "\n",
    "both_df <- both_df[order(both_df$Timestamp),]"
   ]
  },
  {
   "cell_type": "code",
   "execution_count": null,
   "id": "aabd6f6b",
   "metadata": {},
   "outputs": [],
   "source": []
  },
  {
   "cell_type": "code",
   "execution_count": 116,
   "id": "eb288b20",
   "metadata": {},
   "outputs": [
    {
     "data": {
      "image/png": "[encoded data removed]",
      "text/plain": [
       "plot without title"
      ]
     },
     "metadata": {},
     "output_type": "display_data"
    }
   ],
   "source": [
    "qplot(x = 1:nrow(both_df), y=Cell3, data = both_df )"
   ]
  },
  {
   "cell_type": "code",
   "execution_count": 118,
   "id": "3d3e7ebb",
   "metadata": {},
   "outputs": [
    {
     "data": {
      "image/png": "[encoded data removed]",
      "text/plain": [
       "plot without title"
      ]
     },
     "metadata": {},
     "output_type": "display_data"
    }
   ],
   "source": [
    "#Problem when timestamp - discharging time?\n",
    "qplot(x = Timestamp, y=Cell3, data = both_df )"
   ]
  },
  {
   "cell_type": "code",
   "execution_count": 59,
   "id": "090f08be",
   "metadata": {},
   "outputs": [
    {
     "data": {
      "text/html": [
       "<table>\n",
       "<thead><tr><th scope=col>Timestamp</th><th scope=col>Status</th><th scope=col>State_of_Charge</th><th scope=col>Current</th><th scope=col>Voltage</th><th scope=col>Error_flags</th><th scope=col>Warning_flags</th><th scope=col>Highest_Cell_Voltage</th><th scope=col>Highest_Temperature</th><th scope=col>Highest_Cell_Voltage.1</th><th scope=col>...</th><th scope=col>LMU3_Aux</th><th scope=col>LMU4_Aux</th><th scope=col>LMU1_PCB1</th><th scope=col>LMU2_PCB1</th><th scope=col>LMU3_PCB1</th><th scope=col>LMU4_PCB1</th><th scope=col>LMU1_PCB2</th><th scope=col>LMU2_PCB2</th><th scope=col>LMU3_PCB2</th><th scope=col>LMU4_PCB2</th></tr></thead>\n",
       "<tbody>\n",
       "\t<tr><td>2021-03-24 18:21:59</td><td>Connected          </td><td>50                 </td><td>-17,716            </td><td>104,8              </td><td>0                  </td><td>2048               </td><td>3588               </td><td>20                 </td><td>3588               </td><td>...                </td><td>20                 </td><td>19                 </td><td>22                 </td><td>21                 </td><td>22                 </td><td>22                 </td><td>21                 </td><td>21                 </td><td>21                 </td><td>21                 </td></tr>\n",
       "\t<tr><td>2021-03-24 18:22:00</td><td>Connected          </td><td>50                 </td><td>-17,716            </td><td>104,8              </td><td>0                  </td><td>2048               </td><td>3588               </td><td>20                 </td><td>3588               </td><td>...                </td><td>20                 </td><td>19                 </td><td>22                 </td><td>21                 </td><td>21                 </td><td>22                 </td><td>21                 </td><td>21                 </td><td>21                 </td><td>21                 </td></tr>\n",
       "\t<tr><td>2021-03-24 18:22:01</td><td>Connected          </td><td>50                 </td><td>-17,716            </td><td>104,8              </td><td>0                  </td><td>2048               </td><td>3588               </td><td>20                 </td><td>3588               </td><td>...                </td><td>20                 </td><td>19                 </td><td>22                 </td><td>21                 </td><td>21                 </td><td>22                 </td><td>21                 </td><td>21                 </td><td>21                 </td><td>21                 </td></tr>\n",
       "\t<tr><td>2021-03-24 18:22:02</td><td>Connected          </td><td>50                 </td><td>-17,716            </td><td>104,8              </td><td>0                  </td><td>2048               </td><td>3588               </td><td>20                 </td><td>3588               </td><td>...                </td><td>20                 </td><td>19                 </td><td>22                 </td><td>22                 </td><td>22                 </td><td>22                 </td><td>21                 </td><td>21                 </td><td>21                 </td><td>21                 </td></tr>\n",
       "\t<tr><td>2021-03-24 18:22:03</td><td>Connected          </td><td>50                 </td><td>-17,716            </td><td>104,8              </td><td>0                  </td><td>2048               </td><td>3588               </td><td>20                 </td><td>3588               </td><td>...                </td><td>20                 </td><td>19                 </td><td>22                 </td><td>21                 </td><td>22                 </td><td>22                 </td><td>21                 </td><td>21                 </td><td>21                 </td><td>21                 </td></tr>\n",
       "\t<tr><td>2021-03-24 18:22:04</td><td>Connected          </td><td>50                 </td><td>-17,716            </td><td>104,8              </td><td>0                  </td><td>2048               </td><td>3588               </td><td>20                 </td><td>3588               </td><td>...                </td><td>20                 </td><td>19                 </td><td>22                 </td><td>21                 </td><td>21                 </td><td>22                 </td><td>21                 </td><td>21                 </td><td>21                 </td><td>21                 </td></tr>\n",
       "</tbody>\n",
       "</table>\n"
      ],
      "text/latex": [
       "\\begin{tabular}{r|llllllllllllllllllllllllllllllllllllllllllllllllllllllllllll}\n",
       " Timestamp & Status & State\\_of\\_Charge & Current & Voltage & Error\\_flags & Warning\\_flags & Highest\\_Cell\\_Voltage & Highest\\_Temperature & Highest\\_Cell\\_Voltage.1 & ... & LMU3\\_Aux & LMU4\\_Aux & LMU1\\_PCB1 & LMU2\\_PCB1 & LMU3\\_PCB1 & LMU4\\_PCB1 & LMU1\\_PCB2 & LMU2\\_PCB2 & LMU3\\_PCB2 & LMU4\\_PCB2\\\\\n",
       "\\hline\n",
       "\t 2021-03-24 18:21:59 & Connected           & 50                  & -17,716             & 104,8               & 0                   & 2048                & 3588                & 20                  & 3588                & ...                 & 20                  & 19                  & 22                  & 21                  & 22                  & 22                  & 21                  & 21                  & 21                  & 21                 \\\\\n",
       "\t 2021-03-24 18:22:00 & Connected           & 50                  & -17,716             & 104,8               & 0                   & 2048                & 3588                & 20                  & 3588                & ...                 & 20                  & 19                  & 22                  & 21                  & 21                  & 22                  & 21                  & 21                  & 21                  & 21                 \\\\\n",
       "\t 2021-03-24 18:22:01 & Connected           & 50                  & -17,716             & 104,8               & 0                   & 2048                & 3588                & 20                  & 3588                & ...                 & 20                  & 19                  & 22                  & 21                  & 21                  & 22                  & 21                  & 21                  & 21                  & 21                 \\\\\n",
       "\t 2021-03-24 18:22:02 & Connected           & 50                  & -17,716             & 104,8               & 0                   & 2048                & 3588                & 20                  & 3588                & ...                 & 20                  & 19                  & 22                  & 22                  & 22                  & 22                  & 21                  & 21                  & 21                  & 21                 \\\\\n",
       "\t 2021-03-24 18:22:03 & Connected           & 50                  & -17,716             & 104,8               & 0                   & 2048                & 3588                & 20                  & 3588                & ...                 & 20                  & 19                  & 22                  & 21                  & 22                  & 22                  & 21                  & 21                  & 21                  & 21                 \\\\\n",
       "\t 2021-03-24 18:22:04 & Connected           & 50                  & -17,716             & 104,8               & 0                   & 2048                & 3588                & 20                  & 3588                & ...                 & 20                  & 19                  & 22                  & 21                  & 21                  & 22                  & 21                  & 21                  & 21                  & 21                 \\\\\n",
       "\\end{tabular}\n"
      ],
      "text/markdown": [
       "\n",
       "| Timestamp | Status | State_of_Charge | Current | Voltage | Error_flags | Warning_flags | Highest_Cell_Voltage | Highest_Temperature | Highest_Cell_Voltage.1 | ... | LMU3_Aux | LMU4_Aux | LMU1_PCB1 | LMU2_PCB1 | LMU3_PCB1 | LMU4_PCB1 | LMU1_PCB2 | LMU2_PCB2 | LMU3_PCB2 | LMU4_PCB2 |\n",
       "|---|---|---|---|---|---|---|---|---|---|---|---|---|---|---|---|---|---|---|---|---|\n",
       "| 2021-03-24 18:21:59 | Connected           | 50                  | -17,716             | 104,8               | 0                   | 2048                | 3588                | 20                  | 3588                | ...                 | 20                  | 19                  | 22                  | 21                  | 22                  | 22                  | 21                  | 21                  | 21                  | 21                  |\n",
       "| 2021-03-24 18:22:00 | Connected           | 50                  | -17,716             | 104,8               | 0                   | 2048                | 3588                | 20                  | 3588                | ...                 | 20                  | 19                  | 22                  | 21                  | 21                  | 22                  | 21                  | 21                  | 21                  | 21                  |\n",
       "| 2021-03-24 18:22:01 | Connected           | 50                  | -17,716             | 104,8               | 0                   | 2048                | 3588                | 20                  | 3588                | ...                 | 20                  | 19                  | 22                  | 21                  | 21                  | 22                  | 21                  | 21                  | 21                  | 21                  |\n",
       "| 2021-03-24 18:22:02 | Connected           | 50                  | -17,716             | 104,8               | 0                   | 2048                | 3588                | 20                  | 3588                | ...                 | 20                  | 19                  | 22                  | 22                  | 22                  | 22                  | 21                  | 21                  | 21                  | 21                  |\n",
       "| 2021-03-24 18:22:03 | Connected           | 50                  | -17,716             | 104,8               | 0                   | 2048                | 3588                | 20                  | 3588                | ...                 | 20                  | 19                  | 22                  | 21                  | 22                  | 22                  | 21                  | 21                  | 21                  | 21                  |\n",
       "| 2021-03-24 18:22:04 | Connected           | 50                  | -17,716             | 104,8               | 0                   | 2048                | 3588                | 20                  | 3588                | ...                 | 20                  | 19                  | 22                  | 21                  | 21                  | 22                  | 21                  | 21                  | 21                  | 21                  |\n",
       "\n"
      ],
      "text/plain": [
       "  Timestamp           Status    State_of_Charge Current Voltage Error_flags\n",
       "1 2021-03-24 18:21:59 Connected 50              -17,716 104,8   0          \n",
       "2 2021-03-24 18:22:00 Connected 50              -17,716 104,8   0          \n",
       "3 2021-03-24 18:22:01 Connected 50              -17,716 104,8   0          \n",
       "4 2021-03-24 18:22:02 Connected 50              -17,716 104,8   0          \n",
       "5 2021-03-24 18:22:03 Connected 50              -17,716 104,8   0          \n",
       "6 2021-03-24 18:22:04 Connected 50              -17,716 104,8   0          \n",
       "  Warning_flags Highest_Cell_Voltage Highest_Temperature Highest_Cell_Voltage.1\n",
       "1 2048          3588                 20                  3588                  \n",
       "2 2048          3588                 20                  3588                  \n",
       "3 2048          3588                 20                  3588                  \n",
       "4 2048          3588                 20                  3588                  \n",
       "5 2048          3588                 20                  3588                  \n",
       "6 2048          3588                 20                  3588                  \n",
       "  ... LMU3_Aux LMU4_Aux LMU1_PCB1 LMU2_PCB1 LMU3_PCB1 LMU4_PCB1 LMU1_PCB2\n",
       "1 ... 20       19       22        21        22        22        21       \n",
       "2 ... 20       19       22        21        21        22        21       \n",
       "3 ... 20       19       22        21        21        22        21       \n",
       "4 ... 20       19       22        22        22        22        21       \n",
       "5 ... 20       19       22        21        22        22        21       \n",
       "6 ... 20       19       22        21        21        22        21       \n",
       "  LMU2_PCB2 LMU3_PCB2 LMU4_PCB2\n",
       "1 21        21        21       \n",
       "2 21        21        21       \n",
       "3 21        21        21       \n",
       "4 21        21        21       \n",
       "5 21        21        21       \n",
       "6 21        21        21       "
      ]
     },
     "metadata": {},
     "output_type": "display_data"
    }
   ],
   "source": [
    "head(both_df)"
   ]
  },
  {
   "cell_type": "code",
   "execution_count": 53,
   "id": "9a4cd279",
   "metadata": {},
   "outputs": [],
   "source": []
  },
  {
   "cell_type": "code",
   "execution_count": 54,
   "id": "815dbd57",
   "metadata": {},
   "outputs": [
    {
     "data": {
      "text/html": [
       "<table>\n",
       "<thead><tr><th scope=col>Timestamp</th><th scope=col>Status</th><th scope=col>State_of_Charge</th><th scope=col>Current</th><th scope=col>Voltage</th><th scope=col>Error_flags</th><th scope=col>Warning_flags</th><th scope=col>Highest_Cell_Voltage</th><th scope=col>Highest_Temperature</th><th scope=col>Highest_Cell_Voltage.1</th><th scope=col>...</th><th scope=col>LMU3_Aux</th><th scope=col>LMU4_Aux</th><th scope=col>LMU1_PCB1</th><th scope=col>LMU2_PCB1</th><th scope=col>LMU3_PCB1</th><th scope=col>LMU4_PCB1</th><th scope=col>LMU1_PCB2</th><th scope=col>LMU2_PCB2</th><th scope=col>LMU3_PCB2</th><th scope=col>LMU4_PCB2</th></tr></thead>\n",
       "<tbody>\n",
       "\t<tr><td>2021-03-24 18:21:59</td><td>Connected          </td><td>50                 </td><td>-17,716            </td><td>104,8              </td><td>0                  </td><td>2048               </td><td>3588               </td><td>20                 </td><td>3588               </td><td>...                </td><td>20                 </td><td>19                 </td><td>22                 </td><td>21                 </td><td>22                 </td><td>22                 </td><td>21                 </td><td>21                 </td><td>21                 </td><td>21                 </td></tr>\n",
       "\t<tr><td>2021-03-24 18:22:00</td><td>Connected          </td><td>50                 </td><td>-17,716            </td><td>104,8              </td><td>0                  </td><td>2048               </td><td>3588               </td><td>20                 </td><td>3588               </td><td>...                </td><td>20                 </td><td>19                 </td><td>22                 </td><td>21                 </td><td>21                 </td><td>22                 </td><td>21                 </td><td>21                 </td><td>21                 </td><td>21                 </td></tr>\n",
       "\t<tr><td>2021-03-24 18:22:01</td><td>Connected          </td><td>50                 </td><td>-17,716            </td><td>104,8              </td><td>0                  </td><td>2048               </td><td>3588               </td><td>20                 </td><td>3588               </td><td>...                </td><td>20                 </td><td>19                 </td><td>22                 </td><td>21                 </td><td>21                 </td><td>22                 </td><td>21                 </td><td>21                 </td><td>21                 </td><td>21                 </td></tr>\n",
       "\t<tr><td>2021-03-24 18:22:02</td><td>Connected          </td><td>50                 </td><td>-17,716            </td><td>104,8              </td><td>0                  </td><td>2048               </td><td>3588               </td><td>20                 </td><td>3588               </td><td>...                </td><td>20                 </td><td>19                 </td><td>22                 </td><td>22                 </td><td>22                 </td><td>22                 </td><td>21                 </td><td>21                 </td><td>21                 </td><td>21                 </td></tr>\n",
       "\t<tr><td>2021-03-24 18:22:03</td><td>Connected          </td><td>50                 </td><td>-17,716            </td><td>104,8              </td><td>0                  </td><td>2048               </td><td>3588               </td><td>20                 </td><td>3588               </td><td>...                </td><td>20                 </td><td>19                 </td><td>22                 </td><td>21                 </td><td>22                 </td><td>22                 </td><td>21                 </td><td>21                 </td><td>21                 </td><td>21                 </td></tr>\n",
       "\t<tr><td>2021-03-24 18:22:04</td><td>Connected          </td><td>50                 </td><td>-17,716            </td><td>104,8              </td><td>0                  </td><td>2048               </td><td>3588               </td><td>20                 </td><td>3588               </td><td>...                </td><td>20                 </td><td>19                 </td><td>22                 </td><td>21                 </td><td>21                 </td><td>22                 </td><td>21                 </td><td>21                 </td><td>21                 </td><td>21                 </td></tr>\n",
       "</tbody>\n",
       "</table>\n"
      ],
      "text/latex": [
       "\\begin{tabular}{r|llllllllllllllllllllllllllllllllllllllllllllllllllllllllllll}\n",
       " Timestamp & Status & State\\_of\\_Charge & Current & Voltage & Error\\_flags & Warning\\_flags & Highest\\_Cell\\_Voltage & Highest\\_Temperature & Highest\\_Cell\\_Voltage.1 & ... & LMU3\\_Aux & LMU4\\_Aux & LMU1\\_PCB1 & LMU2\\_PCB1 & LMU3\\_PCB1 & LMU4\\_PCB1 & LMU1\\_PCB2 & LMU2\\_PCB2 & LMU3\\_PCB2 & LMU4\\_PCB2\\\\\n",
       "\\hline\n",
       "\t 2021-03-24 18:21:59 & Connected           & 50                  & -17,716             & 104,8               & 0                   & 2048                & 3588                & 20                  & 3588                & ...                 & 20                  & 19                  & 22                  & 21                  & 22                  & 22                  & 21                  & 21                  & 21                  & 21                 \\\\\n",
       "\t 2021-03-24 18:22:00 & Connected           & 50                  & -17,716             & 104,8               & 0                   & 2048                & 3588                & 20                  & 3588                & ...                 & 20                  & 19                  & 22                  & 21                  & 21                  & 22                  & 21                  & 21                  & 21                  & 21                 \\\\\n",
       "\t 2021-03-24 18:22:01 & Connected           & 50                  & -17,716             & 104,8               & 0                   & 2048                & 3588                & 20                  & 3588                & ...                 & 20                  & 19                  & 22                  & 21                  & 21                  & 22                  & 21                  & 21                  & 21                  & 21                 \\\\\n",
       "\t 2021-03-24 18:22:02 & Connected           & 50                  & -17,716             & 104,8               & 0                   & 2048                & 3588                & 20                  & 3588                & ...                 & 20                  & 19                  & 22                  & 22                  & 22                  & 22                  & 21                  & 21                  & 21                  & 21                 \\\\\n",
       "\t 2021-03-24 18:22:03 & Connected           & 50                  & -17,716             & 104,8               & 0                   & 2048                & 3588                & 20                  & 3588                & ...                 & 20                  & 19                  & 22                  & 21                  & 22                  & 22                  & 21                  & 21                  & 21                  & 21                 \\\\\n",
       "\t 2021-03-24 18:22:04 & Connected           & 50                  & -17,716             & 104,8               & 0                   & 2048                & 3588                & 20                  & 3588                & ...                 & 20                  & 19                  & 22                  & 21                  & 21                  & 22                  & 21                  & 21                  & 21                  & 21                 \\\\\n",
       "\\end{tabular}\n"
      ],
      "text/markdown": [
       "\n",
       "| Timestamp | Status | State_of_Charge | Current | Voltage | Error_flags | Warning_flags | Highest_Cell_Voltage | Highest_Temperature | Highest_Cell_Voltage.1 | ... | LMU3_Aux | LMU4_Aux | LMU1_PCB1 | LMU2_PCB1 | LMU3_PCB1 | LMU4_PCB1 | LMU1_PCB2 | LMU2_PCB2 | LMU3_PCB2 | LMU4_PCB2 |\n",
       "|---|---|---|---|---|---|---|---|---|---|---|---|---|---|---|---|---|---|---|---|---|\n",
       "| 2021-03-24 18:21:59 | Connected           | 50                  | -17,716             | 104,8               | 0                   | 2048                | 3588                | 20                  | 3588                | ...                 | 20                  | 19                  | 22                  | 21                  | 22                  | 22                  | 21                  | 21                  | 21                  | 21                  |\n",
       "| 2021-03-24 18:22:00 | Connected           | 50                  | -17,716             | 104,8               | 0                   | 2048                | 3588                | 20                  | 3588                | ...                 | 20                  | 19                  | 22                  | 21                  | 21                  | 22                  | 21                  | 21                  | 21                  | 21                  |\n",
       "| 2021-03-24 18:22:01 | Connected           | 50                  | -17,716             | 104,8               | 0                   | 2048                | 3588                | 20                  | 3588                | ...                 | 20                  | 19                  | 22                  | 21                  | 21                  | 22                  | 21                  | 21                  | 21                  | 21                  |\n",
       "| 2021-03-24 18:22:02 | Connected           | 50                  | -17,716             | 104,8               | 0                   | 2048                | 3588                | 20                  | 3588                | ...                 | 20                  | 19                  | 22                  | 22                  | 22                  | 22                  | 21                  | 21                  | 21                  | 21                  |\n",
       "| 2021-03-24 18:22:03 | Connected           | 50                  | -17,716             | 104,8               | 0                   | 2048                | 3588                | 20                  | 3588                | ...                 | 20                  | 19                  | 22                  | 21                  | 22                  | 22                  | 21                  | 21                  | 21                  | 21                  |\n",
       "| 2021-03-24 18:22:04 | Connected           | 50                  | -17,716             | 104,8               | 0                   | 2048                | 3588                | 20                  | 3588                | ...                 | 20                  | 19                  | 22                  | 21                  | 21                  | 22                  | 21                  | 21                  | 21                  | 21                  |\n",
       "\n"
      ],
      "text/plain": [
       "  Timestamp           Status    State_of_Charge Current Voltage Error_flags\n",
       "1 2021-03-24 18:21:59 Connected 50              -17,716 104,8   0          \n",
       "2 2021-03-24 18:22:00 Connected 50              -17,716 104,8   0          \n",
       "3 2021-03-24 18:22:01 Connected 50              -17,716 104,8   0          \n",
       "4 2021-03-24 18:22:02 Connected 50              -17,716 104,8   0          \n",
       "5 2021-03-24 18:22:03 Connected 50              -17,716 104,8   0          \n",
       "6 2021-03-24 18:22:04 Connected 50              -17,716 104,8   0          \n",
       "  Warning_flags Highest_Cell_Voltage Highest_Temperature Highest_Cell_Voltage.1\n",
       "1 2048          3588                 20                  3588                  \n",
       "2 2048          3588                 20                  3588                  \n",
       "3 2048          3588                 20                  3588                  \n",
       "4 2048          3588                 20                  3588                  \n",
       "5 2048          3588                 20                  3588                  \n",
       "6 2048          3588                 20                  3588                  \n",
       "  ... LMU3_Aux LMU4_Aux LMU1_PCB1 LMU2_PCB1 LMU3_PCB1 LMU4_PCB1 LMU1_PCB2\n",
       "1 ... 20       19       22        21        22        22        21       \n",
       "2 ... 20       19       22        21        21        22        21       \n",
       "3 ... 20       19       22        21        21        22        21       \n",
       "4 ... 20       19       22        22        22        22        21       \n",
       "5 ... 20       19       22        21        22        22        21       \n",
       "6 ... 20       19       22        21        21        22        21       \n",
       "  LMU2_PCB2 LMU3_PCB2 LMU4_PCB2\n",
       "1 21        21        21       \n",
       "2 21        21        21       \n",
       "3 21        21        21       \n",
       "4 21        21        21       \n",
       "5 21        21        21       \n",
       "6 21        21        21       "
      ]
     },
     "metadata": {},
     "output_type": "display_data"
    }
   ],
   "source": [
    "head(both_df)"
   ]
  },
  {
   "cell_type": "code",
   "execution_count": 100,
   "id": "14236550",
   "metadata": {},
   "outputs": [
    {
     "data": {
      "text/html": [
       "<table>\n",
       "<thead><tr><th scope=col>Timestamp</th><th scope=col>Status</th><th scope=col>State_of_Charge</th><th scope=col>Current</th><th scope=col>Voltage</th><th scope=col>Error_flags</th><th scope=col>Warning_flags</th><th scope=col>Highest_Cell_Voltage</th><th scope=col>Highest_Temperature</th><th scope=col>Highest_Cell_Voltage.1</th><th scope=col>...</th><th scope=col>LMU3_Aux</th><th scope=col>LMU4_Aux</th><th scope=col>LMU1_PCB1</th><th scope=col>LMU2_PCB1</th><th scope=col>LMU3_PCB1</th><th scope=col>LMU4_PCB1</th><th scope=col>LMU1_PCB2</th><th scope=col>LMU2_PCB2</th><th scope=col>LMU3_PCB2</th><th scope=col>LMU4_PCB2</th></tr></thead>\n",
       "<tbody>\n",
       "\t<tr><td>2021-03-20 15:15:07</td><td>Connected          </td><td>65                 </td><td>-18.341            </td><td>108.2              </td><td>0                  </td><td>2048               </td><td>3705               </td><td>19                 </td><td>3705               </td><td>...                </td><td>19                 </td><td>19                 </td><td>21                 </td><td>22                 </td><td>21                 </td><td>21                 </td><td>21                 </td><td>21                 </td><td>21                 </td><td>21                 </td></tr>\n",
       "\t<tr><td>2021-03-20 15:15:08</td><td>Connected          </td><td>65                 </td><td>-18.341            </td><td>108.2              </td><td>0                  </td><td>2048               </td><td>3705               </td><td>19                 </td><td>3705               </td><td>...                </td><td>19                 </td><td>19                 </td><td>21                 </td><td>22                 </td><td>21                 </td><td>21                 </td><td>21                 </td><td>21                 </td><td>21                 </td><td>21                 </td></tr>\n",
       "\t<tr><td>2021-03-20 15:15:09</td><td>Connected          </td><td>65                 </td><td>-18.341            </td><td>108.2              </td><td>0                  </td><td>2048               </td><td>3705               </td><td>19                 </td><td>3705               </td><td>...                </td><td>19                 </td><td>19                 </td><td>21                 </td><td>21                 </td><td>21                 </td><td>21                 </td><td>21                 </td><td>21                 </td><td>21                 </td><td>21                 </td></tr>\n",
       "\t<tr><td>2021-03-20 15:15:10</td><td>Connected          </td><td>65                 </td><td>-18.341            </td><td>108.2              </td><td>0                  </td><td>2048               </td><td>3705               </td><td>19                 </td><td>3705               </td><td>...                </td><td>19                 </td><td>19                 </td><td>21                 </td><td>21                 </td><td>21                 </td><td>22                 </td><td>21                 </td><td>21                 </td><td>21                 </td><td>21                 </td></tr>\n",
       "\t<tr><td>2021-03-20 15:15:11</td><td>Connected          </td><td>65                 </td><td>-18.341            </td><td>108.2              </td><td>0                  </td><td>2048               </td><td>3705               </td><td>19                 </td><td>3705               </td><td>...                </td><td>19                 </td><td>19                 </td><td>21                 </td><td>21                 </td><td>21                 </td><td>21                 </td><td>21                 </td><td>21                 </td><td>21                 </td><td>21                 </td></tr>\n",
       "\t<tr><td>2021-03-20 15:15:12</td><td>Connected          </td><td>65                 </td><td>-18.341            </td><td>108.2              </td><td>0                  </td><td>2048               </td><td>3705               </td><td>19                 </td><td>3705               </td><td>...                </td><td>19                 </td><td>19                 </td><td>21                 </td><td>21                 </td><td>21                 </td><td>21                 </td><td>21                 </td><td>21                 </td><td>21                 </td><td>21                 </td></tr>\n",
       "</tbody>\n",
       "</table>\n"
      ],
      "text/latex": [
       "\\begin{tabular}{r|llllllllllllllllllllllllllllllllllllllllllllllllllllllllllll}\n",
       " Timestamp & Status & State\\_of\\_Charge & Current & Voltage & Error\\_flags & Warning\\_flags & Highest\\_Cell\\_Voltage & Highest\\_Temperature & Highest\\_Cell\\_Voltage.1 & ... & LMU3\\_Aux & LMU4\\_Aux & LMU1\\_PCB1 & LMU2\\_PCB1 & LMU3\\_PCB1 & LMU4\\_PCB1 & LMU1\\_PCB2 & LMU2\\_PCB2 & LMU3\\_PCB2 & LMU4\\_PCB2\\\\\n",
       "\\hline\n",
       "\t 2021-03-20 15:15:07 & Connected           & 65                  & -18.341             & 108.2               & 0                   & 2048                & 3705                & 19                  & 3705                & ...                 & 19                  & 19                  & 21                  & 22                  & 21                  & 21                  & 21                  & 21                  & 21                  & 21                 \\\\\n",
       "\t 2021-03-20 15:15:08 & Connected           & 65                  & -18.341             & 108.2               & 0                   & 2048                & 3705                & 19                  & 3705                & ...                 & 19                  & 19                  & 21                  & 22                  & 21                  & 21                  & 21                  & 21                  & 21                  & 21                 \\\\\n",
       "\t 2021-03-20 15:15:09 & Connected           & 65                  & -18.341             & 108.2               & 0                   & 2048                & 3705                & 19                  & 3705                & ...                 & 19                  & 19                  & 21                  & 21                  & 21                  & 21                  & 21                  & 21                  & 21                  & 21                 \\\\\n",
       "\t 2021-03-20 15:15:10 & Connected           & 65                  & -18.341             & 108.2               & 0                   & 2048                & 3705                & 19                  & 3705                & ...                 & 19                  & 19                  & 21                  & 21                  & 21                  & 22                  & 21                  & 21                  & 21                  & 21                 \\\\\n",
       "\t 2021-03-20 15:15:11 & Connected           & 65                  & -18.341             & 108.2               & 0                   & 2048                & 3705                & 19                  & 3705                & ...                 & 19                  & 19                  & 21                  & 21                  & 21                  & 21                  & 21                  & 21                  & 21                  & 21                 \\\\\n",
       "\t 2021-03-20 15:15:12 & Connected           & 65                  & -18.341             & 108.2               & 0                   & 2048                & 3705                & 19                  & 3705                & ...                 & 19                  & 19                  & 21                  & 21                  & 21                  & 21                  & 21                  & 21                  & 21                  & 21                 \\\\\n",
       "\\end{tabular}\n"
      ],
      "text/markdown": [
       "\n",
       "| Timestamp | Status | State_of_Charge | Current | Voltage | Error_flags | Warning_flags | Highest_Cell_Voltage | Highest_Temperature | Highest_Cell_Voltage.1 | ... | LMU3_Aux | LMU4_Aux | LMU1_PCB1 | LMU2_PCB1 | LMU3_PCB1 | LMU4_PCB1 | LMU1_PCB2 | LMU2_PCB2 | LMU3_PCB2 | LMU4_PCB2 |\n",
       "|---|---|---|---|---|---|---|---|---|---|---|---|---|---|---|---|---|---|---|---|---|\n",
       "| 2021-03-20 15:15:07 | Connected           | 65                  | -18.341             | 108.2               | 0                   | 2048                | 3705                | 19                  | 3705                | ...                 | 19                  | 19                  | 21                  | 22                  | 21                  | 21                  | 21                  | 21                  | 21                  | 21                  |\n",
       "| 2021-03-20 15:15:08 | Connected           | 65                  | -18.341             | 108.2               | 0                   | 2048                | 3705                | 19                  | 3705                | ...                 | 19                  | 19                  | 21                  | 22                  | 21                  | 21                  | 21                  | 21                  | 21                  | 21                  |\n",
       "| 2021-03-20 15:15:09 | Connected           | 65                  | -18.341             | 108.2               | 0                   | 2048                | 3705                | 19                  | 3705                | ...                 | 19                  | 19                  | 21                  | 21                  | 21                  | 21                  | 21                  | 21                  | 21                  | 21                  |\n",
       "| 2021-03-20 15:15:10 | Connected           | 65                  | -18.341             | 108.2               | 0                   | 2048                | 3705                | 19                  | 3705                | ...                 | 19                  | 19                  | 21                  | 21                  | 21                  | 22                  | 21                  | 21                  | 21                  | 21                  |\n",
       "| 2021-03-20 15:15:11 | Connected           | 65                  | -18.341             | 108.2               | 0                   | 2048                | 3705                | 19                  | 3705                | ...                 | 19                  | 19                  | 21                  | 21                  | 21                  | 21                  | 21                  | 21                  | 21                  | 21                  |\n",
       "| 2021-03-20 15:15:12 | Connected           | 65                  | -18.341             | 108.2               | 0                   | 2048                | 3705                | 19                  | 3705                | ...                 | 19                  | 19                  | 21                  | 21                  | 21                  | 21                  | 21                  | 21                  | 21                  | 21                  |\n",
       "\n"
      ],
      "text/plain": [
       "  Timestamp           Status    State_of_Charge Current Voltage Error_flags\n",
       "1 2021-03-20 15:15:07 Connected 65              -18.341 108.2   0          \n",
       "2 2021-03-20 15:15:08 Connected 65              -18.341 108.2   0          \n",
       "3 2021-03-20 15:15:09 Connected 65              -18.341 108.2   0          \n",
       "4 2021-03-20 15:15:10 Connected 65              -18.341 108.2   0          \n",
       "5 2021-03-20 15:15:11 Connected 65              -18.341 108.2   0          \n",
       "6 2021-03-20 15:15:12 Connected 65              -18.341 108.2   0          \n",
       "  Warning_flags Highest_Cell_Voltage Highest_Temperature Highest_Cell_Voltage.1\n",
       "1 2048          3705                 19                  3705                  \n",
       "2 2048          3705                 19                  3705                  \n",
       "3 2048          3705                 19                  3705                  \n",
       "4 2048          3705                 19                  3705                  \n",
       "5 2048          3705                 19                  3705                  \n",
       "6 2048          3705                 19                  3705                  \n",
       "  ... LMU3_Aux LMU4_Aux LMU1_PCB1 LMU2_PCB1 LMU3_PCB1 LMU4_PCB1 LMU1_PCB2\n",
       "1 ... 19       19       21        22        21        21        21       \n",
       "2 ... 19       19       21        22        21        21        21       \n",
       "3 ... 19       19       21        21        21        21        21       \n",
       "4 ... 19       19       21        21        21        22        21       \n",
       "5 ... 19       19       21        21        21        21        21       \n",
       "6 ... 19       19       21        21        21        21        21       \n",
       "  LMU2_PCB2 LMU3_PCB2 LMU4_PCB2\n",
       "1 21        21        21       \n",
       "2 21        21        21       \n",
       "3 21        21        21       \n",
       "4 21        21        21       \n",
       "5 21        21        21       \n",
       "6 21        21        21       "
      ]
     },
     "metadata": {},
     "output_type": "display_data"
    },
    {
     "data": {
      "text/html": [
       "<table>\n",
       "<thead><tr><th scope=col>Timestamp</th><th scope=col>Status</th><th scope=col>State_of_Charge</th><th scope=col>Current</th><th scope=col>Voltage</th><th scope=col>Error_flags</th><th scope=col>Warning_flags</th><th scope=col>Highest_Cell_Voltage</th><th scope=col>Highest_Temperature</th><th scope=col>Highest_Cell_Voltage.1</th><th scope=col>...</th><th scope=col>LMU3_Aux</th><th scope=col>LMU4_Aux</th><th scope=col>LMU1_PCB1</th><th scope=col>LMU2_PCB1</th><th scope=col>LMU3_PCB1</th><th scope=col>LMU4_PCB1</th><th scope=col>LMU1_PCB2</th><th scope=col>LMU2_PCB2</th><th scope=col>LMU3_PCB2</th><th scope=col>LMU4_PCB2</th></tr></thead>\n",
       "<tbody>\n",
       "\t<tr><td>2021-03-24 19:33:26</td><td>Connected          </td><td>46                 </td><td>-17,508            </td><td>103,6              </td><td>0                  </td><td>2050               </td><td>3555               </td><td>20                 </td><td>3555               </td><td>...                </td><td>20                 </td><td>20                 </td><td>23                 </td><td>22                 </td><td>22                 </td><td>22                 </td><td>22                 </td><td>22                 </td><td>22                 </td><td>22                 </td></tr>\n",
       "\t<tr><td>2021-03-24 19:33:27</td><td>Connected          </td><td>46                 </td><td>-17,508            </td><td>103,6              </td><td>0                  </td><td>2050               </td><td>3555               </td><td>20                 </td><td>3555               </td><td>...                </td><td>20                 </td><td>20                 </td><td>23                 </td><td>23                 </td><td>22                 </td><td>22                 </td><td>22                 </td><td>22                 </td><td>22                 </td><td>22                 </td></tr>\n",
       "\t<tr><td>2021-03-24 19:33:28</td><td>Connected          </td><td>46                 </td><td>-17,508            </td><td>103,6              </td><td>0                  </td><td>2050               </td><td>3555               </td><td>20                 </td><td>3555               </td><td>...                </td><td>20                 </td><td>20                 </td><td>23                 </td><td>23                 </td><td>22                 </td><td>22                 </td><td>22                 </td><td>22                 </td><td>22                 </td><td>22                 </td></tr>\n",
       "\t<tr><td>2021-03-24 19:33:29</td><td>Connected          </td><td>46                 </td><td>-17,508            </td><td>103,6              </td><td>0                  </td><td>2050               </td><td>3555               </td><td>20                 </td><td>3555               </td><td>...                </td><td>20                 </td><td>20                 </td><td>23                 </td><td>22                 </td><td>22                 </td><td>22                 </td><td>22                 </td><td>22                 </td><td>22                 </td><td>21                 </td></tr>\n",
       "\t<tr><td>2021-03-24 19:33:30</td><td>Connected          </td><td>46                 </td><td>-17,508            </td><td>103,6              </td><td>0                  </td><td>2050               </td><td>3555               </td><td>20                 </td><td>3555               </td><td>...                </td><td>20                 </td><td>20                 </td><td>23                 </td><td>22                 </td><td>22                 </td><td>22                 </td><td>22                 </td><td>21                 </td><td>22                 </td><td>22                 </td></tr>\n",
       "\t<tr><td>2021-03-24 19:33:31</td><td>Connected          </td><td>46                 </td><td>-17,508            </td><td>103,6              </td><td>0                  </td><td>2050               </td><td>3555               </td><td>20                 </td><td>3555               </td><td>...                </td><td>20                 </td><td>20                 </td><td>23                 </td><td>22                 </td><td>22                 </td><td>22                 </td><td>22                 </td><td>22                 </td><td>22                 </td><td>22                 </td></tr>\n",
       "</tbody>\n",
       "</table>\n"
      ],
      "text/latex": [
       "\\begin{tabular}{r|llllllllllllllllllllllllllllllllllllllllllllllllllllllllllll}\n",
       " Timestamp & Status & State\\_of\\_Charge & Current & Voltage & Error\\_flags & Warning\\_flags & Highest\\_Cell\\_Voltage & Highest\\_Temperature & Highest\\_Cell\\_Voltage.1 & ... & LMU3\\_Aux & LMU4\\_Aux & LMU1\\_PCB1 & LMU2\\_PCB1 & LMU3\\_PCB1 & LMU4\\_PCB1 & LMU1\\_PCB2 & LMU2\\_PCB2 & LMU3\\_PCB2 & LMU4\\_PCB2\\\\\n",
       "\\hline\n",
       "\t 2021-03-24 19:33:26 & Connected           & 46                  & -17,508             & 103,6               & 0                   & 2050                & 3555                & 20                  & 3555                & ...                 & 20                  & 20                  & 23                  & 22                  & 22                  & 22                  & 22                  & 22                  & 22                  & 22                 \\\\\n",
       "\t 2021-03-24 19:33:27 & Connected           & 46                  & -17,508             & 103,6               & 0                   & 2050                & 3555                & 20                  & 3555                & ...                 & 20                  & 20                  & 23                  & 23                  & 22                  & 22                  & 22                  & 22                  & 22                  & 22                 \\\\\n",
       "\t 2021-03-24 19:33:28 & Connected           & 46                  & -17,508             & 103,6               & 0                   & 2050                & 3555                & 20                  & 3555                & ...                 & 20                  & 20                  & 23                  & 23                  & 22                  & 22                  & 22                  & 22                  & 22                  & 22                 \\\\\n",
       "\t 2021-03-24 19:33:29 & Connected           & 46                  & -17,508             & 103,6               & 0                   & 2050                & 3555                & 20                  & 3555                & ...                 & 20                  & 20                  & 23                  & 22                  & 22                  & 22                  & 22                  & 22                  & 22                  & 21                 \\\\\n",
       "\t 2021-03-24 19:33:30 & Connected           & 46                  & -17,508             & 103,6               & 0                   & 2050                & 3555                & 20                  & 3555                & ...                 & 20                  & 20                  & 23                  & 22                  & 22                  & 22                  & 22                  & 21                  & 22                  & 22                 \\\\\n",
       "\t 2021-03-24 19:33:31 & Connected           & 46                  & -17,508             & 103,6               & 0                   & 2050                & 3555                & 20                  & 3555                & ...                 & 20                  & 20                  & 23                  & 22                  & 22                  & 22                  & 22                  & 22                  & 22                  & 22                 \\\\\n",
       "\\end{tabular}\n"
      ],
      "text/markdown": [
       "\n",
       "| Timestamp | Status | State_of_Charge | Current | Voltage | Error_flags | Warning_flags | Highest_Cell_Voltage | Highest_Temperature | Highest_Cell_Voltage.1 | ... | LMU3_Aux | LMU4_Aux | LMU1_PCB1 | LMU2_PCB1 | LMU3_PCB1 | LMU4_PCB1 | LMU1_PCB2 | LMU2_PCB2 | LMU3_PCB2 | LMU4_PCB2 |\n",
       "|---|---|---|---|---|---|---|---|---|---|---|---|---|---|---|---|---|---|---|---|---|\n",
       "| 2021-03-24 19:33:26 | Connected           | 46                  | -17,508             | 103,6               | 0                   | 2050                | 3555                | 20                  | 3555                | ...                 | 20                  | 20                  | 23                  | 22                  | 22                  | 22                  | 22                  | 22                  | 22                  | 22                  |\n",
       "| 2021-03-24 19:33:27 | Connected           | 46                  | -17,508             | 103,6               | 0                   | 2050                | 3555                | 20                  | 3555                | ...                 | 20                  | 20                  | 23                  | 23                  | 22                  | 22                  | 22                  | 22                  | 22                  | 22                  |\n",
       "| 2021-03-24 19:33:28 | Connected           | 46                  | -17,508             | 103,6               | 0                   | 2050                | 3555                | 20                  | 3555                | ...                 | 20                  | 20                  | 23                  | 23                  | 22                  | 22                  | 22                  | 22                  | 22                  | 22                  |\n",
       "| 2021-03-24 19:33:29 | Connected           | 46                  | -17,508             | 103,6               | 0                   | 2050                | 3555                | 20                  | 3555                | ...                 | 20                  | 20                  | 23                  | 22                  | 22                  | 22                  | 22                  | 22                  | 22                  | 21                  |\n",
       "| 2021-03-24 19:33:30 | Connected           | 46                  | -17,508             | 103,6               | 0                   | 2050                | 3555                | 20                  | 3555                | ...                 | 20                  | 20                  | 23                  | 22                  | 22                  | 22                  | 22                  | 21                  | 22                  | 22                  |\n",
       "| 2021-03-24 19:33:31 | Connected           | 46                  | -17,508             | 103,6               | 0                   | 2050                | 3555                | 20                  | 3555                | ...                 | 20                  | 20                  | 23                  | 22                  | 22                  | 22                  | 22                  | 22                  | 22                  | 22                  |\n",
       "\n"
      ],
      "text/plain": [
       "  Timestamp           Status    State_of_Charge Current Voltage Error_flags\n",
       "1 2021-03-24 19:33:26 Connected 46              -17,508 103,6   0          \n",
       "2 2021-03-24 19:33:27 Connected 46              -17,508 103,6   0          \n",
       "3 2021-03-24 19:33:28 Connected 46              -17,508 103,6   0          \n",
       "4 2021-03-24 19:33:29 Connected 46              -17,508 103,6   0          \n",
       "5 2021-03-24 19:33:30 Connected 46              -17,508 103,6   0          \n",
       "6 2021-03-24 19:33:31 Connected 46              -17,508 103,6   0          \n",
       "  Warning_flags Highest_Cell_Voltage Highest_Temperature Highest_Cell_Voltage.1\n",
       "1 2050          3555                 20                  3555                  \n",
       "2 2050          3555                 20                  3555                  \n",
       "3 2050          3555                 20                  3555                  \n",
       "4 2050          3555                 20                  3555                  \n",
       "5 2050          3555                 20                  3555                  \n",
       "6 2050          3555                 20                  3555                  \n",
       "  ... LMU3_Aux LMU4_Aux LMU1_PCB1 LMU2_PCB1 LMU3_PCB1 LMU4_PCB1 LMU1_PCB2\n",
       "1 ... 20       20       23        22        22        22        22       \n",
       "2 ... 20       20       23        23        22        22        22       \n",
       "3 ... 20       20       23        23        22        22        22       \n",
       "4 ... 20       20       23        22        22        22        22       \n",
       "5 ... 20       20       23        22        22        22        22       \n",
       "6 ... 20       20       23        22        22        22        22       \n",
       "  LMU2_PCB2 LMU3_PCB2 LMU4_PCB2\n",
       "1 22        22        22       \n",
       "2 22        22        22       \n",
       "3 22        22        22       \n",
       "4 22        22        21       \n",
       "5 21        22        22       \n",
       "6 22        22        22       "
      ]
     },
     "metadata": {},
     "output_type": "display_data"
    }
   ],
   "source": [
    "head(disc_df_3)\n",
    "head(disc_df_2)"
   ]
  },
  {
   "cell_type": "code",
   "execution_count": 119,
   "id": "7384f3b4",
   "metadata": {},
   "outputs": [],
   "source": [
    "write.csv(both_df,\"MarchDischarging.csv\", row.names = TRUE)"
   ]
  },
  {
   "cell_type": "code",
   "execution_count": null,
   "id": "95db22e5",
   "metadata": {},
   "outputs": [],
   "source": []
  }
 ],
 "metadata": {
  "kernelspec": {
   "display_name": "R",
   "language": "R",
   "name": "ir"
  },
  "language_info": {
   "codemirror_mode": "r",
   "file_extension": ".r",
   "mimetype": "text/x-r-source",
   "name": "R",
   "pygments_lexer": "r",
   "version": "3.6.1"
  }
 },
 "nbformat": 4,
 "nbformat_minor": 5
}
