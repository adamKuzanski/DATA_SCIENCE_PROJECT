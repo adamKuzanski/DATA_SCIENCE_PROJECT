{
 "cells": [
  {
   "cell_type": "markdown",
   "id": "5de7304a",
   "metadata": {},
   "source": [
    "# FINAL PROJECT\n",
    "## CHAPTER 1 - DATA  PREPARATION - OBTAINING MINEABLE VIEW"
   ]
  },
  {
   "cell_type": "markdown",
   "id": "ac9e8fd1",
   "metadata": {},
   "source": [
    "# STEP 1 - PREPARE THE ENVIRONMENT"
   ]
  },
  {
   "cell_type": "code",
   "execution_count": 103,
   "id": "75aa0fe8",
   "metadata": {},
   "outputs": [],
   "source": [
    "# swich to english \n",
    "Sys.setenv(LANG = \"en\")\n",
    "\n",
    "# prepare environmental variables for the project\n",
    "WORKING_DIRECTORY <- \"C:\\\\Users\\\\User\\\\Desktop\\\\Studia\\\\ERASMUS\\\\DATA_SCIENCE\\\\FINAL PROJECT\\\\\"\n",
    "DATASET_PATH <- \"datasets\\\\\"\n",
    "\n",
    "# Files names \n",
    "RACE_2021 <- \"RACETRACK_2021_DATA\\\\18-09-2021_THE_RACE_24H.csv\"\n",
    "FIRST_TESTS <- \"RACETRACK_2021_DATA\\\\16-09-2021_FIRST_TEST_2H_NO_GEOMETRY.csv\"\n",
    "#SECOND_TEST <- \"DATA NOT AVAILABLE YET\"\n",
    "\n",
    "# import important libraries\n",
    "library(ggplot2)\n",
    "library(gridExtra)\n",
    "library(reshape2)\n",
    "library(plyr)\n",
    "library(data.table)\n"
   ]
  },
  {
   "cell_type": "markdown",
   "id": "619e100f",
   "metadata": {},
   "source": [
    "_____________________________\n",
    "# STEP 2 - LOAD THE DATASET"
   ]
  },
  {
   "cell_type": "code",
   "execution_count": 104,
   "id": "106688b9",
   "metadata": {},
   "outputs": [
    {
     "data": {
      "text/html": [
       "<table>\n",
       "<thead><tr><th scope=col>X_id</th><th scope=col>X_t</th><th scope=col>General.Timestamp</th><th scope=col>General.ReceivedTime</th><th scope=col>General.ThrottlePosition</th><th scope=col>General.MotorController</th><th scope=col>General.MainSwitch</th><th scope=col>General.MotorDirection</th><th scope=col>General.PowerEco</th><th scope=col>General.RegenerationBrake</th><th scope=col>...</th><th scope=col>RawBytes.285</th><th scope=col>RawBytes.286</th><th scope=col>RawBytes.287</th><th scope=col>RawBytes.288</th><th scope=col>RawBytes.289</th><th scope=col>RawBytes.290</th><th scope=col>RawBytes.291</th><th scope=col>RawBytes.292</th><th scope=col>RawBytes.293</th><th scope=col>RawBytes.294</th></tr></thead>\n",
       "<tbody>\n",
       "\t<tr><td>6145c6b1f02fbf4eb5a5759c</td><td>RecentCar               </td><td>18.09.2021 13:00        </td><td>18.09.2021 13:00        </td><td>0                       </td><td>5                       </td><td>PRAWDA                  </td><td>FAŁSZ                   </td><td>PRAWDA                  </td><td>0                       </td><td>...                     </td><td>215                     </td><td>163                     </td><td>112                     </td><td>61                      </td><td>10                      </td><td>215                     </td><td>211                     </td><td>63                      </td><td>3                       </td><td>2                       </td></tr>\n",
       "\t<tr><td>6145c6b2f02fbf4eb5a5759d</td><td>RecentCar               </td><td>18.09.2021 13:00        </td><td>18.09.2021 13:00        </td><td>0                       </td><td>5                       </td><td>PRAWDA                  </td><td>FAŁSZ                   </td><td>PRAWDA                  </td><td>0                       </td><td>...                     </td><td>215                     </td><td>163                     </td><td>112                     </td><td>61                      </td><td>10                      </td><td>215                     </td><td>211                     </td><td>63                      </td><td>3                       </td><td>2                       </td></tr>\n",
       "\t<tr><td>6145c6b3f02fbf4eb5a5759e</td><td>RecentCar               </td><td>18.09.2021 13:00        </td><td>18.09.2021 13:00        </td><td>0                       </td><td>5                       </td><td>PRAWDA                  </td><td>FAŁSZ                   </td><td>PRAWDA                  </td><td>0                       </td><td>...                     </td><td>215                     </td><td>163                     </td><td>112                     </td><td>61                      </td><td>10                      </td><td>215                     </td><td>211                     </td><td>63                      </td><td>3                       </td><td>2                       </td></tr>\n",
       "\t<tr><td>6145c6b4f02fbf4eb5a5759f</td><td>RecentCar               </td><td>18.09.2021 13:00        </td><td>18.09.2021 13:00        </td><td>0                       </td><td>5                       </td><td>PRAWDA                  </td><td>FAŁSZ                   </td><td>PRAWDA                  </td><td>0                       </td><td>...                     </td><td>215                     </td><td>163                     </td><td>112                     </td><td>61                      </td><td>10                      </td><td>215                     </td><td>211                     </td><td>63                      </td><td>3                       </td><td>2                       </td></tr>\n",
       "\t<tr><td>6145c6b5f02fbf4eb5a575a0</td><td>RecentCar               </td><td>18.09.2021 13:00        </td><td>18.09.2021 13:00        </td><td>0                       </td><td>5                       </td><td>PRAWDA                  </td><td>FAŁSZ                   </td><td>PRAWDA                  </td><td>0                       </td><td>...                     </td><td>215                     </td><td>163                     </td><td>112                     </td><td>61                      </td><td>10                      </td><td>215                     </td><td>211                     </td><td>63                      </td><td>3                       </td><td>2                       </td></tr>\n",
       "\t<tr><td>6145c6b6f02fbf4eb5a575a1</td><td>RecentCar               </td><td>18.09.2021 13:00        </td><td>18.09.2021 13:00        </td><td>0                       </td><td>5                       </td><td>PRAWDA                  </td><td>FAŁSZ                   </td><td>PRAWDA                  </td><td>0                       </td><td>...                     </td><td>215                     </td><td>163                     </td><td>112                     </td><td>61                      </td><td>10                      </td><td>215                     </td><td>211                     </td><td>63                      </td><td>3                       </td><td>2                       </td></tr>\n",
       "</tbody>\n",
       "</table>\n"
      ],
      "text/latex": [
       "\\begin{tabular}{r|llllllllllllllllllllllllllllllllllllllllllllllllllllllllllllllllllllllllllllllllllllllllllllllllllllllllllllllllllllllllllllllllllllllllllllllllllllllllllllllllllllllllllllllllllllllllllllllllllllllllllllllllllllllllllllllllllllllllllllllllllllllllllllllllllllllllllllllllllllllllllllllllllllllllllllllllllllllllllllllllllllllllllllllllllllllllllllllllllllllllllllllllllllllllllllllllllllllllllllllllllllllllllllllllllllllllllllllllllllllllllllllllllllllllllllllllllllllllllllllllllllllllll}\n",
       " X\\_id & X\\_t & General.Timestamp & General.ReceivedTime & General.ThrottlePosition & General.MotorController & General.MainSwitch & General.MotorDirection & General.PowerEco & General.RegenerationBrake & ... & RawBytes.285 & RawBytes.286 & RawBytes.287 & RawBytes.288 & RawBytes.289 & RawBytes.290 & RawBytes.291 & RawBytes.292 & RawBytes.293 & RawBytes.294\\\\\n",
       "\\hline\n",
       "\t 6145c6b1f02fbf4eb5a5759c & RecentCar                & 18.09.2021 13:00         & 18.09.2021 13:00         & 0                        & 5                        & PRAWDA                   & FAŁSZ                    & PRAWDA                   & 0                        & ...                      & 215                      & 163                      & 112                      & 61                       & 10                       & 215                      & 211                      & 63                       & 3                        & 2                       \\\\\n",
       "\t 6145c6b2f02fbf4eb5a5759d & RecentCar                & 18.09.2021 13:00         & 18.09.2021 13:00         & 0                        & 5                        & PRAWDA                   & FAŁSZ                    & PRAWDA                   & 0                        & ...                      & 215                      & 163                      & 112                      & 61                       & 10                       & 215                      & 211                      & 63                       & 3                        & 2                       \\\\\n",
       "\t 6145c6b3f02fbf4eb5a5759e & RecentCar                & 18.09.2021 13:00         & 18.09.2021 13:00         & 0                        & 5                        & PRAWDA                   & FAŁSZ                    & PRAWDA                   & 0                        & ...                      & 215                      & 163                      & 112                      & 61                       & 10                       & 215                      & 211                      & 63                       & 3                        & 2                       \\\\\n",
       "\t 6145c6b4f02fbf4eb5a5759f & RecentCar                & 18.09.2021 13:00         & 18.09.2021 13:00         & 0                        & 5                        & PRAWDA                   & FAŁSZ                    & PRAWDA                   & 0                        & ...                      & 215                      & 163                      & 112                      & 61                       & 10                       & 215                      & 211                      & 63                       & 3                        & 2                       \\\\\n",
       "\t 6145c6b5f02fbf4eb5a575a0 & RecentCar                & 18.09.2021 13:00         & 18.09.2021 13:00         & 0                        & 5                        & PRAWDA                   & FAŁSZ                    & PRAWDA                   & 0                        & ...                      & 215                      & 163                      & 112                      & 61                       & 10                       & 215                      & 211                      & 63                       & 3                        & 2                       \\\\\n",
       "\t 6145c6b6f02fbf4eb5a575a1 & RecentCar                & 18.09.2021 13:00         & 18.09.2021 13:00         & 0                        & 5                        & PRAWDA                   & FAŁSZ                    & PRAWDA                   & 0                        & ...                      & 215                      & 163                      & 112                      & 61                       & 10                       & 215                      & 211                      & 63                       & 3                        & 2                       \\\\\n",
       "\\end{tabular}\n"
      ],
      "text/markdown": [
       "\n",
       "| X_id | X_t | General.Timestamp | General.ReceivedTime | General.ThrottlePosition | General.MotorController | General.MainSwitch | General.MotorDirection | General.PowerEco | General.RegenerationBrake | ... | RawBytes.285 | RawBytes.286 | RawBytes.287 | RawBytes.288 | RawBytes.289 | RawBytes.290 | RawBytes.291 | RawBytes.292 | RawBytes.293 | RawBytes.294 |\n",
       "|---|---|---|---|---|---|---|---|---|---|---|---|---|---|---|---|---|---|---|---|---|\n",
       "| 6145c6b1f02fbf4eb5a5759c | RecentCar                | 18.09.2021 13:00         | 18.09.2021 13:00         | 0                        | 5                        | PRAWDA                   | FAŁSZ                    | PRAWDA                   | 0                        | ...                      | 215                      | 163                      | 112                      | 61                       | 10                       | 215                      | 211                      | 63                       | 3                        | 2                        |\n",
       "| 6145c6b2f02fbf4eb5a5759d | RecentCar                | 18.09.2021 13:00         | 18.09.2021 13:00         | 0                        | 5                        | PRAWDA                   | FAŁSZ                    | PRAWDA                   | 0                        | ...                      | 215                      | 163                      | 112                      | 61                       | 10                       | 215                      | 211                      | 63                       | 3                        | 2                        |\n",
       "| 6145c6b3f02fbf4eb5a5759e | RecentCar                | 18.09.2021 13:00         | 18.09.2021 13:00         | 0                        | 5                        | PRAWDA                   | FAŁSZ                    | PRAWDA                   | 0                        | ...                      | 215                      | 163                      | 112                      | 61                       | 10                       | 215                      | 211                      | 63                       | 3                        | 2                        |\n",
       "| 6145c6b4f02fbf4eb5a5759f | RecentCar                | 18.09.2021 13:00         | 18.09.2021 13:00         | 0                        | 5                        | PRAWDA                   | FAŁSZ                    | PRAWDA                   | 0                        | ...                      | 215                      | 163                      | 112                      | 61                       | 10                       | 215                      | 211                      | 63                       | 3                        | 2                        |\n",
       "| 6145c6b5f02fbf4eb5a575a0 | RecentCar                | 18.09.2021 13:00         | 18.09.2021 13:00         | 0                        | 5                        | PRAWDA                   | FAŁSZ                    | PRAWDA                   | 0                        | ...                      | 215                      | 163                      | 112                      | 61                       | 10                       | 215                      | 211                      | 63                       | 3                        | 2                        |\n",
       "| 6145c6b6f02fbf4eb5a575a1 | RecentCar                | 18.09.2021 13:00         | 18.09.2021 13:00         | 0                        | 5                        | PRAWDA                   | FAŁSZ                    | PRAWDA                   | 0                        | ...                      | 215                      | 163                      | 112                      | 61                       | 10                       | 215                      | 211                      | 63                       | 3                        | 2                        |\n",
       "\n"
      ],
      "text/plain": [
       "  X_id                     X_t       General.Timestamp General.ReceivedTime\n",
       "1 6145c6b1f02fbf4eb5a5759c RecentCar 18.09.2021 13:00  18.09.2021 13:00    \n",
       "2 6145c6b2f02fbf4eb5a5759d RecentCar 18.09.2021 13:00  18.09.2021 13:00    \n",
       "3 6145c6b3f02fbf4eb5a5759e RecentCar 18.09.2021 13:00  18.09.2021 13:00    \n",
       "4 6145c6b4f02fbf4eb5a5759f RecentCar 18.09.2021 13:00  18.09.2021 13:00    \n",
       "5 6145c6b5f02fbf4eb5a575a0 RecentCar 18.09.2021 13:00  18.09.2021 13:00    \n",
       "6 6145c6b6f02fbf4eb5a575a1 RecentCar 18.09.2021 13:00  18.09.2021 13:00    \n",
       "  General.ThrottlePosition General.MotorController General.MainSwitch\n",
       "1 0                        5                       PRAWDA            \n",
       "2 0                        5                       PRAWDA            \n",
       "3 0                        5                       PRAWDA            \n",
       "4 0                        5                       PRAWDA            \n",
       "5 0                        5                       PRAWDA            \n",
       "6 0                        5                       PRAWDA            \n",
       "  General.MotorDirection General.PowerEco General.RegenerationBrake ...\n",
       "1 FAŁSZ                  PRAWDA           0                         ...\n",
       "2 FAŁSZ                  PRAWDA           0                         ...\n",
       "3 FAŁSZ                  PRAWDA           0                         ...\n",
       "4 FAŁSZ                  PRAWDA           0                         ...\n",
       "5 FAŁSZ                  PRAWDA           0                         ...\n",
       "6 FAŁSZ                  PRAWDA           0                         ...\n",
       "  RawBytes.285 RawBytes.286 RawBytes.287 RawBytes.288 RawBytes.289 RawBytes.290\n",
       "1 215          163          112          61           10           215         \n",
       "2 215          163          112          61           10           215         \n",
       "3 215          163          112          61           10           215         \n",
       "4 215          163          112          61           10           215         \n",
       "5 215          163          112          61           10           215         \n",
       "6 215          163          112          61           10           215         \n",
       "  RawBytes.291 RawBytes.292 RawBytes.293 RawBytes.294\n",
       "1 211          63           3            2           \n",
       "2 211          63           3            2           \n",
       "3 211          63           3            2           \n",
       "4 211          63           3            2           \n",
       "5 211          63           3            2           \n",
       "6 211          63           3            2           "
      ]
     },
     "metadata": {},
     "output_type": "display_data"
    }
   ],
   "source": [
    "race_2021_df <- read.csv(\n",
    "    paste(WORKING_DIRECTORY, DATASET_PATH, RACE_2021, sep=''),\n",
    "    header=TRUE, \n",
    "    sep=';')\n",
    "head(race_2021_df)"
   ]
  },
  {
   "cell_type": "markdown",
   "id": "25ceb173",
   "metadata": {},
   "source": [
    "___________________\n",
    "# STEP 3 - DATA CLEANSING - BASED ON KNOWLEDGE"
   ]
  },
  {
   "cell_type": "markdown",
   "id": "de879d37",
   "metadata": {},
   "source": [
    "## >>> 3.1 - Cleaning the data based on the experts knowledge\n",
    "\n",
    "    Based on the experience of the team, we are able to drop lots of columns \n",
    "    which we know will do not influence the final result beacuese they:\n",
    "        1. Were not implemented in the vehicle correctly\n",
    "        2. Hardware was malfunctioning\n",
    "        3. Were collected for software development purposes\n",
    "        4. Does not influence the final result"
   ]
  },
  {
   "cell_type": "code",
   "execution_count": 105,
   "id": "15ebf75d",
   "metadata": {},
   "outputs": [
    {
     "data": {
      "text/html": [
       "490"
      ],
      "text/latex": [
       "490"
      ],
      "text/markdown": [
       "490"
      ],
      "text/plain": [
       "[1] 490"
      ]
     },
     "metadata": {},
     "output_type": "display_data"
    }
   ],
   "source": [
    "ncol(race_2021_df)"
   ]
  },
  {
   "cell_type": "markdown",
   "id": "c2d2f4b5",
   "metadata": {},
   "source": [
    "Our initial number of columns is __490__. <br>\n",
    "Almost half of them will not be usefull at all and we are dropping them."
   ]
  },
  {
   "cell_type": "code",
   "execution_count": 106,
   "id": "c5c2fea7",
   "metadata": {
    "scrolled": true
   },
   "outputs": [
    {
     "name": "stdout",
     "output_type": "stream",
     "text": [
      "X_id\n",
      "X_t\n",
      "General.Timestamp\n",
      "General.ReceivedTime\n",
      "General.ThrottlePosition\n",
      "General.MotorController\n",
      "General.MainSwitch\n",
      "General.MotorDirection\n",
      "General.PowerEco\n",
      "General.RegenerationBrake\n",
      "General.CruiseThrottle\n",
      "General.CruiseDesiredSpeed\n",
      "General.BatteryError\n",
      "General.EngineError\n",
      "General.DriveMode\n",
      "General.CruiseEngaged\n",
      "General.Horn\n",
      "General.HandBrake\n",
      "General.Temperatures.0\n",
      "General.Temperatures.1\n",
      "General.Temperatures.2\n",
      "General.Temperatures.3\n",
      "General.Rpm\n",
      "General.SolarRadiance\n",
      "General.Speed\n",
      "General.Mileage\n",
      "General.MotorTemperature\n",
      "Battery.RemainingChargeTime\n",
      "Battery.ChargerEnabled\n",
      "Battery.SystemState\n",
      "Battery.InputOutputState\n",
      "Battery.PackCRate\n",
      "Battery.StateOfCharge\n",
      "Battery.StateOfHealth\n",
      "Battery.NumberOfCellsConnected\n",
      "Battery.RemainingEnergy\n",
      "Battery.DeviationOfVoltageInCells\n",
      "Battery.PackTemperatureMax\n",
      "Battery.LMUNumberWithMaxTemperature\n",
      "Battery.PackTemperatureMin\n",
      "Battery.LMUNumberWithMinTemperature\n",
      "Battery.CellVoltageMax\n",
      "Battery.CellNumberWithMaxVoltage\n",
      "Battery.CellVoltageMin\n",
      "Battery.CellNumberWithMinVoltage\n",
      "Battery.CellAvgVoltage\n",
      "Battery.PackVoltage\n",
      "Battery.PackCurrent\n",
      "Battery.PowerBalance\n",
      "Battery.Warnings.HighCellVoltage\n",
      "Battery.Warnings.LowCellVoltage\n",
      "Battery.Warnings.HighCellTemperature\n",
      "Battery.Warnings.LowCellTemperature\n",
      "Battery.Warnings.HighLMUTemperature\n",
      "Battery.Warnings.LowLMUTemperature\n",
      "Battery.Warnings.SUBCommunicationInterfered\n",
      "Battery.Warnings.LMUCommunicationInterfered\n",
      "Battery.Warnings.HighCurrentIn\n",
      "Battery.Warnings.HighCurrentOut\n",
      "Battery.Warnings.PackResistanceDifference\n",
      "Battery.Warnings.HighPackResistance\n",
      "Battery.Warnings.CellResistanceDifference\n",
      "Battery.Warnings.HighCellResistance\n",
      "Battery.Warnings.HighBMCUSupplyVoltage\n",
      "Battery.Warnings.LowBMCUSupplyVoltage\n",
      "Battery.Warnings.LowSOC\n",
      "Battery.Errors.CellOverVoltage\n",
      "Battery.Errors.CellUnderVoltage\n",
      "Battery.Errors.CellEndOfLifeVoltage\n",
      "Battery.Errors.CellVoltageMisRead\n",
      "Battery.Errors.CellOverTemperature\n",
      "Battery.Errors.CellUnderTemperature\n",
      "Battery.Errors.CellUnmanaged\n",
      "Battery.Errors.LMUOverTemperature\n",
      "Battery.Errors.LMUUnderTemperature\n",
      "Battery.Errors.TemperatureSensorOpenCircuit\n",
      "Battery.Errors.TemperatureSensorShortCircuit\n",
      "Battery.Errors.SUBCommunication\n",
      "Battery.Errors.LMUCommunication\n",
      "Battery.Errors.OverCurrentIn\n",
      "Battery.Errors.OverCurrentOut\n",
      "Battery.Errors.ShortCircuit\n",
      "Battery.Errors.LeakDetected\n",
      "Battery.Errors.LeakDetectionFailed\n",
      "Battery.Errors.VoltageDifference\n",
      "Battery.Errors.BMCUSupplyOverVoltage\n",
      "Battery.Errors.BMCUSupplyUnderVoltage\n",
      "Battery.Errors.MainPositiveContactor\n",
      "Battery.Errors.MainNegativeContactor\n",
      "Battery.Errors.PrechargeContactor\n",
      "Battery.Errors.MidpackContactor\n",
      "Battery.Errors.PrechargeTimeout\n",
      "Battery.Errors.ChargerNotResponding\n",
      "Battery.Errors.EmergencyStop\n",
      "Battery.BatteryCells.CellsGroups.0.Voltages.0\n",
      "Battery.BatteryCells.CellsGroups.0.Voltages.1\n",
      "Battery.BatteryCells.CellsGroups.0.Voltages.2\n",
      "Battery.BatteryCells.CellsGroups.0.Voltages.3\n",
      "Battery.BatteryCells.CellsGroups.0.Voltages.4\n",
      "Battery.BatteryCells.CellsGroups.0.Voltages.5\n",
      "Battery.BatteryCells.CellsGroups.0.Voltages.6\n",
      "Battery.BatteryCells.CellsGroups.0.Voltages.7\n",
      "Battery.BatteryCells.CellsGroups.0.Temperatures.0\n",
      "Battery.BatteryCells.CellsGroups.0.Temperatures.1\n",
      "Battery.BatteryCells.CellsGroups.0.Temperatures.2\n",
      "Battery.BatteryCells.CellsGroups.0.Temperatures.3\n",
      "Battery.BatteryCells.CellsGroups.1.Voltages.0\n",
      "Battery.BatteryCells.CellsGroups.1.Voltages.1\n",
      "Battery.BatteryCells.CellsGroups.1.Voltages.2\n",
      "Battery.BatteryCells.CellsGroups.1.Voltages.3\n",
      "Battery.BatteryCells.CellsGroups.1.Voltages.4\n",
      "Battery.BatteryCells.CellsGroups.1.Voltages.5\n",
      "Battery.BatteryCells.CellsGroups.1.Voltages.6\n",
      "Battery.BatteryCells.CellsGroups.1.Voltages.7\n",
      "Battery.BatteryCells.CellsGroups.1.Temperatures.0\n",
      "Battery.BatteryCells.CellsGroups.1.Temperatures.1\n",
      "Battery.BatteryCells.CellsGroups.1.Temperatures.2\n",
      "Battery.BatteryCells.CellsGroups.1.Temperatures.3\n",
      "Battery.BatteryCells.CellsGroups.2.Voltages.0\n",
      "Battery.BatteryCells.CellsGroups.2.Voltages.1\n",
      "Battery.BatteryCells.CellsGroups.2.Voltages.2\n",
      "Battery.BatteryCells.CellsGroups.2.Voltages.3\n",
      "Battery.BatteryCells.CellsGroups.2.Voltages.4\n",
      "Battery.BatteryCells.CellsGroups.2.Voltages.5\n",
      "Battery.BatteryCells.CellsGroups.2.Voltages.6\n",
      "Battery.BatteryCells.CellsGroups.2.Voltages.7\n",
      "Battery.BatteryCells.CellsGroups.2.Temperatures.0\n",
      "Battery.BatteryCells.CellsGroups.2.Temperatures.1\n",
      "Battery.BatteryCells.CellsGroups.2.Temperatures.2\n",
      "Battery.BatteryCells.CellsGroups.2.Temperatures.3\n",
      "Battery.BatteryCells.CellsGroups.3.Voltages.0\n",
      "Battery.BatteryCells.CellsGroups.3.Voltages.1\n",
      "Battery.BatteryCells.CellsGroups.3.Voltages.2\n",
      "Battery.BatteryCells.CellsGroups.3.Voltages.3\n",
      "Battery.BatteryCells.CellsGroups.3.Voltages.4\n",
      "Battery.BatteryCells.CellsGroups.3.Voltages.5\n",
      "Battery.BatteryCells.CellsGroups.3.Voltages.6\n",
      "Battery.BatteryCells.CellsGroups.3.Voltages.7\n",
      "Battery.BatteryCells.CellsGroups.3.Temperatures.0\n",
      "Battery.BatteryCells.CellsGroups.3.Temperatures.1\n",
      "Battery.BatteryCells.CellsGroups.3.Temperatures.2\n",
      "Battery.BatteryCells.CellsGroups.3.Temperatures.3\n",
      "Lights.StopLights\n",
      "Lights.LowBeamLights\n",
      "Lights.HighBeamLights\n",
      "Lights.RightIndicatorLight\n",
      "Lights.LeftIndicatorLight\n",
      "Lights.ParkLights\n",
      "Lights.InteriorLights\n",
      "Lights.EmergencyLights\n",
      "LeftEngine\n",
      "RightEngine\n",
      "Solar.MpptInputVoltage.0\n",
      "Solar.MpptInputVoltage.1\n",
      "Solar.MpptInputVoltage.2\n",
      "Solar.MpptInputVoltage.3\n",
      "Solar.MpptInputCurrent.0\n",
      "Solar.MpptInputCurrent.1\n",
      "Solar.MpptInputCurrent.2\n",
      "Solar.MpptInputCurrent.3\n",
      "Solar.MpptOutputVoltage.0\n",
      "Solar.MpptOutputVoltage.1\n",
      "Solar.MpptOutputVoltage.2\n",
      "Solar.MpptOutputVoltage.3\n",
      "Solar.MpptOutputPower.0\n",
      "Solar.MpptOutputPower.1\n",
      "Solar.MpptOutputPower.2\n",
      "Solar.MpptOutputPower.3\n",
      "Solar.MpptPcbTemperature.0\n",
      "Solar.MpptPcbTemperature.1\n",
      "Solar.MpptPcbTemperature.2\n",
      "Solar.MpptPcbTemperature.3\n",
      "Solar.MpptMosfetTemperature.0\n",
      "Solar.MpptMosfetTemperature.1\n",
      "Solar.MpptMosfetTemperature.2\n",
      "Solar.MpptMosfetTemperature.3\n",
      "Solar.PowerMppt\n",
      "Gps.Timestamp\n",
      "Gps.Latitude\n",
      "Gps.LatitudeDirection\n",
      "Gps.Longitude\n",
      "Gps.LongitudeDirection\n",
      "Gps.Altitude\n",
      "Gps.SpeedKnots\n",
      "Gps.SpeedKilometers\n",
      "Gps.SatellitesNumber\n",
      "Gps.Quality\n",
      "Tires.Pressures.0\n",
      "Tires.Pressures.1\n",
      "Tires.Pressures.2\n",
      "Tires.Pressures.3\n",
      "Tires.Temperatures.0\n",
      "Tires.Temperatures.1\n",
      "Tires.Temperatures.2\n",
      "Tires.Temperatures.3\n",
      "RawBytes.0\n",
      "RawBytes.1\n",
      "RawBytes.2\n",
      "RawBytes.3\n",
      "RawBytes.4\n",
      "RawBytes.5\n",
      "RawBytes.6\n",
      "RawBytes.7\n",
      "RawBytes.8\n",
      "RawBytes.9\n",
      "RawBytes.10\n",
      "RawBytes.11\n",
      "RawBytes.12\n",
      "RawBytes.13\n",
      "RawBytes.14\n",
      "RawBytes.15\n",
      "RawBytes.16\n",
      "RawBytes.17\n",
      "RawBytes.18\n",
      "RawBytes.19\n",
      "RawBytes.20\n",
      "RawBytes.21\n",
      "RawBytes.22\n",
      "RawBytes.23\n",
      "RawBytes.24\n",
      "RawBytes.25\n",
      "RawBytes.26\n",
      "RawBytes.27\n",
      "RawBytes.28\n",
      "RawBytes.29\n",
      "RawBytes.30\n",
      "RawBytes.31\n",
      "RawBytes.32\n",
      "RawBytes.33\n",
      "RawBytes.34\n",
      "RawBytes.35\n",
      "RawBytes.36\n",
      "RawBytes.37\n",
      "RawBytes.38\n",
      "RawBytes.39\n",
      "RawBytes.40\n",
      "RawBytes.41\n",
      "RawBytes.42\n",
      "RawBytes.43\n",
      "RawBytes.44\n",
      "RawBytes.45\n",
      "RawBytes.46\n",
      "RawBytes.47\n",
      "RawBytes.48\n",
      "RawBytes.49\n",
      "RawBytes.50\n",
      "RawBytes.51\n",
      "RawBytes.52\n",
      "RawBytes.53\n",
      "RawBytes.54\n",
      "RawBytes.55\n",
      "RawBytes.56\n",
      "RawBytes.57\n",
      "RawBytes.58\n",
      "RawBytes.59\n",
      "RawBytes.60\n",
      "RawBytes.61\n",
      "RawBytes.62\n",
      "RawBytes.63\n",
      "RawBytes.64\n",
      "RawBytes.65\n",
      "RawBytes.66\n",
      "RawBytes.67\n",
      "RawBytes.68\n",
      "RawBytes.69\n",
      "RawBytes.70\n",
      "RawBytes.71\n",
      "RawBytes.72\n",
      "RawBytes.73\n",
      "RawBytes.74\n",
      "RawBytes.75\n",
      "RawBytes.76\n",
      "RawBytes.77\n",
      "RawBytes.78\n",
      "RawBytes.79\n",
      "RawBytes.80\n",
      "RawBytes.81\n",
      "RawBytes.82\n",
      "RawBytes.83\n",
      "RawBytes.84\n",
      "RawBytes.85\n",
      "RawBytes.86\n",
      "RawBytes.87\n",
      "RawBytes.88\n",
      "RawBytes.89\n",
      "RawBytes.90\n",
      "RawBytes.91\n",
      "RawBytes.92\n",
      "RawBytes.93\n",
      "RawBytes.94\n",
      "RawBytes.95\n",
      "RawBytes.96\n",
      "RawBytes.97\n",
      "RawBytes.98\n",
      "RawBytes.99\n",
      "RawBytes.100\n",
      "RawBytes.101\n",
      "RawBytes.102\n",
      "RawBytes.103\n",
      "RawBytes.104\n",
      "RawBytes.105\n",
      "RawBytes.106\n",
      "RawBytes.107\n",
      "RawBytes.108\n",
      "RawBytes.109\n",
      "RawBytes.110\n",
      "RawBytes.111\n",
      "RawBytes.112\n",
      "RawBytes.113\n",
      "RawBytes.114\n",
      "RawBytes.115\n",
      "RawBytes.116\n",
      "RawBytes.117\n",
      "RawBytes.118\n",
      "RawBytes.119\n",
      "RawBytes.120\n",
      "RawBytes.121\n",
      "RawBytes.122\n",
      "RawBytes.123\n",
      "RawBytes.124\n",
      "RawBytes.125\n",
      "RawBytes.126\n",
      "RawBytes.127\n",
      "RawBytes.128\n",
      "RawBytes.129\n",
      "RawBytes.130\n",
      "RawBytes.131\n",
      "RawBytes.132\n",
      "RawBytes.133\n",
      "RawBytes.134\n",
      "RawBytes.135\n",
      "RawBytes.136\n",
      "RawBytes.137\n",
      "RawBytes.138\n",
      "RawBytes.139\n",
      "RawBytes.140\n",
      "RawBytes.141\n",
      "RawBytes.142\n",
      "RawBytes.143\n",
      "RawBytes.144\n",
      "RawBytes.145\n",
      "RawBytes.146\n",
      "RawBytes.147\n",
      "RawBytes.148\n",
      "RawBytes.149\n",
      "RawBytes.150\n",
      "RawBytes.151\n",
      "RawBytes.152\n",
      "RawBytes.153\n",
      "RawBytes.154\n",
      "RawBytes.155\n",
      "RawBytes.156\n",
      "RawBytes.157\n",
      "RawBytes.158\n",
      "RawBytes.159\n",
      "RawBytes.160\n",
      "RawBytes.161\n",
      "RawBytes.162\n",
      "RawBytes.163\n",
      "RawBytes.164\n",
      "RawBytes.165\n",
      "RawBytes.166\n",
      "RawBytes.167\n",
      "RawBytes.168\n",
      "RawBytes.169\n",
      "RawBytes.170\n",
      "RawBytes.171\n",
      "RawBytes.172\n",
      "RawBytes.173\n",
      "RawBytes.174\n",
      "RawBytes.175\n",
      "RawBytes.176\n",
      "RawBytes.177\n",
      "RawBytes.178\n",
      "RawBytes.179\n",
      "RawBytes.180\n",
      "RawBytes.181\n",
      "RawBytes.182\n",
      "RawBytes.183\n",
      "RawBytes.184\n",
      "RawBytes.185\n",
      "RawBytes.186\n",
      "RawBytes.187\n",
      "RawBytes.188\n",
      "RawBytes.189\n",
      "RawBytes.190\n",
      "RawBytes.191\n",
      "RawBytes.192\n",
      "RawBytes.193\n",
      "RawBytes.194\n",
      "RawBytes.195\n",
      "RawBytes.196\n",
      "RawBytes.197\n",
      "RawBytes.198\n",
      "RawBytes.199\n",
      "RawBytes.200\n",
      "RawBytes.201\n",
      "RawBytes.202\n",
      "RawBytes.203\n",
      "RawBytes.204\n",
      "RawBytes.205\n",
      "RawBytes.206\n",
      "RawBytes.207\n",
      "RawBytes.208\n",
      "RawBytes.209\n",
      "RawBytes.210\n",
      "RawBytes.211\n",
      "RawBytes.212\n",
      "RawBytes.213\n",
      "RawBytes.214\n",
      "RawBytes.215\n",
      "RawBytes.216\n",
      "RawBytes.217\n",
      "RawBytes.218\n",
      "RawBytes.219\n",
      "RawBytes.220\n",
      "RawBytes.221\n",
      "RawBytes.222\n",
      "RawBytes.223\n",
      "RawBytes.224\n",
      "RawBytes.225\n",
      "RawBytes.226\n",
      "RawBytes.227\n",
      "RawBytes.228\n",
      "RawBytes.229\n",
      "RawBytes.230\n",
      "RawBytes.231\n",
      "RawBytes.232\n",
      "RawBytes.233\n",
      "RawBytes.234\n",
      "RawBytes.235\n",
      "RawBytes.236\n",
      "RawBytes.237\n",
      "RawBytes.238\n",
      "RawBytes.239\n",
      "RawBytes.240\n",
      "RawBytes.241\n",
      "RawBytes.242\n",
      "RawBytes.243\n",
      "RawBytes.244\n",
      "RawBytes.245\n",
      "RawBytes.246\n",
      "RawBytes.247\n",
      "RawBytes.248\n",
      "RawBytes.249\n",
      "RawBytes.250\n",
      "RawBytes.251\n",
      "RawBytes.252\n",
      "RawBytes.253\n",
      "RawBytes.254\n",
      "RawBytes.255\n",
      "RawBytes.256\n",
      "RawBytes.257\n",
      "RawBytes.258\n",
      "RawBytes.259\n",
      "RawBytes.260\n",
      "RawBytes.261\n",
      "RawBytes.262\n",
      "RawBytes.263\n",
      "RawBytes.264\n",
      "RawBytes.265\n",
      "RawBytes.266\n",
      "RawBytes.267\n",
      "RawBytes.268\n",
      "RawBytes.269\n",
      "RawBytes.270\n",
      "RawBytes.271\n",
      "RawBytes.272\n",
      "RawBytes.273\n",
      "RawBytes.274\n",
      "RawBytes.275\n",
      "RawBytes.276\n",
      "RawBytes.277\n",
      "RawBytes.278\n",
      "RawBytes.279\n",
      "RawBytes.280\n",
      "RawBytes.281\n",
      "RawBytes.282\n",
      "RawBytes.283\n",
      "RawBytes.284\n",
      "RawBytes.285\n",
      "RawBytes.286\n",
      "RawBytes.287\n",
      "RawBytes.288\n",
      "RawBytes.289\n",
      "RawBytes.290\n",
      "RawBytes.291\n",
      "RawBytes.292\n",
      "RawBytes.293\n",
      "RawBytes.294\n"
     ]
    }
   ],
   "source": [
    "names <- colnames(race_2021_df)\n",
    "cat(names, sep=\"\\n\")"
   ]
  },
  {
   "cell_type": "code",
   "execution_count": 333,
   "id": "68c5c0e2",
   "metadata": {},
   "outputs": [],
   "source": [
    "# Drop columns with Row Bytes (it is just a backup in case of data parsing failure)\n",
    "race_2021_clean_df = race_2021_df[,!grepl(\"^RawBytes\",names(race_2021_df))]\n",
    "\n",
    "# Drop columns with Tyres (due to lack of hardware)\n",
    "race_2021_clean_df = race_2021_clean_df[,!grepl(\"^Tires\",names(race_2021_clean_df))]\n",
    "\n",
    "# Drop GPS data (due to failure during 18-19 September ONLY)\n",
    "race_2021_clean_df = race_2021_clean_df[,!grepl(\"^Gps\",names(race_2021_clean_df))]\n",
    "\n",
    "# Drop columns with warnings - as they are based on numerical values received in the data\n",
    "race_2021_clean_df = race_2021_clean_df[,!grepl(\"^Battery.Warnings\",names(race_2021_clean_df))]\n",
    "\n",
    "# Drop columns with errors - as they are based on numerical values received in the data\n",
    "race_2021_clean_df = race_2021_clean_df[,!grepl(\"^Battery.Errors\",names(race_2021_clean_df))]\n",
    "\n",
    "# Drop columns with lights - as they does not influence the final result due to negligible power impact\n",
    "race_2021_clean_df = race_2021_clean_df[,!grepl(\"^Lights\",names(race_2021_clean_df))]\n",
    "\n",
    "# Other columns containing misleading / failed information\n",
    "cols_to_drop <- c(\n",
    "    \"X_id\",  # DB ID\n",
    "    \"X_t\",    # DB Info\n",
    "    \"General.ReceivedTime\",          # Redundant with General.Timestamp\n",
    "    \"General.CruiseThrottle\",        # Not used during the race\n",
    "    \"General.CruiseDesiredSpeed\",    # Not used during the race\n",
    "    \"General.EngineError\",           # Not implemented\n",
    "    \"General.CruiseEngaged\",         # Not used during the race\n",
    "    \"General.HandBrake\",             # Probably not working - Verify\n",
    "    \"General.Temperatures.0\",        # Not implemented           \n",
    "    \"General.Temperatures.1\",        # Not implemented\n",
    "    \"General.Temperatures.2\",        # Not implemented\n",
    "    \"General.Temperatures.3\",        # Not implemented\n",
    "    \"General.SolarRadiance\",         # Not implemented\n",
    "    \"General.BatteryError\",          # Not implemented\n",
    "    \"LeftEngine\",                    # Not implemented\n",
    "    \"RightEngine\",                   # Not implemented\n",
    "    \"Solar.MpptPcbTemperature.0\",    # Not implemented\n",
    "    \"Solar.MpptPcbTemperature.1\",    # Not implemented\n",
    "    \"Solar.MpptPcbTemperature.2\",    # Not implemented\n",
    "    \"Solar.MpptPcbTemperature.3\",    # Not implemented\n",
    "    \"Solar.MpptMosfetTemperature.0\", # Not implemented\n",
    "    \"Solar.MpptMosfetTemperature.1\", # Not implemented\n",
    "    \"Solar.MpptMosfetTemperature.2\", # Not implemented\n",
    "    \"Solar.MpptMosfetTemperature.3\"  # Not implemented\n",
    ")\n",
    "\n",
    "race_2021_clean_df = race_2021_clean_df[,!(names(race_2021_clean_df) %in% cols_to_drop)]"
   ]
  },
  {
   "cell_type": "code",
   "execution_count": 334,
   "id": "57f32f02",
   "metadata": {
    "scrolled": true
   },
   "outputs": [
    {
     "data": {
      "text/html": [
       "100"
      ],
      "text/latex": [
       "100"
      ],
      "text/markdown": [
       "100"
      ],
      "text/plain": [
       "[1] 100"
      ]
     },
     "metadata": {},
     "output_type": "display_data"
    }
   ],
   "source": [
    "# Print the available columns\n",
    "ncol(race_2021_clean_df)\n",
    "names_clean <- colnames(race_2021_clean_df)"
   ]
  },
  {
   "cell_type": "markdown",
   "id": "341bfb4d",
   "metadata": {},
   "source": [
    "### THE MOST USELESS COLUMNS HAS BEEN DROPPED\n",
    "Now we need to investigate the issues with other columns (if exist)"
   ]
  },
  {
   "cell_type": "markdown",
   "id": "4295013a",
   "metadata": {},
   "source": [
    "____________________________________________________\n",
    "\n",
    "# STEP 4 - DATA CLEANSING - BASED ON DATA"
   ]
  },
  {
   "cell_type": "markdown",
   "id": "08369225",
   "metadata": {},
   "source": [
    "## >>> 4.1 - Timestamp\n",
    "Timestamp was imported as a factor - we want to have it in a good for data mining way - as a date"
   ]
  },
  {
   "cell_type": "code",
   "execution_count": 335,
   "id": "2d3e6013",
   "metadata": {},
   "outputs": [
    {
     "name": "stdout",
     "output_type": "stream",
     "text": [
      " Factor w/ 1392 levels \"18.09.2021 13:00\",..: 1 1 1 1 1 1 1 1 1 1 ...\n"
     ]
    }
   ],
   "source": [
    "str(race_2021_clean_df$General.Timestamp)"
   ]
  },
  {
   "cell_type": "code",
   "execution_count": 336,
   "id": "5018a7ec",
   "metadata": {},
   "outputs": [],
   "source": [
    "# \"18.09.2021 13:00\"\n",
    "race_2021_clean_df$General.Timestamp <- strptime(\n",
    "    x=as.character(race_2021_clean_df$General.Timestamp),\n",
    "    format = \"%d.%m.%Y %H:%M\")\n",
    "race_2021_clean_df$General.Timestamp <- as.POSIXct(x=race_2021_clean_df$General.Timestamp)\n",
    "\n",
    "race_2021_clean_df <- race_2021_clean_df[order(race_2021_clean_df$General.Timestamp),]"
   ]
  },
  {
   "cell_type": "code",
   "execution_count": 337,
   "id": "813c8917",
   "metadata": {},
   "outputs": [
    {
     "name": "stdout",
     "output_type": "stream",
     "text": [
      " POSIXct[1:72471], format: \"2021-09-18 13:00:00\" \"2021-09-18 13:00:00\" \"2021-09-18 13:00:00\" ...\n"
     ]
    }
   ],
   "source": [
    "str(race_2021_clean_df$General.Timestamp)"
   ]
  },
  {
   "cell_type": "code",
   "execution_count": 338,
   "id": "d2e11853",
   "metadata": {},
   "outputs": [
    {
     "data": {
      "text/plain": [
       "                 Min.               1st Qu.                Median \n",
       "\"2021-09-18 13:00:00\" \"2021-09-18 18:44:00\" \"2021-09-19 00:43:00\" \n",
       "                 Mean               3rd Qu.                  Max. \n",
       "\"2021-09-19 00:43:35\" \"2021-09-19 06:34:00\" \"2021-09-19 13:00:00\" "
      ]
     },
     "metadata": {},
     "output_type": "display_data"
    }
   ],
   "source": [
    "summary(race_2021_clean_df$General.Timestamp)"
   ]
  },
  {
   "cell_type": "markdown",
   "id": "ff695f06",
   "metadata": {},
   "source": [
    "## >>> 4.2 - Data translation \n",
    "As the data was collected in Polish - all boolean variables must be translated to obtain a clear minable view"
   ]
  },
  {
   "cell_type": "code",
   "execution_count": 339,
   "id": "e0f82525",
   "metadata": {
    "scrolled": true
   },
   "outputs": [
    {
     "name": "stdout",
     "output_type": "stream",
     "text": [
      "'data.frame':\t72471 obs. of  5 variables:\n",
      " $ General.Timestamp       : POSIXct, format: \"2021-09-18 13:00:00\" \"2021-09-18 13:00:00\" ...\n",
      " $ General.ThrottlePosition: int  0 0 0 0 0 0 0 0 0 0 ...\n",
      " $ General.MotorController : int  5 5 5 5 5 5 5 5 5 5 ...\n",
      " $ General.MainSwitch      : Factor w/ 2 levels \"FAŁSZ\",\"PRAWDA\": 2 2 2 2 2 2 2 2 2 2 ...\n",
      " $ General.MotorDirection  : Factor w/ 2 levels \"FAŁSZ\",\"PRAWDA\": 1 1 1 1 1 1 1 1 1 1 ...\n"
     ]
    }
   ],
   "source": [
    "str(race_2021_clean_df[,0:5])"
   ]
  },
  {
   "cell_type": "code",
   "execution_count": 340,
   "id": "c6fd3d2f",
   "metadata": {
    "scrolled": true
   },
   "outputs": [
    {
     "data": {
      "text/html": [
       "<table>\n",
       "<thead><tr><th scope=col>General.Timestamp</th><th scope=col>General.ThrottlePosition</th><th scope=col>General.MotorController</th><th scope=col>General.MainSwitch</th><th scope=col>General.MotorDirection</th><th scope=col>General.PowerEco</th><th scope=col>General.RegenerationBrake</th><th scope=col>General.DriveMode</th><th scope=col>General.Horn</th><th scope=col>General.Rpm</th><th scope=col>...</th><th scope=col>Solar.MpptInputCurrent.3</th><th scope=col>Solar.MpptOutputVoltage.0</th><th scope=col>Solar.MpptOutputVoltage.1</th><th scope=col>Solar.MpptOutputVoltage.2</th><th scope=col>Solar.MpptOutputVoltage.3</th><th scope=col>Solar.MpptOutputPower.0</th><th scope=col>Solar.MpptOutputPower.1</th><th scope=col>Solar.MpptOutputPower.2</th><th scope=col>Solar.MpptOutputPower.3</th><th scope=col>Solar.PowerMppt</th></tr></thead>\n",
       "<tbody>\n",
       "\t<tr><td>2021-09-18 13:00:00</td><td>0                  </td><td>5                  </td><td>PRAWDA             </td><td>FAŁSZ              </td><td>PRAWDA             </td><td>0                  </td><td>2                  </td><td>0                  </td><td>0                  </td><td>...                </td><td>1784.162           </td><td>124                </td><td>124                </td><td>123                </td><td>125                </td><td>154761             </td><td>787                </td><td>2190               </td><td>75253              </td><td>232991             </td></tr>\n",
       "\t<tr><td>2021-09-18 13:00:00</td><td>0                  </td><td>5                  </td><td>PRAWDA             </td><td>FAŁSZ              </td><td>PRAWDA             </td><td>0                  </td><td>2                  </td><td>0                  </td><td>0                  </td><td>...                </td><td>1784.162           </td><td>124                </td><td>124                </td><td>123                </td><td>125                </td><td>154761             </td><td>787                </td><td>2190               </td><td>75253              </td><td>232991             </td></tr>\n",
       "\t<tr><td>2021-09-18 13:00:00</td><td>0                  </td><td>5                  </td><td>PRAWDA             </td><td>FAŁSZ              </td><td>PRAWDA             </td><td>0                  </td><td>2                  </td><td>0                  </td><td>0                  </td><td>...                </td><td>1784.162           </td><td>124                </td><td>124                </td><td>123                </td><td>125                </td><td>154761             </td><td>787                </td><td>2190               </td><td>75253              </td><td>232991             </td></tr>\n",
       "\t<tr><td>2021-09-18 13:00:00</td><td>0                  </td><td>5                  </td><td>PRAWDA             </td><td>FAŁSZ              </td><td>PRAWDA             </td><td>0                  </td><td>2                  </td><td>0                  </td><td>0                  </td><td>...                </td><td>1784.162           </td><td>124                </td><td>124                </td><td>123                </td><td>125                </td><td>154761             </td><td>787                </td><td>2190               </td><td>75253              </td><td>232991             </td></tr>\n",
       "\t<tr><td>2021-09-18 13:00:00</td><td>0                  </td><td>5                  </td><td>PRAWDA             </td><td>FAŁSZ              </td><td>PRAWDA             </td><td>0                  </td><td>2                  </td><td>0                  </td><td>0                  </td><td>...                </td><td>1784.162           </td><td>124                </td><td>124                </td><td>123                </td><td>125                </td><td>154761             </td><td>787                </td><td>2190               </td><td>75253              </td><td>232991             </td></tr>\n",
       "\t<tr><td>2021-09-18 13:00:00</td><td>0                  </td><td>5                  </td><td>PRAWDA             </td><td>FAŁSZ              </td><td>PRAWDA             </td><td>0                  </td><td>2                  </td><td>0                  </td><td>0                  </td><td>...                </td><td>1784.162           </td><td>124                </td><td>124                </td><td>123                </td><td>125                </td><td>154761             </td><td>787                </td><td>2190               </td><td>75253              </td><td>232991             </td></tr>\n",
       "</tbody>\n",
       "</table>\n"
      ],
      "text/latex": [
       "\\begin{tabular}{r|llllllllllllllllllllllllllllllllllllllllllllllllllllllllllllllllllllllllllllllllllllllllllllllllllll}\n",
       " General.Timestamp & General.ThrottlePosition & General.MotorController & General.MainSwitch & General.MotorDirection & General.PowerEco & General.RegenerationBrake & General.DriveMode & General.Horn & General.Rpm & ... & Solar.MpptInputCurrent.3 & Solar.MpptOutputVoltage.0 & Solar.MpptOutputVoltage.1 & Solar.MpptOutputVoltage.2 & Solar.MpptOutputVoltage.3 & Solar.MpptOutputPower.0 & Solar.MpptOutputPower.1 & Solar.MpptOutputPower.2 & Solar.MpptOutputPower.3 & Solar.PowerMppt\\\\\n",
       "\\hline\n",
       "\t 2021-09-18 13:00:00 & 0                   & 5                   & PRAWDA              & FAŁSZ               & PRAWDA              & 0                   & 2                   & 0                   & 0                   & ...                 & 1784.162            & 124                 & 124                 & 123                 & 125                 & 154761              & 787                 & 2190                & 75253               & 232991             \\\\\n",
       "\t 2021-09-18 13:00:00 & 0                   & 5                   & PRAWDA              & FAŁSZ               & PRAWDA              & 0                   & 2                   & 0                   & 0                   & ...                 & 1784.162            & 124                 & 124                 & 123                 & 125                 & 154761              & 787                 & 2190                & 75253               & 232991             \\\\\n",
       "\t 2021-09-18 13:00:00 & 0                   & 5                   & PRAWDA              & FAŁSZ               & PRAWDA              & 0                   & 2                   & 0                   & 0                   & ...                 & 1784.162            & 124                 & 124                 & 123                 & 125                 & 154761              & 787                 & 2190                & 75253               & 232991             \\\\\n",
       "\t 2021-09-18 13:00:00 & 0                   & 5                   & PRAWDA              & FAŁSZ               & PRAWDA              & 0                   & 2                   & 0                   & 0                   & ...                 & 1784.162            & 124                 & 124                 & 123                 & 125                 & 154761              & 787                 & 2190                & 75253               & 232991             \\\\\n",
       "\t 2021-09-18 13:00:00 & 0                   & 5                   & PRAWDA              & FAŁSZ               & PRAWDA              & 0                   & 2                   & 0                   & 0                   & ...                 & 1784.162            & 124                 & 124                 & 123                 & 125                 & 154761              & 787                 & 2190                & 75253               & 232991             \\\\\n",
       "\t 2021-09-18 13:00:00 & 0                   & 5                   & PRAWDA              & FAŁSZ               & PRAWDA              & 0                   & 2                   & 0                   & 0                   & ...                 & 1784.162            & 124                 & 124                 & 123                 & 125                 & 154761              & 787                 & 2190                & 75253               & 232991             \\\\\n",
       "\\end{tabular}\n"
      ],
      "text/markdown": [
       "\n",
       "| General.Timestamp | General.ThrottlePosition | General.MotorController | General.MainSwitch | General.MotorDirection | General.PowerEco | General.RegenerationBrake | General.DriveMode | General.Horn | General.Rpm | ... | Solar.MpptInputCurrent.3 | Solar.MpptOutputVoltage.0 | Solar.MpptOutputVoltage.1 | Solar.MpptOutputVoltage.2 | Solar.MpptOutputVoltage.3 | Solar.MpptOutputPower.0 | Solar.MpptOutputPower.1 | Solar.MpptOutputPower.2 | Solar.MpptOutputPower.3 | Solar.PowerMppt |\n",
       "|---|---|---|---|---|---|---|---|---|---|---|---|---|---|---|---|---|---|---|---|---|\n",
       "| 2021-09-18 13:00:00 | 0                   | 5                   | PRAWDA              | FAŁSZ               | PRAWDA              | 0                   | 2                   | 0                   | 0                   | ...                 | 1784.162            | 124                 | 124                 | 123                 | 125                 | 154761              | 787                 | 2190                | 75253               | 232991              |\n",
       "| 2021-09-18 13:00:00 | 0                   | 5                   | PRAWDA              | FAŁSZ               | PRAWDA              | 0                   | 2                   | 0                   | 0                   | ...                 | 1784.162            | 124                 | 124                 | 123                 | 125                 | 154761              | 787                 | 2190                | 75253               | 232991              |\n",
       "| 2021-09-18 13:00:00 | 0                   | 5                   | PRAWDA              | FAŁSZ               | PRAWDA              | 0                   | 2                   | 0                   | 0                   | ...                 | 1784.162            | 124                 | 124                 | 123                 | 125                 | 154761              | 787                 | 2190                | 75253               | 232991              |\n",
       "| 2021-09-18 13:00:00 | 0                   | 5                   | PRAWDA              | FAŁSZ               | PRAWDA              | 0                   | 2                   | 0                   | 0                   | ...                 | 1784.162            | 124                 | 124                 | 123                 | 125                 | 154761              | 787                 | 2190                | 75253               | 232991              |\n",
       "| 2021-09-18 13:00:00 | 0                   | 5                   | PRAWDA              | FAŁSZ               | PRAWDA              | 0                   | 2                   | 0                   | 0                   | ...                 | 1784.162            | 124                 | 124                 | 123                 | 125                 | 154761              | 787                 | 2190                | 75253               | 232991              |\n",
       "| 2021-09-18 13:00:00 | 0                   | 5                   | PRAWDA              | FAŁSZ               | PRAWDA              | 0                   | 2                   | 0                   | 0                   | ...                 | 1784.162            | 124                 | 124                 | 123                 | 125                 | 154761              | 787                 | 2190                | 75253               | 232991              |\n",
       "\n"
      ],
      "text/plain": [
       "  General.Timestamp   General.ThrottlePosition General.MotorController\n",
       "1 2021-09-18 13:00:00 0                        5                      \n",
       "2 2021-09-18 13:00:00 0                        5                      \n",
       "3 2021-09-18 13:00:00 0                        5                      \n",
       "4 2021-09-18 13:00:00 0                        5                      \n",
       "5 2021-09-18 13:00:00 0                        5                      \n",
       "6 2021-09-18 13:00:00 0                        5                      \n",
       "  General.MainSwitch General.MotorDirection General.PowerEco\n",
       "1 PRAWDA             FAŁSZ                  PRAWDA          \n",
       "2 PRAWDA             FAŁSZ                  PRAWDA          \n",
       "3 PRAWDA             FAŁSZ                  PRAWDA          \n",
       "4 PRAWDA             FAŁSZ                  PRAWDA          \n",
       "5 PRAWDA             FAŁSZ                  PRAWDA          \n",
       "6 PRAWDA             FAŁSZ                  PRAWDA          \n",
       "  General.RegenerationBrake General.DriveMode General.Horn General.Rpm ...\n",
       "1 0                         2                 0            0           ...\n",
       "2 0                         2                 0            0           ...\n",
       "3 0                         2                 0            0           ...\n",
       "4 0                         2                 0            0           ...\n",
       "5 0                         2                 0            0           ...\n",
       "6 0                         2                 0            0           ...\n",
       "  Solar.MpptInputCurrent.3 Solar.MpptOutputVoltage.0 Solar.MpptOutputVoltage.1\n",
       "1 1784.162                 124                       124                      \n",
       "2 1784.162                 124                       124                      \n",
       "3 1784.162                 124                       124                      \n",
       "4 1784.162                 124                       124                      \n",
       "5 1784.162                 124                       124                      \n",
       "6 1784.162                 124                       124                      \n",
       "  Solar.MpptOutputVoltage.2 Solar.MpptOutputVoltage.3 Solar.MpptOutputPower.0\n",
       "1 123                       125                       154761                 \n",
       "2 123                       125                       154761                 \n",
       "3 123                       125                       154761                 \n",
       "4 123                       125                       154761                 \n",
       "5 123                       125                       154761                 \n",
       "6 123                       125                       154761                 \n",
       "  Solar.MpptOutputPower.1 Solar.MpptOutputPower.2 Solar.MpptOutputPower.3\n",
       "1 787                     2190                    75253                  \n",
       "2 787                     2190                    75253                  \n",
       "3 787                     2190                    75253                  \n",
       "4 787                     2190                    75253                  \n",
       "5 787                     2190                    75253                  \n",
       "6 787                     2190                    75253                  \n",
       "  Solar.PowerMppt\n",
       "1 232991         \n",
       "2 232991         \n",
       "3 232991         \n",
       "4 232991         \n",
       "5 232991         \n",
       "6 232991         "
      ]
     },
     "metadata": {},
     "output_type": "display_data"
    }
   ],
   "source": [
    "head(race_2021_clean_df)"
   ]
  },
  {
   "cell_type": "code",
   "execution_count": 341,
   "id": "9c2128a5",
   "metadata": {},
   "outputs": [],
   "source": [
    "race_2021_clean_df[] <- lapply(\n",
    "    race_2021_clean_df, \n",
    "    function(x) \n",
    "        if(all(x %in% c('PRAWDA', 'FAŁSZ'), na.rm = TRUE)) x == 'PRAWDA' else x)"
   ]
  },
  {
   "cell_type": "code",
   "execution_count": 342,
   "id": "5d1f0042",
   "metadata": {
    "scrolled": true
   },
   "outputs": [
    {
     "name": "stdout",
     "output_type": "stream",
     "text": [
      "'data.frame':\t72471 obs. of  5 variables:\n",
      " $ General.Timestamp       : POSIXct, format: \"2021-09-18 13:00:00\" \"2021-09-18 13:00:00\" ...\n",
      " $ General.ThrottlePosition: int  0 0 0 0 0 0 0 0 0 0 ...\n",
      " $ General.MotorController : int  5 5 5 5 5 5 5 5 5 5 ...\n",
      " $ General.MainSwitch      : logi  TRUE TRUE TRUE TRUE TRUE TRUE ...\n",
      " $ General.MotorDirection  : logi  FALSE FALSE FALSE FALSE FALSE FALSE ...\n"
     ]
    }
   ],
   "source": [
    "str(race_2021_clean_df[,0:5])"
   ]
  },
  {
   "cell_type": "code",
   "execution_count": 343,
   "id": "b3a3d595",
   "metadata": {},
   "outputs": [
    {
     "data": {
      "text/html": [
       "<table>\n",
       "<thead><tr><th scope=col>General.Timestamp</th><th scope=col>General.ThrottlePosition</th><th scope=col>General.MotorController</th><th scope=col>General.MainSwitch</th><th scope=col>General.MotorDirection</th><th scope=col>General.PowerEco</th><th scope=col>General.RegenerationBrake</th><th scope=col>General.DriveMode</th><th scope=col>General.Horn</th><th scope=col>General.Rpm</th><th scope=col>...</th><th scope=col>Solar.MpptInputCurrent.3</th><th scope=col>Solar.MpptOutputVoltage.0</th><th scope=col>Solar.MpptOutputVoltage.1</th><th scope=col>Solar.MpptOutputVoltage.2</th><th scope=col>Solar.MpptOutputVoltage.3</th><th scope=col>Solar.MpptOutputPower.0</th><th scope=col>Solar.MpptOutputPower.1</th><th scope=col>Solar.MpptOutputPower.2</th><th scope=col>Solar.MpptOutputPower.3</th><th scope=col>Solar.PowerMppt</th></tr></thead>\n",
       "<tbody>\n",
       "\t<tr><td>2021-09-18 13:00:00</td><td>0                  </td><td>5                  </td><td>TRUE               </td><td>FALSE              </td><td>TRUE               </td><td>0                  </td><td>2                  </td><td>0                  </td><td>0                  </td><td>...                </td><td>1784.162           </td><td>124                </td><td>124                </td><td>123                </td><td>125                </td><td>154761             </td><td>787                </td><td>2190               </td><td>75253              </td><td>232991             </td></tr>\n",
       "\t<tr><td>2021-09-18 13:00:00</td><td>0                  </td><td>5                  </td><td>TRUE               </td><td>FALSE              </td><td>TRUE               </td><td>0                  </td><td>2                  </td><td>0                  </td><td>0                  </td><td>...                </td><td>1784.162           </td><td>124                </td><td>124                </td><td>123                </td><td>125                </td><td>154761             </td><td>787                </td><td>2190               </td><td>75253              </td><td>232991             </td></tr>\n",
       "\t<tr><td>2021-09-18 13:00:00</td><td>0                  </td><td>5                  </td><td>TRUE               </td><td>FALSE              </td><td>TRUE               </td><td>0                  </td><td>2                  </td><td>0                  </td><td>0                  </td><td>...                </td><td>1784.162           </td><td>124                </td><td>124                </td><td>123                </td><td>125                </td><td>154761             </td><td>787                </td><td>2190               </td><td>75253              </td><td>232991             </td></tr>\n",
       "\t<tr><td>2021-09-18 13:00:00</td><td>0                  </td><td>5                  </td><td>TRUE               </td><td>FALSE              </td><td>TRUE               </td><td>0                  </td><td>2                  </td><td>0                  </td><td>0                  </td><td>...                </td><td>1784.162           </td><td>124                </td><td>124                </td><td>123                </td><td>125                </td><td>154761             </td><td>787                </td><td>2190               </td><td>75253              </td><td>232991             </td></tr>\n",
       "\t<tr><td>2021-09-18 13:00:00</td><td>0                  </td><td>5                  </td><td>TRUE               </td><td>FALSE              </td><td>TRUE               </td><td>0                  </td><td>2                  </td><td>0                  </td><td>0                  </td><td>...                </td><td>1784.162           </td><td>124                </td><td>124                </td><td>123                </td><td>125                </td><td>154761             </td><td>787                </td><td>2190               </td><td>75253              </td><td>232991             </td></tr>\n",
       "\t<tr><td>2021-09-18 13:00:00</td><td>0                  </td><td>5                  </td><td>TRUE               </td><td>FALSE              </td><td>TRUE               </td><td>0                  </td><td>2                  </td><td>0                  </td><td>0                  </td><td>...                </td><td>1784.162           </td><td>124                </td><td>124                </td><td>123                </td><td>125                </td><td>154761             </td><td>787                </td><td>2190               </td><td>75253              </td><td>232991             </td></tr>\n",
       "</tbody>\n",
       "</table>\n"
      ],
      "text/latex": [
       "\\begin{tabular}{r|llllllllllllllllllllllllllllllllllllllllllllllllllllllllllllllllllllllllllllllllllllllllllllllllllll}\n",
       " General.Timestamp & General.ThrottlePosition & General.MotorController & General.MainSwitch & General.MotorDirection & General.PowerEco & General.RegenerationBrake & General.DriveMode & General.Horn & General.Rpm & ... & Solar.MpptInputCurrent.3 & Solar.MpptOutputVoltage.0 & Solar.MpptOutputVoltage.1 & Solar.MpptOutputVoltage.2 & Solar.MpptOutputVoltage.3 & Solar.MpptOutputPower.0 & Solar.MpptOutputPower.1 & Solar.MpptOutputPower.2 & Solar.MpptOutputPower.3 & Solar.PowerMppt\\\\\n",
       "\\hline\n",
       "\t 2021-09-18 13:00:00 & 0                   & 5                   & TRUE                & FALSE               & TRUE                & 0                   & 2                   & 0                   & 0                   & ...                 & 1784.162            & 124                 & 124                 & 123                 & 125                 & 154761              & 787                 & 2190                & 75253               & 232991             \\\\\n",
       "\t 2021-09-18 13:00:00 & 0                   & 5                   & TRUE                & FALSE               & TRUE                & 0                   & 2                   & 0                   & 0                   & ...                 & 1784.162            & 124                 & 124                 & 123                 & 125                 & 154761              & 787                 & 2190                & 75253               & 232991             \\\\\n",
       "\t 2021-09-18 13:00:00 & 0                   & 5                   & TRUE                & FALSE               & TRUE                & 0                   & 2                   & 0                   & 0                   & ...                 & 1784.162            & 124                 & 124                 & 123                 & 125                 & 154761              & 787                 & 2190                & 75253               & 232991             \\\\\n",
       "\t 2021-09-18 13:00:00 & 0                   & 5                   & TRUE                & FALSE               & TRUE                & 0                   & 2                   & 0                   & 0                   & ...                 & 1784.162            & 124                 & 124                 & 123                 & 125                 & 154761              & 787                 & 2190                & 75253               & 232991             \\\\\n",
       "\t 2021-09-18 13:00:00 & 0                   & 5                   & TRUE                & FALSE               & TRUE                & 0                   & 2                   & 0                   & 0                   & ...                 & 1784.162            & 124                 & 124                 & 123                 & 125                 & 154761              & 787                 & 2190                & 75253               & 232991             \\\\\n",
       "\t 2021-09-18 13:00:00 & 0                   & 5                   & TRUE                & FALSE               & TRUE                & 0                   & 2                   & 0                   & 0                   & ...                 & 1784.162            & 124                 & 124                 & 123                 & 125                 & 154761              & 787                 & 2190                & 75253               & 232991             \\\\\n",
       "\\end{tabular}\n"
      ],
      "text/markdown": [
       "\n",
       "| General.Timestamp | General.ThrottlePosition | General.MotorController | General.MainSwitch | General.MotorDirection | General.PowerEco | General.RegenerationBrake | General.DriveMode | General.Horn | General.Rpm | ... | Solar.MpptInputCurrent.3 | Solar.MpptOutputVoltage.0 | Solar.MpptOutputVoltage.1 | Solar.MpptOutputVoltage.2 | Solar.MpptOutputVoltage.3 | Solar.MpptOutputPower.0 | Solar.MpptOutputPower.1 | Solar.MpptOutputPower.2 | Solar.MpptOutputPower.3 | Solar.PowerMppt |\n",
       "|---|---|---|---|---|---|---|---|---|---|---|---|---|---|---|---|---|---|---|---|---|\n",
       "| 2021-09-18 13:00:00 | 0                   | 5                   | TRUE                | FALSE               | TRUE                | 0                   | 2                   | 0                   | 0                   | ...                 | 1784.162            | 124                 | 124                 | 123                 | 125                 | 154761              | 787                 | 2190                | 75253               | 232991              |\n",
       "| 2021-09-18 13:00:00 | 0                   | 5                   | TRUE                | FALSE               | TRUE                | 0                   | 2                   | 0                   | 0                   | ...                 | 1784.162            | 124                 | 124                 | 123                 | 125                 | 154761              | 787                 | 2190                | 75253               | 232991              |\n",
       "| 2021-09-18 13:00:00 | 0                   | 5                   | TRUE                | FALSE               | TRUE                | 0                   | 2                   | 0                   | 0                   | ...                 | 1784.162            | 124                 | 124                 | 123                 | 125                 | 154761              | 787                 | 2190                | 75253               | 232991              |\n",
       "| 2021-09-18 13:00:00 | 0                   | 5                   | TRUE                | FALSE               | TRUE                | 0                   | 2                   | 0                   | 0                   | ...                 | 1784.162            | 124                 | 124                 | 123                 | 125                 | 154761              | 787                 | 2190                | 75253               | 232991              |\n",
       "| 2021-09-18 13:00:00 | 0                   | 5                   | TRUE                | FALSE               | TRUE                | 0                   | 2                   | 0                   | 0                   | ...                 | 1784.162            | 124                 | 124                 | 123                 | 125                 | 154761              | 787                 | 2190                | 75253               | 232991              |\n",
       "| 2021-09-18 13:00:00 | 0                   | 5                   | TRUE                | FALSE               | TRUE                | 0                   | 2                   | 0                   | 0                   | ...                 | 1784.162            | 124                 | 124                 | 123                 | 125                 | 154761              | 787                 | 2190                | 75253               | 232991              |\n",
       "\n"
      ],
      "text/plain": [
       "  General.Timestamp   General.ThrottlePosition General.MotorController\n",
       "1 2021-09-18 13:00:00 0                        5                      \n",
       "2 2021-09-18 13:00:00 0                        5                      \n",
       "3 2021-09-18 13:00:00 0                        5                      \n",
       "4 2021-09-18 13:00:00 0                        5                      \n",
       "5 2021-09-18 13:00:00 0                        5                      \n",
       "6 2021-09-18 13:00:00 0                        5                      \n",
       "  General.MainSwitch General.MotorDirection General.PowerEco\n",
       "1 TRUE               FALSE                  TRUE            \n",
       "2 TRUE               FALSE                  TRUE            \n",
       "3 TRUE               FALSE                  TRUE            \n",
       "4 TRUE               FALSE                  TRUE            \n",
       "5 TRUE               FALSE                  TRUE            \n",
       "6 TRUE               FALSE                  TRUE            \n",
       "  General.RegenerationBrake General.DriveMode General.Horn General.Rpm ...\n",
       "1 0                         2                 0            0           ...\n",
       "2 0                         2                 0            0           ...\n",
       "3 0                         2                 0            0           ...\n",
       "4 0                         2                 0            0           ...\n",
       "5 0                         2                 0            0           ...\n",
       "6 0                         2                 0            0           ...\n",
       "  Solar.MpptInputCurrent.3 Solar.MpptOutputVoltage.0 Solar.MpptOutputVoltage.1\n",
       "1 1784.162                 124                       124                      \n",
       "2 1784.162                 124                       124                      \n",
       "3 1784.162                 124                       124                      \n",
       "4 1784.162                 124                       124                      \n",
       "5 1784.162                 124                       124                      \n",
       "6 1784.162                 124                       124                      \n",
       "  Solar.MpptOutputVoltage.2 Solar.MpptOutputVoltage.3 Solar.MpptOutputPower.0\n",
       "1 123                       125                       154761                 \n",
       "2 123                       125                       154761                 \n",
       "3 123                       125                       154761                 \n",
       "4 123                       125                       154761                 \n",
       "5 123                       125                       154761                 \n",
       "6 123                       125                       154761                 \n",
       "  Solar.MpptOutputPower.1 Solar.MpptOutputPower.2 Solar.MpptOutputPower.3\n",
       "1 787                     2190                    75253                  \n",
       "2 787                     2190                    75253                  \n",
       "3 787                     2190                    75253                  \n",
       "4 787                     2190                    75253                  \n",
       "5 787                     2190                    75253                  \n",
       "6 787                     2190                    75253                  \n",
       "  Solar.PowerMppt\n",
       "1 232991         \n",
       "2 232991         \n",
       "3 232991         \n",
       "4 232991         \n",
       "5 232991         \n",
       "6 232991         "
      ]
     },
     "metadata": {},
     "output_type": "display_data"
    }
   ],
   "source": [
    "head(race_2021_clean_df)"
   ]
  },
  {
   "cell_type": "markdown",
   "id": "8eefa53a",
   "metadata": {},
   "source": [
    "## >>> 4.3 -  Data cleaning - verification of the data"
   ]
  },
  {
   "cell_type": "code",
   "execution_count": 344,
   "id": "8a3a6934",
   "metadata": {
    "scrolled": true
   },
   "outputs": [
    {
     "data": {
      "text/plain": [
       " General.Timestamp             General.ThrottlePosition General.MotorController\n",
       " Min.   :2021-09-18 13:00:00   Min.   :  0.00           Min.   :0.000          \n",
       " 1st Qu.:2021-09-18 18:44:00   1st Qu.:  0.00           1st Qu.:1.000          \n",
       " Median :2021-09-19 00:43:00   Median : 82.00           Median :1.000          \n",
       " Mean   :2021-09-19 00:43:35   Mean   : 99.77           Mean   :2.705          \n",
       " 3rd Qu.:2021-09-19 06:34:00   3rd Qu.:255.00           3rd Qu.:5.000          \n",
       " Max.   :2021-09-19 13:00:00   Max.   :255.00           Max.   :5.000          \n",
       " General.MainSwitch General.MotorDirection General.PowerEco\n",
       " Mode :logical      Mode :logical          Mode :logical   \n",
       " FALSE:640          FALSE:70026            FALSE:42641     \n",
       " TRUE :71831        TRUE :2445             TRUE :29830     \n",
       "                                                           \n",
       "                                                           \n",
       "                                                           \n",
       " General.RegenerationBrake General.DriveMode  General.Horn       General.Rpm   \n",
       " Min.   :  0.0             Min.   :0.000     Min.   :0.00e+00   Min.   :  0.0  \n",
       " 1st Qu.:  0.0             1st Qu.:2.000     1st Qu.:0.00e+00   1st Qu.:294.0  \n",
       " Median :  9.0             Median :2.000     Median :0.00e+00   Median :372.0  \n",
       " Mean   :104.4             Mean   :1.932     Mean   :1.38e-05   Mean   :320.3  \n",
       " 3rd Qu.:255.0             3rd Qu.:2.000     3rd Qu.:0.00e+00   3rd Qu.:424.0  \n",
       " Max.   :255.0             Max.   :2.000     Max.   :1.00e+00   Max.   :602.0  \n",
       " General.Speed   General.Mileage General.MotorTemperature\n",
       " Min.   : 0.00   Min.   :  0.0   Min.   :18.50           \n",
       " 1st Qu.:31.39   1st Qu.:206.0   1st Qu.:21.81           \n",
       " Median :39.72   Median :268.6   Median :24.62           \n",
       " Mean   :34.20   Mean   :260.7   Mean   :25.86           \n",
       " 3rd Qu.:45.27   3rd Qu.:339.6   3rd Qu.:30.69           \n",
       " Max.   :64.27   Max.   :410.6   Max.   :43.19           \n",
       " Battery.RemainingChargeTime Battery.ChargerEnabled Battery.SystemState\n",
       " Min.   :    0               Mode :logical          Min.   : 0.000     \n",
       " 1st Qu.:25200               FALSE:72471            1st Qu.: 2.000     \n",
       " Median :25200                                      Median : 2.000     \n",
       " Mean   :24703                                      Mean   : 2.001     \n",
       " 3rd Qu.:25200                                      3rd Qu.: 2.000     \n",
       " Max.   :25200                                      Max.   :16.000     \n",
       " Battery.InputOutputState Battery.PackCRate Battery.StateOfCharge\n",
       " Min.   : 0.00            Min.   :1880      Min.   : 0.000       \n",
       " 1st Qu.:23.00            1st Qu.:2438      1st Qu.: 0.000       \n",
       " Median :23.00            Median :2788      Median : 0.000       \n",
       " Mean   :23.06            Mean   :2979      Mean   : 1.665       \n",
       " 3rd Qu.:23.00            3rd Qu.:3369      3rd Qu.: 0.000       \n",
       " Max.   :55.00            Max.   :4425      Max.   :17.000       \n",
       " Battery.StateOfHealth Battery.NumberOfCellsConnected Battery.RemainingEnergy\n",
       " Min.   :  0.00        Min.   :0                      Min.   :   0.0         \n",
       " 1st Qu.:100.00        1st Qu.:0                      1st Qu.:   0.0         \n",
       " Median :100.00        Median :0                      Median :   0.0         \n",
       " Mean   : 99.89        Mean   :0                      Mean   : 611.8         \n",
       " 3rd Qu.:100.00        3rd Qu.:0                      3rd Qu.:   0.0         \n",
       " Max.   :100.00        Max.   :0                      Max.   :6216.0         \n",
       " Battery.DeviationOfVoltageInCells Battery.PackTemperatureMax\n",
       " Min.   :  0.00                    Min.   : 0.00             \n",
       " 1st Qu.: 24.00                    1st Qu.:18.00             \n",
       " Median : 42.00                    Median :21.00             \n",
       " Mean   : 48.47                    Mean   :21.09             \n",
       " 3rd Qu.: 68.00                    3rd Qu.:24.00             \n",
       " Max.   :186.00                    Max.   :26.00             \n",
       " Battery.LMUNumberWithMaxTemperature Battery.PackTemperatureMin\n",
       " Min.   :0.000                       Min.   : 0.00             \n",
       " 1st Qu.:2.000                       1st Qu.:16.00             \n",
       " Median :2.000                       Median :19.00             \n",
       " Mean   :1.916                       Mean   :19.03             \n",
       " 3rd Qu.:2.000                       3rd Qu.:21.00             \n",
       " Max.   :2.000                       Max.   :23.00             \n",
       " Battery.LMUNumberWithMinTemperature Battery.CellVoltageMax\n",
       " Min.   :0.000                       Min.   :0.000         \n",
       " 1st Qu.:1.000                       1st Qu.:3.507         \n",
       " Median :2.000                       Median :3.733         \n",
       " Mean   :2.166                       Mean   :3.687         \n",
       " 3rd Qu.:3.000                       3rd Qu.:3.956         \n",
       " Max.   :4.000                       Max.   :4.192         \n",
       " Battery.CellNumberWithMaxVoltage Battery.CellVoltageMin\n",
       " Min.   : 0.00                    Min.   :0.000         \n",
       " 1st Qu.:10.00                    1st Qu.:3.470         \n",
       " Median :16.00                    Median :3.682         \n",
       " Mean   :16.66                    Mean   :3.639         \n",
       " 3rd Qu.:16.00                    3rd Qu.:3.924         \n",
       " Max.   :32.00                    Max.   :4.157         \n",
       " Battery.CellNumberWithMinVoltage Battery.CellAvgVoltage Battery.PackVoltage\n",
       " Min.   : 0.00                    Min.   :0.000          Min.   :  0.0      \n",
       " 1st Qu.: 9.00                    1st Qu.:3.495          1st Qu.:102.0      \n",
       " Median : 9.00                    Median :3.716          Median :109.0      \n",
       " Mean   :11.17                    Mean   :3.674          Mean   :107.6      \n",
       " 3rd Qu.:10.00                    3rd Qu.:3.949          3rd Qu.:116.0      \n",
       " Max.   :32.00                    Max.   :5.000          Max.   :122.0      \n",
       " Battery.PackCurrent Battery.PowerBalance\n",
       " Min.   :-74.0       Min.   :-8732       \n",
       " 1st Qu.:-64.1       1st Qu.:-6222       \n",
       " Median :-22.0       Median :-2340       \n",
       " Mean   :-22.7       Mean   :-2422       \n",
       " 3rd Qu.:  0.0       3rd Qu.:    0       \n",
       " Max.   : 84.7       Max.   : 7962       \n",
       " Battery.BatteryCells.CellsGroups.0.Voltages.0\n",
       " Min.   :   0                                 \n",
       " 1st Qu.:3498                                 \n",
       " Median :3719                                 \n",
       " Mean   :3676                                 \n",
       " 3rd Qu.:3951                                 \n",
       " Max.   :4169                                 \n",
       " Battery.BatteryCells.CellsGroups.0.Voltages.1\n",
       " Min.   :   0                                 \n",
       " 1st Qu.:3496                                 \n",
       " Median :3717                                 \n",
       " Mean   :3676                                 \n",
       " 3rd Qu.:3948                                 \n",
       " Max.   :4166                                 \n",
       " Battery.BatteryCells.CellsGroups.0.Voltages.2\n",
       " Min.   :   0                                 \n",
       " 1st Qu.:3496                                 \n",
       " Median :3717                                 \n",
       " Mean   :3674                                 \n",
       " 3rd Qu.:3948                                 \n",
       " Max.   :4167                                 \n",
       " Battery.BatteryCells.CellsGroups.0.Voltages.3\n",
       " Min.   :   0                                 \n",
       " 1st Qu.:3494                                 \n",
       " Median :3717                                 \n",
       " Mean   :3673                                 \n",
       " 3rd Qu.:3950                                 \n",
       " Max.   :4168                                 \n",
       " Battery.BatteryCells.CellsGroups.0.Voltages.4\n",
       " Min.   :   0                                 \n",
       " 1st Qu.:3501                                 \n",
       " Median :3719                                 \n",
       " Mean   :3680                                 \n",
       " 3rd Qu.:3947                                 \n",
       " Max.   :4166                                 \n",
       " Battery.BatteryCells.CellsGroups.0.Voltages.5\n",
       " Min.   :   0                                 \n",
       " 1st Qu.:3499                                 \n",
       " Median :3718                                 \n",
       " Mean   :3678                                 \n",
       " 3rd Qu.:3948                                 \n",
       " Max.   :4168                                 \n",
       " Battery.BatteryCells.CellsGroups.0.Voltages.6\n",
       " Min.   :   0                                 \n",
       " 1st Qu.:3496                                 \n",
       " Median :3720                                 \n",
       " Mean   :3678                                 \n",
       " 3rd Qu.:3953                                 \n",
       " Max.   :4179                                 \n",
       " Battery.BatteryCells.CellsGroups.0.Voltages.7\n",
       " Min.   :   0                                 \n",
       " 1st Qu.:3504                                 \n",
       " Median :3722                                 \n",
       " Mean   :3683                                 \n",
       " 3rd Qu.:3953                                 \n",
       " Max.   :4171                                 \n",
       " Battery.BatteryCells.CellsGroups.0.Temperatures.0\n",
       " Min.   : 0.00                                    \n",
       " 1st Qu.:19.00                                    \n",
       " Median :22.00                                    \n",
       " Mean   :22.07                                    \n",
       " 3rd Qu.:25.00                                    \n",
       " Max.   :27.00                                    \n",
       " Battery.BatteryCells.CellsGroups.0.Temperatures.1\n",
       " Min.   : 0.0                                     \n",
       " 1st Qu.:18.0                                     \n",
       " Median :21.0                                     \n",
       " Mean   :21.7                                     \n",
       " 3rd Qu.:25.0                                     \n",
       " Max.   :27.0                                     \n",
       " Battery.BatteryCells.CellsGroups.0.Temperatures.2\n",
       " Min.   : 0.0                                     \n",
       " 1st Qu.:17.0                                     \n",
       " Median :19.0                                     \n",
       " Mean   :19.5                                     \n",
       " 3rd Qu.:22.0                                     \n",
       " Max.   :23.0                                     \n",
       " Battery.BatteryCells.CellsGroups.0.Temperatures.3\n",
       " Min.   : 0.00                                    \n",
       " 1st Qu.:16.00                                    \n",
       " Median :19.00                                    \n",
       " Mean   :19.59                                    \n",
       " 3rd Qu.:22.00                                    \n",
       " Max.   :24.00                                    \n",
       " Battery.BatteryCells.CellsGroups.1.Voltages.0\n",
       " Min.   :   0                                 \n",
       " 1st Qu.:3496                                 \n",
       " Median :3718                                 \n",
       " Mean   :3676                                 \n",
       " 3rd Qu.:3950                                 \n",
       " Max.   :4168                                 \n",
       " Battery.BatteryCells.CellsGroups.1.Voltages.1\n",
       " Min.   :   0                                 \n",
       " 1st Qu.:3493                                 \n",
       " Median :3715                                 \n",
       " Mean   :3672                                 \n",
       " 3rd Qu.:3947                                 \n",
       " Max.   :4164                                 \n",
       " Battery.BatteryCells.CellsGroups.1.Voltages.2\n",
       " Min.   :   0                                 \n",
       " 1st Qu.:3497                                 \n",
       " Median :3719                                 \n",
       " Mean   :3677                                 \n",
       " 3rd Qu.:3949                                 \n",
       " Max.   :4165                                 \n",
       " Battery.BatteryCells.CellsGroups.1.Voltages.3\n",
       " Min.   :   0                                 \n",
       " 1st Qu.:3498                                 \n",
       " Median :3719                                 \n",
       " Mean   :3677                                 \n",
       " 3rd Qu.:3949                                 \n",
       " Max.   :4165                                 \n",
       " Battery.BatteryCells.CellsGroups.1.Voltages.4\n",
       " Min.   :   0                                 \n",
       " 1st Qu.:3494                                 \n",
       " Median :3715                                 \n",
       " Mean   :3674                                 \n",
       " 3rd Qu.:3945                                 \n",
       " Max.   :4160                                 \n",
       " Battery.BatteryCells.CellsGroups.1.Voltages.5\n",
       " Min.   :   0                                 \n",
       " 1st Qu.:3498                                 \n",
       " Median :3716                                 \n",
       " Mean   :3676                                 \n",
       " 3rd Qu.:3944                                 \n",
       " Max.   :4157                                 \n",
       " Battery.BatteryCells.CellsGroups.1.Voltages.6\n",
       " Min.   :   0                                 \n",
       " 1st Qu.:3496                                 \n",
       " Median :3717                                 \n",
       " Mean   :3678                                 \n",
       " 3rd Qu.:3950                                 \n",
       " Max.   :4171                                 \n",
       " Battery.BatteryCells.CellsGroups.1.Voltages.7\n",
       " Min.   :   0                                 \n",
       " 1st Qu.:3502                                 \n",
       " Median :3723                                 \n",
       " Mean   :3682                                 \n",
       " 3rd Qu.:3956                                 \n",
       " Max.   :4179                                 \n",
       " Battery.BatteryCells.CellsGroups.1.Temperatures.0\n",
       " Min.   : 0.00                                    \n",
       " 1st Qu.:19.00                                    \n",
       " Median :22.00                                    \n",
       " Mean   :22.22                                    \n",
       " 3rd Qu.:25.00                                    \n",
       " Max.   :27.00                                    \n",
       " Battery.BatteryCells.CellsGroups.1.Temperatures.1\n",
       " Min.   : 0.00                                    \n",
       " 1st Qu.:18.00                                    \n",
       " Median :22.00                                    \n",
       " Mean   :21.85                                    \n",
       " 3rd Qu.:25.00                                    \n",
       " Max.   :27.00                                    \n",
       " Battery.BatteryCells.CellsGroups.1.Temperatures.2\n",
       " Min.   : 0.00                                    \n",
       " 1st Qu.:17.00                                    \n",
       " Median :19.00                                    \n",
       " Mean   :19.85                                    \n",
       " 3rd Qu.:22.00                                    \n",
       " Max.   :23.00                                    \n",
       " Battery.BatteryCells.CellsGroups.1.Temperatures.3\n",
       " Min.   : 0.00                                    \n",
       " 1st Qu.:17.00                                    \n",
       " Median :20.00                                    \n",
       " Mean   :19.71                                    \n",
       " 3rd Qu.:22.00                                    \n",
       " Max.   :25.00                                    \n",
       " Battery.BatteryCells.CellsGroups.2.Voltages.0\n",
       " Min.   :   0                                 \n",
       " 1st Qu.:3477                                 \n",
       " Median :3689                                 \n",
       " Mean   :3646                                 \n",
       " 3rd Qu.:3929                                 \n",
       " Max.   :4182                                 \n",
       " Battery.BatteryCells.CellsGroups.2.Voltages.1\n",
       " Min.   :   0                                 \n",
       " 1st Qu.:3486                                 \n",
       " Median :3731                                 \n",
       " Mean   :3679                                 \n",
       " 3rd Qu.:3948                                 \n",
       " Max.   :4163                                 \n",
       " Battery.BatteryCells.CellsGroups.2.Voltages.2\n",
       " Min.   :   0                                 \n",
       " 1st Qu.:3498                                 \n",
       " Median :3719                                 \n",
       " Mean   :3679                                 \n",
       " 3rd Qu.:3950                                 \n",
       " Max.   :4173                                 \n",
       " Battery.BatteryCells.CellsGroups.2.Voltages.3\n",
       " Min.   :   0                                 \n",
       " 1st Qu.:3502                                 \n",
       " Median :3721                                 \n",
       " Mean   :3682                                 \n",
       " 3rd Qu.:3951                                 \n",
       " Max.   :4171                                 \n",
       " Battery.BatteryCells.CellsGroups.2.Voltages.4\n",
       " Min.   :   0                                 \n",
       " 1st Qu.:3502                                 \n",
       " Median :3721                                 \n",
       " Mean   :3682                                 \n",
       " 3rd Qu.:3952                                 \n",
       " Max.   :4172                                 \n",
       " Battery.BatteryCells.CellsGroups.2.Voltages.5\n",
       " Min.   :   0                                 \n",
       " 1st Qu.:3496                                 \n",
       " Median :3719                                 \n",
       " Mean   :3678                                 \n",
       " 3rd Qu.:3950                                 \n",
       " Max.   :4170                                 \n",
       " Battery.BatteryCells.CellsGroups.2.Voltages.6\n",
       " Min.   :   0                                 \n",
       " 1st Qu.:3501                                 \n",
       " Median :3721                                 \n",
       " Mean   :3682                                 \n",
       " 3rd Qu.:3953                                 \n",
       " Max.   :4172                                 \n",
       " Battery.BatteryCells.CellsGroups.2.Voltages.7\n",
       " Min.   :   0                                 \n",
       " 1st Qu.:3500                                 \n",
       " Median :3723                                 \n",
       " Mean   :3684                                 \n",
       " 3rd Qu.:3956                                 \n",
       " Max.   :4203                                 \n",
       " Battery.BatteryCells.CellsGroups.2.Temperatures.0\n",
       " Min.   : 0.00                                    \n",
       " 1st Qu.:19.00                                    \n",
       " Median :23.00                                    \n",
       " Mean   :22.29                                    \n",
       " 3rd Qu.:25.00                                    \n",
       " Max.   :27.00                                    \n",
       " Battery.BatteryCells.CellsGroups.2.Temperatures.1\n",
       " Min.   : 0.00                                    \n",
       " 1st Qu.:19.00                                    \n",
       " Median :22.00                                    \n",
       " Mean   :22.03                                    \n",
       " 3rd Qu.:25.00                                    \n",
       " Max.   :27.00                                    \n",
       " Battery.BatteryCells.CellsGroups.2.Temperatures.2\n",
       " Min.   : 0.00                                    \n",
       " 1st Qu.:18.00                                    \n",
       " Median :20.00                                    \n",
       " Mean   :19.94                                    \n",
       " 3rd Qu.:22.00                                    \n",
       " Max.   :23.00                                    \n",
       " Battery.BatteryCells.CellsGroups.2.Temperatures.3\n",
       " Min.   : 0.00                                    \n",
       " 1st Qu.:18.00                                    \n",
       " Median :21.00                                    \n",
       " Mean   :20.92                                    \n",
       " 3rd Qu.:24.00                                    \n",
       " Max.   :26.00                                    \n",
       " Battery.BatteryCells.CellsGroups.3.Voltages.0\n",
       " Min.   :   0                                 \n",
       " 1st Qu.:3499                                 \n",
       " Median :3720                                 \n",
       " Mean   :3679                                 \n",
       " 3rd Qu.:3950                                 \n",
       " Max.   :4168                                 \n",
       " Battery.BatteryCells.CellsGroups.3.Voltages.1\n",
       " Min.   :   0                                 \n",
       " 1st Qu.:3495                                 \n",
       " Median :3716                                 \n",
       " Mean   :3676                                 \n",
       " 3rd Qu.:3949                                 \n",
       " Max.   :4165                                 \n",
       " Battery.BatteryCells.CellsGroups.3.Voltages.2\n",
       " Min.   :   0                                 \n",
       " 1st Qu.:3498                                 \n",
       " Median :3719                                 \n",
       " Mean   :3677                                 \n",
       " 3rd Qu.:3949                                 \n",
       " Max.   :4165                                 \n",
       " Battery.BatteryCells.CellsGroups.3.Voltages.3\n",
       " Min.   :   0                                 \n",
       " 1st Qu.:3496                                 \n",
       " Median :3718                                 \n",
       " Mean   :3677                                 \n",
       " 3rd Qu.:3950                                 \n",
       " Max.   :4167                                 \n",
       " Battery.BatteryCells.CellsGroups.3.Voltages.4\n",
       " Min.   :   0                                 \n",
       " 1st Qu.:3496                                 \n",
       " Median :3718                                 \n",
       " Mean   :3677                                 \n",
       " 3rd Qu.:3949                                 \n",
       " Max.   :4166                                 \n",
       " Battery.BatteryCells.CellsGroups.3.Voltages.5\n",
       " Min.   :   0                                 \n",
       " 1st Qu.:3500                                 \n",
       " Median :3718                                 \n",
       " Mean   :3679                                 \n",
       " 3rd Qu.:3948                                 \n",
       " Max.   :4168                                 \n",
       " Battery.BatteryCells.CellsGroups.3.Voltages.6\n",
       " Min.   :-128.0                               \n",
       " 1st Qu.:-128.0                               \n",
       " Median :-128.0                               \n",
       " Mean   :-127.9                               \n",
       " 3rd Qu.:-128.0                               \n",
       " Max.   :   0.0                               \n",
       " Battery.BatteryCells.CellsGroups.3.Voltages.7\n",
       " Min.   :-128.0                               \n",
       " 1st Qu.:-128.0                               \n",
       " Median :-128.0                               \n",
       " Mean   :-127.9                               \n",
       " 3rd Qu.:-128.0                               \n",
       " Max.   :   0.0                               \n",
       " Battery.BatteryCells.CellsGroups.3.Temperatures.0\n",
       " Min.   : 0.00                                    \n",
       " 1st Qu.:19.00                                    \n",
       " Median :22.00                                    \n",
       " Mean   :22.28                                    \n",
       " 3rd Qu.:25.00                                    \n",
       " Max.   :27.00                                    \n",
       " Battery.BatteryCells.CellsGroups.3.Temperatures.1\n",
       " Min.   : 0.00                                    \n",
       " 1st Qu.:19.00                                    \n",
       " Median :22.00                                    \n",
       " Mean   :22.05                                    \n",
       " 3rd Qu.:25.00                                    \n",
       " Max.   :27.00                                    \n",
       " Battery.BatteryCells.CellsGroups.3.Temperatures.2\n",
       " Min.   :-128.0                                   \n",
       " 1st Qu.:-128.0                                   \n",
       " Median :-128.0                                   \n",
       " Mean   :-127.9                                   \n",
       " 3rd Qu.:-128.0                                   \n",
       " Max.   :   0.0                                   \n",
       " Battery.BatteryCells.CellsGroups.3.Temperatures.3 Solar.MpptInputVoltage.0\n",
       " Min.   : 0.00                                     Min.   : 0.00           \n",
       " 1st Qu.:17.00                                     1st Qu.:10.00           \n",
       " Median :20.00                                     Median :11.00           \n",
       " Mean   :19.95                                     Mean   :23.37           \n",
       " 3rd Qu.:23.00                                     3rd Qu.:46.00           \n",
       " Max.   :25.00                                     Max.   :57.00           \n",
       " Solar.MpptInputVoltage.1 Solar.MpptInputVoltage.2 Solar.MpptInputVoltage.3\n",
       " Min.   : 0.00            Min.   : 0.00            Min.   : 0.00           \n",
       " 1st Qu.: 9.00            1st Qu.:10.00            1st Qu.: 9.00           \n",
       " Median :11.00            Median :13.00            Median :12.00           \n",
       " Mean   :15.25            Mean   :24.02            Mean   :21.91           \n",
       " 3rd Qu.:13.00            3rd Qu.:46.00            3rd Qu.:42.00           \n",
       " Max.   :52.00            Max.   :57.00            Max.   :57.00           \n",
       " Solar.MpptInputCurrent.0 Solar.MpptInputCurrent.1 Solar.MpptInputCurrent.2\n",
       " Min.   :   0.000         Min.   :   0.000         Min.   :   0.000        \n",
       " 1st Qu.:   4.454         1st Qu.:   6.287         1st Qu.:   5.980        \n",
       " Median :   4.507         Median :   6.357         Median :   6.033        \n",
       " Mean   : 567.214         Mean   : 147.621         Mean   : 393.912        \n",
       " 3rd Qu.: 494.455         3rd Qu.:   6.357         3rd Qu.: 237.753        \n",
       " Max.   :3965.598         Max.   :3729.774         Max.   :3603.370        \n",
       " Solar.MpptInputCurrent.3 Solar.MpptOutputVoltage.0 Solar.MpptOutputVoltage.1\n",
       " Min.   :   0.000         Min.   :  0.00            Min.   :  0.00           \n",
       " 1st Qu.:   2.929         1st Qu.: 99.00            1st Qu.:108.00           \n",
       " Median :   3.069         Median :108.00            Median :108.00           \n",
       " Mean   : 472.656         Mean   : 94.87            Mean   : 94.13           \n",
       " 3rd Qu.: 481.407         3rd Qu.:115.00            3rd Qu.:114.00           \n",
       " Max.   :3971.298         Max.   :124.00            Max.   :124.00           \n",
       " Solar.MpptOutputVoltage.2 Solar.MpptOutputVoltage.3 Solar.MpptOutputPower.0\n",
       " Min.   :  0.00            Min.   :  0.00            Min.   :     0         \n",
       " 1st Qu.:100.00            1st Qu.: 98.00            1st Qu.:    43         \n",
       " Median :108.00            Median :109.00            Median :    52         \n",
       " Mean   : 95.62            Mean   : 92.65            Mean   : 26745         \n",
       " 3rd Qu.:114.00            3rd Qu.:115.00            3rd Qu.: 22726         \n",
       " Max.   :123.00            Max.   :125.00            Max.   :188309         \n",
       " Solar.MpptOutputPower.1 Solar.MpptOutputPower.2 Solar.MpptOutputPower.3\n",
       " Min.   :     0          Min.   :     0          Min.   :     0         \n",
       " 1st Qu.:    58          1st Qu.:    62          1st Qu.:    28         \n",
       " Median :    69          Median :    81          Median :    36         \n",
       " Mean   :  6372          Mean   : 18915          Mean   : 21963         \n",
       " 3rd Qu.:    87          3rd Qu.: 11077          3rd Qu.: 23449         \n",
       " Max.   :164642          Max.   :172615          Max.   :190387         \n",
       " Solar.PowerMppt \n",
       " Min.   :     0  \n",
       " 1st Qu.:   200  \n",
       " Median :   253  \n",
       " Mean   : 73995  \n",
       " 3rd Qu.: 99852  \n",
       " Max.   :701966  "
      ]
     },
     "metadata": {},
     "output_type": "display_data"
    }
   ],
   "source": [
    "summary(race_2021_clean_df)"
   ]
  },
  {
   "cell_type": "code",
   "execution_count": 345,
   "id": "ab22872d",
   "metadata": {},
   "outputs": [
    {
     "data": {
      "text/html": [
       "95"
      ],
      "text/latex": [
       "95"
      ],
      "text/markdown": [
       "95"
      ],
      "text/plain": [
       "[1] 95"
      ]
     },
     "metadata": {},
     "output_type": "display_data"
    }
   ],
   "source": [
    "# Besed on information from summary drop columns with no value\n",
    "cols_to_drop <- c(\n",
    "    \"Battery.ChargerEnabled\",  # only falses - car was not charging\n",
    "    \"Battery.StateOfCharge\",   # data corrupted - values should be from 100 to 0, are from 17 to 0\n",
    "    \"Battery.NumberOfCellsConnected\", # no data\n",
    "    \"Battery.RemainingChargeTime\", # data not distributed correctly\n",
    "    \"Battery.RemainingEnergy\" # data not distributed correctly\n",
    ")\n",
    "\n",
    "race_2021_clean_df = race_2021_clean_df[,!(names(race_2021_clean_df) %in% cols_to_drop)]\n",
    "ncol(race_2021_clean_df)"
   ]
  },
  {
   "cell_type": "markdown",
   "id": "a21c9439",
   "metadata": {},
   "source": [
    "# STEP 5 - DATA TRANSFORMATION\n",
    "Some data can be better extracted from the data\n"
   ]
  },
  {
   "cell_type": "markdown",
   "id": "467586a8",
   "metadata": {},
   "source": [
    "## >>> 5.1 - Accurate battery voltage \n",
    "The variable in the dataset \"PackVoltage\" was not precise, it was expressed as integer. <br>\n",
    "Having voltage of each cell, we are able to create a new, better variable"
   ]
  },
  {
   "cell_type": "code",
   "execution_count": 346,
   "id": "97967b18",
   "metadata": {},
   "outputs": [
    {
     "data": {
      "text/html": [
       "<ol class=list-inline>\n",
       "\t<li>124.773</li>\n",
       "\t<li>124.772</li>\n",
       "\t<li>124.773</li>\n",
       "\t<li>124.773</li>\n",
       "\t<li>124.772</li>\n",
       "\t<li>124.773</li>\n",
       "</ol>\n"
      ],
      "text/latex": [
       "\\begin{enumerate*}\n",
       "\\item 124.773\n",
       "\\item 124.772\n",
       "\\item 124.773\n",
       "\\item 124.773\n",
       "\\item 124.772\n",
       "\\item 124.773\n",
       "\\end{enumerate*}\n"
      ],
      "text/markdown": [
       "1. 124.773\n",
       "2. 124.772\n",
       "3. 124.773\n",
       "4. 124.773\n",
       "5. 124.772\n",
       "6. 124.773\n",
       "\n",
       "\n"
      ],
      "text/plain": [
       "[1] 124.773 124.772 124.773 124.773 124.772 124.773"
      ]
     },
     "metadata": {},
     "output_type": "display_data"
    },
    {
     "data": {
      "text/html": [
       "<ol class=list-inline>\n",
       "\t<li>80.841</li>\n",
       "\t<li>80.471</li>\n",
       "\t<li>80.245</li>\n",
       "\t<li>80.168</li>\n",
       "\t<li>80.085</li>\n",
       "\t<li>80.04</li>\n",
       "</ol>\n"
      ],
      "text/latex": [
       "\\begin{enumerate*}\n",
       "\\item 80.841\n",
       "\\item 80.471\n",
       "\\item 80.245\n",
       "\\item 80.168\n",
       "\\item 80.085\n",
       "\\item 80.04\n",
       "\\end{enumerate*}\n"
      ],
      "text/markdown": [
       "1. 80.841\n",
       "2. 80.471\n",
       "3. 80.245\n",
       "4. 80.168\n",
       "5. 80.085\n",
       "6. 80.04\n",
       "\n",
       "\n"
      ],
      "text/plain": [
       "[1] 80.841 80.471 80.245 80.168 80.085 80.040"
      ]
     },
     "metadata": {},
     "output_type": "display_data"
    }
   ],
   "source": [
    "cols_to_sum <- c(\n",
    "    'Battery.BatteryCells.CellsGroups.0.Voltages.0',\n",
    "    'Battery.BatteryCells.CellsGroups.0.Voltages.1',\n",
    "    'Battery.BatteryCells.CellsGroups.0.Voltages.2',\n",
    "    'Battery.BatteryCells.CellsGroups.0.Voltages.3',\n",
    "    'Battery.BatteryCells.CellsGroups.0.Voltages.4',\n",
    "    'Battery.BatteryCells.CellsGroups.0.Voltages.5',\n",
    "    'Battery.BatteryCells.CellsGroups.0.Voltages.6',\n",
    "    'Battery.BatteryCells.CellsGroups.0.Voltages.7',\n",
    "    \n",
    "    'Battery.BatteryCells.CellsGroups.1.Voltages.0',\n",
    "    'Battery.BatteryCells.CellsGroups.1.Voltages.1',\n",
    "    'Battery.BatteryCells.CellsGroups.1.Voltages.2',\n",
    "    'Battery.BatteryCells.CellsGroups.1.Voltages.3',\n",
    "    'Battery.BatteryCells.CellsGroups.1.Voltages.4',\n",
    "    'Battery.BatteryCells.CellsGroups.1.Voltages.5',\n",
    "    'Battery.BatteryCells.CellsGroups.1.Voltages.6',\n",
    "    'Battery.BatteryCells.CellsGroups.1.Voltages.7',\n",
    "    \n",
    "    'Battery.BatteryCells.CellsGroups.2.Voltages.0',\n",
    "    'Battery.BatteryCells.CellsGroups.2.Voltages.1',\n",
    "    'Battery.BatteryCells.CellsGroups.2.Voltages.2',\n",
    "    'Battery.BatteryCells.CellsGroups.2.Voltages.3',\n",
    "    'Battery.BatteryCells.CellsGroups.2.Voltages.4',\n",
    "    'Battery.BatteryCells.CellsGroups.2.Voltages.5',\n",
    "    'Battery.BatteryCells.CellsGroups.2.Voltages.6',\n",
    "    'Battery.BatteryCells.CellsGroups.2.Voltages.7',\n",
    "    \n",
    "    'Battery.BatteryCells.CellsGroups.3.Voltages.0',\n",
    "    'Battery.BatteryCells.CellsGroups.3.Voltages.1',\n",
    "    'Battery.BatteryCells.CellsGroups.3.Voltages.2',\n",
    "    'Battery.BatteryCells.CellsGroups.3.Voltages.3',\n",
    "    'Battery.BatteryCells.CellsGroups.3.Voltages.4',\n",
    "    'Battery.BatteryCells.CellsGroups.3.Voltages.5',\n",
    "    'Battery.BatteryCells.CellsGroups.3.Voltages.6',\n",
    "    'Battery.BatteryCells.CellsGroups.3.Voltages.7')\n",
    "\n",
    "race_2021_clean_df$Calc.BatteryVoltage <- rowSums(race_2021_clean_df[, cols_to_sum]) / 1000 # to get Volts\n",
    "head(race_2021_clean_df$Calc.BatteryVoltage)\n",
    "tail(race_2021_clean_df$Calc.BatteryVoltage)"
   ]
  },
  {
   "cell_type": "markdown",
   "id": "95a7a916",
   "metadata": {},
   "source": [
    "## >>> 5.2 - Accurate Timestamp\n",
    "Due to malfunction during data extraction the precise data about the timestamp has been lost. We are going to improve TimeStamp by adding the information about seconds and miliseconds of the measuremants, knowing that they has been collected with the constant frequency "
   ]
  },
  {
   "cell_type": "code",
   "execution_count": 347,
   "id": "87c69352",
   "metadata": {},
   "outputs": [
    {
     "data": {
      "text/html": [
       "<table>\n",
       "<thead><tr><th scope=col>General.Timestamp</th><th scope=col>General.ThrottlePosition</th><th scope=col>General.MotorController</th><th scope=col>General.MainSwitch</th><th scope=col>General.MotorDirection</th><th scope=col>General.PowerEco</th><th scope=col>General.RegenerationBrake</th><th scope=col>General.DriveMode</th><th scope=col>General.Horn</th><th scope=col>General.Rpm</th><th scope=col>...</th><th scope=col>Solar.MpptOutputVoltage.0</th><th scope=col>Solar.MpptOutputVoltage.1</th><th scope=col>Solar.MpptOutputVoltage.2</th><th scope=col>Solar.MpptOutputVoltage.3</th><th scope=col>Solar.MpptOutputPower.0</th><th scope=col>Solar.MpptOutputPower.1</th><th scope=col>Solar.MpptOutputPower.2</th><th scope=col>Solar.MpptOutputPower.3</th><th scope=col>Solar.PowerMppt</th><th scope=col>Calc.BatteryVoltage</th></tr></thead>\n",
       "<tbody>\n",
       "\t<tr><td>2021-09-18 13:00:00</td><td>0                  </td><td>5                  </td><td>TRUE               </td><td>FALSE              </td><td>TRUE               </td><td>0                  </td><td>2                  </td><td>0                  </td><td>0                  </td><td>...                </td><td>124                </td><td>124                </td><td>123                </td><td>125                </td><td>154761             </td><td>787                </td><td>2190               </td><td>75253              </td><td>232991             </td><td>124.773            </td></tr>\n",
       "\t<tr><td>2021-09-18 13:00:00</td><td>0                  </td><td>5                  </td><td>TRUE               </td><td>FALSE              </td><td>TRUE               </td><td>0                  </td><td>2                  </td><td>0                  </td><td>0                  </td><td>...                </td><td>124                </td><td>124                </td><td>123                </td><td>125                </td><td>154761             </td><td>787                </td><td>2190               </td><td>75253              </td><td>232991             </td><td>124.772            </td></tr>\n",
       "\t<tr><td>2021-09-18 13:00:00</td><td>0                  </td><td>5                  </td><td>TRUE               </td><td>FALSE              </td><td>TRUE               </td><td>0                  </td><td>2                  </td><td>0                  </td><td>0                  </td><td>...                </td><td>124                </td><td>124                </td><td>123                </td><td>125                </td><td>154761             </td><td>787                </td><td>2190               </td><td>75253              </td><td>232991             </td><td>124.773            </td></tr>\n",
       "\t<tr><td>2021-09-18 13:00:00</td><td>0                  </td><td>5                  </td><td>TRUE               </td><td>FALSE              </td><td>TRUE               </td><td>0                  </td><td>2                  </td><td>0                  </td><td>0                  </td><td>...                </td><td>124                </td><td>124                </td><td>123                </td><td>125                </td><td>154761             </td><td>787                </td><td>2190               </td><td>75253              </td><td>232991             </td><td>124.773            </td></tr>\n",
       "\t<tr><td>2021-09-18 13:00:00</td><td>0                  </td><td>5                  </td><td>TRUE               </td><td>FALSE              </td><td>TRUE               </td><td>0                  </td><td>2                  </td><td>0                  </td><td>0                  </td><td>...                </td><td>124                </td><td>124                </td><td>123                </td><td>125                </td><td>154761             </td><td>787                </td><td>2190               </td><td>75253              </td><td>232991             </td><td>124.772            </td></tr>\n",
       "\t<tr><td>2021-09-18 13:00:00</td><td>0                  </td><td>5                  </td><td>TRUE               </td><td>FALSE              </td><td>TRUE               </td><td>0                  </td><td>2                  </td><td>0                  </td><td>0                  </td><td>...                </td><td>124                </td><td>124                </td><td>123                </td><td>125                </td><td>154761             </td><td>787                </td><td>2190               </td><td>75253              </td><td>232991             </td><td>124.773            </td></tr>\n",
       "\t<tr><td>2021-09-18 13:00:00</td><td>0                  </td><td>5                  </td><td>TRUE               </td><td>FALSE              </td><td>TRUE               </td><td>0                  </td><td>2                  </td><td>0                  </td><td>0                  </td><td>...                </td><td>124                </td><td>124                </td><td>123                </td><td>125                </td><td>154761             </td><td>787                </td><td>2190               </td><td>75253              </td><td>232991             </td><td>124.774            </td></tr>\n",
       "\t<tr><td>2021-09-18 13:00:00</td><td>0                  </td><td>5                  </td><td>TRUE               </td><td>FALSE              </td><td>TRUE               </td><td>0                  </td><td>2                  </td><td>0                  </td><td>0                  </td><td>...                </td><td>124                </td><td>124                </td><td>123                </td><td>125                </td><td>154761             </td><td>787                </td><td>2190               </td><td>75253              </td><td>232991             </td><td>124.773            </td></tr>\n",
       "\t<tr><td>2021-09-18 13:00:00</td><td>0                  </td><td>5                  </td><td>TRUE               </td><td>FALSE              </td><td>TRUE               </td><td>0                  </td><td>2                  </td><td>0                  </td><td>0                  </td><td>...                </td><td>124                </td><td>124                </td><td>123                </td><td>125                </td><td>154761             </td><td>787                </td><td>2190               </td><td>75253              </td><td>232991             </td><td>124.773            </td></tr>\n",
       "\t<tr><td>2021-09-18 13:00:00</td><td>0                  </td><td>5                  </td><td>TRUE               </td><td>FALSE              </td><td>TRUE               </td><td>0                  </td><td>2                  </td><td>0                  </td><td>0                  </td><td>...                </td><td>124                </td><td>124                </td><td>123                </td><td>125                </td><td>154761             </td><td>787                </td><td>2190               </td><td>75253              </td><td>232991             </td><td>124.773            </td></tr>\n",
       "</tbody>\n",
       "</table>\n"
      ],
      "text/latex": [
       "\\begin{tabular}{r|llllllllllllllllllllllllllllllllllllllllllllllllllllllllllllllllllllllllllllllllllllllllllllllll}\n",
       " General.Timestamp & General.ThrottlePosition & General.MotorController & General.MainSwitch & General.MotorDirection & General.PowerEco & General.RegenerationBrake & General.DriveMode & General.Horn & General.Rpm & ... & Solar.MpptOutputVoltage.0 & Solar.MpptOutputVoltage.1 & Solar.MpptOutputVoltage.2 & Solar.MpptOutputVoltage.3 & Solar.MpptOutputPower.0 & Solar.MpptOutputPower.1 & Solar.MpptOutputPower.2 & Solar.MpptOutputPower.3 & Solar.PowerMppt & Calc.BatteryVoltage\\\\\n",
       "\\hline\n",
       "\t 2021-09-18 13:00:00 & 0                   & 5                   & TRUE                & FALSE               & TRUE                & 0                   & 2                   & 0                   & 0                   & ...                 & 124                 & 124                 & 123                 & 125                 & 154761              & 787                 & 2190                & 75253               & 232991              & 124.773            \\\\\n",
       "\t 2021-09-18 13:00:00 & 0                   & 5                   & TRUE                & FALSE               & TRUE                & 0                   & 2                   & 0                   & 0                   & ...                 & 124                 & 124                 & 123                 & 125                 & 154761              & 787                 & 2190                & 75253               & 232991              & 124.772            \\\\\n",
       "\t 2021-09-18 13:00:00 & 0                   & 5                   & TRUE                & FALSE               & TRUE                & 0                   & 2                   & 0                   & 0                   & ...                 & 124                 & 124                 & 123                 & 125                 & 154761              & 787                 & 2190                & 75253               & 232991              & 124.773            \\\\\n",
       "\t 2021-09-18 13:00:00 & 0                   & 5                   & TRUE                & FALSE               & TRUE                & 0                   & 2                   & 0                   & 0                   & ...                 & 124                 & 124                 & 123                 & 125                 & 154761              & 787                 & 2190                & 75253               & 232991              & 124.773            \\\\\n",
       "\t 2021-09-18 13:00:00 & 0                   & 5                   & TRUE                & FALSE               & TRUE                & 0                   & 2                   & 0                   & 0                   & ...                 & 124                 & 124                 & 123                 & 125                 & 154761              & 787                 & 2190                & 75253               & 232991              & 124.772            \\\\\n",
       "\t 2021-09-18 13:00:00 & 0                   & 5                   & TRUE                & FALSE               & TRUE                & 0                   & 2                   & 0                   & 0                   & ...                 & 124                 & 124                 & 123                 & 125                 & 154761              & 787                 & 2190                & 75253               & 232991              & 124.773            \\\\\n",
       "\t 2021-09-18 13:00:00 & 0                   & 5                   & TRUE                & FALSE               & TRUE                & 0                   & 2                   & 0                   & 0                   & ...                 & 124                 & 124                 & 123                 & 125                 & 154761              & 787                 & 2190                & 75253               & 232991              & 124.774            \\\\\n",
       "\t 2021-09-18 13:00:00 & 0                   & 5                   & TRUE                & FALSE               & TRUE                & 0                   & 2                   & 0                   & 0                   & ...                 & 124                 & 124                 & 123                 & 125                 & 154761              & 787                 & 2190                & 75253               & 232991              & 124.773            \\\\\n",
       "\t 2021-09-18 13:00:00 & 0                   & 5                   & TRUE                & FALSE               & TRUE                & 0                   & 2                   & 0                   & 0                   & ...                 & 124                 & 124                 & 123                 & 125                 & 154761              & 787                 & 2190                & 75253               & 232991              & 124.773            \\\\\n",
       "\t 2021-09-18 13:00:00 & 0                   & 5                   & TRUE                & FALSE               & TRUE                & 0                   & 2                   & 0                   & 0                   & ...                 & 124                 & 124                 & 123                 & 125                 & 154761              & 787                 & 2190                & 75253               & 232991              & 124.773            \\\\\n",
       "\\end{tabular}\n"
      ],
      "text/markdown": [
       "\n",
       "| General.Timestamp | General.ThrottlePosition | General.MotorController | General.MainSwitch | General.MotorDirection | General.PowerEco | General.RegenerationBrake | General.DriveMode | General.Horn | General.Rpm | ... | Solar.MpptOutputVoltage.0 | Solar.MpptOutputVoltage.1 | Solar.MpptOutputVoltage.2 | Solar.MpptOutputVoltage.3 | Solar.MpptOutputPower.0 | Solar.MpptOutputPower.1 | Solar.MpptOutputPower.2 | Solar.MpptOutputPower.3 | Solar.PowerMppt | Calc.BatteryVoltage |\n",
       "|---|---|---|---|---|---|---|---|---|---|---|---|---|---|---|---|---|---|---|---|---|\n",
       "| 2021-09-18 13:00:00 | 0                   | 5                   | TRUE                | FALSE               | TRUE                | 0                   | 2                   | 0                   | 0                   | ...                 | 124                 | 124                 | 123                 | 125                 | 154761              | 787                 | 2190                | 75253               | 232991              | 124.773             |\n",
       "| 2021-09-18 13:00:00 | 0                   | 5                   | TRUE                | FALSE               | TRUE                | 0                   | 2                   | 0                   | 0                   | ...                 | 124                 | 124                 | 123                 | 125                 | 154761              | 787                 | 2190                | 75253               | 232991              | 124.772             |\n",
       "| 2021-09-18 13:00:00 | 0                   | 5                   | TRUE                | FALSE               | TRUE                | 0                   | 2                   | 0                   | 0                   | ...                 | 124                 | 124                 | 123                 | 125                 | 154761              | 787                 | 2190                | 75253               | 232991              | 124.773             |\n",
       "| 2021-09-18 13:00:00 | 0                   | 5                   | TRUE                | FALSE               | TRUE                | 0                   | 2                   | 0                   | 0                   | ...                 | 124                 | 124                 | 123                 | 125                 | 154761              | 787                 | 2190                | 75253               | 232991              | 124.773             |\n",
       "| 2021-09-18 13:00:00 | 0                   | 5                   | TRUE                | FALSE               | TRUE                | 0                   | 2                   | 0                   | 0                   | ...                 | 124                 | 124                 | 123                 | 125                 | 154761              | 787                 | 2190                | 75253               | 232991              | 124.772             |\n",
       "| 2021-09-18 13:00:00 | 0                   | 5                   | TRUE                | FALSE               | TRUE                | 0                   | 2                   | 0                   | 0                   | ...                 | 124                 | 124                 | 123                 | 125                 | 154761              | 787                 | 2190                | 75253               | 232991              | 124.773             |\n",
       "| 2021-09-18 13:00:00 | 0                   | 5                   | TRUE                | FALSE               | TRUE                | 0                   | 2                   | 0                   | 0                   | ...                 | 124                 | 124                 | 123                 | 125                 | 154761              | 787                 | 2190                | 75253               | 232991              | 124.774             |\n",
       "| 2021-09-18 13:00:00 | 0                   | 5                   | TRUE                | FALSE               | TRUE                | 0                   | 2                   | 0                   | 0                   | ...                 | 124                 | 124                 | 123                 | 125                 | 154761              | 787                 | 2190                | 75253               | 232991              | 124.773             |\n",
       "| 2021-09-18 13:00:00 | 0                   | 5                   | TRUE                | FALSE               | TRUE                | 0                   | 2                   | 0                   | 0                   | ...                 | 124                 | 124                 | 123                 | 125                 | 154761              | 787                 | 2190                | 75253               | 232991              | 124.773             |\n",
       "| 2021-09-18 13:00:00 | 0                   | 5                   | TRUE                | FALSE               | TRUE                | 0                   | 2                   | 0                   | 0                   | ...                 | 124                 | 124                 | 123                 | 125                 | 154761              | 787                 | 2190                | 75253               | 232991              | 124.773             |\n",
       "\n"
      ],
      "text/plain": [
       "   General.Timestamp   General.ThrottlePosition General.MotorController\n",
       "1  2021-09-18 13:00:00 0                        5                      \n",
       "2  2021-09-18 13:00:00 0                        5                      \n",
       "3  2021-09-18 13:00:00 0                        5                      \n",
       "4  2021-09-18 13:00:00 0                        5                      \n",
       "5  2021-09-18 13:00:00 0                        5                      \n",
       "6  2021-09-18 13:00:00 0                        5                      \n",
       "7  2021-09-18 13:00:00 0                        5                      \n",
       "8  2021-09-18 13:00:00 0                        5                      \n",
       "9  2021-09-18 13:00:00 0                        5                      \n",
       "10 2021-09-18 13:00:00 0                        5                      \n",
       "   General.MainSwitch General.MotorDirection General.PowerEco\n",
       "1  TRUE               FALSE                  TRUE            \n",
       "2  TRUE               FALSE                  TRUE            \n",
       "3  TRUE               FALSE                  TRUE            \n",
       "4  TRUE               FALSE                  TRUE            \n",
       "5  TRUE               FALSE                  TRUE            \n",
       "6  TRUE               FALSE                  TRUE            \n",
       "7  TRUE               FALSE                  TRUE            \n",
       "8  TRUE               FALSE                  TRUE            \n",
       "9  TRUE               FALSE                  TRUE            \n",
       "10 TRUE               FALSE                  TRUE            \n",
       "   General.RegenerationBrake General.DriveMode General.Horn General.Rpm ...\n",
       "1  0                         2                 0            0           ...\n",
       "2  0                         2                 0            0           ...\n",
       "3  0                         2                 0            0           ...\n",
       "4  0                         2                 0            0           ...\n",
       "5  0                         2                 0            0           ...\n",
       "6  0                         2                 0            0           ...\n",
       "7  0                         2                 0            0           ...\n",
       "8  0                         2                 0            0           ...\n",
       "9  0                         2                 0            0           ...\n",
       "10 0                         2                 0            0           ...\n",
       "   Solar.MpptOutputVoltage.0 Solar.MpptOutputVoltage.1\n",
       "1  124                       124                      \n",
       "2  124                       124                      \n",
       "3  124                       124                      \n",
       "4  124                       124                      \n",
       "5  124                       124                      \n",
       "6  124                       124                      \n",
       "7  124                       124                      \n",
       "8  124                       124                      \n",
       "9  124                       124                      \n",
       "10 124                       124                      \n",
       "   Solar.MpptOutputVoltage.2 Solar.MpptOutputVoltage.3 Solar.MpptOutputPower.0\n",
       "1  123                       125                       154761                 \n",
       "2  123                       125                       154761                 \n",
       "3  123                       125                       154761                 \n",
       "4  123                       125                       154761                 \n",
       "5  123                       125                       154761                 \n",
       "6  123                       125                       154761                 \n",
       "7  123                       125                       154761                 \n",
       "8  123                       125                       154761                 \n",
       "9  123                       125                       154761                 \n",
       "10 123                       125                       154761                 \n",
       "   Solar.MpptOutputPower.1 Solar.MpptOutputPower.2 Solar.MpptOutputPower.3\n",
       "1  787                     2190                    75253                  \n",
       "2  787                     2190                    75253                  \n",
       "3  787                     2190                    75253                  \n",
       "4  787                     2190                    75253                  \n",
       "5  787                     2190                    75253                  \n",
       "6  787                     2190                    75253                  \n",
       "7  787                     2190                    75253                  \n",
       "8  787                     2190                    75253                  \n",
       "9  787                     2190                    75253                  \n",
       "10 787                     2190                    75253                  \n",
       "   Solar.PowerMppt Calc.BatteryVoltage\n",
       "1  232991          124.773            \n",
       "2  232991          124.772            \n",
       "3  232991          124.773            \n",
       "4  232991          124.773            \n",
       "5  232991          124.772            \n",
       "6  232991          124.773            \n",
       "7  232991          124.774            \n",
       "8  232991          124.773            \n",
       "9  232991          124.773            \n",
       "10 232991          124.773            "
      ]
     },
     "metadata": {},
     "output_type": "display_data"
    }
   ],
   "source": [
    "head(race_2021_clean_df,10)"
   ]
  },
  {
   "cell_type": "code",
   "execution_count": 447,
   "id": "5280a86f",
   "metadata": {
    "scrolled": false
   },
   "outputs": [
    {
     "name": "stdout",
     "output_type": "stream",
     "text": [
      "[1] \"I start with rowIndex: 1\"\n",
      "[1] \"DUPAAAAAAAAAAAAAAAAAAAAAAAAAAAAAAAAAAAAAAAAAAAAAA\"\n",
      "[1] \"DUPAAAAAAAAAAAAAAAAAAAAAAAAAAAAAAAAAAAAAAAAAAAAAA\"\n",
      "[1] \"DUPAAAAAAAAAAAAAAAAAAAAAAAAAAAAAAAAAAAAAAAAAAAAAA\"\n",
      "[1] \"DUPAAAAAAAAAAAAAAAAAAAAAAAAAAAAAAAAAAAAAAAAAAAAAA\"\n",
      "[1] \"DUPAAAAAAAAAAAAAAAAAAAAAAAAAAAAAAAAAAAAAAAAAAAAAA\"\n",
      "[1] \"DUPAAAAAAAAAAAAAAAAAAAAAAAAAAAAAAAAAAAAAAAAAAAAAA\"\n",
      "[1] \"DUPAAAAAAAAAAAAAAAAAAAAAAAAAAAAAAAAAAAAAAAAAAAAAA\"\n",
      "[1] \"DUPAAAAAAAAAAAAAAAAAAAAAAAAAAAAAAAAAAAAAAAAAAAAAA\"\n",
      "[1] \"DUPAAAAAAAAAAAAAAAAAAAAAAAAAAAAAAAAAAAAAAAAAAAAAA\"\n"
     ]
    }
   ],
   "source": [
    "race_2021_clean_df$Calc.Timestamp<-NULL\n",
    "\n",
    "initialTimestamp <- race_2021_clean_df[1, 'General.Timestamp']\n",
    "\n",
    "rowIndex <- 1\n",
    "for(i in 2:nrow(race_2021_clean_df)){\n",
    "    tempTimestamp <- race_2021_clean_df[i, 'General.Timestamp']\n",
    "    time_difference <- tempTimestamp - initialTimestamp\n",
    "    \n",
    "    # if we find time difference of one minute\n",
    "    if(time_difference == 1)\n",
    "    {\n",
    "        data_rows = i - rowIndex\n",
    "        time_delta = 60 / data_rows\n",
    "        \n",
    "        for(j in rowIndex: i)\n",
    "        {\n",
    "            race_2021_clean_df[j, 'Calc.Timestamp'] <- race_2021_clean_df[j, 'General.Timestamp'] + (j - rowIndex)  * time_delta\n",
    "        }\n",
    "        rowIndex <- i\n",
    "        initialTimestamp <- tempTimestamp\n",
    "    }\n",
    "    \n",
    "    if(time_difference > 1){\n",
    "        data_rows = i-1 - rowIndex\n",
    "        time_delta = 60 / data_rows\n",
    "        for(j in rowIndex: i-1)\n",
    "        {\n",
    "            race_2021_clean_df[j, 'Calc.Timestamp'] <- race_2021_clean_df[j, 'General.Timestamp'] + (j - rowIndex) * time_delta\n",
    "        }\n",
    "        rowIndex <- i\n",
    "        initialTimestamp <- tempTimestamp\n",
    "    }\n",
    "}"
   ]
  },
  {
   "cell_type": "code",
   "execution_count": 448,
   "id": "e161f64e",
   "metadata": {},
   "outputs": [
    {
     "data": {
      "text/plain": [
       "                 Min.               1st Qu.                Median \n",
       "\"2021-09-18 13:00:00\" \"2021-09-18 18:44:00\" \"2021-09-19 00:43:00\" \n",
       "                 Mean               3rd Qu.                  Max. \n",
       "\"2021-09-19 00:43:35\" \"2021-09-19 06:34:00\" \"2021-09-19 13:00:00\" "
      ]
     },
     "metadata": {},
     "output_type": "display_data"
    },
    {
     "data": {
      "text/plain": [
       "                 Min.               1st Qu.                Median \n",
       "\"2021-09-18 13:00:00\" \"2021-09-18 18:44:32\" \"2021-09-19 00:43:03\" \n",
       "                 Mean               3rd Qu.                  Max. \n",
       "\"2021-09-19 00:44:04\" \"2021-09-19 06:34:11\" \"2021-09-19 13:01:00\" "
      ]
     },
     "metadata": {},
     "output_type": "display_data"
    }
   ],
   "source": [
    "summary(race_2021_clean_df$General.Timestamp)\n",
    "summary(race_2021_clean_df$Calc.Timestamp)"
   ]
  },
  {
   "cell_type": "markdown",
   "id": "6dc58c63",
   "metadata": {},
   "source": [
    "## >>> 5.3 - Race Mileage and Speed\n",
    "We want to know exact mileage of the car during the race. As the team changed the tyre type just before the race - the speed value showed by gauges was not perfect. Knowing RPM and tyre model we will calculate new linear speed\n",
    "\n",
    "### Tyre cirumference = 2150 mm\n",
    "### V_lin_p [mm/min] = RPM * Circumference [mm / min]\n",
    "### V_lin_k [km/h] = V_lin_p * 60 / 1 000 000"
   ]
  },
  {
   "cell_type": "code",
   "execution_count": 483,
   "id": "a9efcd25",
   "metadata": {},
   "outputs": [],
   "source": [
    "tyre_circumference = 2150 #mm"
   ]
  },
  {
   "cell_type": "code",
   "execution_count": 484,
   "id": "d7ae5f4c",
   "metadata": {
    "scrolled": true
   },
   "outputs": [
    {
     "data": {
      "text/plain": [
       "   Min. 1st Qu.  Median    Mean 3rd Qu.    Max. \n",
       "   0.00   37.93   47.99   41.32   54.70   77.66 "
      ]
     },
     "metadata": {},
     "output_type": "display_data"
    },
    {
     "data": {
      "text/plain": [
       "   Min. 1st Qu.  Median    Mean 3rd Qu.    Max. \n",
       "   0.00   31.39   39.72   34.20   45.27   64.27 "
      ]
     },
     "metadata": {},
     "output_type": "display_data"
    }
   ],
   "source": [
    "race_2021_clean_df$Calc.Speed <- race_2021_clean_df$General.Rpm * tyre_circumference * 60 / 1000000\n",
    "summary(race_2021_clean_df$Calc.Speed)\n",
    "summary(race_2021_clean_df$General.Speed)"
   ]
  },
  {
   "cell_type": "code",
   "execution_count": 485,
   "id": "82233b94",
   "metadata": {},
   "outputs": [
    {
     "data": {
      "text/html": [
       "944.105035995456"
      ],
      "text/latex": [
       "944.105035995456"
      ],
      "text/markdown": [
       "944.105035995456"
      ],
      "text/plain": [
       "[1] 944.105"
      ]
     },
     "metadata": {},
     "output_type": "display_data"
    }
   ],
   "source": [
    "# Get Time Difference [s]\n",
    "race_2021_clean_df$Calc.TimeDiff <- as.numeric(race_2021_clean_df$Calc.Timestamp - shift(race_2021_clean_df$Calc.Timestamp))\n",
    "\n",
    "# Get Mileage [s * km / h]\n",
    "race_2021_clean_df$Calc.Mileage <- abs(race_2021_clean_df$Calc.TimeDiff * race_2021_clean_df$Calc.Speed) / 3600\n",
    "\n",
    "# Get rid of stupid values\n",
    "race_2021_clean_df$Calc.Mileage <- ifelse(race_2021_clean_df$Calc.Mileage <= 0.3, race_2021_clean_df$Calc.Mileage, 0)\n",
    "race_2021_clean_df$Calc.Mileage[is.na(race_2021_clean_df$Calc.Mileage)] <- 0\n",
    "sum(race_2021_clean_df$Calc.Mileage)"
   ]
  },
  {
   "cell_type": "code",
   "execution_count": 492,
   "id": "685b5ae2",
   "metadata": {},
   "outputs": [],
   "source": [
    "race_2021_clean_df[, 'Calc.MileageSum'] <- 0\n",
    "\n",
    "for(i in 2:nrow(race_2021_clean_df)) {\n",
    "    race_2021_clean_df[i, 'Calc.MileageSum'] <- race_2021_clean_df[i-1, 'Calc.MileageSum'] + race_2021_clean_df[i, 'Calc.Mileage']\n",
    "}\n",
    "\n",
    "# race_2021_clean_df$Calc.SumMileage <- lapply(race_2021_clean_df$Calc.Mileage, cumsum)\n",
    "# summary(race_2021_clean_df$Calc.SumMileage)\n",
    "# head(race_2021_clean_df$Calc.SumMileage)\n",
    "# tail(race_2021_clean_df$Calc.SumMileage)"
   ]
  },
  {
   "cell_type": "code",
   "execution_count": 495,
   "id": "1a4ab660",
   "metadata": {},
   "outputs": [
    {
     "data": {
      "text/plain": [
       "   Min. 1st Qu.  Median    Mean 3rd Qu.    Max. \n",
       "    0.0   253.9   458.1   467.7   702.5   944.1 "
      ]
     },
     "metadata": {},
     "output_type": "display_data"
    },
    {
     "data": {
      "image/png": "[encoded data removed]",
      "text/plain": [
       "plot without title"
      ]
     },
     "metadata": {},
     "output_type": "display_data"
    }
   ],
   "source": [
    "summary(race_2021_clean_df$Calc.MileageSum)\n",
    "qplot(y=Calc.MileageSum, x=Calc.Timestamp, data=race_2021_clean_df)"
   ]
  },
  {
   "cell_type": "code",
   "execution_count": null,
   "id": "b9446037",
   "metadata": {
    "scrolled": false
   },
   "outputs": [],
   "source": []
  },
  {
   "cell_type": "code",
   "execution_count": null,
   "id": "1c3dd369",
   "metadata": {},
   "outputs": [],
   "source": []
  },
  {
   "cell_type": "code",
   "execution_count": null,
   "id": "256133d6",
   "metadata": {},
   "outputs": [],
   "source": []
  },
  {
   "cell_type": "code",
   "execution_count": null,
   "id": "7cb973f9",
   "metadata": {
    "scrolled": false
   },
   "outputs": [],
   "source": []
  },
  {
   "cell_type": "code",
   "execution_count": null,
   "id": "87e406df",
   "metadata": {},
   "outputs": [],
   "source": []
  },
  {
   "cell_type": "code",
   "execution_count": null,
   "id": "9d4e10fd",
   "metadata": {},
   "outputs": [],
   "source": []
  },
  {
   "cell_type": "code",
   "execution_count": null,
   "id": "ab9768d9",
   "metadata": {
    "scrolled": true
   },
   "outputs": [],
   "source": []
  },
  {
   "cell_type": "markdown",
   "id": "c7633656",
   "metadata": {},
   "source": [
    "# DATA CLEANING DONE - NOW IT IS TIME TO DO SOME MAGIC"
   ]
  },
  {
   "cell_type": "code",
   "execution_count": 14,
   "id": "6bd2efc6",
   "metadata": {},
   "outputs": [
    {
     "ename": "ERROR",
     "evalue": "Error in from.timestamp(race_2021_clean_df_2$General.Timestamp): could not find function \"from.timestamp\"\n",
     "output_type": "error",
     "traceback": [
      "Error in from.timestamp(race_2021_clean_df_2$General.Timestamp): could not find function \"from.timestamp\"\nTraceback:\n"
     ]
    }
   ],
   "source": [
    "race_2021_clean_df_2 <- race_2021_clean_df\n",
    "race_2021_clean_df_2$General.Timestamp  <- from.timestamp(race_2021_clean_df_2$General.Timestamp)"
   ]
  },
  {
   "cell_type": "markdown",
   "id": "2c0c2314",
   "metadata": {},
   "source": [
    "### Może weźmy dane:\n",
    "#### DO OPISU BATERII:\n",
    "1. State of Charge ---> battery voltage\n",
    "2. Min Cell Voltage\n",
    "3. Max Cell Voltage\n",
    "4. Pack Temperature Max\n",
    "5. Pack Temperature Min\n",
    "\n",
    "\n",
    "### DO OPISU STYLU JAZDY KIEROWCY\n",
    "1. Throttle Position\n",
    "2. Power Balance\n",
    "3. Regenerative breaking?\n",
    "4. General.DriveMode\n",
    "5. General.Speed\n",
    "\n",
    "\n",
    "### DO OPISU DOŁADOWAŃ\n",
    "1. MPPT output\n",
    "2. Regenerative breaking"
   ]
  },
  {
   "cell_type": "code",
   "execution_count": 40,
   "id": "69086ed7",
   "metadata": {},
   "outputs": [
    {
     "name": "stderr",
     "output_type": "stream",
     "text": [
      "Registered S3 method overwritten by 'rvest':\n",
      "  method            from\n",
      "  read_xml.response xml2\n",
      "-- \u001b[1mAttaching packages\u001b[22m --------------------------------------- tidyverse 1.2.1 --\n",
      "\u001b[32mv\u001b[39m \u001b[34mtibble \u001b[39m 3.1.1       \u001b[32mv\u001b[39m \u001b[34mpurrr  \u001b[39m 0.3.4  \n",
      "\u001b[32mv\u001b[39m \u001b[34mtidyr  \u001b[39m 0.8.3       \u001b[32mv\u001b[39m \u001b[34mdplyr  \u001b[39m 0.8.0.\u001b[31m1\u001b[39m\n",
      "\u001b[32mv\u001b[39m \u001b[34mreadr  \u001b[39m 1.3.1       \u001b[32mv\u001b[39m \u001b[34mstringr\u001b[39m 1.4.0  \n",
      "\u001b[32mv\u001b[39m \u001b[34mtibble \u001b[39m 3.1.1       \u001b[32mv\u001b[39m \u001b[34mforcats\u001b[39m 0.4.0  \n",
      "Warning message:\n",
      "\"package 'tibble' was built under R version 3.6.3\"Warning message:\n",
      "\"package 'purrr' was built under R version 3.6.3\"-- \u001b[1mConflicts\u001b[22m ------------------------------------------ tidyverse_conflicts() --\n",
      "\u001b[31mx\u001b[39m \u001b[34mdplyr\u001b[39m::\u001b[32marrange()\u001b[39m   masks \u001b[34mplyr\u001b[39m::arrange()\n",
      "\u001b[31mx\u001b[39m \u001b[34mdplyr\u001b[39m::\u001b[32mcombine()\u001b[39m   masks \u001b[34mgridExtra\u001b[39m::combine()\n",
      "\u001b[31mx\u001b[39m \u001b[34mpurrr\u001b[39m::\u001b[32mcompact()\u001b[39m   masks \u001b[34mplyr\u001b[39m::compact()\n",
      "\u001b[31mx\u001b[39m \u001b[34mdplyr\u001b[39m::\u001b[32mcount()\u001b[39m     masks \u001b[34mplyr\u001b[39m::count()\n",
      "\u001b[31mx\u001b[39m \u001b[34mdplyr\u001b[39m::\u001b[32mfailwith()\u001b[39m  masks \u001b[34mplyr\u001b[39m::failwith()\n",
      "\u001b[31mx\u001b[39m \u001b[34mdplyr\u001b[39m::\u001b[32mfilter()\u001b[39m    masks \u001b[34mstats\u001b[39m::filter()\n",
      "\u001b[31mx\u001b[39m \u001b[34mdplyr\u001b[39m::\u001b[32mid()\u001b[39m        masks \u001b[34mplyr\u001b[39m::id()\n",
      "\u001b[31mx\u001b[39m \u001b[34mdplyr\u001b[39m::\u001b[32mlag()\u001b[39m       masks \u001b[34mstats\u001b[39m::lag()\n",
      "\u001b[31mx\u001b[39m \u001b[34mdplyr\u001b[39m::\u001b[32mmutate()\u001b[39m    masks \u001b[34mplyr\u001b[39m::mutate()\n",
      "\u001b[31mx\u001b[39m \u001b[34mdplyr\u001b[39m::\u001b[32mrename()\u001b[39m    masks \u001b[34mplyr\u001b[39m::rename()\n",
      "\u001b[31mx\u001b[39m \u001b[34mdplyr\u001b[39m::\u001b[32msummarise()\u001b[39m masks \u001b[34mplyr\u001b[39m::summarise()\n",
      "\u001b[31mx\u001b[39m \u001b[34mdplyr\u001b[39m::\u001b[32msummarize()\u001b[39m masks \u001b[34mplyr\u001b[39m::summarize()\n",
      "Loading required package: lattice\n",
      "\n",
      "Attaching package: 'caret'\n",
      "\n",
      "The following object is masked from 'package:purrr':\n",
      "\n",
      "    lift\n",
      "\n",
      "The following object is masked from 'package:tensorflow':\n",
      "\n",
      "    train\n",
      "\n"
     ]
    }
   ],
   "source": [
    "# read in the packages we'll use\n",
    "library(keras) # for deep learning\n",
    "library(tidyverse) # general utility functions\n",
    "library(caret) # machine learning utility functions\n",
    "\n",
    "# Estimate battery voltage after serious of data "
   ]
  },
  {
   "cell_type": "code",
   "execution_count": null,
   "id": "75430d37",
   "metadata": {},
   "outputs": [],
   "source": [
    "head(race_2021_clean_df)"
   ]
  },
  {
   "cell_type": "code",
   "execution_count": 15,
   "id": "03b42665",
   "metadata": {},
   "outputs": [
    {
     "data": {
      "text/html": [
       "<ol class=list-inline>\n",
       "\t<li>'General.Timestamp'</li>\n",
       "\t<li>'General.ThrottlePosition'</li>\n",
       "\t<li>'General.MotorController'</li>\n",
       "\t<li>'General.MainSwitch'</li>\n",
       "\t<li>'General.MotorDirection'</li>\n",
       "\t<li>'General.PowerEco'</li>\n",
       "\t<li>'General.RegenerationBrake'</li>\n",
       "\t<li>'General.DriveMode'</li>\n",
       "\t<li>'General.Horn'</li>\n",
       "\t<li>'General.Rpm'</li>\n",
       "\t<li>'General.Speed'</li>\n",
       "\t<li>'General.Mileage'</li>\n",
       "\t<li>'General.MotorTemperature'</li>\n",
       "\t<li>'Battery.RemainingChargeTime'</li>\n",
       "\t<li>'Battery.SystemState'</li>\n",
       "\t<li>'Battery.InputOutputState'</li>\n",
       "\t<li>'Battery.PackCRate'</li>\n",
       "\t<li>'Battery.StateOfHealth'</li>\n",
       "\t<li>'Battery.RemainingEnergy'</li>\n",
       "\t<li>'Battery.DeviationOfVoltageInCells'</li>\n",
       "\t<li>'Battery.PackTemperatureMax'</li>\n",
       "\t<li>'Battery.LMUNumberWithMaxTemperature'</li>\n",
       "\t<li>'Battery.PackTemperatureMin'</li>\n",
       "\t<li>'Battery.LMUNumberWithMinTemperature'</li>\n",
       "\t<li>'Battery.CellVoltageMax'</li>\n",
       "\t<li>'Battery.CellNumberWithMaxVoltage'</li>\n",
       "\t<li>'Battery.CellVoltageMin'</li>\n",
       "\t<li>'Battery.CellNumberWithMinVoltage'</li>\n",
       "\t<li>'Battery.CellAvgVoltage'</li>\n",
       "\t<li>'Battery.PackVoltage'</li>\n",
       "\t<li>'Battery.PackCurrent'</li>\n",
       "\t<li>'Battery.PowerBalance'</li>\n",
       "\t<li>'Battery.BatteryCells.CellsGroups.0.Voltages.0'</li>\n",
       "\t<li>'Battery.BatteryCells.CellsGroups.0.Voltages.1'</li>\n",
       "\t<li>'Battery.BatteryCells.CellsGroups.0.Voltages.2'</li>\n",
       "\t<li>'Battery.BatteryCells.CellsGroups.0.Voltages.3'</li>\n",
       "\t<li>'Battery.BatteryCells.CellsGroups.0.Voltages.4'</li>\n",
       "\t<li>'Battery.BatteryCells.CellsGroups.0.Voltages.5'</li>\n",
       "\t<li>'Battery.BatteryCells.CellsGroups.0.Voltages.6'</li>\n",
       "\t<li>'Battery.BatteryCells.CellsGroups.0.Voltages.7'</li>\n",
       "\t<li>'Battery.BatteryCells.CellsGroups.0.Temperatures.0'</li>\n",
       "\t<li>'Battery.BatteryCells.CellsGroups.0.Temperatures.1'</li>\n",
       "\t<li>'Battery.BatteryCells.CellsGroups.0.Temperatures.2'</li>\n",
       "\t<li>'Battery.BatteryCells.CellsGroups.0.Temperatures.3'</li>\n",
       "\t<li>'Battery.BatteryCells.CellsGroups.1.Voltages.0'</li>\n",
       "\t<li>'Battery.BatteryCells.CellsGroups.1.Voltages.1'</li>\n",
       "\t<li>'Battery.BatteryCells.CellsGroups.1.Voltages.2'</li>\n",
       "\t<li>'Battery.BatteryCells.CellsGroups.1.Voltages.3'</li>\n",
       "\t<li>'Battery.BatteryCells.CellsGroups.1.Voltages.4'</li>\n",
       "\t<li>'Battery.BatteryCells.CellsGroups.1.Voltages.5'</li>\n",
       "\t<li>'Battery.BatteryCells.CellsGroups.1.Voltages.6'</li>\n",
       "\t<li>'Battery.BatteryCells.CellsGroups.1.Voltages.7'</li>\n",
       "\t<li>'Battery.BatteryCells.CellsGroups.1.Temperatures.0'</li>\n",
       "\t<li>'Battery.BatteryCells.CellsGroups.1.Temperatures.1'</li>\n",
       "\t<li>'Battery.BatteryCells.CellsGroups.1.Temperatures.2'</li>\n",
       "\t<li>'Battery.BatteryCells.CellsGroups.1.Temperatures.3'</li>\n",
       "\t<li>'Battery.BatteryCells.CellsGroups.2.Voltages.0'</li>\n",
       "\t<li>'Battery.BatteryCells.CellsGroups.2.Voltages.1'</li>\n",
       "\t<li>'Battery.BatteryCells.CellsGroups.2.Voltages.2'</li>\n",
       "\t<li>'Battery.BatteryCells.CellsGroups.2.Voltages.3'</li>\n",
       "\t<li>'Battery.BatteryCells.CellsGroups.2.Voltages.4'</li>\n",
       "\t<li>'Battery.BatteryCells.CellsGroups.2.Voltages.5'</li>\n",
       "\t<li>'Battery.BatteryCells.CellsGroups.2.Voltages.6'</li>\n",
       "\t<li>'Battery.BatteryCells.CellsGroups.2.Voltages.7'</li>\n",
       "\t<li>'Battery.BatteryCells.CellsGroups.2.Temperatures.0'</li>\n",
       "\t<li>'Battery.BatteryCells.CellsGroups.2.Temperatures.1'</li>\n",
       "\t<li>'Battery.BatteryCells.CellsGroups.2.Temperatures.2'</li>\n",
       "\t<li>'Battery.BatteryCells.CellsGroups.2.Temperatures.3'</li>\n",
       "\t<li>'Battery.BatteryCells.CellsGroups.3.Voltages.0'</li>\n",
       "\t<li>'Battery.BatteryCells.CellsGroups.3.Voltages.1'</li>\n",
       "\t<li>'Battery.BatteryCells.CellsGroups.3.Voltages.2'</li>\n",
       "\t<li>'Battery.BatteryCells.CellsGroups.3.Voltages.3'</li>\n",
       "\t<li>'Battery.BatteryCells.CellsGroups.3.Voltages.4'</li>\n",
       "\t<li>'Battery.BatteryCells.CellsGroups.3.Voltages.5'</li>\n",
       "\t<li>'Battery.BatteryCells.CellsGroups.3.Voltages.6'</li>\n",
       "\t<li>'Battery.BatteryCells.CellsGroups.3.Voltages.7'</li>\n",
       "\t<li>'Battery.BatteryCells.CellsGroups.3.Temperatures.0'</li>\n",
       "\t<li>'Battery.BatteryCells.CellsGroups.3.Temperatures.1'</li>\n",
       "\t<li>'Battery.BatteryCells.CellsGroups.3.Temperatures.2'</li>\n",
       "\t<li>'Battery.BatteryCells.CellsGroups.3.Temperatures.3'</li>\n",
       "\t<li>'Solar.MpptInputVoltage.0'</li>\n",
       "\t<li>'Solar.MpptInputVoltage.1'</li>\n",
       "\t<li>'Solar.MpptInputVoltage.2'</li>\n",
       "\t<li>'Solar.MpptInputVoltage.3'</li>\n",
       "\t<li>'Solar.MpptInputCurrent.0'</li>\n",
       "\t<li>'Solar.MpptInputCurrent.1'</li>\n",
       "\t<li>'Solar.MpptInputCurrent.2'</li>\n",
       "\t<li>'Solar.MpptInputCurrent.3'</li>\n",
       "\t<li>'Solar.MpptOutputVoltage.0'</li>\n",
       "\t<li>'Solar.MpptOutputVoltage.1'</li>\n",
       "\t<li>'Solar.MpptOutputVoltage.2'</li>\n",
       "\t<li>'Solar.MpptOutputVoltage.3'</li>\n",
       "\t<li>'Solar.MpptOutputPower.0'</li>\n",
       "\t<li>'Solar.MpptOutputPower.1'</li>\n",
       "\t<li>'Solar.MpptOutputPower.2'</li>\n",
       "\t<li>'Solar.MpptOutputPower.3'</li>\n",
       "\t<li>'Solar.PowerMppt'</li>\n",
       "</ol>\n"
      ],
      "text/latex": [
       "\\begin{enumerate*}\n",
       "\\item 'General.Timestamp'\n",
       "\\item 'General.ThrottlePosition'\n",
       "\\item 'General.MotorController'\n",
       "\\item 'General.MainSwitch'\n",
       "\\item 'General.MotorDirection'\n",
       "\\item 'General.PowerEco'\n",
       "\\item 'General.RegenerationBrake'\n",
       "\\item 'General.DriveMode'\n",
       "\\item 'General.Horn'\n",
       "\\item 'General.Rpm'\n",
       "\\item 'General.Speed'\n",
       "\\item 'General.Mileage'\n",
       "\\item 'General.MotorTemperature'\n",
       "\\item 'Battery.RemainingChargeTime'\n",
       "\\item 'Battery.SystemState'\n",
       "\\item 'Battery.InputOutputState'\n",
       "\\item 'Battery.PackCRate'\n",
       "\\item 'Battery.StateOfHealth'\n",
       "\\item 'Battery.RemainingEnergy'\n",
       "\\item 'Battery.DeviationOfVoltageInCells'\n",
       "\\item 'Battery.PackTemperatureMax'\n",
       "\\item 'Battery.LMUNumberWithMaxTemperature'\n",
       "\\item 'Battery.PackTemperatureMin'\n",
       "\\item 'Battery.LMUNumberWithMinTemperature'\n",
       "\\item 'Battery.CellVoltageMax'\n",
       "\\item 'Battery.CellNumberWithMaxVoltage'\n",
       "\\item 'Battery.CellVoltageMin'\n",
       "\\item 'Battery.CellNumberWithMinVoltage'\n",
       "\\item 'Battery.CellAvgVoltage'\n",
       "\\item 'Battery.PackVoltage'\n",
       "\\item 'Battery.PackCurrent'\n",
       "\\item 'Battery.PowerBalance'\n",
       "\\item 'Battery.BatteryCells.CellsGroups.0.Voltages.0'\n",
       "\\item 'Battery.BatteryCells.CellsGroups.0.Voltages.1'\n",
       "\\item 'Battery.BatteryCells.CellsGroups.0.Voltages.2'\n",
       "\\item 'Battery.BatteryCells.CellsGroups.0.Voltages.3'\n",
       "\\item 'Battery.BatteryCells.CellsGroups.0.Voltages.4'\n",
       "\\item 'Battery.BatteryCells.CellsGroups.0.Voltages.5'\n",
       "\\item 'Battery.BatteryCells.CellsGroups.0.Voltages.6'\n",
       "\\item 'Battery.BatteryCells.CellsGroups.0.Voltages.7'\n",
       "\\item 'Battery.BatteryCells.CellsGroups.0.Temperatures.0'\n",
       "\\item 'Battery.BatteryCells.CellsGroups.0.Temperatures.1'\n",
       "\\item 'Battery.BatteryCells.CellsGroups.0.Temperatures.2'\n",
       "\\item 'Battery.BatteryCells.CellsGroups.0.Temperatures.3'\n",
       "\\item 'Battery.BatteryCells.CellsGroups.1.Voltages.0'\n",
       "\\item 'Battery.BatteryCells.CellsGroups.1.Voltages.1'\n",
       "\\item 'Battery.BatteryCells.CellsGroups.1.Voltages.2'\n",
       "\\item 'Battery.BatteryCells.CellsGroups.1.Voltages.3'\n",
       "\\item 'Battery.BatteryCells.CellsGroups.1.Voltages.4'\n",
       "\\item 'Battery.BatteryCells.CellsGroups.1.Voltages.5'\n",
       "\\item 'Battery.BatteryCells.CellsGroups.1.Voltages.6'\n",
       "\\item 'Battery.BatteryCells.CellsGroups.1.Voltages.7'\n",
       "\\item 'Battery.BatteryCells.CellsGroups.1.Temperatures.0'\n",
       "\\item 'Battery.BatteryCells.CellsGroups.1.Temperatures.1'\n",
       "\\item 'Battery.BatteryCells.CellsGroups.1.Temperatures.2'\n",
       "\\item 'Battery.BatteryCells.CellsGroups.1.Temperatures.3'\n",
       "\\item 'Battery.BatteryCells.CellsGroups.2.Voltages.0'\n",
       "\\item 'Battery.BatteryCells.CellsGroups.2.Voltages.1'\n",
       "\\item 'Battery.BatteryCells.CellsGroups.2.Voltages.2'\n",
       "\\item 'Battery.BatteryCells.CellsGroups.2.Voltages.3'\n",
       "\\item 'Battery.BatteryCells.CellsGroups.2.Voltages.4'\n",
       "\\item 'Battery.BatteryCells.CellsGroups.2.Voltages.5'\n",
       "\\item 'Battery.BatteryCells.CellsGroups.2.Voltages.6'\n",
       "\\item 'Battery.BatteryCells.CellsGroups.2.Voltages.7'\n",
       "\\item 'Battery.BatteryCells.CellsGroups.2.Temperatures.0'\n",
       "\\item 'Battery.BatteryCells.CellsGroups.2.Temperatures.1'\n",
       "\\item 'Battery.BatteryCells.CellsGroups.2.Temperatures.2'\n",
       "\\item 'Battery.BatteryCells.CellsGroups.2.Temperatures.3'\n",
       "\\item 'Battery.BatteryCells.CellsGroups.3.Voltages.0'\n",
       "\\item 'Battery.BatteryCells.CellsGroups.3.Voltages.1'\n",
       "\\item 'Battery.BatteryCells.CellsGroups.3.Voltages.2'\n",
       "\\item 'Battery.BatteryCells.CellsGroups.3.Voltages.3'\n",
       "\\item 'Battery.BatteryCells.CellsGroups.3.Voltages.4'\n",
       "\\item 'Battery.BatteryCells.CellsGroups.3.Voltages.5'\n",
       "\\item 'Battery.BatteryCells.CellsGroups.3.Voltages.6'\n",
       "\\item 'Battery.BatteryCells.CellsGroups.3.Voltages.7'\n",
       "\\item 'Battery.BatteryCells.CellsGroups.3.Temperatures.0'\n",
       "\\item 'Battery.BatteryCells.CellsGroups.3.Temperatures.1'\n",
       "\\item 'Battery.BatteryCells.CellsGroups.3.Temperatures.2'\n",
       "\\item 'Battery.BatteryCells.CellsGroups.3.Temperatures.3'\n",
       "\\item 'Solar.MpptInputVoltage.0'\n",
       "\\item 'Solar.MpptInputVoltage.1'\n",
       "\\item 'Solar.MpptInputVoltage.2'\n",
       "\\item 'Solar.MpptInputVoltage.3'\n",
       "\\item 'Solar.MpptInputCurrent.0'\n",
       "\\item 'Solar.MpptInputCurrent.1'\n",
       "\\item 'Solar.MpptInputCurrent.2'\n",
       "\\item 'Solar.MpptInputCurrent.3'\n",
       "\\item 'Solar.MpptOutputVoltage.0'\n",
       "\\item 'Solar.MpptOutputVoltage.1'\n",
       "\\item 'Solar.MpptOutputVoltage.2'\n",
       "\\item 'Solar.MpptOutputVoltage.3'\n",
       "\\item 'Solar.MpptOutputPower.0'\n",
       "\\item 'Solar.MpptOutputPower.1'\n",
       "\\item 'Solar.MpptOutputPower.2'\n",
       "\\item 'Solar.MpptOutputPower.3'\n",
       "\\item 'Solar.PowerMppt'\n",
       "\\end{enumerate*}\n"
      ],
      "text/markdown": [
       "1. 'General.Timestamp'\n",
       "2. 'General.ThrottlePosition'\n",
       "3. 'General.MotorController'\n",
       "4. 'General.MainSwitch'\n",
       "5. 'General.MotorDirection'\n",
       "6. 'General.PowerEco'\n",
       "7. 'General.RegenerationBrake'\n",
       "8. 'General.DriveMode'\n",
       "9. 'General.Horn'\n",
       "10. 'General.Rpm'\n",
       "11. 'General.Speed'\n",
       "12. 'General.Mileage'\n",
       "13. 'General.MotorTemperature'\n",
       "14. 'Battery.RemainingChargeTime'\n",
       "15. 'Battery.SystemState'\n",
       "16. 'Battery.InputOutputState'\n",
       "17. 'Battery.PackCRate'\n",
       "18. 'Battery.StateOfHealth'\n",
       "19. 'Battery.RemainingEnergy'\n",
       "20. 'Battery.DeviationOfVoltageInCells'\n",
       "21. 'Battery.PackTemperatureMax'\n",
       "22. 'Battery.LMUNumberWithMaxTemperature'\n",
       "23. 'Battery.PackTemperatureMin'\n",
       "24. 'Battery.LMUNumberWithMinTemperature'\n",
       "25. 'Battery.CellVoltageMax'\n",
       "26. 'Battery.CellNumberWithMaxVoltage'\n",
       "27. 'Battery.CellVoltageMin'\n",
       "28. 'Battery.CellNumberWithMinVoltage'\n",
       "29. 'Battery.CellAvgVoltage'\n",
       "30. 'Battery.PackVoltage'\n",
       "31. 'Battery.PackCurrent'\n",
       "32. 'Battery.PowerBalance'\n",
       "33. 'Battery.BatteryCells.CellsGroups.0.Voltages.0'\n",
       "34. 'Battery.BatteryCells.CellsGroups.0.Voltages.1'\n",
       "35. 'Battery.BatteryCells.CellsGroups.0.Voltages.2'\n",
       "36. 'Battery.BatteryCells.CellsGroups.0.Voltages.3'\n",
       "37. 'Battery.BatteryCells.CellsGroups.0.Voltages.4'\n",
       "38. 'Battery.BatteryCells.CellsGroups.0.Voltages.5'\n",
       "39. 'Battery.BatteryCells.CellsGroups.0.Voltages.6'\n",
       "40. 'Battery.BatteryCells.CellsGroups.0.Voltages.7'\n",
       "41. 'Battery.BatteryCells.CellsGroups.0.Temperatures.0'\n",
       "42. 'Battery.BatteryCells.CellsGroups.0.Temperatures.1'\n",
       "43. 'Battery.BatteryCells.CellsGroups.0.Temperatures.2'\n",
       "44. 'Battery.BatteryCells.CellsGroups.0.Temperatures.3'\n",
       "45. 'Battery.BatteryCells.CellsGroups.1.Voltages.0'\n",
       "46. 'Battery.BatteryCells.CellsGroups.1.Voltages.1'\n",
       "47. 'Battery.BatteryCells.CellsGroups.1.Voltages.2'\n",
       "48. 'Battery.BatteryCells.CellsGroups.1.Voltages.3'\n",
       "49. 'Battery.BatteryCells.CellsGroups.1.Voltages.4'\n",
       "50. 'Battery.BatteryCells.CellsGroups.1.Voltages.5'\n",
       "51. 'Battery.BatteryCells.CellsGroups.1.Voltages.6'\n",
       "52. 'Battery.BatteryCells.CellsGroups.1.Voltages.7'\n",
       "53. 'Battery.BatteryCells.CellsGroups.1.Temperatures.0'\n",
       "54. 'Battery.BatteryCells.CellsGroups.1.Temperatures.1'\n",
       "55. 'Battery.BatteryCells.CellsGroups.1.Temperatures.2'\n",
       "56. 'Battery.BatteryCells.CellsGroups.1.Temperatures.3'\n",
       "57. 'Battery.BatteryCells.CellsGroups.2.Voltages.0'\n",
       "58. 'Battery.BatteryCells.CellsGroups.2.Voltages.1'\n",
       "59. 'Battery.BatteryCells.CellsGroups.2.Voltages.2'\n",
       "60. 'Battery.BatteryCells.CellsGroups.2.Voltages.3'\n",
       "61. 'Battery.BatteryCells.CellsGroups.2.Voltages.4'\n",
       "62. 'Battery.BatteryCells.CellsGroups.2.Voltages.5'\n",
       "63. 'Battery.BatteryCells.CellsGroups.2.Voltages.6'\n",
       "64. 'Battery.BatteryCells.CellsGroups.2.Voltages.7'\n",
       "65. 'Battery.BatteryCells.CellsGroups.2.Temperatures.0'\n",
       "66. 'Battery.BatteryCells.CellsGroups.2.Temperatures.1'\n",
       "67. 'Battery.BatteryCells.CellsGroups.2.Temperatures.2'\n",
       "68. 'Battery.BatteryCells.CellsGroups.2.Temperatures.3'\n",
       "69. 'Battery.BatteryCells.CellsGroups.3.Voltages.0'\n",
       "70. 'Battery.BatteryCells.CellsGroups.3.Voltages.1'\n",
       "71. 'Battery.BatteryCells.CellsGroups.3.Voltages.2'\n",
       "72. 'Battery.BatteryCells.CellsGroups.3.Voltages.3'\n",
       "73. 'Battery.BatteryCells.CellsGroups.3.Voltages.4'\n",
       "74. 'Battery.BatteryCells.CellsGroups.3.Voltages.5'\n",
       "75. 'Battery.BatteryCells.CellsGroups.3.Voltages.6'\n",
       "76. 'Battery.BatteryCells.CellsGroups.3.Voltages.7'\n",
       "77. 'Battery.BatteryCells.CellsGroups.3.Temperatures.0'\n",
       "78. 'Battery.BatteryCells.CellsGroups.3.Temperatures.1'\n",
       "79. 'Battery.BatteryCells.CellsGroups.3.Temperatures.2'\n",
       "80. 'Battery.BatteryCells.CellsGroups.3.Temperatures.3'\n",
       "81. 'Solar.MpptInputVoltage.0'\n",
       "82. 'Solar.MpptInputVoltage.1'\n",
       "83. 'Solar.MpptInputVoltage.2'\n",
       "84. 'Solar.MpptInputVoltage.3'\n",
       "85. 'Solar.MpptInputCurrent.0'\n",
       "86. 'Solar.MpptInputCurrent.1'\n",
       "87. 'Solar.MpptInputCurrent.2'\n",
       "88. 'Solar.MpptInputCurrent.3'\n",
       "89. 'Solar.MpptOutputVoltage.0'\n",
       "90. 'Solar.MpptOutputVoltage.1'\n",
       "91. 'Solar.MpptOutputVoltage.2'\n",
       "92. 'Solar.MpptOutputVoltage.3'\n",
       "93. 'Solar.MpptOutputPower.0'\n",
       "94. 'Solar.MpptOutputPower.1'\n",
       "95. 'Solar.MpptOutputPower.2'\n",
       "96. 'Solar.MpptOutputPower.3'\n",
       "97. 'Solar.PowerMppt'\n",
       "\n",
       "\n"
      ],
      "text/plain": [
       " [1] \"General.Timestamp\"                                \n",
       " [2] \"General.ThrottlePosition\"                         \n",
       " [3] \"General.MotorController\"                          \n",
       " [4] \"General.MainSwitch\"                               \n",
       " [5] \"General.MotorDirection\"                           \n",
       " [6] \"General.PowerEco\"                                 \n",
       " [7] \"General.RegenerationBrake\"                        \n",
       " [8] \"General.DriveMode\"                                \n",
       " [9] \"General.Horn\"                                     \n",
       "[10] \"General.Rpm\"                                      \n",
       "[11] \"General.Speed\"                                    \n",
       "[12] \"General.Mileage\"                                  \n",
       "[13] \"General.MotorTemperature\"                         \n",
       "[14] \"Battery.RemainingChargeTime\"                      \n",
       "[15] \"Battery.SystemState\"                              \n",
       "[16] \"Battery.InputOutputState\"                         \n",
       "[17] \"Battery.PackCRate\"                                \n",
       "[18] \"Battery.StateOfHealth\"                            \n",
       "[19] \"Battery.RemainingEnergy\"                          \n",
       "[20] \"Battery.DeviationOfVoltageInCells\"                \n",
       "[21] \"Battery.PackTemperatureMax\"                       \n",
       "[22] \"Battery.LMUNumberWithMaxTemperature\"              \n",
       "[23] \"Battery.PackTemperatureMin\"                       \n",
       "[24] \"Battery.LMUNumberWithMinTemperature\"              \n",
       "[25] \"Battery.CellVoltageMax\"                           \n",
       "[26] \"Battery.CellNumberWithMaxVoltage\"                 \n",
       "[27] \"Battery.CellVoltageMin\"                           \n",
       "[28] \"Battery.CellNumberWithMinVoltage\"                 \n",
       "[29] \"Battery.CellAvgVoltage\"                           \n",
       "[30] \"Battery.PackVoltage\"                              \n",
       "[31] \"Battery.PackCurrent\"                              \n",
       "[32] \"Battery.PowerBalance\"                             \n",
       "[33] \"Battery.BatteryCells.CellsGroups.0.Voltages.0\"    \n",
       "[34] \"Battery.BatteryCells.CellsGroups.0.Voltages.1\"    \n",
       "[35] \"Battery.BatteryCells.CellsGroups.0.Voltages.2\"    \n",
       "[36] \"Battery.BatteryCells.CellsGroups.0.Voltages.3\"    \n",
       "[37] \"Battery.BatteryCells.CellsGroups.0.Voltages.4\"    \n",
       "[38] \"Battery.BatteryCells.CellsGroups.0.Voltages.5\"    \n",
       "[39] \"Battery.BatteryCells.CellsGroups.0.Voltages.6\"    \n",
       "[40] \"Battery.BatteryCells.CellsGroups.0.Voltages.7\"    \n",
       "[41] \"Battery.BatteryCells.CellsGroups.0.Temperatures.0\"\n",
       "[42] \"Battery.BatteryCells.CellsGroups.0.Temperatures.1\"\n",
       "[43] \"Battery.BatteryCells.CellsGroups.0.Temperatures.2\"\n",
       "[44] \"Battery.BatteryCells.CellsGroups.0.Temperatures.3\"\n",
       "[45] \"Battery.BatteryCells.CellsGroups.1.Voltages.0\"    \n",
       "[46] \"Battery.BatteryCells.CellsGroups.1.Voltages.1\"    \n",
       "[47] \"Battery.BatteryCells.CellsGroups.1.Voltages.2\"    \n",
       "[48] \"Battery.BatteryCells.CellsGroups.1.Voltages.3\"    \n",
       "[49] \"Battery.BatteryCells.CellsGroups.1.Voltages.4\"    \n",
       "[50] \"Battery.BatteryCells.CellsGroups.1.Voltages.5\"    \n",
       "[51] \"Battery.BatteryCells.CellsGroups.1.Voltages.6\"    \n",
       "[52] \"Battery.BatteryCells.CellsGroups.1.Voltages.7\"    \n",
       "[53] \"Battery.BatteryCells.CellsGroups.1.Temperatures.0\"\n",
       "[54] \"Battery.BatteryCells.CellsGroups.1.Temperatures.1\"\n",
       "[55] \"Battery.BatteryCells.CellsGroups.1.Temperatures.2\"\n",
       "[56] \"Battery.BatteryCells.CellsGroups.1.Temperatures.3\"\n",
       "[57] \"Battery.BatteryCells.CellsGroups.2.Voltages.0\"    \n",
       "[58] \"Battery.BatteryCells.CellsGroups.2.Voltages.1\"    \n",
       "[59] \"Battery.BatteryCells.CellsGroups.2.Voltages.2\"    \n",
       "[60] \"Battery.BatteryCells.CellsGroups.2.Voltages.3\"    \n",
       "[61] \"Battery.BatteryCells.CellsGroups.2.Voltages.4\"    \n",
       "[62] \"Battery.BatteryCells.CellsGroups.2.Voltages.5\"    \n",
       "[63] \"Battery.BatteryCells.CellsGroups.2.Voltages.6\"    \n",
       "[64] \"Battery.BatteryCells.CellsGroups.2.Voltages.7\"    \n",
       "[65] \"Battery.BatteryCells.CellsGroups.2.Temperatures.0\"\n",
       "[66] \"Battery.BatteryCells.CellsGroups.2.Temperatures.1\"\n",
       "[67] \"Battery.BatteryCells.CellsGroups.2.Temperatures.2\"\n",
       "[68] \"Battery.BatteryCells.CellsGroups.2.Temperatures.3\"\n",
       "[69] \"Battery.BatteryCells.CellsGroups.3.Voltages.0\"    \n",
       "[70] \"Battery.BatteryCells.CellsGroups.3.Voltages.1\"    \n",
       "[71] \"Battery.BatteryCells.CellsGroups.3.Voltages.2\"    \n",
       "[72] \"Battery.BatteryCells.CellsGroups.3.Voltages.3\"    \n",
       "[73] \"Battery.BatteryCells.CellsGroups.3.Voltages.4\"    \n",
       "[74] \"Battery.BatteryCells.CellsGroups.3.Voltages.5\"    \n",
       "[75] \"Battery.BatteryCells.CellsGroups.3.Voltages.6\"    \n",
       "[76] \"Battery.BatteryCells.CellsGroups.3.Voltages.7\"    \n",
       "[77] \"Battery.BatteryCells.CellsGroups.3.Temperatures.0\"\n",
       "[78] \"Battery.BatteryCells.CellsGroups.3.Temperatures.1\"\n",
       "[79] \"Battery.BatteryCells.CellsGroups.3.Temperatures.2\"\n",
       "[80] \"Battery.BatteryCells.CellsGroups.3.Temperatures.3\"\n",
       "[81] \"Solar.MpptInputVoltage.0\"                         \n",
       "[82] \"Solar.MpptInputVoltage.1\"                         \n",
       "[83] \"Solar.MpptInputVoltage.2\"                         \n",
       "[84] \"Solar.MpptInputVoltage.3\"                         \n",
       "[85] \"Solar.MpptInputCurrent.0\"                         \n",
       "[86] \"Solar.MpptInputCurrent.1\"                         \n",
       "[87] \"Solar.MpptInputCurrent.2\"                         \n",
       "[88] \"Solar.MpptInputCurrent.3\"                         \n",
       "[89] \"Solar.MpptOutputVoltage.0\"                        \n",
       "[90] \"Solar.MpptOutputVoltage.1\"                        \n",
       "[91] \"Solar.MpptOutputVoltage.2\"                        \n",
       "[92] \"Solar.MpptOutputVoltage.3\"                        \n",
       "[93] \"Solar.MpptOutputPower.0\"                          \n",
       "[94] \"Solar.MpptOutputPower.1\"                          \n",
       "[95] \"Solar.MpptOutputPower.2\"                          \n",
       "[96] \"Solar.MpptOutputPower.3\"                          \n",
       "[97] \"Solar.PowerMppt\"                                  "
      ]
     },
     "metadata": {},
     "output_type": "display_data"
    }
   ],
   "source": [
    "colnames(race_2021_clean_df)"
   ]
  },
  {
   "cell_type": "code",
   "execution_count": 56,
   "id": "eaa0b4c8",
   "metadata": {},
   "outputs": [],
   "source": [
    "library(tensorflow)\n",
    "library(keras)\n",
    "\n",
    "MAX_LEN <- 500 # the number of previous examples we will look at to predict next item\n",
    "BATCH_SIZE <- 32 # the number of distinct sequences to look at at one time during training\n",
    "TOTAL_EPOCHS <- 5 # how many times we will look at the whole dataset while training\n",
    "\n",
    "set.seed(123) # for reproductability"
   ]
  },
  {
   "cell_type": "code",
   "execution_count": 34,
   "id": "cb544ab2",
   "metadata": {},
   "outputs": [
    {
     "data": {
      "text/html": [
       "<table>\n",
       "<thead><tr><th scope=col>Battery.DeviationOfVoltageInCells</th><th scope=col>Battery.PackTemperatureMax</th><th scope=col>Battery.PackTemperatureMin</th><th scope=col>Battery.CellVoltageMax</th><th scope=col>Battery.CellAvgVoltage</th><th scope=col>Battery.PackVoltage</th><th scope=col>Battery.PowerBalance</th></tr></thead>\n",
       "<tbody>\n",
       "\t<tr><td>22   </td><td>19   </td><td>18   </td><td>4.179</td><td>4.167</td><td>122  </td><td>97.6 </td></tr>\n",
       "\t<tr><td>22   </td><td>19   </td><td>18   </td><td>4.179</td><td>4.167</td><td>122  </td><td>97.6 </td></tr>\n",
       "\t<tr><td>22   </td><td>19   </td><td>18   </td><td>4.179</td><td>4.167</td><td>122  </td><td>97.6 </td></tr>\n",
       "\t<tr><td>22   </td><td>19   </td><td>18   </td><td>4.179</td><td>4.167</td><td>122  </td><td>97.6 </td></tr>\n",
       "\t<tr><td>22   </td><td>19   </td><td>18   </td><td>4.179</td><td>4.167</td><td>122  </td><td>97.6 </td></tr>\n",
       "\t<tr><td>22   </td><td>19   </td><td>18   </td><td>4.179</td><td>4.167</td><td>122  </td><td>97.6 </td></tr>\n",
       "</tbody>\n",
       "</table>\n"
      ],
      "text/latex": [
       "\\begin{tabular}{r|lllllll}\n",
       " Battery.DeviationOfVoltageInCells & Battery.PackTemperatureMax & Battery.PackTemperatureMin & Battery.CellVoltageMax & Battery.CellAvgVoltage & Battery.PackVoltage & Battery.PowerBalance\\\\\n",
       "\\hline\n",
       "\t 22    & 19    & 18    & 4.179 & 4.167 & 122   & 97.6 \\\\\n",
       "\t 22    & 19    & 18    & 4.179 & 4.167 & 122   & 97.6 \\\\\n",
       "\t 22    & 19    & 18    & 4.179 & 4.167 & 122   & 97.6 \\\\\n",
       "\t 22    & 19    & 18    & 4.179 & 4.167 & 122   & 97.6 \\\\\n",
       "\t 22    & 19    & 18    & 4.179 & 4.167 & 122   & 97.6 \\\\\n",
       "\t 22    & 19    & 18    & 4.179 & 4.167 & 122   & 97.6 \\\\\n",
       "\\end{tabular}\n"
      ],
      "text/markdown": [
       "\n",
       "| Battery.DeviationOfVoltageInCells | Battery.PackTemperatureMax | Battery.PackTemperatureMin | Battery.CellVoltageMax | Battery.CellAvgVoltage | Battery.PackVoltage | Battery.PowerBalance |\n",
       "|---|---|---|---|---|---|---|\n",
       "| 22    | 19    | 18    | 4.179 | 4.167 | 122   | 97.6  |\n",
       "| 22    | 19    | 18    | 4.179 | 4.167 | 122   | 97.6  |\n",
       "| 22    | 19    | 18    | 4.179 | 4.167 | 122   | 97.6  |\n",
       "| 22    | 19    | 18    | 4.179 | 4.167 | 122   | 97.6  |\n",
       "| 22    | 19    | 18    | 4.179 | 4.167 | 122   | 97.6  |\n",
       "| 22    | 19    | 18    | 4.179 | 4.167 | 122   | 97.6  |\n",
       "\n"
      ],
      "text/plain": [
       "  Battery.DeviationOfVoltageInCells Battery.PackTemperatureMax\n",
       "1 22                                19                        \n",
       "2 22                                19                        \n",
       "3 22                                19                        \n",
       "4 22                                19                        \n",
       "5 22                                19                        \n",
       "6 22                                19                        \n",
       "  Battery.PackTemperatureMin Battery.CellVoltageMax Battery.CellAvgVoltage\n",
       "1 18                         4.179                  4.167                 \n",
       "2 18                         4.179                  4.167                 \n",
       "3 18                         4.179                  4.167                 \n",
       "4 18                         4.179                  4.167                 \n",
       "5 18                         4.179                  4.167                 \n",
       "6 18                         4.179                  4.167                 \n",
       "  Battery.PackVoltage Battery.PowerBalance\n",
       "1 122                 97.6                \n",
       "2 122                 97.6                \n",
       "3 122                 97.6                \n",
       "4 122                 97.6                \n",
       "5 122                 97.6                \n",
       "6 122                 97.6                "
      ]
     },
     "metadata": {},
     "output_type": "display_data"
    }
   ],
   "source": [
    "cols_to_use <- c(\n",
    "    \"Battery.PackVoltage\",\n",
    "    \"Battery.CellVoltageMax\",\n",
    "    \"Battery.CellVoltageMax\",\n",
    "    \"Battery.DeviationOfVoltageInCells\",\n",
    "    \"Battery.CellAvgVoltage\",\n",
    "    \"Battery.PackTemperatureMax\",\n",
    "    \"Battery.PackTemperatureMin\",\n",
    "    \"Battery.PowerBalance\")\n",
    "\n",
    "racing_rnn_battery_df <- race_2021_clean_df[,(names(race_2021_clean_df) %in% cols_to_use)]\n",
    "head(racing_rnn_battery_df)"
   ]
  },
  {
   "cell_type": "code",
   "execution_count": 35,
   "id": "de8ec257",
   "metadata": {},
   "outputs": [
    {
     "data": {
      "text/plain": [
       "   Min. 1st Qu.  Median    Mean 3rd Qu.    Max. \n",
       "  0.000   3.495   3.716   3.674   3.949   5.000 "
      ]
     },
     "metadata": {},
     "output_type": "display_data"
    }
   ],
   "source": [
    "avg_voltage <- racing_rnn_battery_df$Battery.CellAvgVoltage\n",
    "summary(avg_voltage)"
   ]
  },
  {
   "cell_type": "code",
   "execution_count": 36,
   "id": "75befb16",
   "metadata": {},
   "outputs": [],
   "source": [
    "start_indexes <- seq(1, length(avg_voltage) - (MAX_LEN + 1), by = 3)\n",
    "avg_matrix_voltage <- matrix(nrow = length(start_indexes), ncol = MAX_LEN + 1)\n",
    "for (i in 1:length(start_indexes)){\n",
    "  avg_matrix_voltage[i,] <- avg_voltage[start_indexes[i]:(start_indexes[i] + MAX_LEN)]\n",
    "}"
   ]
  },
  {
   "cell_type": "code",
   "execution_count": 37,
   "id": "dce0d8d8",
   "metadata": {},
   "outputs": [],
   "source": [
    "# make sure it's numeric\n",
    "avg_matrix_voltage <- avg_matrix_voltage * 1\n",
    "\n",
    "# remove na's if you have them\n",
    "if(anyNA(avg_matrix_voltage)){\n",
    "    avg_matrix_voltage <- na.omit(avg_matrix_voltage)\n",
    "}"
   ]
  },
  {
   "cell_type": "code",
   "execution_count": 38,
   "id": "ee26ccc2",
   "metadata": {},
   "outputs": [],
   "source": [
    "# split our data into the day we're predict (y), and the \n",
    "# sequence of days leading up to it (X)\n",
    "\n",
    "X <- avg_matrix_voltage[,-ncol(avg_matrix_voltage)]\n",
    "y <- avg_matrix_voltage[,ncol(avg_matrix_voltage)]"
   ]
  },
  {
   "cell_type": "code",
   "execution_count": 41,
   "id": "2667d910",
   "metadata": {},
   "outputs": [],
   "source": [
    "# create an index to split our data into testing & training sets\n",
    "library(tensorflow)\n",
    "training_index <- createDataPartition(y, p = .9, \n",
    "                                  list = FALSE, \n",
    "                                  times = 1)\n",
    "\n",
    "# training data\n",
    "X_train <- array(X[training_index,], dim = c(length(training_index), MAX_LEN, 1))\n",
    "y_train <- y[training_index]\n",
    "\n",
    "# testing data\n",
    "X_test <- array(X[-training_index,], dim = c(length(y) - length(training_index), MAX_LEN, 1))\n",
    "y_test <- y[-training_index]"
   ]
  },
  {
   "cell_type": "code",
   "execution_count": 45,
   "id": "161ece15",
   "metadata": {},
   "outputs": [],
   "source": [
    "# initialize our model\n",
    "\n"
   ]
  },
  {
   "cell_type": "code",
   "execution_count": 46,
   "id": "36ddc452",
   "metadata": {},
   "outputs": [
    {
     "data": {
      "text/html": [
       "<ol class=list-inline>\n",
       "\t<li>21593</li>\n",
       "\t<li>500</li>\n",
       "\t<li>1</li>\n",
       "</ol>\n"
      ],
      "text/latex": [
       "\\begin{enumerate*}\n",
       "\\item 21593\n",
       "\\item 500\n",
       "\\item 1\n",
       "\\end{enumerate*}\n"
      ],
      "text/markdown": [
       "1. 21593\n",
       "2. 500\n",
       "3. 1\n",
       "\n",
       "\n"
      ],
      "text/plain": [
       "[1] 21593   500     1"
      ]
     },
     "metadata": {},
     "output_type": "display_data"
    }
   ],
   "source": [
    "# dimensions of our input data\n",
    "dim(X_train)"
   ]
  },
  {
   "cell_type": "code",
   "execution_count": 54,
   "id": "f2cc3de4",
   "metadata": {},
   "outputs": [],
   "source": [
    "# our input layer\n",
    "model <- keras_model_sequential()\n",
    "\n",
    "model %>% \n",
    "    layer_dense(units=MAX_LEN, input_shape = dim(X_train)[2:3]) %>%\n",
    "    layer_activation('relu') %>%\n",
    "    layer_dense(units = 10) %>%\n",
    "    layer_activation('softmax')"
   ]
  },
  {
   "cell_type": "code",
   "execution_count": 52,
   "id": "cf4337a0",
   "metadata": {},
   "outputs": [
    {
     "name": "stdout",
     "output_type": "stream",
     "text": [
      "Model: \"sequential_3\"\n",
      "________________________________________________________________________________\n",
      "Layer (type)                        Output Shape                    Param #     \n",
      "================================================================================\n",
      "dense_10 (Dense)                    (None, 500, 500)                1000        \n",
      "________________________________________________________________________________\n",
      "activation_5 (Activation)           (None, 500, 500)                0           \n",
      "________________________________________________________________________________\n",
      "dense_9 (Dense)                     (None, 500, 10)                 5010        \n",
      "________________________________________________________________________________\n",
      "activation_4 (Activation)           (None, 500, 10)                 0           \n",
      "================================================================================\n",
      "Total params: 6,010\n",
      "Trainable params: 6,010\n",
      "Non-trainable params: 0\n",
      "________________________________________________________________________________\n"
     ]
    }
   ],
   "source": [
    "summary(model)"
   ]
  },
  {
   "cell_type": "code",
   "execution_count": 67,
   "id": "b201f6d9",
   "metadata": {},
   "outputs": [
    {
     "ename": "ERROR",
     "evalue": "Error in py_call_impl(callable, dots$args, dots$keywords): ValueError: ('`tf.compat.v1.keras` Optimizer (', <tensorflow.python.keras.optimizers.RMSprop object at 0x0000000049989A60>, ') is not supported when eager execution is enabled. Use a `tf.keras` Optimizer instead, or disable eager execution.')\n\nDetailed traceback: \n  File \"D:\\Oprogramowanie_studia\\Anaconda_Files\\lib\\site-packages\\tensorflow\\python\\keras\\engine\\training.py\", line 538, in compile\n    self._validate_compile(optimizer, metrics, **kwargs)\n  File \"D:\\Oprogramowanie_studia\\Anaconda_Files\\lib\\site-packages\\tensorflow\\python\\keras\\engine\\training.py\", line 2477, in _validate_compile\n    raise ValueError(\n\n",
     "output_type": "error",
     "traceback": [
      "Error in py_call_impl(callable, dots$args, dots$keywords): ValueError: ('`tf.compat.v1.keras` Optimizer (', <tensorflow.python.keras.optimizers.RMSprop object at 0x0000000049989A60>, ') is not supported when eager execution is enabled. Use a `tf.keras` Optimizer instead, or disable eager execution.')\n\nDetailed traceback: \n  File \"D:\\Oprogramowanie_studia\\Anaconda_Files\\lib\\site-packages\\tensorflow\\python\\keras\\engine\\training.py\", line 538, in compile\n    self._validate_compile(optimizer, metrics, **kwargs)\n  File \"D:\\Oprogramowanie_studia\\Anaconda_Files\\lib\\site-packages\\tensorflow\\python\\keras\\engine\\training.py\", line 2477, in _validate_compile\n    raise ValueError(\n\nTraceback:\n",
      "1. model %>% compile(optimizer = optimizer_rmsprop(), loss = loss_binary_crossentropy, \n .     metrics = c(\"accuracy\", metric_mean_pred))",
      "2. compile(., optimizer = optimizer_rmsprop(), loss = loss_binary_crossentropy, \n .     metrics = c(\"accuracy\", metric_mean_pred))",
      "3. compile.keras.engine.training.Model(., optimizer = optimizer_rmsprop(), \n .     loss = loss_binary_crossentropy, metrics = c(\"accuracy\", \n .         metric_mean_pred))",
      "4. do.call(object$compile, args)",
      "5. (structure(function (...) \n . {\n .     dots <- py_resolve_dots(list(...))\n .     result <- py_call_impl(callable, dots$args, dots$keywords)\n .     if (convert) {\n .         result <- py_to_r(result)\n .         if (is.null(result)) \n .             invisible(result)\n .         else result\n .     }\n .     else {\n .         result\n .     }\n . }, class = c(\"python.builtin.method\", \"python.builtin.object\"\n . ), py_object = <environment>))(optimizer = <environment>, loss = structure(function (y_true, \n .     y_pred) \n . {\n .     keras$losses$binary_crossentropy(y_true, y_pred)\n . }, py_function_name = \"loss_binary_crossentropy\"), metrics = list(\n .     structure(\"accuracy\", py_function_name = \"\"), structure(function (...) \n .     {\n .         dots <- py_resolve_dots(list(...))\n .         result <- py_call_impl(callable, dots$args, dots$keywords)\n .         if (convert) {\n .             result <- py_to_r(result)\n .             if (is.null(result)) \n .                 invisible(result)\n .             else result\n .         }\n .         else {\n .             result\n .         }\n .     }, class = c(\"python.builtin.function\", \"python.builtin.object\"\n .     ), py_object = <environment>, py_function_name = \"\")), loss_weights = NULL, \n .     sample_weight_mode = NULL)",
      "6. py_call_impl(callable, dots$args, dots$keywords)"
     ]
    }
   ],
   "source": [
    "# create metric using backend tensor functions\n",
    "metric_mean_pred <- custom_metric(\"mean_pred\", function(y_true, y_pred) {\n",
    "  k_mean(y_pred) \n",
    "})\n",
    "\n",
    "model %>% compile( \n",
    "  optimizer = optimizer_rmsprop(),\n",
    "  loss = loss_binary_crossentropy,\n",
    "  metrics = c('accuracy', metric_mean_pred)\n",
    ")"
   ]
  },
  {
   "cell_type": "code",
   "execution_count": 63,
   "id": "c9a1bb33",
   "metadata": {},
   "outputs": [
    {
     "ename": "ERROR",
     "evalue": "Error in py_call_impl(callable, dots$args, dots$keywords): RuntimeError: Evaluation error: invalid argument type.\n\nDetailed traceback: \n  File \"D:\\Oprogramowanie_studia\\Anaconda_Files\\lib\\site-packages\\tensorflow\\python\\keras\\engine\\training.py\", line 108, in _method_wrapper\n    return method(self, *args, **kwargs)\n  File \"D:\\Oprogramowanie_studia\\Anaconda_Files\\lib\\site-packages\\tensorflow\\python\\keras\\engine\\training.py\", line 1079, in fit\n    callbacks.on_train_begin()\n  File \"D:\\Oprogramowanie_studia\\Anaconda_Files\\lib\\site-packages\\tensorflow\\python\\keras\\callbacks.py\", line 501, in on_train_begin\n    callback.on_train_begin(numpy_logs)\n  File \"D:\\Oprogramowanie_studia\\Anaconda_Files\\Lib\\R\\library\\keras\\python\\kerastools\\callback.py\", line 42, in on_train_begin\n    self.r_on_train_begin(logs)\n  File \"D:/Oprogramowanie_studia/Anaconda_Files/Lib/R/library/reticulate/python\\rpytools\\call.py\", line 21, in python_function\n    raise RuntimeError(res[kErrorKey])\n\n",
     "output_type": "error",
     "traceback": [
      "Error in py_call_impl(callable, dots$args, dots$keywords): RuntimeError: Evaluation error: invalid argument type.\n\nDetailed traceback: \n  File \"D:\\Oprogramowanie_studia\\Anaconda_Files\\lib\\site-packages\\tensorflow\\python\\keras\\engine\\training.py\", line 108, in _method_wrapper\n    return method(self, *args, **kwargs)\n  File \"D:\\Oprogramowanie_studia\\Anaconda_Files\\lib\\site-packages\\tensorflow\\python\\keras\\engine\\training.py\", line 1079, in fit\n    callbacks.on_train_begin()\n  File \"D:\\Oprogramowanie_studia\\Anaconda_Files\\lib\\site-packages\\tensorflow\\python\\keras\\callbacks.py\", line 501, in on_train_begin\n    callback.on_train_begin(numpy_logs)\n  File \"D:\\Oprogramowanie_studia\\Anaconda_Files\\Lib\\R\\library\\keras\\python\\kerastools\\callback.py\", line 42, in on_train_begin\n    self.r_on_train_begin(logs)\n  File \"D:/Oprogramowanie_studia/Anaconda_Files/Lib/R/library/reticulate/python\\rpytools\\call.py\", line 21, in python_function\n    raise RuntimeError(res[kErrorKey])\n\nTraceback:\n",
      "1. model %>% fit(x = X_train, y = y_train, batch_size = BATCH_SIZE, \n .     epochs = TOTAL_EPOCHS, validation_split = 0.1)",
      "2. fit(., x = X_train, y = y_train, batch_size = BATCH_SIZE, epochs = TOTAL_EPOCHS, \n .     validation_split = 0.1)",
      "3. fit.keras.engine.training.Model(., x = X_train, y = y_train, \n .     batch_size = BATCH_SIZE, epochs = TOTAL_EPOCHS, validation_split = 0.1)",
      "4. do.call(object$fit, args)",
      "5. (structure(function (...) \n . {\n .     dots <- py_resolve_dots(list(...))\n .     result <- py_call_impl(callable, dots$args, dots$keywords)\n .     if (convert) {\n .         result <- py_to_r(result)\n .         if (is.null(result)) \n .             invisible(result)\n .         else result\n .     }\n .     else {\n .         result\n .     }\n . }, class = c(\"python.builtin.method\", \"python.builtin.object\"\n . ), py_object = <environment>))(batch_size = 32L, epochs = 5L, \n .     verbose = 1L, callbacks = list(<environment>), validation_split = 0.1, \n .     shuffle = TRUE, class_weight = NULL, sample_weight = NULL, \n .     initial_epoch = 0L, x = <environment>, y = <environment>)",
      "6. py_call_impl(callable, dots$args, dots$keywords)"
     ]
    }
   ],
   "source": [
    "# Actually train our model! This step will take a while\n",
    "trained_model <- model %>% \n",
    "    fit(\n",
    "        x = X_train, \n",
    "        y = y_train,\n",
    "        batch_size = BATCH_SIZE, \n",
    "        epochs = TOTAL_EPOCHS, \n",
    "        validation_split = 0.1)"
   ]
  },
  {
   "cell_type": "code",
   "execution_count": 62,
   "id": "0c3499a4",
   "metadata": {},
   "outputs": [
    {
     "data": {
      "text/html": [
       "<ol class=list-inline>\n",
       "\t<li>4.10900020599365</li>\n",
       "\t<li>4.10799980163574</li>\n",
       "\t<li>4.10799980163574</li>\n",
       "\t<li>4.11299991607666</li>\n",
       "\t<li>4.12200021743774</li>\n",
       "\t<li>4.13700008392334</li>\n",
       "</ol>\n"
      ],
      "text/latex": [
       "\\begin{enumerate*}\n",
       "\\item 4.10900020599365\n",
       "\\item 4.10799980163574\n",
       "\\item 4.10799980163574\n",
       "\\item 4.11299991607666\n",
       "\\item 4.12200021743774\n",
       "\\item 4.13700008392334\n",
       "\\end{enumerate*}\n"
      ],
      "text/markdown": [
       "1. 4.10900020599365\n",
       "2. 4.10799980163574\n",
       "3. 4.10799980163574\n",
       "4. 4.11299991607666\n",
       "5. 4.12200021743774\n",
       "6. 4.13700008392334\n",
       "\n",
       "\n"
      ],
      "text/plain": [
       "[1] 4.109 4.108 4.108 4.113 4.122 4.137"
      ]
     },
     "metadata": {},
     "output_type": "display_data"
    }
   ],
   "source": [
    "head(y_train)"
   ]
  },
  {
   "cell_type": "code",
   "execution_count": null,
   "id": "f376f625",
   "metadata": {},
   "outputs": [],
   "source": [
    "y_train"
   ]
  },
  {
   "cell_type": "code",
   "execution_count": null,
   "id": "544b5762",
   "metadata": {},
   "outputs": [],
   "source": [
    "# get a list of start indexes for our (overlapping) chunks\n",
    "# start_indexes <- seq(\n",
    "#     from=1,\n",
    "#     to=nrow(racing_rnn_battery_df) - (MAX_LEN + 1),\n",
    "#     by=3)\n",
    "\n",
    "# fill our matrix with the overlapping slices of our dataset\n",
    "racing_rnn_battery_mx <- data.matrix(racing_rnn_battery_df)\n",
    "\n",
    "\n",
    "start_indexes <- seq(\n",
    "    from=1,\n",
    "    to=length(racing_rnn_battery_mx) - (MAX_LEN + 1),\n",
    "    by=3)\n",
    "\n",
    "# create an empty matrix to store our data in\n",
    "battery_matrix <- matrix(\n",
    "    nrow = length(start_indexes), \n",
    "    ncol = MAX_LEN + 1)\n",
    "\n",
    "\n",
    "for (i in 1:length(start_indexes)){\n",
    "    print(i)\n",
    "  battery_matrix[i,] <- \n",
    "    split(racing_rnn_battery_mx[start_indexes[i]:(start_indexes[i] + MAX_LEN),], \n",
    "      seq(nrow(racing_rnn_battery_mx[start_indexes[1]:(start_indexes[i] + MAX_LEN),])))  \n",
    "}"
   ]
  },
  {
   "cell_type": "code",
   "execution_count": null,
   "id": "329c977f",
   "metadata": {},
   "outputs": [],
   "source": [
    "# fill our matrix with the overlapping slices of our dataset\n",
    "racing_rnn_battery_df[1,]"
   ]
  },
  {
   "cell_type": "code",
   "execution_count": null,
   "id": "0d0a59aa",
   "metadata": {},
   "outputs": [],
   "source": [
    "racing_rnn_battery_mx[start_indexes[2]:(start_indexes[2] + MAX_LEN),]"
   ]
  },
  {
   "cell_type": "code",
   "execution_count": null,
   "id": "e984804b",
   "metadata": {},
   "outputs": [],
   "source": [
    "ncol(battery_matrix)\n",
    "nrow(battery_matrix)"
   ]
  },
  {
   "cell_type": "code",
   "execution_count": null,
   "id": "139b07ff",
   "metadata": {},
   "outputs": [],
   "source": [
    "split(racing_rnn_battery_mx[start_indexes[1]:(start_indexes[1] + MAX_LEN),], \n",
    "      seq(nrow(racing_rnn_battery_mx[start_indexes[1]:(start_indexes[1] + MAX_LEN),])))  \n",
    "\n"
   ]
  },
  {
   "cell_type": "code",
   "execution_count": 31,
   "id": "a0d9b69a",
   "metadata": {},
   "outputs": [],
   "source": []
  },
  {
   "cell_type": "code",
   "execution_count": null,
   "id": "90027b33",
   "metadata": {},
   "outputs": [],
   "source": [
    "ncol(racing_rnn_battery_df)"
   ]
  },
  {
   "cell_type": "code",
   "execution_count": null,
   "id": "fc798e07",
   "metadata": {},
   "outputs": [],
   "source": [
    "length(start_indexes) "
   ]
  },
  {
   "cell_type": "code",
   "execution_count": null,
   "id": "547efd6a",
   "metadata": {},
   "outputs": [],
   "source": [
    "class(battery_matrix)"
   ]
  },
  {
   "cell_type": "code",
   "execution_count": null,
   "id": "241b5ad3",
   "metadata": {},
   "outputs": [],
   "source": [
    "length(start_indexes)"
   ]
  },
  {
   "cell_type": "code",
   "execution_count": null,
   "id": "84c91743",
   "metadata": {},
   "outputs": [],
   "source": [
    "battery_matrix[5,]"
   ]
  },
  {
   "cell_type": "code",
   "execution_count": null,
   "id": "83ba2085",
   "metadata": {},
   "outputs": [],
   "source": [
    "str(race_2021_clean_df)"
   ]
  },
  {
   "cell_type": "code",
   "execution_count": null,
   "id": "ffa22506",
   "metadata": {},
   "outputs": [],
   "source": [
    "head(race_2021_clean_df)"
   ]
  },
  {
   "cell_type": "markdown",
   "id": "c0217aba",
   "metadata": {},
   "source": [
    "# Some nice plots"
   ]
  },
  {
   "cell_type": "code",
   "execution_count": null,
   "id": "4a864ff7",
   "metadata": {},
   "outputs": [],
   "source": [
    "race_2021_clean_df$newtimestamp <- strptime(race_2021_clean_df$General.Timestamp,format=\"%dT.%m.%Y %k:%M:%S\")"
   ]
  },
  {
   "cell_type": "code",
   "execution_count": null,
   "id": "bbb36e88",
   "metadata": {},
   "outputs": [],
   "source": [
    "qplot(x=1:nrow(race_2021_clean_df), y=Battery.BatteryCells.CellsGroups.0.Voltages.0, data = race_2021_clean_df, geom = c(\"point\"))"
   ]
  },
  {
   "cell_type": "code",
   "execution_count": null,
   "id": "4321d374",
   "metadata": {},
   "outputs": [],
   "source": [
    "qplot(x=1:nrow(race_2021_clean_df), y=General.Rpm, data = race_2021_clean_df, geom = c(\"point\"))"
   ]
  },
  {
   "cell_type": "code",
   "execution_count": null,
   "id": "8d6d126b",
   "metadata": {},
   "outputs": [],
   "source": [
    "qplot(x=General.Timestamp, y=General.Rpm, data = race_2021_clean_df[1:3300,], geom = c(\"point\"))\n",
    "#from first 3300 rows so 1 hour of driving and staying in a pit"
   ]
  },
  {
   "cell_type": "code",
   "execution_count": null,
   "id": "f657b3e6",
   "metadata": {},
   "outputs": [],
   "source": [
    "qplot(x=General.Timestamp, y=General.ThrottlePosition, data = race_2021_clean_df[1:3300,], geom = c(\"point\"))\n",
    "#from first 3300 rows so 1 hour of driving and staying in a pit\n",
    "# lower constant level means ECO-Full throttle; high levels are POWER-Full Throttle"
   ]
  },
  {
   "cell_type": "code",
   "execution_count": null,
   "id": "02758844",
   "metadata": {},
   "outputs": [],
   "source": [
    "qplot(x=1:nrow(race_2021_clean_df), y=Battery.RemainingEnergy, data = race_2021_clean_df, geom = c(\"point\"))"
   ]
  },
  {
   "cell_type": "code",
   "execution_count": null,
   "id": "405edd8c",
   "metadata": {},
   "outputs": [],
   "source": [
    "qplot(x=1:nrow(race_2021_clean_df), y=Battery.PackTemperatureMax, data = race_2021_clean_df, geom = c(\"point\"))"
   ]
  },
  {
   "cell_type": "code",
   "execution_count": null,
   "id": "647d2f5a",
   "metadata": {},
   "outputs": [],
   "source": []
  },
  {
   "cell_type": "code",
   "execution_count": null,
   "id": "3e18dc5f",
   "metadata": {
    "scrolled": false
   },
   "outputs": [],
   "source": [
    "qplot(x=1:nrow(race_2021_clean_df[1:500,]), y=Battery.PowerBalance, data = race_2021_clean_df[1:500,], geom = c(\"line\"))"
   ]
  },
  {
   "cell_type": "code",
   "execution_count": null,
   "id": "281cc8ae",
   "metadata": {},
   "outputs": [],
   "source": [
    "summary(race_2021_df$Lights.StopLights)"
   ]
  },
  {
   "cell_type": "code",
   "execution_count": null,
   "id": "ad5d6d80",
   "metadata": {},
   "outputs": [],
   "source": [
    "   "
   ]
  },
  {
   "cell_type": "code",
   "execution_count": null,
   "id": "75354be9",
   "metadata": {},
   "outputs": [],
   "source": [
    "summary(race_2021_df$General.RegenerationBrake)"
   ]
  },
  {
   "cell_type": "code",
   "execution_count": null,
   "id": "aa8fcd3a",
   "metadata": {
    "scrolled": true
   },
   "outputs": [],
   "source": [
    "qplot(x=1:nrow(race_2021_df[1:500,]), y=General.RegenerationBrake, data = race_2021_df[1:500,], geom = c(\"line\"))"
   ]
  },
  {
   "cell_type": "code",
   "execution_count": null,
   "id": "09f11b96",
   "metadata": {},
   "outputs": [],
   "source": []
  },
  {
   "cell_type": "code",
   "execution_count": null,
   "id": "f6c068a9",
   "metadata": {},
   "outputs": [],
   "source": []
  },
  {
   "cell_type": "code",
   "execution_count": null,
   "id": "adbe2940",
   "metadata": {},
   "outputs": [],
   "source": []
  },
  {
   "cell_type": "code",
   "execution_count": 28,
   "id": "c1f45a9b",
   "metadata": {},
   "outputs": [
    {
     "name": "stderr",
     "output_type": "stream",
     "text": [
      "Warning message in normalizePath(path.expand(path), winslash, mustWork):\n",
      "\"path[1]=\"D:\\Oprogramowanie_studia\\Anaconda_Files\\envs\\R-env/python.exe\": Nie można odnaleźć określonego pliku\"Warning message in normalizePath(path.expand(path), winslash, mustWork):\n",
      "\"path[1]=\"D:\\Oprogramowanie_studia\\Anaconda_files\\envs\\R-env/python.exe\": Nie można odnaleźć określonego pliku\""
     ]
    }
   ],
   "source": [
    "library(keras)\n",
    "model <- keras_model_sequential() "
   ]
  },
  {
   "cell_type": "code",
   "execution_count": 29,
   "id": "2ab724a9",
   "metadata": {},
   "outputs": [],
   "source": [
    "model %>% \n",
    "  layer_dense(units = 32, input_shape = c(784)) %>% \n",
    "  layer_activation('relu') %>% \n",
    "  layer_dense(units = 10) %>% \n",
    "  layer_activation('softmax')"
   ]
  },
  {
   "cell_type": "code",
   "execution_count": 30,
   "id": "26790e99",
   "metadata": {},
   "outputs": [
    {
     "name": "stdout",
     "output_type": "stream",
     "text": [
      "Model: \"sequential\"\n",
      "________________________________________________________________________________\n",
      "Layer (type)                        Output Shape                    Param #     \n",
      "================================================================================\n",
      "dense_1 (Dense)                     (None, 32)                      25120       \n",
      "________________________________________________________________________________\n",
      "activation_1 (Activation)           (None, 32)                      0           \n",
      "________________________________________________________________________________\n",
      "dense (Dense)                       (None, 10)                      330         \n",
      "________________________________________________________________________________\n",
      "activation (Activation)             (None, 10)                      0           \n",
      "================================================================================\n",
      "Total params: 25,450\n",
      "Trainable params: 25,450\n",
      "Non-trainable params: 0\n",
      "________________________________________________________________________________\n"
     ]
    }
   ],
   "source": [
    "summary(model)"
   ]
  },
  {
   "cell_type": "code",
   "execution_count": 68,
   "id": "2071258d",
   "metadata": {},
   "outputs": [
    {
     "data": {
      "text/html": [
       "<table>\n",
       "<thead><tr><th scope=col>General.Timestamp</th><th scope=col>General.ThrottlePosition</th><th scope=col>General.MotorController</th><th scope=col>General.MainSwitch</th><th scope=col>General.MotorDirection</th><th scope=col>General.PowerEco</th><th scope=col>General.RegenerationBrake</th><th scope=col>General.DriveMode</th><th scope=col>General.Horn</th><th scope=col>General.Rpm</th><th scope=col>...</th><th scope=col>Solar.MpptInputCurrent.3</th><th scope=col>Solar.MpptOutputVoltage.0</th><th scope=col>Solar.MpptOutputVoltage.1</th><th scope=col>Solar.MpptOutputVoltage.2</th><th scope=col>Solar.MpptOutputVoltage.3</th><th scope=col>Solar.MpptOutputPower.0</th><th scope=col>Solar.MpptOutputPower.1</th><th scope=col>Solar.MpptOutputPower.2</th><th scope=col>Solar.MpptOutputPower.3</th><th scope=col>Solar.PowerMppt</th></tr></thead>\n",
       "<tbody>\n",
       "\t<tr><td>18.09.2021 13:00</td><td>0               </td><td>5               </td><td>TRUE            </td><td>FALSE           </td><td>TRUE            </td><td>0               </td><td>2               </td><td>0               </td><td>0               </td><td>...             </td><td>1784.162        </td><td>124             </td><td>124             </td><td>123             </td><td>125             </td><td>154761          </td><td>787             </td><td>2190            </td><td>75253           </td><td>232991          </td></tr>\n",
       "\t<tr><td>18.09.2021 13:00</td><td>0               </td><td>5               </td><td>TRUE            </td><td>FALSE           </td><td>TRUE            </td><td>0               </td><td>2               </td><td>0               </td><td>0               </td><td>...             </td><td>1784.162        </td><td>124             </td><td>124             </td><td>123             </td><td>125             </td><td>154761          </td><td>787             </td><td>2190            </td><td>75253           </td><td>232991          </td></tr>\n",
       "\t<tr><td>18.09.2021 13:00</td><td>0               </td><td>5               </td><td>TRUE            </td><td>FALSE           </td><td>TRUE            </td><td>0               </td><td>2               </td><td>0               </td><td>0               </td><td>...             </td><td>1784.162        </td><td>124             </td><td>124             </td><td>123             </td><td>125             </td><td>154761          </td><td>787             </td><td>2190            </td><td>75253           </td><td>232991          </td></tr>\n",
       "\t<tr><td>18.09.2021 13:00</td><td>0               </td><td>5               </td><td>TRUE            </td><td>FALSE           </td><td>TRUE            </td><td>0               </td><td>2               </td><td>0               </td><td>0               </td><td>...             </td><td>1784.162        </td><td>124             </td><td>124             </td><td>123             </td><td>125             </td><td>154761          </td><td>787             </td><td>2190            </td><td>75253           </td><td>232991          </td></tr>\n",
       "\t<tr><td>18.09.2021 13:00</td><td>0               </td><td>5               </td><td>TRUE            </td><td>FALSE           </td><td>TRUE            </td><td>0               </td><td>2               </td><td>0               </td><td>0               </td><td>...             </td><td>1784.162        </td><td>124             </td><td>124             </td><td>123             </td><td>125             </td><td>154761          </td><td>787             </td><td>2190            </td><td>75253           </td><td>232991          </td></tr>\n",
       "\t<tr><td>18.09.2021 13:00</td><td>0               </td><td>5               </td><td>TRUE            </td><td>FALSE           </td><td>TRUE            </td><td>0               </td><td>2               </td><td>0               </td><td>0               </td><td>...             </td><td>1784.162        </td><td>124             </td><td>124             </td><td>123             </td><td>125             </td><td>154761          </td><td>787             </td><td>2190            </td><td>75253           </td><td>232991          </td></tr>\n",
       "</tbody>\n",
       "</table>\n"
      ],
      "text/latex": [
       "\\begin{tabular}{r|lllllllllllllllllllllllllllllllllllllllllllllllllllllllllllllllllllllllllllllllllllllllllllllllll}\n",
       " General.Timestamp & General.ThrottlePosition & General.MotorController & General.MainSwitch & General.MotorDirection & General.PowerEco & General.RegenerationBrake & General.DriveMode & General.Horn & General.Rpm & ... & Solar.MpptInputCurrent.3 & Solar.MpptOutputVoltage.0 & Solar.MpptOutputVoltage.1 & Solar.MpptOutputVoltage.2 & Solar.MpptOutputVoltage.3 & Solar.MpptOutputPower.0 & Solar.MpptOutputPower.1 & Solar.MpptOutputPower.2 & Solar.MpptOutputPower.3 & Solar.PowerMppt\\\\\n",
       "\\hline\n",
       "\t 18.09.2021 13:00 & 0                & 5                & TRUE             & FALSE            & TRUE             & 0                & 2                & 0                & 0                & ...              & 1784.162         & 124              & 124              & 123              & 125              & 154761           & 787              & 2190             & 75253            & 232991          \\\\\n",
       "\t 18.09.2021 13:00 & 0                & 5                & TRUE             & FALSE            & TRUE             & 0                & 2                & 0                & 0                & ...              & 1784.162         & 124              & 124              & 123              & 125              & 154761           & 787              & 2190             & 75253            & 232991          \\\\\n",
       "\t 18.09.2021 13:00 & 0                & 5                & TRUE             & FALSE            & TRUE             & 0                & 2                & 0                & 0                & ...              & 1784.162         & 124              & 124              & 123              & 125              & 154761           & 787              & 2190             & 75253            & 232991          \\\\\n",
       "\t 18.09.2021 13:00 & 0                & 5                & TRUE             & FALSE            & TRUE             & 0                & 2                & 0                & 0                & ...              & 1784.162         & 124              & 124              & 123              & 125              & 154761           & 787              & 2190             & 75253            & 232991          \\\\\n",
       "\t 18.09.2021 13:00 & 0                & 5                & TRUE             & FALSE            & TRUE             & 0                & 2                & 0                & 0                & ...              & 1784.162         & 124              & 124              & 123              & 125              & 154761           & 787              & 2190             & 75253            & 232991          \\\\\n",
       "\t 18.09.2021 13:00 & 0                & 5                & TRUE             & FALSE            & TRUE             & 0                & 2                & 0                & 0                & ...              & 1784.162         & 124              & 124              & 123              & 125              & 154761           & 787              & 2190             & 75253            & 232991          \\\\\n",
       "\\end{tabular}\n"
      ],
      "text/markdown": [
       "\n",
       "| General.Timestamp | General.ThrottlePosition | General.MotorController | General.MainSwitch | General.MotorDirection | General.PowerEco | General.RegenerationBrake | General.DriveMode | General.Horn | General.Rpm | ... | Solar.MpptInputCurrent.3 | Solar.MpptOutputVoltage.0 | Solar.MpptOutputVoltage.1 | Solar.MpptOutputVoltage.2 | Solar.MpptOutputVoltage.3 | Solar.MpptOutputPower.0 | Solar.MpptOutputPower.1 | Solar.MpptOutputPower.2 | Solar.MpptOutputPower.3 | Solar.PowerMppt |\n",
       "|---|---|---|---|---|---|---|---|---|---|---|---|---|---|---|---|---|---|---|---|---|\n",
       "| 18.09.2021 13:00 | 0                | 5                | TRUE             | FALSE            | TRUE             | 0                | 2                | 0                | 0                | ...              | 1784.162         | 124              | 124              | 123              | 125              | 154761           | 787              | 2190             | 75253            | 232991           |\n",
       "| 18.09.2021 13:00 | 0                | 5                | TRUE             | FALSE            | TRUE             | 0                | 2                | 0                | 0                | ...              | 1784.162         | 124              | 124              | 123              | 125              | 154761           | 787              | 2190             | 75253            | 232991           |\n",
       "| 18.09.2021 13:00 | 0                | 5                | TRUE             | FALSE            | TRUE             | 0                | 2                | 0                | 0                | ...              | 1784.162         | 124              | 124              | 123              | 125              | 154761           | 787              | 2190             | 75253            | 232991           |\n",
       "| 18.09.2021 13:00 | 0                | 5                | TRUE             | FALSE            | TRUE             | 0                | 2                | 0                | 0                | ...              | 1784.162         | 124              | 124              | 123              | 125              | 154761           | 787              | 2190             | 75253            | 232991           |\n",
       "| 18.09.2021 13:00 | 0                | 5                | TRUE             | FALSE            | TRUE             | 0                | 2                | 0                | 0                | ...              | 1784.162         | 124              | 124              | 123              | 125              | 154761           | 787              | 2190             | 75253            | 232991           |\n",
       "| 18.09.2021 13:00 | 0                | 5                | TRUE             | FALSE            | TRUE             | 0                | 2                | 0                | 0                | ...              | 1784.162         | 124              | 124              | 123              | 125              | 154761           | 787              | 2190             | 75253            | 232991           |\n",
       "\n"
      ],
      "text/plain": [
       "  General.Timestamp General.ThrottlePosition General.MotorController\n",
       "1 18.09.2021 13:00  0                        5                      \n",
       "2 18.09.2021 13:00  0                        5                      \n",
       "3 18.09.2021 13:00  0                        5                      \n",
       "4 18.09.2021 13:00  0                        5                      \n",
       "5 18.09.2021 13:00  0                        5                      \n",
       "6 18.09.2021 13:00  0                        5                      \n",
       "  General.MainSwitch General.MotorDirection General.PowerEco\n",
       "1 TRUE               FALSE                  TRUE            \n",
       "2 TRUE               FALSE                  TRUE            \n",
       "3 TRUE               FALSE                  TRUE            \n",
       "4 TRUE               FALSE                  TRUE            \n",
       "5 TRUE               FALSE                  TRUE            \n",
       "6 TRUE               FALSE                  TRUE            \n",
       "  General.RegenerationBrake General.DriveMode General.Horn General.Rpm ...\n",
       "1 0                         2                 0            0           ...\n",
       "2 0                         2                 0            0           ...\n",
       "3 0                         2                 0            0           ...\n",
       "4 0                         2                 0            0           ...\n",
       "5 0                         2                 0            0           ...\n",
       "6 0                         2                 0            0           ...\n",
       "  Solar.MpptInputCurrent.3 Solar.MpptOutputVoltage.0 Solar.MpptOutputVoltage.1\n",
       "1 1784.162                 124                       124                      \n",
       "2 1784.162                 124                       124                      \n",
       "3 1784.162                 124                       124                      \n",
       "4 1784.162                 124                       124                      \n",
       "5 1784.162                 124                       124                      \n",
       "6 1784.162                 124                       124                      \n",
       "  Solar.MpptOutputVoltage.2 Solar.MpptOutputVoltage.3 Solar.MpptOutputPower.0\n",
       "1 123                       125                       154761                 \n",
       "2 123                       125                       154761                 \n",
       "3 123                       125                       154761                 \n",
       "4 123                       125                       154761                 \n",
       "5 123                       125                       154761                 \n",
       "6 123                       125                       154761                 \n",
       "  Solar.MpptOutputPower.1 Solar.MpptOutputPower.2 Solar.MpptOutputPower.3\n",
       "1 787                     2190                    75253                  \n",
       "2 787                     2190                    75253                  \n",
       "3 787                     2190                    75253                  \n",
       "4 787                     2190                    75253                  \n",
       "5 787                     2190                    75253                  \n",
       "6 787                     2190                    75253                  \n",
       "  Solar.PowerMppt\n",
       "1 232991         \n",
       "2 232991         \n",
       "3 232991         \n",
       "4 232991         \n",
       "5 232991         \n",
       "6 232991         "
      ]
     },
     "metadata": {},
     "output_type": "display_data"
    }
   ],
   "source": [
    "head(race_2021_clean_df)"
   ]
  },
  {
   "cell_type": "code",
   "execution_count": 69,
   "id": "3f851a87",
   "metadata": {},
   "outputs": [],
   "source": [
    "write.csv(race_2021_clean_df, paste(WORKING_DIRECTORY, \"cleanRace.csv\") , row.names = TRUE)"
   ]
  },
  {
   "cell_type": "code",
   "execution_count": null,
   "id": "06af69d6",
   "metadata": {},
   "outputs": [],
   "source": []
  }
 ],
 "metadata": {
  "kernelspec": {
   "display_name": "R",
   "language": "R",
   "name": "ir"
  },
  "language_info": {
   "codemirror_mode": "r",
   "file_extension": ".r",
   "mimetype": "text/x-r-source",
   "name": "R",
   "pygments_lexer": "r",
   "version": "3.6.1"
  }
 },
 "nbformat": 4,
 "nbformat_minor": 5
}
