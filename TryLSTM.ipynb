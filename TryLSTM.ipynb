{
 "cells": [
  {
   "cell_type": "code",
   "execution_count": 1,
   "id": "c03f0dea",
   "metadata": {},
   "outputs": [
    {
     "name": "stderr",
     "output_type": "stream",
     "text": [
      "Registered S3 methods overwritten by 'ggplot2':\n",
      "  method         from \n",
      "  [.quosures     rlang\n",
      "  c.quosures     rlang\n",
      "  print.quosures rlang\n"
     ]
    }
   ],
   "source": [
    "# swich to english \n",
    "Sys.setenv(LANG = \"en\")\n",
    "\n",
    "# prepare environmental variables for the project\n",
    "WORKING_DIRECTORY <- \"C:\\\\Users\\\\User\\\\Desktop\\\\Studia\\\\ERASMUS\\\\DATA_SCIENCE\\\\FINAL PROJECT\\\\\"\n",
    "DATASET_PATH <- \"datasets\\\\\"\n",
    "\n",
    "# Files names \n",
    "RACE_2021 <- \"RACETRACK_2021_DATA\\\\18-09-2021_THE_RACE_24H.csv\"\n",
    "FIRST_TESTS <- \"RACETRACK_2021_DATA\\\\16-09-2021_FIRST_TEST_2H_NO_GEOMETRY.csv\"\n",
    "#SECOND_TEST <- \"DATA NOT AVAILABLE YET\"\n",
    "\n",
    "# import important libraries\n",
    "library('ggplot2')\n",
    "library('gridExtra')\n",
    "library('reshape2')\n",
    "library(plyr)"
   ]
  },
  {
   "cell_type": "code",
   "execution_count": 2,
   "id": "04d355b8",
   "metadata": {},
   "outputs": [
    {
     "data": {
      "text/html": [
       "<table>\n",
       "<thead><tr><th scope=col>X</th><th scope=col>General.Timestamp</th><th scope=col>General.ThrottlePosition</th><th scope=col>General.MotorController</th><th scope=col>General.MainSwitch</th><th scope=col>General.MotorDirection</th><th scope=col>General.PowerEco</th><th scope=col>General.RegenerationBrake</th><th scope=col>General.DriveMode</th><th scope=col>General.Horn</th><th scope=col>...</th><th scope=col>Solar.MpptInputCurrent.3</th><th scope=col>Solar.MpptOutputVoltage.0</th><th scope=col>Solar.MpptOutputVoltage.1</th><th scope=col>Solar.MpptOutputVoltage.2</th><th scope=col>Solar.MpptOutputVoltage.3</th><th scope=col>Solar.MpptOutputPower.0</th><th scope=col>Solar.MpptOutputPower.1</th><th scope=col>Solar.MpptOutputPower.2</th><th scope=col>Solar.MpptOutputPower.3</th><th scope=col>Solar.PowerMppt</th></tr></thead>\n",
       "<tbody>\n",
       "\t<tr><td> 1              </td><td>18.09.2021 13:00</td><td>0               </td><td>5               </td><td>TRUE            </td><td>FALSE           </td><td>TRUE            </td><td>0               </td><td>2               </td><td>0               </td><td>...             </td><td>1784.162        </td><td>124             </td><td>124             </td><td>123             </td><td>125             </td><td>154761          </td><td>787             </td><td>2190            </td><td>75253           </td><td>232991          </td></tr>\n",
       "\t<tr><td> 2              </td><td>18.09.2021 13:00</td><td>0               </td><td>5               </td><td>TRUE            </td><td>FALSE           </td><td>TRUE            </td><td>0               </td><td>2               </td><td>0               </td><td>...             </td><td>1784.162        </td><td>124             </td><td>124             </td><td>123             </td><td>125             </td><td>154761          </td><td>787             </td><td>2190            </td><td>75253           </td><td>232991          </td></tr>\n",
       "\t<tr><td> 3              </td><td>18.09.2021 13:00</td><td>0               </td><td>5               </td><td>TRUE            </td><td>FALSE           </td><td>TRUE            </td><td>0               </td><td>2               </td><td>0               </td><td>...             </td><td>1784.162        </td><td>124             </td><td>124             </td><td>123             </td><td>125             </td><td>154761          </td><td>787             </td><td>2190            </td><td>75253           </td><td>232991          </td></tr>\n",
       "\t<tr><td> 4              </td><td>18.09.2021 13:00</td><td>0               </td><td>5               </td><td>TRUE            </td><td>FALSE           </td><td>TRUE            </td><td>0               </td><td>2               </td><td>0               </td><td>...             </td><td>1784.162        </td><td>124             </td><td>124             </td><td>123             </td><td>125             </td><td>154761          </td><td>787             </td><td>2190            </td><td>75253           </td><td>232991          </td></tr>\n",
       "\t<tr><td> 5              </td><td>18.09.2021 13:00</td><td>0               </td><td>5               </td><td>TRUE            </td><td>FALSE           </td><td>TRUE            </td><td>0               </td><td>2               </td><td>0               </td><td>...             </td><td>1784.162        </td><td>124             </td><td>124             </td><td>123             </td><td>125             </td><td>154761          </td><td>787             </td><td>2190            </td><td>75253           </td><td>232991          </td></tr>\n",
       "\t<tr><td> 6              </td><td>18.09.2021 13:00</td><td>0               </td><td>5               </td><td>TRUE            </td><td>FALSE           </td><td>TRUE            </td><td>0               </td><td>2               </td><td>0               </td><td>...             </td><td>1784.162        </td><td>124             </td><td>124             </td><td>123             </td><td>125             </td><td>154761          </td><td>787             </td><td>2190            </td><td>75253           </td><td>232991          </td></tr>\n",
       "\t<tr><td> 7              </td><td>18.09.2021 13:00</td><td>0               </td><td>5               </td><td>TRUE            </td><td>FALSE           </td><td>TRUE            </td><td>0               </td><td>2               </td><td>0               </td><td>...             </td><td>1784.162        </td><td>124             </td><td>124             </td><td>123             </td><td>125             </td><td>154761          </td><td>787             </td><td>2190            </td><td>75253           </td><td>232991          </td></tr>\n",
       "\t<tr><td> 8              </td><td>18.09.2021 13:00</td><td>0               </td><td>5               </td><td>TRUE            </td><td>FALSE           </td><td>TRUE            </td><td>0               </td><td>2               </td><td>0               </td><td>...             </td><td>1784.162        </td><td>124             </td><td>124             </td><td>123             </td><td>125             </td><td>154761          </td><td>787             </td><td>2190            </td><td>75253           </td><td>232991          </td></tr>\n",
       "\t<tr><td> 9              </td><td>18.09.2021 13:00</td><td>0               </td><td>5               </td><td>TRUE            </td><td>FALSE           </td><td>TRUE            </td><td>0               </td><td>2               </td><td>0               </td><td>...             </td><td>1784.162        </td><td>124             </td><td>124             </td><td>123             </td><td>125             </td><td>154761          </td><td>787             </td><td>2190            </td><td>75253           </td><td>232991          </td></tr>\n",
       "\t<tr><td>10              </td><td>18.09.2021 13:00</td><td>0               </td><td>5               </td><td>TRUE            </td><td>FALSE           </td><td>TRUE            </td><td>0               </td><td>2               </td><td>0               </td><td>...             </td><td>1784.162        </td><td>124             </td><td>124             </td><td>123             </td><td>125             </td><td>154761          </td><td>787             </td><td>2190            </td><td>75253           </td><td>232991          </td></tr>\n",
       "</tbody>\n",
       "</table>\n"
      ],
      "text/latex": [
       "\\begin{tabular}{r|llllllllllllllllllllllllllllllllllllllllllllllllllllllllllllllllllllllllllllllllllllllllllllllllll}\n",
       " X & General.Timestamp & General.ThrottlePosition & General.MotorController & General.MainSwitch & General.MotorDirection & General.PowerEco & General.RegenerationBrake & General.DriveMode & General.Horn & ... & Solar.MpptInputCurrent.3 & Solar.MpptOutputVoltage.0 & Solar.MpptOutputVoltage.1 & Solar.MpptOutputVoltage.2 & Solar.MpptOutputVoltage.3 & Solar.MpptOutputPower.0 & Solar.MpptOutputPower.1 & Solar.MpptOutputPower.2 & Solar.MpptOutputPower.3 & Solar.PowerMppt\\\\\n",
       "\\hline\n",
       "\t  1               & 18.09.2021 13:00 & 0                & 5                & TRUE             & FALSE            & TRUE             & 0                & 2                & 0                & ...              & 1784.162         & 124              & 124              & 123              & 125              & 154761           & 787              & 2190             & 75253            & 232991          \\\\\n",
       "\t  2               & 18.09.2021 13:00 & 0                & 5                & TRUE             & FALSE            & TRUE             & 0                & 2                & 0                & ...              & 1784.162         & 124              & 124              & 123              & 125              & 154761           & 787              & 2190             & 75253            & 232991          \\\\\n",
       "\t  3               & 18.09.2021 13:00 & 0                & 5                & TRUE             & FALSE            & TRUE             & 0                & 2                & 0                & ...              & 1784.162         & 124              & 124              & 123              & 125              & 154761           & 787              & 2190             & 75253            & 232991          \\\\\n",
       "\t  4               & 18.09.2021 13:00 & 0                & 5                & TRUE             & FALSE            & TRUE             & 0                & 2                & 0                & ...              & 1784.162         & 124              & 124              & 123              & 125              & 154761           & 787              & 2190             & 75253            & 232991          \\\\\n",
       "\t  5               & 18.09.2021 13:00 & 0                & 5                & TRUE             & FALSE            & TRUE             & 0                & 2                & 0                & ...              & 1784.162         & 124              & 124              & 123              & 125              & 154761           & 787              & 2190             & 75253            & 232991          \\\\\n",
       "\t  6               & 18.09.2021 13:00 & 0                & 5                & TRUE             & FALSE            & TRUE             & 0                & 2                & 0                & ...              & 1784.162         & 124              & 124              & 123              & 125              & 154761           & 787              & 2190             & 75253            & 232991          \\\\\n",
       "\t  7               & 18.09.2021 13:00 & 0                & 5                & TRUE             & FALSE            & TRUE             & 0                & 2                & 0                & ...              & 1784.162         & 124              & 124              & 123              & 125              & 154761           & 787              & 2190             & 75253            & 232991          \\\\\n",
       "\t  8               & 18.09.2021 13:00 & 0                & 5                & TRUE             & FALSE            & TRUE             & 0                & 2                & 0                & ...              & 1784.162         & 124              & 124              & 123              & 125              & 154761           & 787              & 2190             & 75253            & 232991          \\\\\n",
       "\t  9               & 18.09.2021 13:00 & 0                & 5                & TRUE             & FALSE            & TRUE             & 0                & 2                & 0                & ...              & 1784.162         & 124              & 124              & 123              & 125              & 154761           & 787              & 2190             & 75253            & 232991          \\\\\n",
       "\t 10               & 18.09.2021 13:00 & 0                & 5                & TRUE             & FALSE            & TRUE             & 0                & 2                & 0                & ...              & 1784.162         & 124              & 124              & 123              & 125              & 154761           & 787              & 2190             & 75253            & 232991          \\\\\n",
       "\\end{tabular}\n"
      ],
      "text/markdown": [
       "\n",
       "| X | General.Timestamp | General.ThrottlePosition | General.MotorController | General.MainSwitch | General.MotorDirection | General.PowerEco | General.RegenerationBrake | General.DriveMode | General.Horn | ... | Solar.MpptInputCurrent.3 | Solar.MpptOutputVoltage.0 | Solar.MpptOutputVoltage.1 | Solar.MpptOutputVoltage.2 | Solar.MpptOutputVoltage.3 | Solar.MpptOutputPower.0 | Solar.MpptOutputPower.1 | Solar.MpptOutputPower.2 | Solar.MpptOutputPower.3 | Solar.PowerMppt |\n",
       "|---|---|---|---|---|---|---|---|---|---|---|---|---|---|---|---|---|---|---|---|---|\n",
       "|  1               | 18.09.2021 13:00 | 0                | 5                | TRUE             | FALSE            | TRUE             | 0                | 2                | 0                | ...              | 1784.162         | 124              | 124              | 123              | 125              | 154761           | 787              | 2190             | 75253            | 232991           |\n",
       "|  2               | 18.09.2021 13:00 | 0                | 5                | TRUE             | FALSE            | TRUE             | 0                | 2                | 0                | ...              | 1784.162         | 124              | 124              | 123              | 125              | 154761           | 787              | 2190             | 75253            | 232991           |\n",
       "|  3               | 18.09.2021 13:00 | 0                | 5                | TRUE             | FALSE            | TRUE             | 0                | 2                | 0                | ...              | 1784.162         | 124              | 124              | 123              | 125              | 154761           | 787              | 2190             | 75253            | 232991           |\n",
       "|  4               | 18.09.2021 13:00 | 0                | 5                | TRUE             | FALSE            | TRUE             | 0                | 2                | 0                | ...              | 1784.162         | 124              | 124              | 123              | 125              | 154761           | 787              | 2190             | 75253            | 232991           |\n",
       "|  5               | 18.09.2021 13:00 | 0                | 5                | TRUE             | FALSE            | TRUE             | 0                | 2                | 0                | ...              | 1784.162         | 124              | 124              | 123              | 125              | 154761           | 787              | 2190             | 75253            | 232991           |\n",
       "|  6               | 18.09.2021 13:00 | 0                | 5                | TRUE             | FALSE            | TRUE             | 0                | 2                | 0                | ...              | 1784.162         | 124              | 124              | 123              | 125              | 154761           | 787              | 2190             | 75253            | 232991           |\n",
       "|  7               | 18.09.2021 13:00 | 0                | 5                | TRUE             | FALSE            | TRUE             | 0                | 2                | 0                | ...              | 1784.162         | 124              | 124              | 123              | 125              | 154761           | 787              | 2190             | 75253            | 232991           |\n",
       "|  8               | 18.09.2021 13:00 | 0                | 5                | TRUE             | FALSE            | TRUE             | 0                | 2                | 0                | ...              | 1784.162         | 124              | 124              | 123              | 125              | 154761           | 787              | 2190             | 75253            | 232991           |\n",
       "|  9               | 18.09.2021 13:00 | 0                | 5                | TRUE             | FALSE            | TRUE             | 0                | 2                | 0                | ...              | 1784.162         | 124              | 124              | 123              | 125              | 154761           | 787              | 2190             | 75253            | 232991           |\n",
       "| 10               | 18.09.2021 13:00 | 0                | 5                | TRUE             | FALSE            | TRUE             | 0                | 2                | 0                | ...              | 1784.162         | 124              | 124              | 123              | 125              | 154761           | 787              | 2190             | 75253            | 232991           |\n",
       "\n"
      ],
      "text/plain": [
       "   X  General.Timestamp General.ThrottlePosition General.MotorController\n",
       "1   1 18.09.2021 13:00  0                        5                      \n",
       "2   2 18.09.2021 13:00  0                        5                      \n",
       "3   3 18.09.2021 13:00  0                        5                      \n",
       "4   4 18.09.2021 13:00  0                        5                      \n",
       "5   5 18.09.2021 13:00  0                        5                      \n",
       "6   6 18.09.2021 13:00  0                        5                      \n",
       "7   7 18.09.2021 13:00  0                        5                      \n",
       "8   8 18.09.2021 13:00  0                        5                      \n",
       "9   9 18.09.2021 13:00  0                        5                      \n",
       "10 10 18.09.2021 13:00  0                        5                      \n",
       "   General.MainSwitch General.MotorDirection General.PowerEco\n",
       "1  TRUE               FALSE                  TRUE            \n",
       "2  TRUE               FALSE                  TRUE            \n",
       "3  TRUE               FALSE                  TRUE            \n",
       "4  TRUE               FALSE                  TRUE            \n",
       "5  TRUE               FALSE                  TRUE            \n",
       "6  TRUE               FALSE                  TRUE            \n",
       "7  TRUE               FALSE                  TRUE            \n",
       "8  TRUE               FALSE                  TRUE            \n",
       "9  TRUE               FALSE                  TRUE            \n",
       "10 TRUE               FALSE                  TRUE            \n",
       "   General.RegenerationBrake General.DriveMode General.Horn ...\n",
       "1  0                         2                 0            ...\n",
       "2  0                         2                 0            ...\n",
       "3  0                         2                 0            ...\n",
       "4  0                         2                 0            ...\n",
       "5  0                         2                 0            ...\n",
       "6  0                         2                 0            ...\n",
       "7  0                         2                 0            ...\n",
       "8  0                         2                 0            ...\n",
       "9  0                         2                 0            ...\n",
       "10 0                         2                 0            ...\n",
       "   Solar.MpptInputCurrent.3 Solar.MpptOutputVoltage.0 Solar.MpptOutputVoltage.1\n",
       "1  1784.162                 124                       124                      \n",
       "2  1784.162                 124                       124                      \n",
       "3  1784.162                 124                       124                      \n",
       "4  1784.162                 124                       124                      \n",
       "5  1784.162                 124                       124                      \n",
       "6  1784.162                 124                       124                      \n",
       "7  1784.162                 124                       124                      \n",
       "8  1784.162                 124                       124                      \n",
       "9  1784.162                 124                       124                      \n",
       "10 1784.162                 124                       124                      \n",
       "   Solar.MpptOutputVoltage.2 Solar.MpptOutputVoltage.3 Solar.MpptOutputPower.0\n",
       "1  123                       125                       154761                 \n",
       "2  123                       125                       154761                 \n",
       "3  123                       125                       154761                 \n",
       "4  123                       125                       154761                 \n",
       "5  123                       125                       154761                 \n",
       "6  123                       125                       154761                 \n",
       "7  123                       125                       154761                 \n",
       "8  123                       125                       154761                 \n",
       "9  123                       125                       154761                 \n",
       "10 123                       125                       154761                 \n",
       "   Solar.MpptOutputPower.1 Solar.MpptOutputPower.2 Solar.MpptOutputPower.3\n",
       "1  787                     2190                    75253                  \n",
       "2  787                     2190                    75253                  \n",
       "3  787                     2190                    75253                  \n",
       "4  787                     2190                    75253                  \n",
       "5  787                     2190                    75253                  \n",
       "6  787                     2190                    75253                  \n",
       "7  787                     2190                    75253                  \n",
       "8  787                     2190                    75253                  \n",
       "9  787                     2190                    75253                  \n",
       "10 787                     2190                    75253                  \n",
       "   Solar.PowerMppt\n",
       "1  232991         \n",
       "2  232991         \n",
       "3  232991         \n",
       "4  232991         \n",
       "5  232991         \n",
       "6  232991         \n",
       "7  232991         \n",
       "8  232991         \n",
       "9  232991         \n",
       "10 232991         "
      ]
     },
     "metadata": {},
     "output_type": "display_data"
    }
   ],
   "source": [
    "race_2021_df <- read.csv(\n",
    "    paste(WORKING_DIRECTORY, \" cleanRace.csv\", sep=''),\n",
    "    header=TRUE, \n",
    "    sep=',')\n",
    "head(race_2021_df, 10)"
   ]
  },
  {
   "cell_type": "code",
   "execution_count": 3,
   "id": "4af1dfad",
   "metadata": {},
   "outputs": [
    {
     "data": {
      "text/html": [
       "<table>\n",
       "<thead><tr><th scope=col>Battery.DeviationOfVoltageInCells</th><th scope=col>Battery.PackTemperatureMax</th><th scope=col>Battery.PackTemperatureMin</th><th scope=col>Battery.CellVoltageMax</th><th scope=col>Battery.CellAvgVoltage</th><th scope=col>Battery.PackVoltage</th><th scope=col>Battery.PowerBalance</th></tr></thead>\n",
       "<tbody>\n",
       "\t<tr><td>22   </td><td>19   </td><td>18   </td><td>4.179</td><td>4.167</td><td>122  </td><td>97.6 </td></tr>\n",
       "\t<tr><td>22   </td><td>19   </td><td>18   </td><td>4.179</td><td>4.167</td><td>122  </td><td>97.6 </td></tr>\n",
       "\t<tr><td>22   </td><td>19   </td><td>18   </td><td>4.179</td><td>4.167</td><td>122  </td><td>97.6 </td></tr>\n",
       "\t<tr><td>22   </td><td>19   </td><td>18   </td><td>4.179</td><td>4.167</td><td>122  </td><td>97.6 </td></tr>\n",
       "\t<tr><td>22   </td><td>19   </td><td>18   </td><td>4.179</td><td>4.167</td><td>122  </td><td>97.6 </td></tr>\n",
       "\t<tr><td>22   </td><td>19   </td><td>18   </td><td>4.179</td><td>4.167</td><td>122  </td><td>97.6 </td></tr>\n",
       "</tbody>\n",
       "</table>\n"
      ],
      "text/latex": [
       "\\begin{tabular}{r|lllllll}\n",
       " Battery.DeviationOfVoltageInCells & Battery.PackTemperatureMax & Battery.PackTemperatureMin & Battery.CellVoltageMax & Battery.CellAvgVoltage & Battery.PackVoltage & Battery.PowerBalance\\\\\n",
       "\\hline\n",
       "\t 22    & 19    & 18    & 4.179 & 4.167 & 122   & 97.6 \\\\\n",
       "\t 22    & 19    & 18    & 4.179 & 4.167 & 122   & 97.6 \\\\\n",
       "\t 22    & 19    & 18    & 4.179 & 4.167 & 122   & 97.6 \\\\\n",
       "\t 22    & 19    & 18    & 4.179 & 4.167 & 122   & 97.6 \\\\\n",
       "\t 22    & 19    & 18    & 4.179 & 4.167 & 122   & 97.6 \\\\\n",
       "\t 22    & 19    & 18    & 4.179 & 4.167 & 122   & 97.6 \\\\\n",
       "\\end{tabular}\n"
      ],
      "text/markdown": [
       "\n",
       "| Battery.DeviationOfVoltageInCells | Battery.PackTemperatureMax | Battery.PackTemperatureMin | Battery.CellVoltageMax | Battery.CellAvgVoltage | Battery.PackVoltage | Battery.PowerBalance |\n",
       "|---|---|---|---|---|---|---|\n",
       "| 22    | 19    | 18    | 4.179 | 4.167 | 122   | 97.6  |\n",
       "| 22    | 19    | 18    | 4.179 | 4.167 | 122   | 97.6  |\n",
       "| 22    | 19    | 18    | 4.179 | 4.167 | 122   | 97.6  |\n",
       "| 22    | 19    | 18    | 4.179 | 4.167 | 122   | 97.6  |\n",
       "| 22    | 19    | 18    | 4.179 | 4.167 | 122   | 97.6  |\n",
       "| 22    | 19    | 18    | 4.179 | 4.167 | 122   | 97.6  |\n",
       "\n"
      ],
      "text/plain": [
       "  Battery.DeviationOfVoltageInCells Battery.PackTemperatureMax\n",
       "1 22                                19                        \n",
       "2 22                                19                        \n",
       "3 22                                19                        \n",
       "4 22                                19                        \n",
       "5 22                                19                        \n",
       "6 22                                19                        \n",
       "  Battery.PackTemperatureMin Battery.CellVoltageMax Battery.CellAvgVoltage\n",
       "1 18                         4.179                  4.167                 \n",
       "2 18                         4.179                  4.167                 \n",
       "3 18                         4.179                  4.167                 \n",
       "4 18                         4.179                  4.167                 \n",
       "5 18                         4.179                  4.167                 \n",
       "6 18                         4.179                  4.167                 \n",
       "  Battery.PackVoltage Battery.PowerBalance\n",
       "1 122                 97.6                \n",
       "2 122                 97.6                \n",
       "3 122                 97.6                \n",
       "4 122                 97.6                \n",
       "5 122                 97.6                \n",
       "6 122                 97.6                "
      ]
     },
     "metadata": {},
     "output_type": "display_data"
    }
   ],
   "source": [
    "cols_to_use <- c(\n",
    "    \"Battery.PackVoltage\",\n",
    "    \"Battery.CellVoltageMax\",\n",
    "    \"Battery.CellVoltageMax\",\n",
    "    \"Battery.DeviationOfVoltageInCells\",\n",
    "    \"Battery.CellAvgVoltage\",\n",
    "    \"Battery.PackTemperatureMax\",\n",
    "    \"Battery.PackTemperatureMin\",\n",
    "    \"Battery.PowerBalance\")\n",
    "\n",
    "racing_rnn_battery_df <- race_2021_df[,(names(race_2021_df) %in% cols_to_use)]\n",
    "head(racing_rnn_battery_df)"
   ]
  },
  {
   "cell_type": "code",
   "execution_count": 1,
   "id": "e174708d",
   "metadata": {},
   "outputs": [],
   "source": [
    "library(tensorflow)"
   ]
  },
  {
   "cell_type": "code",
   "execution_count": null,
   "id": "b13f0544",
   "metadata": {},
   "outputs": [
    {
     "name": "stderr",
     "output_type": "stream",
     "text": [
      "Warning message in normalizePath(path.expand(path), winslash, mustWork):\n",
      "\"path[1]=\"D:\\Oprogramowanie_studia\\Anaconda_Files\\envs\\R-env/python.exe\": Nie można odnaleźć określonego pliku\"Warning message in normalizePath(path.expand(path), winslash, mustWork):\n",
      "\"path[1]=\"D:\\Oprogramowanie_studia\\Anaconda_files\\envs\\R-env/python.exe\": Nie można odnaleźć określonego pliku\""
     ]
    },
    {
     "name": "stdout",
     "output_type": "stream",
     "text": [
      "Creating r-tensorflow conda environment for TensorFlow installation...\n"
     ]
    },
    {
     "name": "stderr",
     "output_type": "stream",
     "text": [
      "Warning message in normalizePath(path.expand(path), winslash, mustWork):\n",
      "\"path[1]=\"D:\\Oprogramowanie_studia\\Anaconda_Files\\envs\\R-env/python.exe\": Nie można odnaleźć określonego pliku\"Warning message in normalizePath(path.expand(path), winslash, mustWork):\n",
      "\"path[1]=\"D:\\Oprogramowanie_studia\\Anaconda_files\\envs\\R-env/python.exe\": Nie można odnaleźć określonego pliku\""
     ]
    }
   ],
   "source": [
    "library(keras)\n",
    "install_tensorflow()\n",
    "lstm_model <- keras_model_sequential()"
   ]
  },
  {
   "cell_type": "code",
   "execution_count": 5,
   "id": "eb5d53f1",
   "metadata": {},
   "outputs": [
    {
     "name": "stderr",
     "output_type": "stream",
     "text": [
      "Registered S3 methods overwritten by 'ggplot2':\n",
      "  method         from \n",
      "  [.quosures     rlang\n",
      "  c.quosures     rlang\n",
      "  print.quosures rlang\n",
      "Registered S3 method overwritten by 'rvest':\n",
      "  method            from\n",
      "  read_xml.response xml2\n",
      "-- \u001b[1mAttaching packages\u001b[22m --------------------------------------- tidyverse 1.2.1 --\n",
      "\u001b[32m<U+221A>\u001b[39m \u001b[34mggplot2\u001b[39m 3.1.1       \u001b[32m<U+221A>\u001b[39m \u001b[34mpurrr  \u001b[39m 0.3.2  \n",
      "\u001b[32m<U+221A>\u001b[39m \u001b[34mtibble \u001b[39m 2.1.1       \u001b[32m<U+221A>\u001b[39m \u001b[34mdplyr  \u001b[39m 0.8.0.\u001b[31m1\u001b[39m\n",
      "\u001b[32m<U+221A>\u001b[39m \u001b[34mtidyr  \u001b[39m 0.8.3       \u001b[32m<U+221A>\u001b[39m \u001b[34mstringr\u001b[39m 1.4.0  \n",
      "\u001b[32m<U+221A>\u001b[39m \u001b[34mreadr  \u001b[39m 1.3.1       \u001b[32m<U+221A>\u001b[39m \u001b[34mforcats\u001b[39m 0.4.0  \n",
      "-- \u001b[1mConflicts\u001b[22m ------------------------------------------ tidyverse_conflicts() --\n",
      "\u001b[31mx\u001b[39m \u001b[34mdplyr\u001b[39m::\u001b[32mfilter()\u001b[39m masks \u001b[34mstats\u001b[39m::filter()\n",
      "\u001b[31mx\u001b[39m \u001b[34mdplyr\u001b[39m::\u001b[32mlag()\u001b[39m    masks \u001b[34mstats\u001b[39m::lag()\n"
     ]
    }
   ],
   "source": [
    "\n",
    "library(tidyverse) # general utility functions"
   ]
  },
  {
   "cell_type": "code",
   "execution_count": 6,
   "id": "b5a22e5b",
   "metadata": {},
   "outputs": [
    {
     "data": {
      "text/html": [
       "<ol class=list-inline>\n",
       "\t<li>3.67437614456459</li>\n",
       "\t<li>0.358162399339163</li>\n",
       "</ol>\n"
      ],
      "text/latex": [
       "\\begin{enumerate*}\n",
       "\\item 3.67437614456459\n",
       "\\item 0.358162399339163\n",
       "\\end{enumerate*}\n"
      ],
      "text/markdown": [
       "1. 3.67437614456459\n",
       "2. 0.358162399339163\n",
       "\n",
       "\n"
      ],
      "text/plain": [
       "[1] 3.6743761 0.3581624"
      ]
     },
     "metadata": {},
     "output_type": "display_data"
    }
   ],
   "source": [
    "scale_factors <- c(mean(racing_rnn_battery_df$Battery.CellAvgVoltage), sd(racing_rnn_battery_df$Battery.CellAvgVoltage))\n",
    "scale_factors"
   ]
  },
  {
   "cell_type": "code",
   "execution_count": 7,
   "id": "883b14d1",
   "metadata": {},
   "outputs": [],
   "source": [
    "scaled_train <- racing_rnn_battery_df %>%\n",
    "    dplyr::select(Battery.CellAvgVoltage) %>%\n",
    "    dplyr::mutate(Battery.CellAvgVoltage = (Battery.CellAvgVoltage - scale_factors[1]) / scale_factors[2])"
   ]
  },
  {
   "cell_type": "code",
   "execution_count": 8,
   "id": "774bd50c",
   "metadata": {},
   "outputs": [
    {
     "data": {
      "text/html": [
       "<table>\n",
       "<thead><tr><th scope=col>Battery.CellAvgVoltage</th></tr></thead>\n",
       "<tbody>\n",
       "\t<tr><td>1.37542</td></tr>\n",
       "\t<tr><td>1.37542</td></tr>\n",
       "\t<tr><td>1.37542</td></tr>\n",
       "\t<tr><td>1.37542</td></tr>\n",
       "\t<tr><td>1.37542</td></tr>\n",
       "\t<tr><td>1.37542</td></tr>\n",
       "</tbody>\n",
       "</table>\n"
      ],
      "text/latex": [
       "\\begin{tabular}{r|l}\n",
       " Battery.CellAvgVoltage\\\\\n",
       "\\hline\n",
       "\t 1.37542\\\\\n",
       "\t 1.37542\\\\\n",
       "\t 1.37542\\\\\n",
       "\t 1.37542\\\\\n",
       "\t 1.37542\\\\\n",
       "\t 1.37542\\\\\n",
       "\\end{tabular}\n"
      ],
      "text/markdown": [
       "\n",
       "| Battery.CellAvgVoltage |\n",
       "|---|\n",
       "| 1.37542 |\n",
       "| 1.37542 |\n",
       "| 1.37542 |\n",
       "| 1.37542 |\n",
       "| 1.37542 |\n",
       "| 1.37542 |\n",
       "\n"
      ],
      "text/plain": [
       "  Battery.CellAvgVoltage\n",
       "1 1.37542               \n",
       "2 1.37542               \n",
       "3 1.37542               \n",
       "4 1.37542               \n",
       "5 1.37542               \n",
       "6 1.37542               "
      ]
     },
     "metadata": {},
     "output_type": "display_data"
    }
   ],
   "source": [
    "head(scaled_train)"
   ]
  },
  {
   "cell_type": "code",
   "execution_count": 9,
   "id": "058f2558",
   "metadata": {},
   "outputs": [],
   "source": [
    "prediction <- 1000\n",
    "lag <- prediction"
   ]
  },
  {
   "cell_type": "code",
   "execution_count": 10,
   "id": "1c07fed1",
   "metadata": {},
   "outputs": [],
   "source": [
    "scaled_train <- as.matrix(scaled_train)\n",
    "\n",
    "# we lag the data 359 times and arrange that into columns\n",
    "x_train_data <- t(sapply(\n",
    "    1:(length(scaled_train) - lag - prediction + 1),\n",
    "    function(x) scaled_train[x:(x + lag - 1), 1]\n",
    "  ))\n",
    "\n",
    "# now we transform it into 3D form\n",
    "x_train_arr <- array(\n",
    "    data = as.numeric(unlist(x_train_data)),\n",
    "    dim = c(\n",
    "        nrow(x_train_data),\n",
    "        lag,\n",
    "        1\n",
    "    )\n",
    ")"
   ]
  },
  {
   "cell_type": "code",
   "execution_count": 11,
   "id": "5c452d0e",
   "metadata": {
    "scrolled": false
   },
   "outputs": [
    {
     "data": {
      "text/html": [
       "<table>\n",
       "<tbody>\n",
       "\t<tr><td>1.37542 </td><td>1.37542 </td><td>1.37542 </td><td>1.37542 </td><td>1.37542 </td><td>1.37542 </td><td>1.37542 </td><td>1.37542 </td><td>1.37542 </td><td>1.375420</td><td>...     </td><td>1.219067</td><td>1.219067</td><td>1.216275</td><td>1.216275</td><td>1.219067</td><td>1.219067</td><td>1.219067</td><td>1.219067</td><td>1.219067</td><td>1.219067</td></tr>\n",
       "\t<tr><td>1.37542 </td><td>1.37542 </td><td>1.37542 </td><td>1.37542 </td><td>1.37542 </td><td>1.37542 </td><td>1.37542 </td><td>1.37542 </td><td>1.37542 </td><td>1.375420</td><td>...     </td><td>1.219067</td><td>1.216275</td><td>1.216275</td><td>1.219067</td><td>1.219067</td><td>1.219067</td><td>1.219067</td><td>1.219067</td><td>1.219067</td><td>1.219067</td></tr>\n",
       "\t<tr><td>1.37542 </td><td>1.37542 </td><td>1.37542 </td><td>1.37542 </td><td>1.37542 </td><td>1.37542 </td><td>1.37542 </td><td>1.37542 </td><td>1.37542 </td><td>1.375420</td><td>...     </td><td>1.216275</td><td>1.216275</td><td>1.219067</td><td>1.219067</td><td>1.219067</td><td>1.219067</td><td>1.219067</td><td>1.219067</td><td>1.219067</td><td>1.219067</td></tr>\n",
       "\t<tr><td>1.37542 </td><td>1.37542 </td><td>1.37542 </td><td>1.37542 </td><td>1.37542 </td><td>1.37542 </td><td>1.37542 </td><td>1.37542 </td><td>1.37542 </td><td>1.375420</td><td>...     </td><td>1.216275</td><td>1.219067</td><td>1.219067</td><td>1.219067</td><td>1.219067</td><td>1.219067</td><td>1.219067</td><td>1.219067</td><td>1.219067</td><td>1.227442</td></tr>\n",
       "\t<tr><td>1.37542 </td><td>1.37542 </td><td>1.37542 </td><td>1.37542 </td><td>1.37542 </td><td>1.37542 </td><td>1.37542 </td><td>1.37542 </td><td>1.37542 </td><td>1.375420</td><td>...     </td><td>1.219067</td><td>1.219067</td><td>1.219067</td><td>1.219067</td><td>1.219067</td><td>1.219067</td><td>1.219067</td><td>1.219067</td><td>1.227442</td><td>1.252571</td></tr>\n",
       "\t<tr><td>1.37542 </td><td>1.37542 </td><td>1.37542 </td><td>1.37542 </td><td>1.37542 </td><td>1.37542 </td><td>1.37542 </td><td>1.37542 </td><td>1.37542 </td><td>1.322371</td><td>...     </td><td>1.219067</td><td>1.219067</td><td>1.219067</td><td>1.219067</td><td>1.219067</td><td>1.219067</td><td>1.219067</td><td>1.227442</td><td>1.252571</td><td>1.241403</td></tr>\n",
       "</tbody>\n",
       "</table>\n"
      ],
      "text/latex": [
       "\\begin{tabular}{llllllllllllllllllllllllllllllllllllllllllllllllllllllllllllllllllllllllllllllllllllllllllllllllllllllllllllllllllllllllllllllllllllllllllllllllllllllllllllllllllllllllllllllllllllllllllllllllllllllllllllllllllllllllllllllllllllllllllllllllllllllllllllllllllllllllllllllllllllllllllllllllllllllllllllllllllllllllllllllllllllllllllllllllllllllllllllllllllllllllllllllllllllllllllllllllllllllllllllllllllllllllllllllllllllllllllllllllllllllllllllllllllllllllllllllllllllllllllllllllllllllllllllllllllllllllllllllllllllllllllllllllllllllllllllllllllllllllllllllllllllllllllllllllllllllllllllllllllllllllllllllllllllllllllllllllllllllllllllllllllllllllllllllllllllllllllllllllllllllllllllllllllllllllllllllllllllllllllllllllllllllllllllllllllllllllllllllllllllllllllllllllllllllllllllllllllllllllllllllllllllllllllllllllllllllllllllllllllllllllllllllllllllllllllllllllllllllllllllllllllllllllllllllllllllllllllllllllllllllllllllllllllllllllllllllllllllllllllllllllllllllllllllllllllllllllllllllllllllllll}\n",
       "\t 1.37542  & 1.37542  & 1.37542  & 1.37542  & 1.37542  & 1.37542  & 1.37542  & 1.37542  & 1.37542  & 1.375420 & ...      & 1.219067 & 1.219067 & 1.216275 & 1.216275 & 1.219067 & 1.219067 & 1.219067 & 1.219067 & 1.219067 & 1.219067\\\\\n",
       "\t 1.37542  & 1.37542  & 1.37542  & 1.37542  & 1.37542  & 1.37542  & 1.37542  & 1.37542  & 1.37542  & 1.375420 & ...      & 1.219067 & 1.216275 & 1.216275 & 1.219067 & 1.219067 & 1.219067 & 1.219067 & 1.219067 & 1.219067 & 1.219067\\\\\n",
       "\t 1.37542  & 1.37542  & 1.37542  & 1.37542  & 1.37542  & 1.37542  & 1.37542  & 1.37542  & 1.37542  & 1.375420 & ...      & 1.216275 & 1.216275 & 1.219067 & 1.219067 & 1.219067 & 1.219067 & 1.219067 & 1.219067 & 1.219067 & 1.219067\\\\\n",
       "\t 1.37542  & 1.37542  & 1.37542  & 1.37542  & 1.37542  & 1.37542  & 1.37542  & 1.37542  & 1.37542  & 1.375420 & ...      & 1.216275 & 1.219067 & 1.219067 & 1.219067 & 1.219067 & 1.219067 & 1.219067 & 1.219067 & 1.219067 & 1.227442\\\\\n",
       "\t 1.37542  & 1.37542  & 1.37542  & 1.37542  & 1.37542  & 1.37542  & 1.37542  & 1.37542  & 1.37542  & 1.375420 & ...      & 1.219067 & 1.219067 & 1.219067 & 1.219067 & 1.219067 & 1.219067 & 1.219067 & 1.219067 & 1.227442 & 1.252571\\\\\n",
       "\t 1.37542  & 1.37542  & 1.37542  & 1.37542  & 1.37542  & 1.37542  & 1.37542  & 1.37542  & 1.37542  & 1.322371 & ...      & 1.219067 & 1.219067 & 1.219067 & 1.219067 & 1.219067 & 1.219067 & 1.219067 & 1.227442 & 1.252571 & 1.241403\\\\\n",
       "\\end{tabular}\n"
      ],
      "text/markdown": [
       "\n",
       "| 1.37542  | 1.37542  | 1.37542  | 1.37542  | 1.37542  | 1.37542  | 1.37542  | 1.37542  | 1.37542  | 1.375420 | ...      | 1.219067 | 1.219067 | 1.216275 | 1.216275 | 1.219067 | 1.219067 | 1.219067 | 1.219067 | 1.219067 | 1.219067 |\n",
       "| 1.37542  | 1.37542  | 1.37542  | 1.37542  | 1.37542  | 1.37542  | 1.37542  | 1.37542  | 1.37542  | 1.375420 | ...      | 1.219067 | 1.216275 | 1.216275 | 1.219067 | 1.219067 | 1.219067 | 1.219067 | 1.219067 | 1.219067 | 1.219067 |\n",
       "| 1.37542  | 1.37542  | 1.37542  | 1.37542  | 1.37542  | 1.37542  | 1.37542  | 1.37542  | 1.37542  | 1.375420 | ...      | 1.216275 | 1.216275 | 1.219067 | 1.219067 | 1.219067 | 1.219067 | 1.219067 | 1.219067 | 1.219067 | 1.219067 |\n",
       "| 1.37542  | 1.37542  | 1.37542  | 1.37542  | 1.37542  | 1.37542  | 1.37542  | 1.37542  | 1.37542  | 1.375420 | ...      | 1.216275 | 1.219067 | 1.219067 | 1.219067 | 1.219067 | 1.219067 | 1.219067 | 1.219067 | 1.219067 | 1.227442 |\n",
       "| 1.37542  | 1.37542  | 1.37542  | 1.37542  | 1.37542  | 1.37542  | 1.37542  | 1.37542  | 1.37542  | 1.375420 | ...      | 1.219067 | 1.219067 | 1.219067 | 1.219067 | 1.219067 | 1.219067 | 1.219067 | 1.219067 | 1.227442 | 1.252571 |\n",
       "| 1.37542  | 1.37542  | 1.37542  | 1.37542  | 1.37542  | 1.37542  | 1.37542  | 1.37542  | 1.37542  | 1.322371 | ...      | 1.219067 | 1.219067 | 1.219067 | 1.219067 | 1.219067 | 1.219067 | 1.219067 | 1.227442 | 1.252571 | 1.241403 |\n",
       "\n"
      ],
      "text/plain": [
       "     [,1]    [,2]    [,3]    [,4]    [,5]    [,6]    [,7]    [,8]    [,9]   \n",
       "[1,] 1.37542 1.37542 1.37542 1.37542 1.37542 1.37542 1.37542 1.37542 1.37542\n",
       "[2,] 1.37542 1.37542 1.37542 1.37542 1.37542 1.37542 1.37542 1.37542 1.37542\n",
       "[3,] 1.37542 1.37542 1.37542 1.37542 1.37542 1.37542 1.37542 1.37542 1.37542\n",
       "[4,] 1.37542 1.37542 1.37542 1.37542 1.37542 1.37542 1.37542 1.37542 1.37542\n",
       "[5,] 1.37542 1.37542 1.37542 1.37542 1.37542 1.37542 1.37542 1.37542 1.37542\n",
       "[6,] 1.37542 1.37542 1.37542 1.37542 1.37542 1.37542 1.37542 1.37542 1.37542\n",
       "     [,10]    [,11] [,12]    [,13]    [,14]    [,15]    [,16]    [,17]   \n",
       "[1,] 1.375420 ...   1.219067 1.219067 1.216275 1.216275 1.219067 1.219067\n",
       "[2,] 1.375420 ...   1.219067 1.216275 1.216275 1.219067 1.219067 1.219067\n",
       "[3,] 1.375420 ...   1.216275 1.216275 1.219067 1.219067 1.219067 1.219067\n",
       "[4,] 1.375420 ...   1.216275 1.219067 1.219067 1.219067 1.219067 1.219067\n",
       "[5,] 1.375420 ...   1.219067 1.219067 1.219067 1.219067 1.219067 1.219067\n",
       "[6,] 1.322371 ...   1.219067 1.219067 1.219067 1.219067 1.219067 1.219067\n",
       "     [,18]    [,19]    [,20]    [,21]   \n",
       "[1,] 1.219067 1.219067 1.219067 1.219067\n",
       "[2,] 1.219067 1.219067 1.219067 1.219067\n",
       "[3,] 1.219067 1.219067 1.219067 1.219067\n",
       "[4,] 1.219067 1.219067 1.219067 1.227442\n",
       "[5,] 1.219067 1.219067 1.227442 1.252571\n",
       "[6,] 1.219067 1.227442 1.252571 1.241403"
      ]
     },
     "metadata": {},
     "output_type": "display_data"
    }
   ],
   "source": [
    "head(x_train_data)"
   ]
  },
  {
   "cell_type": "code",
   "execution_count": 12,
   "id": "aa40a30a",
   "metadata": {},
   "outputs": [],
   "source": [
    "y_train_data <- t(sapply(\n",
    "    (1 + lag):(length(scaled_train) - prediction + 1),\n",
    "    function(x) scaled_train[x:(x + prediction - 1)]\n",
    "))\n",
    " \n",
    "y_train_arr <- array(\n",
    "    data = as.numeric(unlist(y_train_data)),\n",
    "    dim = c(\n",
    "        nrow(y_train_data),\n",
    "        prediction,\n",
    "        1\n",
    "    )\n",
    ")"
   ]
  },
  {
   "cell_type": "code",
   "execution_count": 13,
   "id": "1b697940",
   "metadata": {},
   "outputs": [],
   "source": [
    "x_test <- racing_rnn_battery_df$Battery.CellAvgVoltage[(nrow(scaled_train) - prediction + 1):nrow(scaled_train)]"
   ]
  },
  {
   "cell_type": "code",
   "execution_count": 14,
   "id": "c614d018",
   "metadata": {},
   "outputs": [],
   "source": [
    "# scale the data with same scaling factors as for training\n",
    "x_test_scaled <- (x_test - scale_factors[1]) / scale_factors[2]\n",
    " \n",
    "# this time our array just has one sample, as we intend to perform one 12-months prediction\n",
    "x_pred_arr <- array(\n",
    "    data = x_test_scaled,\n",
    "    dim = c(\n",
    "        1,\n",
    "        lag,\n",
    "        1\n",
    "    )\n",
    ")"
   ]
  },
  {
   "cell_type": "code",
   "execution_count": null,
   "id": "0de17c0a",
   "metadata": {},
   "outputs": [
    {
     "name": "stderr",
     "output_type": "stream",
     "text": [
      "Warning message in normalizePath(path.expand(path), winslash, mustWork):\n",
      "\"path[1]=\"D:\\Oprogramowanie_studia\\Anaconda_files\\envs\\R-env/python.exe\": Nie można odnaleźć określonego pliku\"Warning message in normalizePath(path.expand(path), winslash, mustWork):\n",
      "\"path[1]=\"D:\\Oprogramowanie_studia\\Anaconda_files\\envs\\R-env/python.exe\": Nie można odnaleźć określonego pliku\""
     ]
    }
   ],
   "source": [
    "lstm_model <- keras_model_sequential()"
   ]
  },
  {
   "cell_type": "code",
   "execution_count": null,
   "id": "688e6254",
   "metadata": {},
   "outputs": [],
   "source": [
    "lstm_model %>%\n",
    "  layer_lstm(units = 50, # size of the layer\n",
    "       batch_input_shape = c(1, prediction, 1), # batch size, timesteps, features\n",
    "       return_sequences = TRUE,\n",
    "       stateful = TRUE) %>%\n",
    "  # fraction of the units to drop for the linear transformation of the inputs\n",
    "  layer_dropout(rate = 0.5) %>%\n",
    "  layer_lstm(units = 50,\n",
    "        return_sequences = TRUE,\n",
    "        stateful = TRUE) %>%\n",
    "  layer_dropout(rate = 0.5) %>%\n",
    "  time_distributed(keras::layer_dense(units = 1))"
   ]
  },
  {
   "cell_type": "code",
   "execution_count": 16,
   "id": "9e3e8363",
   "metadata": {},
   "outputs": [
    {
     "ename": "ERROR",
     "evalue": "Error in eval(lhs, parent, parent): object 'lstm_model' not found\n",
     "output_type": "error",
     "traceback": [
      "Error in eval(lhs, parent, parent): object 'lstm_model' not found\nTraceback:\n",
      "1. lstm_model %>% compile(loss = \"mae\", optimizer = \"adam\", metrics = \"accuracy\")",
      "2. eval(lhs, parent, parent)",
      "3. eval(lhs, parent, parent)"
     ]
    }
   ],
   "source": [
    "lstm_model %>%\n",
    "    compile(loss = 'mae', optimizer = 'adam', metrics = 'accuracy')\n",
    " \n",
    "summary(lstm_model)"
   ]
  },
  {
   "cell_type": "code",
   "execution_count": 15,
   "id": "0bdd5fcf",
   "metadata": {},
   "outputs": [
    {
     "ename": "ERROR",
     "evalue": "Error in eval(lhs, parent, parent): object 'lstm_model' not found\n",
     "output_type": "error",
     "traceback": [
      "Error in eval(lhs, parent, parent): object 'lstm_model' not found\nTraceback:\n",
      "1. lstm_model %>% fit(x = x_train_arr, y = y_train_arr, batch_size = 1, \n .     epochs = 20, verbose = 0, shuffle = FALSE)",
      "2. eval(lhs, parent, parent)",
      "3. eval(lhs, parent, parent)"
     ]
    }
   ],
   "source": [
    "lstm_model %>% fit(\n",
    "    x = x_train_arr,\n",
    "    y = y_train_arr,\n",
    "    batch_size = 1,\n",
    "    epochs = 20,\n",
    "    verbose = 0,\n",
    "    shuffle = FALSE\n",
    ")"
   ]
  },
  {
   "cell_type": "code",
   "execution_count": 19,
   "id": "c7fc9d79",
   "metadata": {},
   "outputs": [
    {
     "name": "stdout",
     "output_type": "stream",
     "text": [
      " num [1:70472, 1:1000, 1] 1.38 1.38 1.38 1.38 1.38 ...\n",
      " num [1:70472, 1:1000, 1] 1.22 1.22 1.23 1.25 1.24 ...\n"
     ]
    }
   ],
   "source": [
    "str(x_train_arr)\n",
    "str(y_train_arr)\n"
   ]
  },
  {
   "cell_type": "code",
   "execution_count": null,
   "id": "8cb37ae8",
   "metadata": {},
   "outputs": [],
   "source": []
  }
 ],
 "metadata": {
  "kernelspec": {
   "display_name": "R",
   "language": "R",
   "name": "ir"
  },
  "language_info": {
   "codemirror_mode": "r",
   "file_extension": ".r",
   "mimetype": "text/x-r-source",
   "name": "R",
   "pygments_lexer": "r",
   "version": "3.6.1"
  }
 },
 "nbformat": 4,
 "nbformat_minor": 5
}
