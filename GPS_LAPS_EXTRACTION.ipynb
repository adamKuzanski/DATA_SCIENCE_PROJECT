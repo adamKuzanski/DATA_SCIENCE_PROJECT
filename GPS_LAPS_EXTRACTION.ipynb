{
 "cells": [
  {
   "cell_type": "markdown",
   "id": "1322ed50",
   "metadata": {},
   "source": [
    "# FINAL PROJECT - GPS DATA EXTRACTION\n",
    "## In this notebook we are going to extract the data about the laps over the circuit"
   ]
  },
  {
   "cell_type": "markdown",
   "id": "1b16a35e",
   "metadata": {},
   "source": [
    "# STEP 1 - SETUP ENVIRONMENT"
   ]
  },
  {
   "cell_type": "code",
   "execution_count": 21,
   "id": "7e31ce36",
   "metadata": {},
   "outputs": [],
   "source": [
    "# swich to english \n",
    "Sys.setenv(LANG = \"en\")\n",
    "\n",
    "# prepare environmental variables for the project\n",
    "WORKING_DIRECTORY <- \"C:\\\\Users\\\\User\\\\Desktop\\\\Studia\\\\ERASMUS\\\\DATA_SCIENCE\\\\FINAL PROJECT\\\\\"\n",
    "DATASET_PATH <- \"datasets\\\\\"\n",
    "\n",
    "# Files names \n",
    "FIRST_TESTS_CLEAN <- \"CLEAN\\\\Test_1_Clean.csv\"\n",
    "\n",
    "# import important libraries\n",
    "library(data.table)"
   ]
  },
  {
   "cell_type": "markdown",
   "id": "00be8421",
   "metadata": {},
   "source": [
    "# STEP 2 - LOAD ALREADY CLEANED DATA"
   ]
  },
  {
   "cell_type": "code",
   "execution_count": 22,
   "id": "7af6025c",
   "metadata": {},
   "outputs": [
    {
     "data": {
      "text/html": [
       "<table>\n",
       "<thead><tr><th scope=col>X</th><th scope=col>General.Timestamp</th><th scope=col>General.ThrottlePosition</th><th scope=col>General.MotorController</th><th scope=col>General.MainSwitch</th><th scope=col>General.MotorDirection</th><th scope=col>General.PowerEco</th><th scope=col>General.RegenerationBrake</th><th scope=col>General.DriveMode</th><th scope=col>General.Horn</th><th scope=col>...</th><th scope=col>Gps.Altitude</th><th scope=col>Gps.SpeedKnots</th><th scope=col>Gps.SpeedKilometers</th><th scope=col>Gps.SatellitesNumber</th><th scope=col>Gps.Quality</th><th scope=col>Calc.BatteryVoltage</th><th scope=col>Calc.Speed</th><th scope=col>Calc.TimeDiff</th><th scope=col>Calc.Mileage</th><th scope=col>Calc.Timestamp</th></tr></thead>\n",
       "<tbody>\n",
       "\t<tr><td>7180               </td><td>2021-09-16 18:00:00</td><td>0                  </td><td>3                  </td><td> TRUE              </td><td>TRUE               </td><td>FALSE              </td><td>0                  </td><td>0                  </td><td>0                  </td><td>...                </td><td>0                  </td><td>0                  </td><td>0                  </td><td>0                  </td><td>0                  </td><td>119.101            </td><td>0                  </td><td>       NA          </td><td>0                  </td><td>2021-09-16 18:00:00</td></tr>\n",
       "\t<tr><td>7181               </td><td>2021-09-16 18:00:00</td><td>0                  </td><td>3                  </td><td> TRUE              </td><td>TRUE               </td><td>FALSE              </td><td>0                  </td><td>0                  </td><td>0                  </td><td>...                </td><td>0                  </td><td>0                  </td><td>0                  </td><td>0                  </td><td>0                  </td><td>119.101            </td><td>0                  </td><td>       NA          </td><td>0                  </td><td>2021-09-16 18:00:00</td></tr>\n",
       "\t<tr><td>   1               </td><td>2021-09-16 18:00:01</td><td>0                  </td><td>2                  </td><td>FALSE              </td><td>TRUE               </td><td>FALSE              </td><td>0                  </td><td>0                  </td><td>0                  </td><td>...                </td><td>0                  </td><td>0                  </td><td>0                  </td><td>0                  </td><td>0                  </td><td>119.134            </td><td>0                  </td><td>       NA          </td><td>0                  </td><td>2021-09-16 18:00:00</td></tr>\n",
       "\t<tr><td>   2               </td><td>2021-09-16 18:00:01</td><td>0                  </td><td>2                  </td><td>FALSE              </td><td>TRUE               </td><td>FALSE              </td><td>0                  </td><td>0                  </td><td>0                  </td><td>...                </td><td>0                  </td><td>0                  </td><td>0                  </td><td>0                  </td><td>0                  </td><td>119.134            </td><td>0                  </td><td>0.2097902          </td><td>0                  </td><td>2021-09-16 18:00:00</td></tr>\n",
       "\t<tr><td>7182               </td><td>2021-09-16 18:00:01</td><td>0                  </td><td>3                  </td><td> TRUE              </td><td>TRUE               </td><td>FALSE              </td><td>0                  </td><td>0                  </td><td>0                  </td><td>...                </td><td>0                  </td><td>0                  </td><td>0                  </td><td>0                  </td><td>0                  </td><td>119.101            </td><td>0                  </td><td>0.2097902          </td><td>0                  </td><td>2021-09-16 18:00:00</td></tr>\n",
       "\t<tr><td>7183               </td><td>2021-09-16 18:00:01</td><td>0                  </td><td>3                  </td><td> TRUE              </td><td>TRUE               </td><td>FALSE              </td><td>0                  </td><td>0                  </td><td>0                  </td><td>...                </td><td>0                  </td><td>0                  </td><td>0                  </td><td>0                  </td><td>0                  </td><td>119.102            </td><td>0                  </td><td>0.2097902          </td><td>0                  </td><td>2021-09-16 18:00:01</td></tr>\n",
       "</tbody>\n",
       "</table>\n"
      ],
      "text/latex": [
       "\\begin{tabular}{r|lllllllllllllllllllllllllllllllllllllllllllllllllllllllllllllllllllllllllllllllllllllllllllllllllllllllllllllll}\n",
       " X & General.Timestamp & General.ThrottlePosition & General.MotorController & General.MainSwitch & General.MotorDirection & General.PowerEco & General.RegenerationBrake & General.DriveMode & General.Horn & ... & Gps.Altitude & Gps.SpeedKnots & Gps.SpeedKilometers & Gps.SatellitesNumber & Gps.Quality & Calc.BatteryVoltage & Calc.Speed & Calc.TimeDiff & Calc.Mileage & Calc.Timestamp\\\\\n",
       "\\hline\n",
       "\t 7180                & 2021-09-16 18:00:00 & 0                   & 3                   &  TRUE               & TRUE                & FALSE               & 0                   & 0                   & 0                   & ...                 & 0                   & 0                   & 0                   & 0                   & 0                   & 119.101             & 0                   &        NA           & 0                   & 2021-09-16 18:00:00\\\\\n",
       "\t 7181                & 2021-09-16 18:00:00 & 0                   & 3                   &  TRUE               & TRUE                & FALSE               & 0                   & 0                   & 0                   & ...                 & 0                   & 0                   & 0                   & 0                   & 0                   & 119.101             & 0                   &        NA           & 0                   & 2021-09-16 18:00:00\\\\\n",
       "\t    1                & 2021-09-16 18:00:01 & 0                   & 2                   & FALSE               & TRUE                & FALSE               & 0                   & 0                   & 0                   & ...                 & 0                   & 0                   & 0                   & 0                   & 0                   & 119.134             & 0                   &        NA           & 0                   & 2021-09-16 18:00:00\\\\\n",
       "\t    2                & 2021-09-16 18:00:01 & 0                   & 2                   & FALSE               & TRUE                & FALSE               & 0                   & 0                   & 0                   & ...                 & 0                   & 0                   & 0                   & 0                   & 0                   & 119.134             & 0                   & 0.2097902           & 0                   & 2021-09-16 18:00:00\\\\\n",
       "\t 7182                & 2021-09-16 18:00:01 & 0                   & 3                   &  TRUE               & TRUE                & FALSE               & 0                   & 0                   & 0                   & ...                 & 0                   & 0                   & 0                   & 0                   & 0                   & 119.101             & 0                   & 0.2097902           & 0                   & 2021-09-16 18:00:00\\\\\n",
       "\t 7183                & 2021-09-16 18:00:01 & 0                   & 3                   &  TRUE               & TRUE                & FALSE               & 0                   & 0                   & 0                   & ...                 & 0                   & 0                   & 0                   & 0                   & 0                   & 119.102             & 0                   & 0.2097902           & 0                   & 2021-09-16 18:00:01\\\\\n",
       "\\end{tabular}\n"
      ],
      "text/markdown": [
       "\n",
       "| X | General.Timestamp | General.ThrottlePosition | General.MotorController | General.MainSwitch | General.MotorDirection | General.PowerEco | General.RegenerationBrake | General.DriveMode | General.Horn | ... | Gps.Altitude | Gps.SpeedKnots | Gps.SpeedKilometers | Gps.SatellitesNumber | Gps.Quality | Calc.BatteryVoltage | Calc.Speed | Calc.TimeDiff | Calc.Mileage | Calc.Timestamp |\n",
       "|---|---|---|---|---|---|---|---|---|---|---|---|---|---|---|---|---|---|---|---|---|\n",
       "| 7180                | 2021-09-16 18:00:00 | 0                   | 3                   |  TRUE               | TRUE                | FALSE               | 0                   | 0                   | 0                   | ...                 | 0                   | 0                   | 0                   | 0                   | 0                   | 119.101             | 0                   |        NA           | 0                   | 2021-09-16 18:00:00 |\n",
       "| 7181                | 2021-09-16 18:00:00 | 0                   | 3                   |  TRUE               | TRUE                | FALSE               | 0                   | 0                   | 0                   | ...                 | 0                   | 0                   | 0                   | 0                   | 0                   | 119.101             | 0                   |        NA           | 0                   | 2021-09-16 18:00:00 |\n",
       "|    1                | 2021-09-16 18:00:01 | 0                   | 2                   | FALSE               | TRUE                | FALSE               | 0                   | 0                   | 0                   | ...                 | 0                   | 0                   | 0                   | 0                   | 0                   | 119.134             | 0                   |        NA           | 0                   | 2021-09-16 18:00:00 |\n",
       "|    2                | 2021-09-16 18:00:01 | 0                   | 2                   | FALSE               | TRUE                | FALSE               | 0                   | 0                   | 0                   | ...                 | 0                   | 0                   | 0                   | 0                   | 0                   | 119.134             | 0                   | 0.2097902           | 0                   | 2021-09-16 18:00:00 |\n",
       "| 7182                | 2021-09-16 18:00:01 | 0                   | 3                   |  TRUE               | TRUE                | FALSE               | 0                   | 0                   | 0                   | ...                 | 0                   | 0                   | 0                   | 0                   | 0                   | 119.101             | 0                   | 0.2097902           | 0                   | 2021-09-16 18:00:00 |\n",
       "| 7183                | 2021-09-16 18:00:01 | 0                   | 3                   |  TRUE               | TRUE                | FALSE               | 0                   | 0                   | 0                   | ...                 | 0                   | 0                   | 0                   | 0                   | 0                   | 119.102             | 0                   | 0.2097902           | 0                   | 2021-09-16 18:00:01 |\n",
       "\n"
      ],
      "text/plain": [
       "  X    General.Timestamp   General.ThrottlePosition General.MotorController\n",
       "1 7180 2021-09-16 18:00:00 0                        3                      \n",
       "2 7181 2021-09-16 18:00:00 0                        3                      \n",
       "3    1 2021-09-16 18:00:01 0                        2                      \n",
       "4    2 2021-09-16 18:00:01 0                        2                      \n",
       "5 7182 2021-09-16 18:00:01 0                        3                      \n",
       "6 7183 2021-09-16 18:00:01 0                        3                      \n",
       "  General.MainSwitch General.MotorDirection General.PowerEco\n",
       "1  TRUE              TRUE                   FALSE           \n",
       "2  TRUE              TRUE                   FALSE           \n",
       "3 FALSE              TRUE                   FALSE           \n",
       "4 FALSE              TRUE                   FALSE           \n",
       "5  TRUE              TRUE                   FALSE           \n",
       "6  TRUE              TRUE                   FALSE           \n",
       "  General.RegenerationBrake General.DriveMode General.Horn ... Gps.Altitude\n",
       "1 0                         0                 0            ... 0           \n",
       "2 0                         0                 0            ... 0           \n",
       "3 0                         0                 0            ... 0           \n",
       "4 0                         0                 0            ... 0           \n",
       "5 0                         0                 0            ... 0           \n",
       "6 0                         0                 0            ... 0           \n",
       "  Gps.SpeedKnots Gps.SpeedKilometers Gps.SatellitesNumber Gps.Quality\n",
       "1 0              0                   0                    0          \n",
       "2 0              0                   0                    0          \n",
       "3 0              0                   0                    0          \n",
       "4 0              0                   0                    0          \n",
       "5 0              0                   0                    0          \n",
       "6 0              0                   0                    0          \n",
       "  Calc.BatteryVoltage Calc.Speed Calc.TimeDiff Calc.Mileage Calc.Timestamp     \n",
       "1 119.101             0                 NA     0            2021-09-16 18:00:00\n",
       "2 119.101             0                 NA     0            2021-09-16 18:00:00\n",
       "3 119.134             0                 NA     0            2021-09-16 18:00:00\n",
       "4 119.134             0          0.2097902     0            2021-09-16 18:00:00\n",
       "5 119.101             0          0.2097902     0            2021-09-16 18:00:00\n",
       "6 119.102             0          0.2097902     0            2021-09-16 18:00:01"
      ]
     },
     "metadata": {},
     "output_type": "display_data"
    }
   ],
   "source": [
    "car_testing_raw <- read.csv(\n",
    "    paste(WORKING_DIRECTORY, DATASET_PATH, FIRST_TESTS_CLEAN, sep=''),\n",
    "    header=TRUE)\n",
    "\n",
    "car_testing_df <-  car_testing_raw\n",
    "head(car_testing_df)"
   ]
  },
  {
   "cell_type": "markdown",
   "id": "756fcc94",
   "metadata": {},
   "source": [
    "# STEP 3 - VERIFY AND CORRECT DATA ISSUES"
   ]
  },
  {
   "cell_type": "code",
   "execution_count": 23,
   "id": "5be5cdcd",
   "metadata": {},
   "outputs": [
    {
     "name": "stdout",
     "output_type": "stream",
     "text": [
      " POSIXct[1:37103], format: \"2021-09-16 18:00:00\" \"2021-09-16 18:00:00\" \"2021-09-16 18:00:01\" ...\n",
      " POSIXct[1:37103], format: \"2021-09-16 18:00:00\" \"2021-09-16 18:00:00\" \"2021-09-16 18:00:00\" ...\n"
     ]
    }
   ],
   "source": [
    "car_testing_df <-  car_testing_raw\n",
    "\n",
    "car_testing_df$General.Timestamp <- strptime(x=as.character(car_testing_df$General.Timestamp), format = \"%Y-%m-%d %H:%M:%S\")\n",
    "car_testing_df$General.Timestamp <- as.POSIXct(x=car_testing_df$General.Timestamp)\n",
    "\n",
    "car_testing_df$Calc.Timestamp <- strptime(x=as.character(car_testing_df$Calc.Timestamp), format = \"%Y-%m-%d %H:%M:%S\")\n",
    "car_testing_df$Calc.Timestamp <- as.POSIXct(x=car_testing_df$Calc.Timestamp)\n",
    "\n",
    "race_2021_clean_df <- car_testing_df[order(car_testing_df$General.Timestamp),]\n",
    "str(car_testing_df$General.Timestamp)\n",
    "str(car_testing_df$Calc.Timestamp)"
   ]
  },
  {
   "cell_type": "markdown",
   "id": "763a1825",
   "metadata": {},
   "source": [
    "# STEP 4 - CLEAN GPS DATA"
   ]
  },
  {
   "cell_type": "code",
   "execution_count": 26,
   "id": "6b3fe051",
   "metadata": {},
   "outputs": [
    {
     "data": {
      "text/plain": [
       "   Min. 1st Qu.  Median    Mean 3rd Qu.    Max. \n",
       "   0.00   50.99   50.99   47.04   50.99   51.00 "
      ]
     },
     "metadata": {},
     "output_type": "display_data"
    },
    {
     "data": {
      "text/plain": [
       "   Min. 1st Qu.  Median    Mean 3rd Qu.    Max. \n",
       "  0.000   5.254   5.256   4.850   5.259   5.266 "
      ]
     },
     "metadata": {},
     "output_type": "display_data"
    }
   ],
   "source": [
    "summary(car_testing_df$Gps.Latitude)\n",
    "summary(car_testing_df$Gps.Longitude)"
   ]
  },
  {
   "cell_type": "code",
   "execution_count": null,
   "id": "46c9fc46",
   "metadata": {},
   "outputs": [],
   "source": []
  },
  {
   "cell_type": "code",
   "execution_count": null,
   "id": "91fcfe28",
   "metadata": {},
   "outputs": [],
   "source": []
  },
  {
   "cell_type": "code",
   "execution_count": null,
   "id": "87c92f16",
   "metadata": {},
   "outputs": [],
   "source": []
  },
  {
   "cell_type": "markdown",
   "id": "556f7a0d",
   "metadata": {},
   "source": [
    "# STEP 5 - GET INFORMATION ABOUT THE LAPS"
   ]
  },
  {
   "cell_type": "code",
   "execution_count": null,
   "id": "fb8832dc",
   "metadata": {},
   "outputs": [],
   "source": [
    "for(row in car_testing_df) {\n",
    "    print(row)\n",
    "}"
   ]
  },
  {
   "cell_type": "code",
   "execution_count": null,
   "id": "61652437",
   "metadata": {},
   "outputs": [],
   "source": [
    "# AVG speed (minute)\n",
    "# "
   ]
  },
  {
   "cell_type": "code",
   "execution_count": null,
   "id": "d8ff7147",
   "metadata": {},
   "outputs": [],
   "source": []
  },
  {
   "cell_type": "code",
   "execution_count": null,
   "id": "1a068305",
   "metadata": {},
   "outputs": [],
   "source": []
  },
  {
   "cell_type": "code",
   "execution_count": null,
   "id": "b0ffc4cb",
   "metadata": {},
   "outputs": [],
   "source": []
  },
  {
   "cell_type": "code",
   "execution_count": null,
   "id": "c0a9b907",
   "metadata": {},
   "outputs": [],
   "source": []
  },
  {
   "cell_type": "code",
   "execution_count": null,
   "id": "7b8e4365",
   "metadata": {},
   "outputs": [],
   "source": []
  }
 ],
 "metadata": {
  "kernelspec": {
   "display_name": "R",
   "language": "R",
   "name": "ir"
  },
  "language_info": {
   "codemirror_mode": "r",
   "file_extension": ".r",
   "mimetype": "text/x-r-source",
   "name": "R",
   "pygments_lexer": "r",
   "version": "3.6.1"
  }
 },
 "nbformat": 4,
 "nbformat_minor": 5
}
